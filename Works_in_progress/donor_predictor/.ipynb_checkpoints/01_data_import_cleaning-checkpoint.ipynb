{
 "cells": [
  {
   "cell_type": "markdown",
   "id": "surface-shaft",
   "metadata": {},
   "source": [
    "Project Objective"
   ]
  },
  {
   "cell_type": "markdown",
   "id": "impaired-salem",
   "metadata": {},
   "source": [
    "### Importing Libraries"
   ]
  },
  {
   "cell_type": "code",
   "execution_count": 1,
   "id": "qualified-examination",
   "metadata": {},
   "outputs": [],
   "source": [
    "import pandas as pd\n",
    "import numpy as np\n",
    "import matplotlib.pyplot as plt\n",
    "import seaborn as sns"
   ]
  },
  {
   "cell_type": "code",
   "execution_count": 2,
   "id": "mobile-seafood",
   "metadata": {},
   "outputs": [
    {
     "data": {
      "text/plain": [
       "'/Users/coreysinnott/Desktop/personal_git/Works_in_progress/donor_predictor'"
      ]
     },
     "execution_count": 2,
     "metadata": {},
     "output_type": "execute_result"
    }
   ],
   "source": [
    "pwd"
   ]
  },
  {
   "cell_type": "markdown",
   "id": "fantastic-picking",
   "metadata": {},
   "source": [
    "# Data Import & Cleaning"
   ]
  },
  {
   "cell_type": "markdown",
   "id": "allied-contemporary",
   "metadata": {},
   "source": [
    "### Target Values"
   ]
  },
  {
   "cell_type": "code",
   "execution_count": 8,
   "id": "flush-prime",
   "metadata": {},
   "outputs": [],
   "source": [
    "df_donations = pd.read_csv('./Windfall DS Challenge -- PTG/donations.csv', index_col = 0)"
   ]
  },
  {
   "cell_type": "code",
   "execution_count": 9,
   "id": "alpha-inspector",
   "metadata": {},
   "outputs": [
    {
     "data": {
      "text/plain": [
       "(992225, 4)"
      ]
     },
     "execution_count": 9,
     "metadata": {},
     "output_type": "execute_result"
    }
   ],
   "source": [
    "df_donations.shape"
   ]
  },
  {
   "cell_type": "code",
   "execution_count": 10,
   "id": "normal-gallery",
   "metadata": {},
   "outputs": [
    {
     "data": {
      "text/html": [
       "<div>\n",
       "<style scoped>\n",
       "    .dataframe tbody tr th:only-of-type {\n",
       "        vertical-align: middle;\n",
       "    }\n",
       "\n",
       "    .dataframe tbody tr th {\n",
       "        vertical-align: top;\n",
       "    }\n",
       "\n",
       "    .dataframe thead th {\n",
       "        text-align: right;\n",
       "    }\n",
       "</style>\n",
       "<table border=\"1\" class=\"dataframe\">\n",
       "  <thead>\n",
       "    <tr style=\"text-align: right;\">\n",
       "      <th></th>\n",
       "      <th>cand_id</th>\n",
       "      <th>trans_date</th>\n",
       "      <th>amount</th>\n",
       "      <th>age</th>\n",
       "    </tr>\n",
       "  </thead>\n",
       "  <tbody>\n",
       "    <tr>\n",
       "      <th>267083</th>\n",
       "      <td>candidate_53030</td>\n",
       "      <td>2007-05-01</td>\n",
       "      <td>150.0</td>\n",
       "      <td>0</td>\n",
       "    </tr>\n",
       "    <tr>\n",
       "      <th>466091</th>\n",
       "      <td>candidate_36546</td>\n",
       "      <td>2016-02-26</td>\n",
       "      <td>20.0</td>\n",
       "      <td>0</td>\n",
       "    </tr>\n",
       "    <tr>\n",
       "      <th>221424</th>\n",
       "      <td>candidate_45785</td>\n",
       "      <td>2014-02-14</td>\n",
       "      <td>5.0</td>\n",
       "      <td>0</td>\n",
       "    </tr>\n",
       "  </tbody>\n",
       "</table>\n",
       "</div>"
      ],
      "text/plain": [
       "                cand_id  trans_date  amount  age\n",
       "267083  candidate_53030  2007-05-01   150.0    0\n",
       "466091  candidate_36546  2016-02-26    20.0    0\n",
       "221424  candidate_45785  2014-02-14     5.0    0"
      ]
     },
     "execution_count": 10,
     "metadata": {},
     "output_type": "execute_result"
    }
   ],
   "source": [
    "df_donations.sample(3)"
   ]
  },
  {
   "cell_type": "code",
   "execution_count": null,
   "id": "communist-thanks",
   "metadata": {},
   "outputs": [],
   "source": [
    "# convert to time series\n",
    "# resample to just year\n",
    "# sum values on year\n",
    "# maybe do an average per year total and then * 5?\n",
    "# propensity score?"
   ]
  },
  {
   "cell_type": "code",
   "execution_count": 16,
   "id": "corresponding-marine",
   "metadata": {},
   "outputs": [
    {
     "data": {
      "text/plain": [
       "cand_id       0\n",
       "trans_date    0\n",
       "amount        0\n",
       "age           0\n",
       "dtype: int64"
      ]
     },
     "execution_count": 16,
     "metadata": {},
     "output_type": "execute_result"
    }
   ],
   "source": [
    "df_donations.isna().sum()"
   ]
  },
  {
   "cell_type": "code",
   "execution_count": 11,
   "id": "studied-roberts",
   "metadata": {},
   "outputs": [
    {
     "name": "stdout",
     "output_type": "stream",
     "text": [
      "<class 'pandas.core.frame.DataFrame'>\n",
      "Int64Index: 992225 entries, 0 to 992224\n",
      "Data columns (total 4 columns):\n",
      " #   Column      Non-Null Count   Dtype  \n",
      "---  ------      --------------   -----  \n",
      " 0   cand_id     992225 non-null  object \n",
      " 1   trans_date  992225 non-null  object \n",
      " 2   amount      992225 non-null  float64\n",
      " 3   age         992225 non-null  int64  \n",
      "dtypes: float64(1), int64(1), object(2)\n",
      "memory usage: 37.9+ MB\n"
     ]
    }
   ],
   "source": [
    "df_donations.info()"
   ]
  },
  {
   "cell_type": "code",
   "execution_count": 20,
   "id": "local-startup",
   "metadata": {},
   "outputs": [],
   "source": [
    "# converting to timeseries\n",
    "df_donations['trans_date'] = pd.to_datetime(df_donations['trans_date'])"
   ]
  },
  {
   "cell_type": "code",
   "execution_count": 23,
   "id": "broke-representative",
   "metadata": {},
   "outputs": [
    {
     "data": {
      "text/plain": [
       "count                           992225\n",
       "mean     2006-10-31 14:21:39.370606592\n",
       "min                1900-01-24 00:00:00\n",
       "25%                1999-07-19 00:00:00\n",
       "50%                2007-08-09 00:00:00\n",
       "75%                2015-05-29 00:00:00\n",
       "max                2020-07-31 00:00:00\n",
       "Name: trans_date, dtype: object"
      ]
     },
     "execution_count": 23,
     "metadata": {},
     "output_type": "execute_result"
    }
   ],
   "source": [
    "df_donations.trans_date.describe(datetime_is_numeric = True)"
   ]
  },
  {
   "cell_type": "code",
   "execution_count": 24,
   "id": "moved-radio",
   "metadata": {},
   "outputs": [],
   "source": [
    "#dropping values prior to 2000\n",
    "df_donations = df_donations[df_donations.trans_date >= '2000-01-01 00:00:00']"
   ]
  },
  {
   "cell_type": "code",
   "execution_count": 25,
   "id": "postal-subcommittee",
   "metadata": {},
   "outputs": [
    {
     "data": {
      "text/plain": [
       "count                           726984\n",
       "mean     2011-05-21 06:33:58.110329856\n",
       "min                2000-01-03 00:00:00\n",
       "25%                2006-03-15 00:00:00\n",
       "50%                2011-11-14 00:00:00\n",
       "75%                2016-12-16 00:00:00\n",
       "max                2020-07-31 00:00:00\n",
       "Name: trans_date, dtype: object"
      ]
     },
     "execution_count": 25,
     "metadata": {},
     "output_type": "execute_result"
    }
   ],
   "source": [
    "#removed ~250k rows\n",
    "df_donations.trans_date.describe(datetime_is_numeric = True)"
   ]
  },
  {
   "cell_type": "code",
   "execution_count": 26,
   "id": "designed-acrylic",
   "metadata": {},
   "outputs": [
    {
     "data": {
      "text/html": [
       "<div>\n",
       "<style scoped>\n",
       "    .dataframe tbody tr th:only-of-type {\n",
       "        vertical-align: middle;\n",
       "    }\n",
       "\n",
       "    .dataframe tbody tr th {\n",
       "        vertical-align: top;\n",
       "    }\n",
       "\n",
       "    .dataframe thead th {\n",
       "        text-align: right;\n",
       "    }\n",
       "</style>\n",
       "<table border=\"1\" class=\"dataframe\">\n",
       "  <thead>\n",
       "    <tr style=\"text-align: right;\">\n",
       "      <th></th>\n",
       "      <th>cand_id</th>\n",
       "      <th>amount</th>\n",
       "      <th>age</th>\n",
       "    </tr>\n",
       "    <tr>\n",
       "      <th>trans_date</th>\n",
       "      <th></th>\n",
       "      <th></th>\n",
       "      <th></th>\n",
       "    </tr>\n",
       "  </thead>\n",
       "  <tbody>\n",
       "    <tr>\n",
       "      <th>2006-10-05</th>\n",
       "      <td>candidate_86164</td>\n",
       "      <td>2500.0</td>\n",
       "      <td>0</td>\n",
       "    </tr>\n",
       "  </tbody>\n",
       "</table>\n",
       "</div>"
      ],
      "text/plain": [
       "                    cand_id  amount  age\n",
       "trans_date                              \n",
       "2006-10-05  candidate_86164  2500.0    0"
      ]
     },
     "execution_count": 26,
     "metadata": {},
     "output_type": "execute_result"
    }
   ],
   "source": [
    "#resetting index to date\n",
    "df_donations = df_donations.set_index(keys = 'trans_date')\n",
    "df_donations.head(1)"
   ]
  },
  {
   "cell_type": "code",
   "execution_count": 135,
   "id": "imported-venue",
   "metadata": {},
   "outputs": [],
   "source": [
    "# testing; adapted from:\n",
    "# https://stackoverflow.com/questions/53339021/python-pandas-calculate-moving-average-within-group\n",
    "df_test['rolling_avg'] = df_test.groupby('cand_id')['amount'].transform(lambda x: x.rolling(12, 2).mean())"
   ]
  },
  {
   "cell_type": "code",
   "execution_count": 188,
   "id": "attached-turkish",
   "metadata": {},
   "outputs": [
    {
     "data": {
      "text/html": [
       "<div>\n",
       "<style scoped>\n",
       "    .dataframe tbody tr th:only-of-type {\n",
       "        vertical-align: middle;\n",
       "    }\n",
       "\n",
       "    .dataframe tbody tr th {\n",
       "        vertical-align: top;\n",
       "    }\n",
       "\n",
       "    .dataframe thead th {\n",
       "        text-align: right;\n",
       "    }\n",
       "</style>\n",
       "<table border=\"1\" class=\"dataframe\">\n",
       "  <thead>\n",
       "    <tr style=\"text-align: right;\">\n",
       "      <th></th>\n",
       "      <th>cand_id</th>\n",
       "      <th>amount</th>\n",
       "      <th>age</th>\n",
       "      <th>rolling_avg</th>\n",
       "      <th>moving</th>\n",
       "    </tr>\n",
       "    <tr>\n",
       "      <th>trans_date</th>\n",
       "      <th></th>\n",
       "      <th></th>\n",
       "      <th></th>\n",
       "      <th></th>\n",
       "      <th></th>\n",
       "    </tr>\n",
       "  </thead>\n",
       "  <tbody>\n",
       "    <tr>\n",
       "      <th>2009-04-22</th>\n",
       "      <td>candidate_0</td>\n",
       "      <td>62.50</td>\n",
       "      <td>54</td>\n",
       "      <td>NaN</td>\n",
       "      <td>NaN</td>\n",
       "    </tr>\n",
       "    <tr>\n",
       "      <th>2014-01-31</th>\n",
       "      <td>candidate_0</td>\n",
       "      <td>500.00</td>\n",
       "      <td>54</td>\n",
       "      <td>281.250000</td>\n",
       "      <td>NaN</td>\n",
       "    </tr>\n",
       "    <tr>\n",
       "      <th>2018-06-12</th>\n",
       "      <td>candidate_0</td>\n",
       "      <td>624.99</td>\n",
       "      <td>54</td>\n",
       "      <td>395.830000</td>\n",
       "      <td>NaN</td>\n",
       "    </tr>\n",
       "    <tr>\n",
       "      <th>2019-05-06</th>\n",
       "      <td>candidate_0</td>\n",
       "      <td>500.00</td>\n",
       "      <td>54</td>\n",
       "      <td>421.872500</td>\n",
       "      <td>NaN</td>\n",
       "    </tr>\n",
       "    <tr>\n",
       "      <th>2017-12-06</th>\n",
       "      <td>candidate_0</td>\n",
       "      <td>1249.98</td>\n",
       "      <td>54</td>\n",
       "      <td>587.494000</td>\n",
       "      <td>NaN</td>\n",
       "    </tr>\n",
       "    <tr>\n",
       "      <th>2014-08-11</th>\n",
       "      <td>candidate_0</td>\n",
       "      <td>350.00</td>\n",
       "      <td>54</td>\n",
       "      <td>547.911667</td>\n",
       "      <td>NaN</td>\n",
       "    </tr>\n",
       "    <tr>\n",
       "      <th>2009-07-22</th>\n",
       "      <td>candidate_0</td>\n",
       "      <td>62.50</td>\n",
       "      <td>54</td>\n",
       "      <td>478.567143</td>\n",
       "      <td>NaN</td>\n",
       "    </tr>\n",
       "    <tr>\n",
       "      <th>2015-05-13</th>\n",
       "      <td>candidate_0</td>\n",
       "      <td>1000.00</td>\n",
       "      <td>54</td>\n",
       "      <td>543.746250</td>\n",
       "      <td>NaN</td>\n",
       "    </tr>\n",
       "  </tbody>\n",
       "</table>\n",
       "</div>"
      ],
      "text/plain": [
       "                cand_id   amount  age  rolling_avg  moving\n",
       "trans_date                                                \n",
       "2009-04-22  candidate_0    62.50   54          NaN     NaN\n",
       "2014-01-31  candidate_0   500.00   54   281.250000     NaN\n",
       "2018-06-12  candidate_0   624.99   54   395.830000     NaN\n",
       "2019-05-06  candidate_0   500.00   54   421.872500     NaN\n",
       "2017-12-06  candidate_0  1249.98   54   587.494000     NaN\n",
       "2014-08-11  candidate_0   350.00   54   547.911667     NaN\n",
       "2009-07-22  candidate_0    62.50   54   478.567143     NaN\n",
       "2015-05-13  candidate_0  1000.00   54   543.746250     NaN"
      ]
     },
     "execution_count": 188,
     "metadata": {},
     "output_type": "execute_result"
    }
   ],
   "source": [
    "df_test[df_test.cand_id == 'candidate_0'].head(8)"
   ]
  },
  {
   "cell_type": "code",
   "execution_count": 75,
   "id": "amended-carpet",
   "metadata": {},
   "outputs": [],
   "source": [
    "#summing total per year for each cand_id\n",
    "yearly_donations = pd.DataFrame(df_donations.reset_index().groupby(['cand_id', \n",
    "                                pd.Grouper(key='trans_date', freq='A-DEC')])['amount'].sum())"
   ]
  },
  {
   "cell_type": "code",
   "execution_count": 101,
   "id": "egyptian-length",
   "metadata": {},
   "outputs": [
    {
     "data": {
      "text/html": [
       "<div>\n",
       "<style scoped>\n",
       "    .dataframe tbody tr th:only-of-type {\n",
       "        vertical-align: middle;\n",
       "    }\n",
       "\n",
       "    .dataframe tbody tr th {\n",
       "        vertical-align: top;\n",
       "    }\n",
       "\n",
       "    .dataframe thead th {\n",
       "        text-align: right;\n",
       "    }\n",
       "</style>\n",
       "<table border=\"1\" class=\"dataframe\">\n",
       "  <thead>\n",
       "    <tr style=\"text-align: right;\">\n",
       "      <th></th>\n",
       "      <th></th>\n",
       "      <th>amount</th>\n",
       "    </tr>\n",
       "    <tr>\n",
       "      <th>cand_id</th>\n",
       "      <th>trans_date</th>\n",
       "      <th></th>\n",
       "    </tr>\n",
       "  </thead>\n",
       "  <tbody>\n",
       "    <tr>\n",
       "      <th rowspan=\"12\" valign=\"top\">candidate_0</th>\n",
       "      <th>2007-12-31</th>\n",
       "      <td>50.00</td>\n",
       "    </tr>\n",
       "    <tr>\n",
       "      <th>2009-12-31</th>\n",
       "      <td>234.39</td>\n",
       "    </tr>\n",
       "    <tr>\n",
       "      <th>2010-12-31</th>\n",
       "      <td>912.50</td>\n",
       "    </tr>\n",
       "    <tr>\n",
       "      <th>2011-12-31</th>\n",
       "      <td>1000.00</td>\n",
       "    </tr>\n",
       "    <tr>\n",
       "      <th>2012-12-31</th>\n",
       "      <td>4600.00</td>\n",
       "    </tr>\n",
       "    <tr>\n",
       "      <th>2013-12-31</th>\n",
       "      <td>1950.01</td>\n",
       "    </tr>\n",
       "    <tr>\n",
       "      <th>2014-12-31</th>\n",
       "      <td>15600.00</td>\n",
       "    </tr>\n",
       "    <tr>\n",
       "      <th>2015-12-31</th>\n",
       "      <td>5500.00</td>\n",
       "    </tr>\n",
       "    <tr>\n",
       "      <th>2016-12-31</th>\n",
       "      <td>3750.00</td>\n",
       "    </tr>\n",
       "    <tr>\n",
       "      <th>2017-12-31</th>\n",
       "      <td>11609.94</td>\n",
       "    </tr>\n",
       "    <tr>\n",
       "      <th>2018-12-31</th>\n",
       "      <td>7874.97</td>\n",
       "    </tr>\n",
       "    <tr>\n",
       "      <th>2019-12-31</th>\n",
       "      <td>6500.00</td>\n",
       "    </tr>\n",
       "    <tr>\n",
       "      <th>candidate_1</th>\n",
       "      <th>2019-12-31</th>\n",
       "      <td>25000.00</td>\n",
       "    </tr>\n",
       "    <tr>\n",
       "      <th rowspan=\"2\" valign=\"top\">candidate_10</th>\n",
       "      <th>2006-12-31</th>\n",
       "      <td>85.00</td>\n",
       "    </tr>\n",
       "    <tr>\n",
       "      <th>2007-12-31</th>\n",
       "      <td>50.00</td>\n",
       "    </tr>\n",
       "  </tbody>\n",
       "</table>\n",
       "</div>"
      ],
      "text/plain": [
       "                           amount\n",
       "cand_id      trans_date          \n",
       "candidate_0  2007-12-31     50.00\n",
       "             2009-12-31    234.39\n",
       "             2010-12-31    912.50\n",
       "             2011-12-31   1000.00\n",
       "             2012-12-31   4600.00\n",
       "             2013-12-31   1950.01\n",
       "             2014-12-31  15600.00\n",
       "             2015-12-31   5500.00\n",
       "             2016-12-31   3750.00\n",
       "             2017-12-31  11609.94\n",
       "             2018-12-31   7874.97\n",
       "             2019-12-31   6500.00\n",
       "candidate_1  2019-12-31  25000.00\n",
       "candidate_10 2006-12-31     85.00\n",
       "             2007-12-31     50.00"
      ]
     },
     "execution_count": 101,
     "metadata": {},
     "output_type": "execute_result"
    }
   ],
   "source": [
    "yearly_donations.head(15)"
   ]
  },
  {
   "cell_type": "code",
   "execution_count": null,
   "id": "seventh-feelings",
   "metadata": {},
   "outputs": [],
   "source": [
    "#notice a trend of giving more as time ->\n",
    "#therefore will take average of final five years,\n",
    "#or as many most recent years available\n",
    "#rather than initial idea of moving average"
   ]
  },
  {
   "cell_type": "code",
   "execution_count": 93,
   "id": "bearing-shelf",
   "metadata": {},
   "outputs": [],
   "source": [
    "#filtering out 0's\n",
    "yearly_donations = yearly_donations[yearly_donations['amount'] != 0]"
   ]
  },
  {
   "cell_type": "code",
   "execution_count": 94,
   "id": "charged-dublin",
   "metadata": {},
   "outputs": [
    {
     "data": {
      "text/plain": [
       "(200615, 1)"
      ]
     },
     "execution_count": 94,
     "metadata": {},
     "output_type": "execute_result"
    }
   ],
   "source": [
    "yearly_donations.shape"
   ]
  },
  {
   "cell_type": "code",
   "execution_count": 137,
   "id": "noticed-outreach",
   "metadata": {
    "scrolled": true
   },
   "outputs": [],
   "source": [
    "yearly_test = yearly_donations"
   ]
  },
  {
   "cell_type": "code",
   "execution_count": 140,
   "id": "cheap-summit",
   "metadata": {},
   "outputs": [],
   "source": [
    "yearly_test['rolling_avg'] = yearly_test.groupby('cand_id')['amount'].transform(lambda x: x.rolling(12, 1).mean())"
   ]
  },
  {
   "cell_type": "code",
   "execution_count": 141,
   "id": "korean-gauge",
   "metadata": {},
   "outputs": [
    {
     "data": {
      "text/html": [
       "<div>\n",
       "<style scoped>\n",
       "    .dataframe tbody tr th:only-of-type {\n",
       "        vertical-align: middle;\n",
       "    }\n",
       "\n",
       "    .dataframe tbody tr th {\n",
       "        vertical-align: top;\n",
       "    }\n",
       "\n",
       "    .dataframe thead th {\n",
       "        text-align: right;\n",
       "    }\n",
       "</style>\n",
       "<table border=\"1\" class=\"dataframe\">\n",
       "  <thead>\n",
       "    <tr style=\"text-align: right;\">\n",
       "      <th></th>\n",
       "      <th></th>\n",
       "      <th>amount</th>\n",
       "      <th>rolling_avg</th>\n",
       "    </tr>\n",
       "    <tr>\n",
       "      <th>cand_id</th>\n",
       "      <th>trans_date</th>\n",
       "      <th></th>\n",
       "      <th></th>\n",
       "    </tr>\n",
       "  </thead>\n",
       "  <tbody>\n",
       "    <tr>\n",
       "      <th rowspan=\"12\" valign=\"top\">candidate_0</th>\n",
       "      <th>2007-12-31</th>\n",
       "      <td>50.00</td>\n",
       "      <td>50.000000</td>\n",
       "    </tr>\n",
       "    <tr>\n",
       "      <th>2009-12-31</th>\n",
       "      <td>234.39</td>\n",
       "      <td>142.195000</td>\n",
       "    </tr>\n",
       "    <tr>\n",
       "      <th>2010-12-31</th>\n",
       "      <td>912.50</td>\n",
       "      <td>398.963333</td>\n",
       "    </tr>\n",
       "    <tr>\n",
       "      <th>2011-12-31</th>\n",
       "      <td>1000.00</td>\n",
       "      <td>549.222500</td>\n",
       "    </tr>\n",
       "    <tr>\n",
       "      <th>2012-12-31</th>\n",
       "      <td>4600.00</td>\n",
       "      <td>1359.378000</td>\n",
       "    </tr>\n",
       "    <tr>\n",
       "      <th>2013-12-31</th>\n",
       "      <td>1950.01</td>\n",
       "      <td>1457.816667</td>\n",
       "    </tr>\n",
       "    <tr>\n",
       "      <th>2014-12-31</th>\n",
       "      <td>15600.00</td>\n",
       "      <td>3478.128571</td>\n",
       "    </tr>\n",
       "    <tr>\n",
       "      <th>2015-12-31</th>\n",
       "      <td>5500.00</td>\n",
       "      <td>3730.862500</td>\n",
       "    </tr>\n",
       "    <tr>\n",
       "      <th>2016-12-31</th>\n",
       "      <td>3750.00</td>\n",
       "      <td>3732.988889</td>\n",
       "    </tr>\n",
       "    <tr>\n",
       "      <th>2017-12-31</th>\n",
       "      <td>11609.94</td>\n",
       "      <td>4520.684000</td>\n",
       "    </tr>\n",
       "    <tr>\n",
       "      <th>2018-12-31</th>\n",
       "      <td>7874.97</td>\n",
       "      <td>4825.619091</td>\n",
       "    </tr>\n",
       "    <tr>\n",
       "      <th>2019-12-31</th>\n",
       "      <td>6500.00</td>\n",
       "      <td>4965.150833</td>\n",
       "    </tr>\n",
       "    <tr>\n",
       "      <th>candidate_1</th>\n",
       "      <th>2019-12-31</th>\n",
       "      <td>25000.00</td>\n",
       "      <td>25000.000000</td>\n",
       "    </tr>\n",
       "    <tr>\n",
       "      <th rowspan=\"2\" valign=\"top\">candidate_10</th>\n",
       "      <th>2006-12-31</th>\n",
       "      <td>85.00</td>\n",
       "      <td>85.000000</td>\n",
       "    </tr>\n",
       "    <tr>\n",
       "      <th>2007-12-31</th>\n",
       "      <td>50.00</td>\n",
       "      <td>67.500000</td>\n",
       "    </tr>\n",
       "    <tr>\n",
       "      <th>candidate_100</th>\n",
       "      <th>2014-12-31</th>\n",
       "      <td>130.80</td>\n",
       "      <td>130.800000</td>\n",
       "    </tr>\n",
       "    <tr>\n",
       "      <th>candidate_1000</th>\n",
       "      <th>2000-12-31</th>\n",
       "      <td>35.00</td>\n",
       "      <td>35.000000</td>\n",
       "    </tr>\n",
       "    <tr>\n",
       "      <th rowspan=\"3\" valign=\"top\">candidate_10000</th>\n",
       "      <th>2006-12-31</th>\n",
       "      <td>157.50</td>\n",
       "      <td>157.500000</td>\n",
       "    </tr>\n",
       "    <tr>\n",
       "      <th>2007-12-31</th>\n",
       "      <td>195.00</td>\n",
       "      <td>176.250000</td>\n",
       "    </tr>\n",
       "    <tr>\n",
       "      <th>2008-12-31</th>\n",
       "      <td>195.00</td>\n",
       "      <td>182.500000</td>\n",
       "    </tr>\n",
       "  </tbody>\n",
       "</table>\n",
       "</div>"
      ],
      "text/plain": [
       "                              amount   rolling_avg\n",
       "cand_id         trans_date                        \n",
       "candidate_0     2007-12-31     50.00     50.000000\n",
       "                2009-12-31    234.39    142.195000\n",
       "                2010-12-31    912.50    398.963333\n",
       "                2011-12-31   1000.00    549.222500\n",
       "                2012-12-31   4600.00   1359.378000\n",
       "                2013-12-31   1950.01   1457.816667\n",
       "                2014-12-31  15600.00   3478.128571\n",
       "                2015-12-31   5500.00   3730.862500\n",
       "                2016-12-31   3750.00   3732.988889\n",
       "                2017-12-31  11609.94   4520.684000\n",
       "                2018-12-31   7874.97   4825.619091\n",
       "                2019-12-31   6500.00   4965.150833\n",
       "candidate_1     2019-12-31  25000.00  25000.000000\n",
       "candidate_10    2006-12-31     85.00     85.000000\n",
       "                2007-12-31     50.00     67.500000\n",
       "candidate_100   2014-12-31    130.80    130.800000\n",
       "candidate_1000  2000-12-31     35.00     35.000000\n",
       "candidate_10000 2006-12-31    157.50    157.500000\n",
       "                2007-12-31    195.00    176.250000\n",
       "                2008-12-31    195.00    182.500000"
      ]
     },
     "execution_count": 141,
     "metadata": {},
     "output_type": "execute_result"
    }
   ],
   "source": [
    "yearly_test.head(20)"
   ]
  },
  {
   "cell_type": "code",
   "execution_count": 169,
   "id": "innovative-teach",
   "metadata": {},
   "outputs": [],
   "source": [
    "#reset index pushes cand_id back out\n",
    "yearly_test_2 = yearly_test.reset_index()"
   ]
  },
  {
   "cell_type": "code",
   "execution_count": 176,
   "id": "frequent-hindu",
   "metadata": {},
   "outputs": [],
   "source": [
    "#x = [k[:-1] for i, k in yearly_test_2.loc(i)['rolling_avg']]"
   ]
  },
  {
   "cell_type": "code",
   "execution_count": 181,
   "id": "thermal-anthropology",
   "metadata": {},
   "outputs": [],
   "source": [
    "# the final average yearly amount\n",
    "# increase the rolling_avg by the amount they typically increase by year?\n",
    "donor_final_df = yearly_test_2.loc[yearly_test_2.groupby('cand_id').rolling_avg.idxmax()]"
   ]
  },
  {
   "cell_type": "code",
   "execution_count": 183,
   "id": "recent-fields",
   "metadata": {},
   "outputs": [],
   "source": [
    "donor_final_df.drop(columns = ['trans_date','amount'], inplace = True)"
   ]
  },
  {
   "cell_type": "code",
   "execution_count": 195,
   "id": "flush-thirty",
   "metadata": {},
   "outputs": [
    {
     "data": {
      "text/html": [
       "<div>\n",
       "<style scoped>\n",
       "    .dataframe tbody tr th:only-of-type {\n",
       "        vertical-align: middle;\n",
       "    }\n",
       "\n",
       "    .dataframe tbody tr th {\n",
       "        vertical-align: top;\n",
       "    }\n",
       "\n",
       "    .dataframe thead th {\n",
       "        text-align: right;\n",
       "    }\n",
       "</style>\n",
       "<table border=\"1\" class=\"dataframe\">\n",
       "  <thead>\n",
       "    <tr style=\"text-align: right;\">\n",
       "      <th></th>\n",
       "      <th>cand_id</th>\n",
       "      <th>rolling_avg</th>\n",
       "      <th>20k_donor</th>\n",
       "    </tr>\n",
       "  </thead>\n",
       "  <tbody>\n",
       "    <tr>\n",
       "      <th>11</th>\n",
       "      <td>candidate_0</td>\n",
       "      <td>4965.150833</td>\n",
       "      <td>1</td>\n",
       "    </tr>\n",
       "    <tr>\n",
       "      <th>12</th>\n",
       "      <td>candidate_1</td>\n",
       "      <td>25000.000000</td>\n",
       "      <td>1</td>\n",
       "    </tr>\n",
       "    <tr>\n",
       "      <th>13</th>\n",
       "      <td>candidate_10</td>\n",
       "      <td>85.000000</td>\n",
       "      <td>0</td>\n",
       "    </tr>\n",
       "  </tbody>\n",
       "</table>\n",
       "</div>"
      ],
      "text/plain": [
       "         cand_id   rolling_avg  20k_donor\n",
       "11   candidate_0   4965.150833          1\n",
       "12   candidate_1  25000.000000          1\n",
       "13  candidate_10     85.000000          0"
      ]
     },
     "execution_count": 195,
     "metadata": {},
     "output_type": "execute_result"
    }
   ],
   "source": [
    "donor_final_df.head(3)"
   ]
  },
  {
   "cell_type": "code",
   "execution_count": 196,
   "id": "tamil-enclosure",
   "metadata": {},
   "outputs": [
    {
     "data": {
      "text/html": [
       "<div>\n",
       "<style scoped>\n",
       "    .dataframe tbody tr th:only-of-type {\n",
       "        vertical-align: middle;\n",
       "    }\n",
       "\n",
       "    .dataframe tbody tr th {\n",
       "        vertical-align: top;\n",
       "    }\n",
       "\n",
       "    .dataframe thead th {\n",
       "        text-align: right;\n",
       "    }\n",
       "</style>\n",
       "<table border=\"1\" class=\"dataframe\">\n",
       "  <thead>\n",
       "    <tr style=\"text-align: right;\">\n",
       "      <th></th>\n",
       "      <th>rolling_avg</th>\n",
       "      <th>20k_donor</th>\n",
       "    </tr>\n",
       "  </thead>\n",
       "  <tbody>\n",
       "    <tr>\n",
       "      <th>count</th>\n",
       "      <td>7.460300e+04</td>\n",
       "      <td>74603.000000</td>\n",
       "    </tr>\n",
       "    <tr>\n",
       "      <th>mean</th>\n",
       "      <td>1.018827e+03</td>\n",
       "      <td>0.018123</td>\n",
       "    </tr>\n",
       "    <tr>\n",
       "      <th>std</th>\n",
       "      <td>4.034234e+04</td>\n",
       "      <td>0.133396</td>\n",
       "    </tr>\n",
       "    <tr>\n",
       "      <th>min</th>\n",
       "      <td>1.000000e-02</td>\n",
       "      <td>0.000000</td>\n",
       "    </tr>\n",
       "    <tr>\n",
       "      <th>25%</th>\n",
       "      <td>2.500000e+01</td>\n",
       "      <td>0.000000</td>\n",
       "    </tr>\n",
       "    <tr>\n",
       "      <th>50%</th>\n",
       "      <td>5.000000e+01</td>\n",
       "      <td>0.000000</td>\n",
       "    </tr>\n",
       "    <tr>\n",
       "      <th>75%</th>\n",
       "      <td>1.075000e+02</td>\n",
       "      <td>0.000000</td>\n",
       "    </tr>\n",
       "    <tr>\n",
       "      <th>max</th>\n",
       "      <td>7.012995e+06</td>\n",
       "      <td>1.000000</td>\n",
       "    </tr>\n",
       "  </tbody>\n",
       "</table>\n",
       "</div>"
      ],
      "text/plain": [
       "        rolling_avg     20k_donor\n",
       "count  7.460300e+04  74603.000000\n",
       "mean   1.018827e+03      0.018123\n",
       "std    4.034234e+04      0.133396\n",
       "min    1.000000e-02      0.000000\n",
       "25%    2.500000e+01      0.000000\n",
       "50%    5.000000e+01      0.000000\n",
       "75%    1.075000e+02      0.000000\n",
       "max    7.012995e+06      1.000000"
      ]
     },
     "execution_count": 196,
     "metadata": {},
     "output_type": "execute_result"
    }
   ],
   "source": [
    "donor_final_df.describe()"
   ]
  },
  {
   "cell_type": "code",
   "execution_count": 186,
   "id": "shared-donor",
   "metadata": {},
   "outputs": [],
   "source": [
    "#donor_final_df.to_csv('donor_final_averages_classed.csv')"
   ]
  },
  {
   "cell_type": "code",
   "execution_count": 191,
   "id": "featured-stability",
   "metadata": {},
   "outputs": [],
   "source": [
    "donor_final_df['20k_donor'] = np.where(donor_final_df['rolling_avg'] >= 4000, 1, 0)"
   ]
  },
  {
   "cell_type": "code",
   "execution_count": 192,
   "id": "accessory-denmark",
   "metadata": {},
   "outputs": [
    {
     "data": {
      "text/plain": [
       "0    0.981877\n",
       "1    0.018123\n",
       "Name: 20k_donor, dtype: float64"
      ]
     },
     "execution_count": 192,
     "metadata": {},
     "output_type": "execute_result"
    }
   ],
   "source": [
    "donor_final_df['20k_donor'].value_counts(normalize = True)"
   ]
  },
  {
   "cell_type": "code",
   "execution_count": null,
   "id": "liberal-scheduling",
   "metadata": {},
   "outputs": [],
   "source": [
    "#donor_final_df.to_csv('donor_final_averages_classed.csv')"
   ]
  },
  {
   "cell_type": "markdown",
   "id": "internal-conservation",
   "metadata": {},
   "source": [
    "### Feature Values"
   ]
  },
  {
   "cell_type": "code",
   "execution_count": 4,
   "id": "dangerous-republic",
   "metadata": {},
   "outputs": [],
   "source": [
    "df_features = pd.read_csv('./Windfall DS Challenge -- PTG/windfall_features.csv')"
   ]
  },
  {
   "cell_type": "code",
   "execution_count": 12,
   "id": "indonesian-protection",
   "metadata": {},
   "outputs": [
    {
     "data": {
      "text/plain": [
       "(130114, 23)"
      ]
     },
     "execution_count": 12,
     "metadata": {},
     "output_type": "execute_result"
    }
   ],
   "source": [
    "df_features.shape"
   ]
  },
  {
   "cell_type": "code",
   "execution_count": 13,
   "id": "configured-investor",
   "metadata": {},
   "outputs": [
    {
     "data": {
      "text/html": [
       "<div>\n",
       "<style scoped>\n",
       "    .dataframe tbody tr th:only-of-type {\n",
       "        vertical-align: middle;\n",
       "    }\n",
       "\n",
       "    .dataframe tbody tr th {\n",
       "        vertical-align: top;\n",
       "    }\n",
       "\n",
       "    .dataframe thead th {\n",
       "        text-align: right;\n",
       "    }\n",
       "</style>\n",
       "<table border=\"1\" class=\"dataframe\">\n",
       "  <thead>\n",
       "    <tr style=\"text-align: right;\">\n",
       "      <th></th>\n",
       "      <th>candidate_id</th>\n",
       "      <th>totalHouseholdDebt</th>\n",
       "      <th>primaryPropertyLoanToValue</th>\n",
       "      <th>primaryPropertyValue</th>\n",
       "      <th>propertyCount</th>\n",
       "      <th>isClassADonor</th>\n",
       "      <th>isClassBDonor</th>\n",
       "      <th>isClassCDonor</th>\n",
       "      <th>isClassDDonor</th>\n",
       "      <th>NetWorth</th>\n",
       "      <th>...</th>\n",
       "      <th>sumClassDDonation</th>\n",
       "      <th>maxClassADonation</th>\n",
       "      <th>maxClassBDonation</th>\n",
       "      <th>maxClassCDonation</th>\n",
       "      <th>maxClassDDonation</th>\n",
       "      <th>sumCauseADonations</th>\n",
       "      <th>sumCauseBDonations</th>\n",
       "      <th>sumCauseCDonations</th>\n",
       "      <th>sumCauseDDonations</th>\n",
       "      <th>sumCauseEDonations</th>\n",
       "    </tr>\n",
       "  </thead>\n",
       "  <tbody>\n",
       "    <tr>\n",
       "      <th>0</th>\n",
       "      <td>candidate_0</td>\n",
       "      <td>6.085778</td>\n",
       "      <td>0.336380</td>\n",
       "      <td>2215000.0</td>\n",
       "      <td>4.0</td>\n",
       "      <td>0.0</td>\n",
       "      <td>0.0</td>\n",
       "      <td>1.0</td>\n",
       "      <td>1.0</td>\n",
       "      <td>14011369.0</td>\n",
       "      <td>...</td>\n",
       "      <td>2134.97</td>\n",
       "      <td>1.0</td>\n",
       "      <td>1.0</td>\n",
       "      <td>751.0</td>\n",
       "      <td>751.0</td>\n",
       "      <td>0.0</td>\n",
       "      <td>0.0</td>\n",
       "      <td>0.000000</td>\n",
       "      <td>0.00000</td>\n",
       "      <td>0.0</td>\n",
       "    </tr>\n",
       "    <tr>\n",
       "      <th>1</th>\n",
       "      <td>candidate_1</td>\n",
       "      <td>6.480672</td>\n",
       "      <td>0.828664</td>\n",
       "      <td>3650000.0</td>\n",
       "      <td>1.0</td>\n",
       "      <td>0.0</td>\n",
       "      <td>1.0</td>\n",
       "      <td>0.0</td>\n",
       "      <td>1.0</td>\n",
       "      <td>5812754.0</td>\n",
       "      <td>...</td>\n",
       "      <td>501.00</td>\n",
       "      <td>1.0</td>\n",
       "      <td>1751.0</td>\n",
       "      <td>1.0</td>\n",
       "      <td>251.0</td>\n",
       "      <td>0.0</td>\n",
       "      <td>0.0</td>\n",
       "      <td>0.000000</td>\n",
       "      <td>0.00000</td>\n",
       "      <td>0.0</td>\n",
       "    </tr>\n",
       "    <tr>\n",
       "      <th>2</th>\n",
       "      <td>candidate_2</td>\n",
       "      <td>0.000000</td>\n",
       "      <td>0.000002</td>\n",
       "      <td>625000.0</td>\n",
       "      <td>1.0</td>\n",
       "      <td>0.0</td>\n",
       "      <td>1.0</td>\n",
       "      <td>0.0</td>\n",
       "      <td>0.0</td>\n",
       "      <td>1060001.0</td>\n",
       "      <td>...</td>\n",
       "      <td>1.00</td>\n",
       "      <td>1.0</td>\n",
       "      <td>41.0</td>\n",
       "      <td>1.0</td>\n",
       "      <td>1.0</td>\n",
       "      <td>0.0</td>\n",
       "      <td>0.0</td>\n",
       "      <td>1.414973</td>\n",
       "      <td>1.78533</td>\n",
       "      <td>0.0</td>\n",
       "    </tr>\n",
       "  </tbody>\n",
       "</table>\n",
       "<p>3 rows × 23 columns</p>\n",
       "</div>"
      ],
      "text/plain": [
       "  candidate_id  totalHouseholdDebt  primaryPropertyLoanToValue  \\\n",
       "0  candidate_0            6.085778                    0.336380   \n",
       "1  candidate_1            6.480672                    0.828664   \n",
       "2  candidate_2            0.000000                    0.000002   \n",
       "\n",
       "   primaryPropertyValue  propertyCount  isClassADonor  isClassBDonor  \\\n",
       "0             2215000.0            4.0            0.0            0.0   \n",
       "1             3650000.0            1.0            0.0            1.0   \n",
       "2              625000.0            1.0            0.0            1.0   \n",
       "\n",
       "   isClassCDonor  isClassDDonor    NetWorth  ...  sumClassDDonation  \\\n",
       "0            1.0            1.0  14011369.0  ...            2134.97   \n",
       "1            0.0            1.0   5812754.0  ...             501.00   \n",
       "2            0.0            0.0   1060001.0  ...               1.00   \n",
       "\n",
       "   maxClassADonation  maxClassBDonation  maxClassCDonation  maxClassDDonation  \\\n",
       "0                1.0                1.0              751.0              751.0   \n",
       "1                1.0             1751.0                1.0              251.0   \n",
       "2                1.0               41.0                1.0                1.0   \n",
       "\n",
       "   sumCauseADonations  sumCauseBDonations  sumCauseCDonations  \\\n",
       "0                 0.0                 0.0            0.000000   \n",
       "1                 0.0                 0.0            0.000000   \n",
       "2                 0.0                 0.0            1.414973   \n",
       "\n",
       "   sumCauseDDonations  sumCauseEDonations  \n",
       "0             0.00000                 0.0  \n",
       "1             0.00000                 0.0  \n",
       "2             1.78533                 0.0  \n",
       "\n",
       "[3 rows x 23 columns]"
      ]
     },
     "execution_count": 13,
     "metadata": {},
     "output_type": "execute_result"
    }
   ],
   "source": [
    "df_features.head(3)"
   ]
  },
  {
   "cell_type": "code",
   "execution_count": 17,
   "id": "strange-trouble",
   "metadata": {},
   "outputs": [
    {
     "name": "stdout",
     "output_type": "stream",
     "text": [
      "<class 'pandas.core.frame.DataFrame'>\n",
      "RangeIndex: 130114 entries, 0 to 130113\n",
      "Data columns (total 23 columns):\n",
      " #   Column                      Non-Null Count   Dtype  \n",
      "---  ------                      --------------   -----  \n",
      " 0   candidate_id                130114 non-null  object \n",
      " 1   totalHouseholdDebt          50919 non-null   float64\n",
      " 2   primaryPropertyLoanToValue  50919 non-null   float64\n",
      " 3   primaryPropertyValue        50919 non-null   float64\n",
      " 4   propertyCount               50919 non-null   float64\n",
      " 5   isClassADonor               50919 non-null   float64\n",
      " 6   isClassBDonor               50919 non-null   float64\n",
      " 7   isClassCDonor               50919 non-null   float64\n",
      " 8   isClassDDonor               50919 non-null   float64\n",
      " 9   NetWorth                    50919 non-null   float64\n",
      " 10  sumClassADonation           50919 non-null   float64\n",
      " 11  sumClassBDonation           50919 non-null   float64\n",
      " 12  sumClassCDonation           50919 non-null   float64\n",
      " 13  sumClassDDonation           50919 non-null   float64\n",
      " 14  maxClassADonation           50919 non-null   float64\n",
      " 15  maxClassBDonation           50919 non-null   float64\n",
      " 16  maxClassCDonation           50919 non-null   float64\n",
      " 17  maxClassDDonation           50919 non-null   float64\n",
      " 18  sumCauseADonations          50919 non-null   float64\n",
      " 19  sumCauseBDonations          50919 non-null   float64\n",
      " 20  sumCauseCDonations          50919 non-null   float64\n",
      " 21  sumCauseDDonations          50919 non-null   float64\n",
      " 22  sumCauseEDonations          50919 non-null   float64\n",
      "dtypes: float64(22), object(1)\n",
      "memory usage: 22.8+ MB\n"
     ]
    }
   ],
   "source": [
    "df_features.info()"
   ]
  },
  {
   "cell_type": "code",
   "execution_count": 18,
   "id": "thick-eating",
   "metadata": {},
   "outputs": [
    {
     "data": {
      "text/plain": [
       "candidate_id                      0\n",
       "totalHouseholdDebt            79195\n",
       "primaryPropertyLoanToValue    79195\n",
       "primaryPropertyValue          79195\n",
       "propertyCount                 79195\n",
       "isClassADonor                 79195\n",
       "isClassBDonor                 79195\n",
       "isClassCDonor                 79195\n",
       "isClassDDonor                 79195\n",
       "NetWorth                      79195\n",
       "sumClassADonation             79195\n",
       "sumClassBDonation             79195\n",
       "sumClassCDonation             79195\n",
       "sumClassDDonation             79195\n",
       "maxClassADonation             79195\n",
       "maxClassBDonation             79195\n",
       "maxClassCDonation             79195\n",
       "maxClassDDonation             79195\n",
       "sumCauseADonations            79195\n",
       "sumCauseBDonations            79195\n",
       "sumCauseCDonations            79195\n",
       "sumCauseDDonations            79195\n",
       "sumCauseEDonations            79195\n",
       "dtype: int64"
      ]
     },
     "execution_count": 18,
     "metadata": {},
     "output_type": "execute_result"
    }
   ],
   "source": [
    "df_features.isna().sum()"
   ]
  },
  {
   "cell_type": "code",
   "execution_count": null,
   "id": "included-maria",
   "metadata": {},
   "outputs": [],
   "source": []
  },
  {
   "cell_type": "code",
   "execution_count": null,
   "id": "quick-montana",
   "metadata": {},
   "outputs": [],
   "source": []
  },
  {
   "cell_type": "code",
   "execution_count": null,
   "id": "partial-gardening",
   "metadata": {},
   "outputs": [],
   "source": []
  },
  {
   "cell_type": "code",
   "execution_count": null,
   "id": "theoretical-assault",
   "metadata": {},
   "outputs": [],
   "source": []
  },
  {
   "cell_type": "code",
   "execution_count": null,
   "id": "roman-quilt",
   "metadata": {},
   "outputs": [],
   "source": []
  },
  {
   "cell_type": "code",
   "execution_count": null,
   "id": "historical-orange",
   "metadata": {},
   "outputs": [],
   "source": []
  },
  {
   "cell_type": "code",
   "execution_count": null,
   "id": "headed-dietary",
   "metadata": {},
   "outputs": [],
   "source": []
  },
  {
   "cell_type": "code",
   "execution_count": null,
   "id": "familiar-stuart",
   "metadata": {},
   "outputs": [],
   "source": []
  },
  {
   "cell_type": "code",
   "execution_count": null,
   "id": "interior-traffic",
   "metadata": {},
   "outputs": [],
   "source": []
  },
  {
   "cell_type": "code",
   "execution_count": null,
   "id": "automotive-skirt",
   "metadata": {},
   "outputs": [],
   "source": []
  },
  {
   "cell_type": "code",
   "execution_count": null,
   "id": "dutch-roads",
   "metadata": {},
   "outputs": [],
   "source": []
  },
  {
   "cell_type": "code",
   "execution_count": null,
   "id": "prostate-element",
   "metadata": {},
   "outputs": [],
   "source": []
  }
 ],
 "metadata": {
  "kernelspec": {
   "display_name": "Python 3",
   "language": "python",
   "name": "python3"
  },
  "language_info": {
   "codemirror_mode": {
    "name": "ipython",
    "version": 3
   },
   "file_extension": ".py",
   "mimetype": "text/x-python",
   "name": "python",
   "nbconvert_exporter": "python",
   "pygments_lexer": "ipython3",
   "version": "3.8.2"
  }
 },
 "nbformat": 4,
 "nbformat_minor": 5
}
