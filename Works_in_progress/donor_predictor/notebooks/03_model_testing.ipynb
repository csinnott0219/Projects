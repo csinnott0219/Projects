{
 "cells": [
  {
   "cell_type": "markdown",
   "id": "compatible-trial",
   "metadata": {},
   "source": [
    "#### Windfall Children's Center Propensity to Give\n",
    "#### Corey J Sinnott\n",
    "   \n",
    "## Executive Summary\n",
    "   \n",
    "This report was commissioned to develop a model used to predict major donors. A major donor will be considered as any individual likely to give at least 20,000 USD. An initial dataset of ~130,000 donors can be found in the data folder, as well as a dataset containing potential feature values.\n",
    "\n",
    "## Contents:\n",
    "- [Pre-processing](#Pre-processing)\n",
    "- [Model Testing](#Model-Testing)\n",
    "- [Model Tuning](#Model-Tuning)"
   ]
  },
  {
   "cell_type": "markdown",
   "id": "emerging-mambo",
   "metadata": {},
   "source": [
    "### Importing Libraries"
   ]
  },
  {
   "cell_type": "code",
   "execution_count": 257,
   "id": "expected-registration",
   "metadata": {},
   "outputs": [],
   "source": [
    "import pandas as pd\n",
    "import numpy as np\n",
    "import matplotlib.pyplot as plt\n",
    "import seaborn as sns\n",
    "from sklearn.preprocessing import StandardScaler\n",
    "from sklearn.preprocessing import PolynomialFeatures, StandardScaler\n",
    "from sklearn.model_selection import GridSearchCV, train_test_split, RandomizedSearchCV\n",
    "from sklearn.metrics import confusion_matrix, accuracy_score, balanced_accuracy_score,\\\n",
    "                            precision_score, recall_score, roc_auc_score,\\\n",
    "                            plot_confusion_matrix, classification_report, plot_roc_curve, f1_score\n",
    "from sklearn.linear_model import LogisticRegression\n",
    "from sklearn.ensemble import RandomForestClassifier\n",
    "from sklearn.experimental import enable_hist_gradient_boosting\n",
    "from sklearn.ensemble import HistGradientBoostingClassifier\n",
    "from imblearn.pipeline import make_pipeline\n",
    "from sklearn.ensemble import IsolationForest\n",
    "from imblearn.over_sampling import RandomOverSampler, ADASYN, SMOTE, KMeansSMOTE"
   ]
  },
  {
   "cell_type": "markdown",
   "id": "infrared-elephant",
   "metadata": {},
   "source": [
    "### Data Import"
   ]
  },
  {
   "cell_type": "code",
   "execution_count": 2,
   "id": "white-assets",
   "metadata": {},
   "outputs": [],
   "source": [
    "df = pd.read_csv('./data/final_df.csv', index_col = 0)"
   ]
  },
  {
   "cell_type": "markdown",
   "id": "geological-hunter",
   "metadata": {},
   "source": [
    "# Pre-processing"
   ]
  },
  {
   "cell_type": "code",
   "execution_count": 3,
   "id": "awful-struggle",
   "metadata": {},
   "outputs": [
    {
     "data": {
      "text/html": [
       "<div>\n",
       "<style scoped>\n",
       "    .dataframe tbody tr th:only-of-type {\n",
       "        vertical-align: middle;\n",
       "    }\n",
       "\n",
       "    .dataframe tbody tr th {\n",
       "        vertical-align: top;\n",
       "    }\n",
       "\n",
       "    .dataframe thead th {\n",
       "        text-align: right;\n",
       "    }\n",
       "</style>\n",
       "<table border=\"1\" class=\"dataframe\">\n",
       "  <thead>\n",
       "    <tr style=\"text-align: right;\">\n",
       "      <th></th>\n",
       "      <th>cand_id</th>\n",
       "      <th>totalHouseholdDebt</th>\n",
       "      <th>primaryPropertyLoanToValue</th>\n",
       "      <th>primaryPropertyValue</th>\n",
       "      <th>propertyCount</th>\n",
       "      <th>isClassADonor</th>\n",
       "      <th>isClassBDonor</th>\n",
       "      <th>isClassCDonor</th>\n",
       "      <th>isClassDDonor</th>\n",
       "      <th>NetWorth</th>\n",
       "      <th>...</th>\n",
       "      <th>maxClassBDonation</th>\n",
       "      <th>maxClassCDonation</th>\n",
       "      <th>maxClassDDonation</th>\n",
       "      <th>sumCauseADonations</th>\n",
       "      <th>sumCauseBDonations</th>\n",
       "      <th>sumCauseCDonations</th>\n",
       "      <th>sumCauseDDonations</th>\n",
       "      <th>sumCauseEDonations</th>\n",
       "      <th>rolling_avg</th>\n",
       "      <th>20k_donor</th>\n",
       "    </tr>\n",
       "  </thead>\n",
       "  <tbody>\n",
       "    <tr>\n",
       "      <th>0</th>\n",
       "      <td>candidate_0</td>\n",
       "      <td>6.085778</td>\n",
       "      <td>0.336380</td>\n",
       "      <td>2215000.0</td>\n",
       "      <td>4.0</td>\n",
       "      <td>0.0</td>\n",
       "      <td>0.0</td>\n",
       "      <td>1.0</td>\n",
       "      <td>1.0</td>\n",
       "      <td>14011369.0</td>\n",
       "      <td>...</td>\n",
       "      <td>1.0</td>\n",
       "      <td>751.0</td>\n",
       "      <td>751.0</td>\n",
       "      <td>0.0</td>\n",
       "      <td>0.0</td>\n",
       "      <td>0.0</td>\n",
       "      <td>0.0</td>\n",
       "      <td>0.0</td>\n",
       "      <td>4965.150833</td>\n",
       "      <td>1</td>\n",
       "    </tr>\n",
       "    <tr>\n",
       "      <th>1</th>\n",
       "      <td>candidate_1</td>\n",
       "      <td>6.480672</td>\n",
       "      <td>0.828664</td>\n",
       "      <td>3650000.0</td>\n",
       "      <td>1.0</td>\n",
       "      <td>0.0</td>\n",
       "      <td>1.0</td>\n",
       "      <td>0.0</td>\n",
       "      <td>1.0</td>\n",
       "      <td>5812754.0</td>\n",
       "      <td>...</td>\n",
       "      <td>1751.0</td>\n",
       "      <td>1.0</td>\n",
       "      <td>251.0</td>\n",
       "      <td>0.0</td>\n",
       "      <td>0.0</td>\n",
       "      <td>0.0</td>\n",
       "      <td>0.0</td>\n",
       "      <td>0.0</td>\n",
       "      <td>25000.000000</td>\n",
       "      <td>1</td>\n",
       "    </tr>\n",
       "  </tbody>\n",
       "</table>\n",
       "<p>2 rows × 25 columns</p>\n",
       "</div>"
      ],
      "text/plain": [
       "       cand_id  totalHouseholdDebt  primaryPropertyLoanToValue  \\\n",
       "0  candidate_0            6.085778                    0.336380   \n",
       "1  candidate_1            6.480672                    0.828664   \n",
       "\n",
       "   primaryPropertyValue  propertyCount  isClassADonor  isClassBDonor  \\\n",
       "0             2215000.0            4.0            0.0            0.0   \n",
       "1             3650000.0            1.0            0.0            1.0   \n",
       "\n",
       "   isClassCDonor  isClassDDonor    NetWorth  ...  maxClassBDonation  \\\n",
       "0            1.0            1.0  14011369.0  ...                1.0   \n",
       "1            0.0            1.0   5812754.0  ...             1751.0   \n",
       "\n",
       "   maxClassCDonation  maxClassDDonation  sumCauseADonations  \\\n",
       "0              751.0              751.0                 0.0   \n",
       "1                1.0              251.0                 0.0   \n",
       "\n",
       "   sumCauseBDonations  sumCauseCDonations  sumCauseDDonations  \\\n",
       "0                 0.0                 0.0                 0.0   \n",
       "1                 0.0                 0.0                 0.0   \n",
       "\n",
       "   sumCauseEDonations   rolling_avg  20k_donor  \n",
       "0                 0.0   4965.150833          1  \n",
       "1                 0.0  25000.000000          1  \n",
       "\n",
       "[2 rows x 25 columns]"
      ]
     },
     "execution_count": 3,
     "metadata": {},
     "output_type": "execute_result"
    }
   ],
   "source": [
    "df.head(2)"
   ]
  },
  {
   "cell_type": "code",
   "execution_count": 4,
   "id": "weekly-theta",
   "metadata": {},
   "outputs": [
    {
     "name": "stdout",
     "output_type": "stream",
     "text": [
      "<class 'pandas.core.frame.DataFrame'>\n",
      "Int64Index: 37687 entries, 0 to 74602\n",
      "Data columns (total 25 columns):\n",
      " #   Column                      Non-Null Count  Dtype  \n",
      "---  ------                      --------------  -----  \n",
      " 0   cand_id                     37687 non-null  object \n",
      " 1   totalHouseholdDebt          37687 non-null  float64\n",
      " 2   primaryPropertyLoanToValue  37687 non-null  float64\n",
      " 3   primaryPropertyValue        37687 non-null  float64\n",
      " 4   propertyCount               37687 non-null  float64\n",
      " 5   isClassADonor               37687 non-null  float64\n",
      " 6   isClassBDonor               37687 non-null  float64\n",
      " 7   isClassCDonor               37687 non-null  float64\n",
      " 8   isClassDDonor               37687 non-null  float64\n",
      " 9   NetWorth                    37687 non-null  float64\n",
      " 10  sumClassADonation           37687 non-null  float64\n",
      " 11  sumClassBDonation           37687 non-null  float64\n",
      " 12  sumClassCDonation           37687 non-null  float64\n",
      " 13  sumClassDDonation           37687 non-null  float64\n",
      " 14  maxClassADonation           37687 non-null  float64\n",
      " 15  maxClassBDonation           37687 non-null  float64\n",
      " 16  maxClassCDonation           37687 non-null  float64\n",
      " 17  maxClassDDonation           37687 non-null  float64\n",
      " 18  sumCauseADonations          37687 non-null  float64\n",
      " 19  sumCauseBDonations          37687 non-null  float64\n",
      " 20  sumCauseCDonations          37687 non-null  float64\n",
      " 21  sumCauseDDonations          37687 non-null  float64\n",
      " 22  sumCauseEDonations          37687 non-null  float64\n",
      " 23  rolling_avg                 37687 non-null  float64\n",
      " 24  20k_donor                   37687 non-null  int64  \n",
      "dtypes: float64(23), int64(1), object(1)\n",
      "memory usage: 7.5+ MB\n"
     ]
    }
   ],
   "source": [
    "df.info()"
   ]
  },
  {
   "cell_type": "markdown",
   "id": "large-balance",
   "metadata": {},
   "source": [
    "### Defining Variables"
   ]
  },
  {
   "cell_type": "code",
   "execution_count": 5,
   "id": "treated-toronto",
   "metadata": {},
   "outputs": [],
   "source": [
    "X = df.drop(columns = ['cand_id', 'rolling_avg', '20k_donor'])\n",
    "y = df['20k_donor']"
   ]
  },
  {
   "cell_type": "code",
   "execution_count": 8,
   "id": "educated-given",
   "metadata": {},
   "outputs": [],
   "source": [
    "# scaling all values\n",
    "# performing outside of pipeline as \n",
    "# all need same processing\n",
    "X_scaled = StandardScaler().fit_transform(X)"
   ]
  },
  {
   "cell_type": "code",
   "execution_count": 10,
   "id": "latest-strain",
   "metadata": {},
   "outputs": [],
   "source": [
    "X_train, X_test, y_train, y_test = train_test_split(X, y, stratify = y)"
   ]
  },
  {
   "cell_type": "code",
   "execution_count": 79,
   "id": "trying-ultimate",
   "metadata": {},
   "outputs": [],
   "source": [
    "# for redefining variables between model tests\n",
    "def redefine_variables(df, imblearn_tool):\n",
    "    \"\"\"\n",
    "    \"\"\"\n",
    "    # define variables\n",
    "    X = df.drop(columns = ['cand_id', 'rolling_avg', '20k_donor'])\n",
    "    y = df['20k_donor']\n",
    "    # scale features \n",
    "    X_scaled = StandardScaler().fit_transform(X)\n",
    "    # oversampling technique\n",
    "    sm = imblearn_tool\n",
    "    X, y = sm.fit_resample(X, y)\n",
    "    # split\n",
    "    X_train, X_test, y_train, y_test = train_test_split(X, y, \n",
    "                                stratify = y, random_state = 22)\n",
    "    \n",
    "    return X_train, X_test, y_train, y_test"
   ]
  },
  {
   "cell_type": "markdown",
   "id": "requested-editor",
   "metadata": {},
   "source": [
    "# Model Testing"
   ]
  },
  {
   "cell_type": "code",
   "execution_count": 12,
   "id": "micro-printing",
   "metadata": {},
   "outputs": [],
   "source": [
    "def classification_eval(y_test, y_pred):\n",
    "    print(f'accuracy  = {np.round(accuracy_score(y_test, y_pred), 3)}')\n",
    "    print(f'precision = {np.round(precision_score(y_test, y_pred), 3)}')\n",
    "    print(f'recall    = {np.round(recall_score(y_test, y_pred), 3)}')\n",
    "    print(f'f1-score  = {np.round(f1_score(y_test, y_pred), 3)}')\n",
    "    print(f'roc auc   = {np.round(roc_auc_score(y_test, y_pred), 3)}')\n",
    "    print(f'null accuracy = {round(max(y_test.mean(), 1 - y_test.mean()), 2)}')"
   ]
  },
  {
   "cell_type": "markdown",
   "id": "scientific-contemporary",
   "metadata": {},
   "source": [
    "Logistic Regression\n",
    "- StandardScaler\n",
    "- Default params\n",
    "- No handling of imbalanced data\n",
    "- Binary target"
   ]
  },
  {
   "cell_type": "code",
   "execution_count": 24,
   "id": "thousand-copper",
   "metadata": {},
   "outputs": [],
   "source": [
    "lr = LogisticRegression(max_iter = 1000)"
   ]
  },
  {
   "cell_type": "code",
   "execution_count": 30,
   "id": "protective-particle",
   "metadata": {},
   "outputs": [
    {
     "data": {
      "text/plain": [
       "LogisticRegression(max_iter=1000)"
      ]
     },
     "execution_count": 30,
     "metadata": {},
     "output_type": "execute_result"
    }
   ],
   "source": [
    "lr.fit(X_train, y_train)"
   ]
  },
  {
   "cell_type": "code",
   "execution_count": 31,
   "id": "developed-crown",
   "metadata": {},
   "outputs": [],
   "source": [
    "y_pred = lr.predict(X_test)"
   ]
  },
  {
   "cell_type": "code",
   "execution_count": 32,
   "id": "medieval-portal",
   "metadata": {},
   "outputs": [
    {
     "name": "stdout",
     "output_type": "stream",
     "text": [
      "accuracy  = 0.973\n",
      "precision = 0.083\n",
      "recall    = 0.024\n",
      "f1-score  = 0.038\n",
      "roc auc   = 0.509\n",
      "null accuracy = 0.98\n"
     ]
    }
   ],
   "source": [
    "classification_eval(y_test, y_pred)"
   ]
  },
  {
   "cell_type": "markdown",
   "id": "constant-norman",
   "metadata": {},
   "source": [
    "Logistic Regression\n",
    "- StandardScaler\n",
    "- Default params\n",
    "- RandomOverSampler for imbalanced data\n",
    "- Binary target"
   ]
  },
  {
   "cell_type": "code",
   "execution_count": 109,
   "id": "healthy-medline",
   "metadata": {},
   "outputs": [],
   "source": [
    "X_train, X_test, y_train, y_test = redefine_variables(df, RandomOverSampler(sampling_strategy = 0.75))"
   ]
  },
  {
   "cell_type": "code",
   "execution_count": 110,
   "id": "general-yellow",
   "metadata": {},
   "outputs": [],
   "source": [
    "lr = LogisticRegression(max_iter = 1000)"
   ]
  },
  {
   "cell_type": "code",
   "execution_count": 111,
   "id": "ideal-empty",
   "metadata": {},
   "outputs": [
    {
     "data": {
      "text/plain": [
       "LogisticRegression(max_iter=1000)"
      ]
     },
     "execution_count": 111,
     "metadata": {},
     "output_type": "execute_result"
    }
   ],
   "source": [
    "lr.fit(X_train, y_train)"
   ]
  },
  {
   "cell_type": "code",
   "execution_count": 112,
   "id": "formal-acrylic",
   "metadata": {},
   "outputs": [],
   "source": [
    "y_pred = lr.predict(X_test)"
   ]
  },
  {
   "cell_type": "code",
   "execution_count": 113,
   "id": "present-prediction",
   "metadata": {},
   "outputs": [
    {
     "name": "stdout",
     "output_type": "stream",
     "text": [
      "accuracy  = 0.661\n",
      "precision = 0.577\n",
      "recall    = 0.785\n",
      "f1-score  = 0.665\n",
      "roc auc   = 0.677\n",
      "null accuracy = 0.57\n"
     ]
    }
   ],
   "source": [
    "classification_eval(y_test, y_pred)"
   ]
  },
  {
   "cell_type": "code",
   "execution_count": 114,
   "id": "velvet-october",
   "metadata": {},
   "outputs": [
    {
     "data": {
      "image/png": "[encoded data removed]",
      "text/plain": [
       "<Figure size 432x288 with 2 Axes>"
      ]
     },
     "metadata": {
      "needs_background": "light"
     },
     "output_type": "display_data"
    }
   ],
   "source": [
    "plot_confusion_matrix(lr, X_test, y_test);"
   ]
  },
  {
   "cell_type": "markdown",
   "id": "immune-bulletin",
   "metadata": {},
   "source": [
    "Logistic Regression\n",
    "- StandardScaler\n",
    "- Default params\n",
    "- SMOTE for imbalanced data\n",
    "- Binary target"
   ]
  },
  {
   "cell_type": "code",
   "execution_count": 92,
   "id": "valuable-museum",
   "metadata": {},
   "outputs": [],
   "source": [
    "X_train, X_test, y_train, y_test = redefine_variables(df, SMOTE(sampling_strategy = 0.8))"
   ]
  },
  {
   "cell_type": "code",
   "execution_count": 93,
   "id": "funny-warehouse",
   "metadata": {},
   "outputs": [],
   "source": [
    "lr = LogisticRegression(max_iter = 1000)"
   ]
  },
  {
   "cell_type": "code",
   "execution_count": 94,
   "id": "constitutional-exposure",
   "metadata": {},
   "outputs": [
    {
     "data": {
      "text/plain": [
       "LogisticRegression(max_iter=1000)"
      ]
     },
     "execution_count": 94,
     "metadata": {},
     "output_type": "execute_result"
    }
   ],
   "source": [
    "lr.fit(X_train, y_train)"
   ]
  },
  {
   "cell_type": "code",
   "execution_count": 95,
   "id": "approved-relevance",
   "metadata": {},
   "outputs": [],
   "source": [
    "y_pred = lr.predict(X_test)"
   ]
  },
  {
   "cell_type": "code",
   "execution_count": 96,
   "id": "marine-conditions",
   "metadata": {},
   "outputs": [
    {
     "name": "stdout",
     "output_type": "stream",
     "text": [
      "accuracy  = 0.684\n",
      "precision = 0.612\n",
      "recall    = 0.795\n",
      "f1-score  = 0.691\n",
      "roc auc   = 0.695\n",
      "null accuracy = 0.56\n"
     ]
    }
   ],
   "source": [
    "classification_eval(y_test, y_pred)"
   ]
  },
  {
   "cell_type": "code",
   "execution_count": 78,
   "id": "infrared-israeli",
   "metadata": {},
   "outputs": [
    {
     "data": {
      "image/png": "[encoded data removed]",
      "text/plain": [
       "<Figure size 432x288 with 2 Axes>"
      ]
     },
     "metadata": {
      "needs_background": "light"
     },
     "output_type": "display_data"
    }
   ],
   "source": [
    "plot_confusion_matrix(lr, X_test, y_test);"
   ]
  },
  {
   "cell_type": "markdown",
   "id": "focused-holly",
   "metadata": {},
   "source": [
    "Logistic Regression\n",
    "- StandardScaler\n",
    "- Default params\n",
    "- ADASYN for imbalanced data\n",
    "- Binary target"
   ]
  },
  {
   "cell_type": "code",
   "execution_count": 146,
   "id": "through-bonus",
   "metadata": {},
   "outputs": [],
   "source": [
    "X_train, X_test, y_train, y_test = redefine_variables(df, ADASYN(sampling_strategy = 0.8))"
   ]
  },
  {
   "cell_type": "code",
   "execution_count": 147,
   "id": "breeding-broadcast",
   "metadata": {},
   "outputs": [],
   "source": [
    "lr = LogisticRegression(max_iter = 1000)"
   ]
  },
  {
   "cell_type": "code",
   "execution_count": 148,
   "id": "joined-zealand",
   "metadata": {},
   "outputs": [
    {
     "data": {
      "text/plain": [
       "LogisticRegression(max_iter=1000)"
      ]
     },
     "execution_count": 148,
     "metadata": {},
     "output_type": "execute_result"
    }
   ],
   "source": [
    "lr.fit(X_train, y_train)"
   ]
  },
  {
   "cell_type": "code",
   "execution_count": 149,
   "id": "editorial-mercy",
   "metadata": {},
   "outputs": [],
   "source": [
    "y_pred = lr.predict(X_test)"
   ]
  },
  {
   "cell_type": "code",
   "execution_count": 150,
   "id": "promotional-boxing",
   "metadata": {},
   "outputs": [
    {
     "name": "stdout",
     "output_type": "stream",
     "text": [
      "accuracy  = 0.685\n",
      "precision = 0.618\n",
      "recall    = 0.764\n",
      "f1-score  = 0.684\n",
      "roc auc   = 0.693\n",
      "null accuracy = 0.55\n"
     ]
    }
   ],
   "source": [
    "classification_eval(y_test, y_pred)"
   ]
  },
  {
   "cell_type": "code",
   "execution_count": 151,
   "id": "solved-classics",
   "metadata": {},
   "outputs": [
    {
     "data": {
      "image/png": "[encoded data removed]",
      "text/plain": [
       "<Figure size 432x288 with 2 Axes>"
      ]
     },
     "metadata": {
      "needs_background": "light"
     },
     "output_type": "display_data"
    }
   ],
   "source": [
    "plot_confusion_matrix(lr, X_test, y_test);"
   ]
  },
  {
   "cell_type": "markdown",
   "id": "limited-corruption",
   "metadata": {},
   "source": [
    "RandomForestClassifier\n",
    "- ADASYN\n",
    "- StandardScaler\n",
    "- Default params\n",
    "- Binary target\n",
    "- **Highest performing model**"
   ]
  },
  {
   "cell_type": "code",
   "execution_count": 197,
   "id": "temporal-pendant",
   "metadata": {},
   "outputs": [],
   "source": [
    "X_train, X_test, y_train, y_test = redefine_variables(df, ADASYN(sampling_strategy = 0.8))"
   ]
  },
  {
   "cell_type": "code",
   "execution_count": 198,
   "id": "linear-wisconsin",
   "metadata": {},
   "outputs": [],
   "source": [
    "rf = RandomForestClassifier()"
   ]
  },
  {
   "cell_type": "code",
   "execution_count": 199,
   "id": "bound-newman",
   "metadata": {},
   "outputs": [
    {
     "data": {
      "text/plain": [
       "RandomForestClassifier()"
      ]
     },
     "execution_count": 199,
     "metadata": {},
     "output_type": "execute_result"
    }
   ],
   "source": [
    "rf.fit(X_train, y_train)"
   ]
  },
  {
   "cell_type": "code",
   "execution_count": 200,
   "id": "moral-replacement",
   "metadata": {},
   "outputs": [],
   "source": [
    "y_pred = rf.predict(X_test)"
   ]
  },
  {
   "cell_type": "code",
   "execution_count": 201,
   "id": "persistent-question",
   "metadata": {},
   "outputs": [
    {
     "name": "stdout",
     "output_type": "stream",
     "text": [
      "accuracy  = 0.992\n",
      "precision = 0.993\n",
      "recall    = 0.989\n",
      "f1-score  = 0.991\n",
      "roc auc   = 0.992\n",
      "null accuracy = 0.55\n"
     ]
    }
   ],
   "source": [
    "classification_eval(y_test, y_pred)"
   ]
  },
  {
   "cell_type": "code",
   "execution_count": 202,
   "id": "received-table",
   "metadata": {},
   "outputs": [
    {
     "data": {
      "image/png": "[encoded data removed]",
      "text/plain": [
       "<Figure size 432x288 with 2 Axes>"
      ]
     },
     "metadata": {
      "needs_background": "light"
     },
     "output_type": "display_data"
    }
   ],
   "source": [
    "plot_confusion_matrix(rf, X_test, y_test);"
   ]
  },
  {
   "cell_type": "markdown",
   "id": "compound-granny",
   "metadata": {},
   "source": [
    "HistGradientBoostingClassifier\n",
    "- ADASYN\n",
    "- StandardScaler\n",
    "- Default params\n",
    "- Binary target"
   ]
  },
  {
   "cell_type": "code",
   "execution_count": 191,
   "id": "bibliographic-exhibit",
   "metadata": {},
   "outputs": [],
   "source": [
    "X_train, X_test, y_train, y_test = redefine_variables(df, ADASYN(sampling_strategy = 0.75))"
   ]
  },
  {
   "cell_type": "code",
   "execution_count": 192,
   "id": "adopted-apollo",
   "metadata": {},
   "outputs": [],
   "source": [
    "hgb = HistGradientBoostingClassifier()"
   ]
  },
  {
   "cell_type": "code",
   "execution_count": 193,
   "id": "colonial-words",
   "metadata": {},
   "outputs": [
    {
     "data": {
      "text/plain": [
       "HistGradientBoostingClassifier()"
      ]
     },
     "execution_count": 193,
     "metadata": {},
     "output_type": "execute_result"
    }
   ],
   "source": [
    "hgb.fit(X_train, y_train)"
   ]
  },
  {
   "cell_type": "code",
   "execution_count": 194,
   "id": "radio-retention",
   "metadata": {},
   "outputs": [],
   "source": [
    "y_pred = hgb.predict(X_test)"
   ]
  },
  {
   "cell_type": "code",
   "execution_count": 195,
   "id": "precise-playlist",
   "metadata": {},
   "outputs": [
    {
     "name": "stdout",
     "output_type": "stream",
     "text": [
      "accuracy  = 0.968\n",
      "precision = 0.977\n",
      "recall    = 0.949\n",
      "f1-score  = 0.963\n",
      "roc auc   = 0.966\n",
      "null accuracy = 0.57\n"
     ]
    }
   ],
   "source": [
    "classification_eval(y_test, y_pred)"
   ]
  },
  {
   "cell_type": "code",
   "execution_count": 196,
   "id": "occasional-concept",
   "metadata": {},
   "outputs": [
    {
     "data": {
      "image/png": "[encoded data removed]",
      "text/plain": [
       "<Figure size 432x288 with 2 Axes>"
      ]
     },
     "metadata": {
      "needs_background": "light"
     },
     "output_type": "display_data"
    }
   ],
   "source": [
    "plot_confusion_matrix(hgb, X_test, y_test);"
   ]
  },
  {
   "cell_type": "markdown",
   "id": "helpful-duration",
   "metadata": {},
   "source": [
    "Tensorflow NN\n",
    "- ADASYN\n",
    "- StandardScaler\n",
    "- Binary target"
   ]
  },
  {
   "cell_type": "code",
   "execution_count": 191,
   "id": "dried-yacht",
   "metadata": {},
   "outputs": [],
   "source": [
    "X_train, X_test, y_train, y_test = redefine_variables(df, ADASYN(sampling_strategy = 0.75))"
   ]
  },
  {
   "cell_type": "markdown",
   "id": "temporal-timer",
   "metadata": {},
   "source": [
    "# Model Tuning"
   ]
  },
  {
   "cell_type": "code",
   "execution_count": 219,
   "id": "auburn-coating",
   "metadata": {},
   "outputs": [],
   "source": [
    "# sampling strategy tuned manually\n",
    "# proceeding with best strategy to limit model run-time\n",
    "X_train, X_test, y_train, y_test = redefine_variables(df, ADASYN(sampling_strategy = 0.8))"
   ]
  },
  {
   "cell_type": "code",
   "execution_count": 205,
   "id": "civil-series",
   "metadata": {},
   "outputs": [],
   "source": [
    "rf = RandomForestClassifier()"
   ]
  },
  {
   "cell_type": "code",
   "execution_count": 220,
   "id": "gorgeous-strike",
   "metadata": {},
   "outputs": [],
   "source": [
    "params = {\n",
    "    #'randomforestclassifier__n_estimators' : [1000],\n",
    "    #'randomoversampler__sampling_strategy' : [0.5, 0.6, 0.7, 0.8, 0.9, 1],\n",
    "    'n_estimators' : [200, 1000],\n",
    "    'criterion'    : ['gini', 'entropy'],\n",
    "    'oob_score'    : [True, False]\n",
    "}"
   ]
  },
  {
   "cell_type": "code",
   "execution_count": 223,
   "id": "dutch-martial",
   "metadata": {},
   "outputs": [],
   "source": [
    "grid = GridSearchCV(rf, params)"
   ]
  },
  {
   "cell_type": "code",
   "execution_count": 224,
   "id": "hundred-compiler",
   "metadata": {},
   "outputs": [
    {
     "data": {
      "text/plain": [
       "GridSearchCV(estimator=RandomForestClassifier(),\n",
       "             param_grid={'criterion': ['gini', 'entropy'],\n",
       "                         'n_estimators': [200, 1000],\n",
       "                         'oob_score': [True, False]})"
      ]
     },
     "execution_count": 224,
     "metadata": {},
     "output_type": "execute_result"
    }
   ],
   "source": [
    "grid.fit(X_train, y_train)"
   ]
  },
  {
   "cell_type": "code",
   "execution_count": 225,
   "id": "floral-chess",
   "metadata": {},
   "outputs": [],
   "source": [
    "y_pred = grid.predict(X_test)"
   ]
  },
  {
   "cell_type": "code",
   "execution_count": 226,
   "id": "distinguished-iceland",
   "metadata": {},
   "outputs": [
    {
     "name": "stdout",
     "output_type": "stream",
     "text": [
      "accuracy  = 0.992\n",
      "precision = 0.993\n",
      "recall    = 0.989\n",
      "f1-score  = 0.991\n",
      "roc auc   = 0.992\n",
      "null accuracy = 0.55\n"
     ]
    }
   ],
   "source": [
    "classification_eval(y_test, y_pred)"
   ]
  },
  {
   "cell_type": "code",
   "execution_count": 227,
   "id": "private-prairie",
   "metadata": {},
   "outputs": [
    {
     "data": {
      "text/plain": [
       "{'criterion': 'entropy', 'n_estimators': 1000, 'oob_score': True}"
      ]
     },
     "execution_count": 227,
     "metadata": {},
     "output_type": "execute_result"
    }
   ],
   "source": [
    "grid.best_params_"
   ]
  },
  {
   "cell_type": "code",
   "execution_count": 228,
   "id": "supported-split",
   "metadata": {},
   "outputs": [
    {
     "data": {
      "text/html": [
       "<div>\n",
       "<style scoped>\n",
       "    .dataframe tbody tr th:only-of-type {\n",
       "        vertical-align: middle;\n",
       "    }\n",
       "\n",
       "    .dataframe tbody tr th {\n",
       "        vertical-align: top;\n",
       "    }\n",
       "\n",
       "    .dataframe thead th {\n",
       "        text-align: right;\n",
       "    }\n",
       "</style>\n",
       "<table border=\"1\" class=\"dataframe\">\n",
       "  <thead>\n",
       "    <tr style=\"text-align: right;\">\n",
       "      <th></th>\n",
       "      <th>mean_fit_time</th>\n",
       "      <th>std_fit_time</th>\n",
       "      <th>mean_score_time</th>\n",
       "      <th>std_score_time</th>\n",
       "      <th>param_criterion</th>\n",
       "      <th>param_n_estimators</th>\n",
       "      <th>param_oob_score</th>\n",
       "      <th>params</th>\n",
       "      <th>split0_test_score</th>\n",
       "      <th>split1_test_score</th>\n",
       "      <th>split2_test_score</th>\n",
       "      <th>split3_test_score</th>\n",
       "      <th>split4_test_score</th>\n",
       "      <th>mean_test_score</th>\n",
       "      <th>std_test_score</th>\n",
       "      <th>rank_test_score</th>\n",
       "    </tr>\n",
       "  </thead>\n",
       "  <tbody>\n",
       "    <tr>\n",
       "      <th>0</th>\n",
       "      <td>7.926317</td>\n",
       "      <td>0.160136</td>\n",
       "      <td>0.204864</td>\n",
       "      <td>0.011524</td>\n",
       "      <td>gini</td>\n",
       "      <td>200</td>\n",
       "      <td>True</td>\n",
       "      <td>{'criterion': 'gini', 'n_estimators': 200, 'oo...</td>\n",
       "      <td>0.991774</td>\n",
       "      <td>0.991774</td>\n",
       "      <td>0.991974</td>\n",
       "      <td>0.990569</td>\n",
       "      <td>0.992275</td>\n",
       "      <td>0.991673</td>\n",
       "      <td>0.000582</td>\n",
       "      <td>8</td>\n",
       "    </tr>\n",
       "    <tr>\n",
       "      <th>1</th>\n",
       "      <td>7.190899</td>\n",
       "      <td>0.052192</td>\n",
       "      <td>0.201915</td>\n",
       "      <td>0.007119</td>\n",
       "      <td>gini</td>\n",
       "      <td>200</td>\n",
       "      <td>False</td>\n",
       "      <td>{'criterion': 'gini', 'n_estimators': 200, 'oo...</td>\n",
       "      <td>0.991673</td>\n",
       "      <td>0.992075</td>\n",
       "      <td>0.991874</td>\n",
       "      <td>0.991673</td>\n",
       "      <td>0.992174</td>\n",
       "      <td>0.991894</td>\n",
       "      <td>0.000205</td>\n",
       "      <td>7</td>\n",
       "    </tr>\n",
       "    <tr>\n",
       "      <th>2</th>\n",
       "      <td>38.943526</td>\n",
       "      <td>0.238661</td>\n",
       "      <td>0.973983</td>\n",
       "      <td>0.006231</td>\n",
       "      <td>gini</td>\n",
       "      <td>1000</td>\n",
       "      <td>True</td>\n",
       "      <td>{'criterion': 'gini', 'n_estimators': 1000, 'o...</td>\n",
       "      <td>0.991874</td>\n",
       "      <td>0.991774</td>\n",
       "      <td>0.992175</td>\n",
       "      <td>0.991171</td>\n",
       "      <td>0.992575</td>\n",
       "      <td>0.991914</td>\n",
       "      <td>0.000465</td>\n",
       "      <td>6</td>\n",
       "    </tr>\n",
       "    <tr>\n",
       "      <th>3</th>\n",
       "      <td>37.724010</td>\n",
       "      <td>0.680214</td>\n",
       "      <td>1.053007</td>\n",
       "      <td>0.038529</td>\n",
       "      <td>gini</td>\n",
       "      <td>1000</td>\n",
       "      <td>False</td>\n",
       "      <td>{'criterion': 'gini', 'n_estimators': 1000, 'o...</td>\n",
       "      <td>0.991874</td>\n",
       "      <td>0.992376</td>\n",
       "      <td>0.991874</td>\n",
       "      <td>0.991271</td>\n",
       "      <td>0.992676</td>\n",
       "      <td>0.992014</td>\n",
       "      <td>0.000482</td>\n",
       "      <td>5</td>\n",
       "    </tr>\n",
       "    <tr>\n",
       "      <th>4</th>\n",
       "      <td>9.510668</td>\n",
       "      <td>0.033108</td>\n",
       "      <td>0.199156</td>\n",
       "      <td>0.002374</td>\n",
       "      <td>entropy</td>\n",
       "      <td>200</td>\n",
       "      <td>True</td>\n",
       "      <td>{'criterion': 'entropy', 'n_estimators': 200, ...</td>\n",
       "      <td>0.991573</td>\n",
       "      <td>0.992376</td>\n",
       "      <td>0.991974</td>\n",
       "      <td>0.992475</td>\n",
       "      <td>0.992776</td>\n",
       "      <td>0.992235</td>\n",
       "      <td>0.000419</td>\n",
       "      <td>2</td>\n",
       "    </tr>\n",
       "    <tr>\n",
       "      <th>5</th>\n",
       "      <td>8.969661</td>\n",
       "      <td>0.111015</td>\n",
       "      <td>0.200241</td>\n",
       "      <td>0.003340</td>\n",
       "      <td>entropy</td>\n",
       "      <td>200</td>\n",
       "      <td>False</td>\n",
       "      <td>{'criterion': 'entropy', 'n_estimators': 200, ...</td>\n",
       "      <td>0.991974</td>\n",
       "      <td>0.992476</td>\n",
       "      <td>0.992075</td>\n",
       "      <td>0.992275</td>\n",
       "      <td>0.992275</td>\n",
       "      <td>0.992215</td>\n",
       "      <td>0.000175</td>\n",
       "      <td>3</td>\n",
       "    </tr>\n",
       "    <tr>\n",
       "      <th>6</th>\n",
       "      <td>47.546663</td>\n",
       "      <td>0.176495</td>\n",
       "      <td>0.988019</td>\n",
       "      <td>0.007811</td>\n",
       "      <td>entropy</td>\n",
       "      <td>1000</td>\n",
       "      <td>True</td>\n",
       "      <td>{'criterion': 'entropy', 'n_estimators': 1000,...</td>\n",
       "      <td>0.991673</td>\n",
       "      <td>0.992376</td>\n",
       "      <td>0.992175</td>\n",
       "      <td>0.992375</td>\n",
       "      <td>0.992676</td>\n",
       "      <td>0.992255</td>\n",
       "      <td>0.000332</td>\n",
       "      <td>1</td>\n",
       "    </tr>\n",
       "    <tr>\n",
       "      <th>7</th>\n",
       "      <td>44.595079</td>\n",
       "      <td>0.257865</td>\n",
       "      <td>0.990300</td>\n",
       "      <td>0.005094</td>\n",
       "      <td>entropy</td>\n",
       "      <td>1000</td>\n",
       "      <td>False</td>\n",
       "      <td>{'criterion': 'entropy', 'n_estimators': 1000,...</td>\n",
       "      <td>0.991673</td>\n",
       "      <td>0.992376</td>\n",
       "      <td>0.991974</td>\n",
       "      <td>0.991673</td>\n",
       "      <td>0.992575</td>\n",
       "      <td>0.992054</td>\n",
       "      <td>0.000367</td>\n",
       "      <td>4</td>\n",
       "    </tr>\n",
       "  </tbody>\n",
       "</table>\n",
       "</div>"
      ],
      "text/plain": [
       "   mean_fit_time  std_fit_time  mean_score_time  std_score_time  \\\n",
       "0       7.926317      0.160136         0.204864        0.011524   \n",
       "1       7.190899      0.052192         0.201915        0.007119   \n",
       "2      38.943526      0.238661         0.973983        0.006231   \n",
       "3      37.724010      0.680214         1.053007        0.038529   \n",
       "4       9.510668      0.033108         0.199156        0.002374   \n",
       "5       8.969661      0.111015         0.200241        0.003340   \n",
       "6      47.546663      0.176495         0.988019        0.007811   \n",
       "7      44.595079      0.257865         0.990300        0.005094   \n",
       "\n",
       "  param_criterion param_n_estimators param_oob_score  \\\n",
       "0            gini                200            True   \n",
       "1            gini                200           False   \n",
       "2            gini               1000            True   \n",
       "3            gini               1000           False   \n",
       "4         entropy                200            True   \n",
       "5         entropy                200           False   \n",
       "6         entropy               1000            True   \n",
       "7         entropy               1000           False   \n",
       "\n",
       "                                              params  split0_test_score  \\\n",
       "0  {'criterion': 'gini', 'n_estimators': 200, 'oo...           0.991774   \n",
       "1  {'criterion': 'gini', 'n_estimators': 200, 'oo...           0.991673   \n",
       "2  {'criterion': 'gini', 'n_estimators': 1000, 'o...           0.991874   \n",
       "3  {'criterion': 'gini', 'n_estimators': 1000, 'o...           0.991874   \n",
       "4  {'criterion': 'entropy', 'n_estimators': 200, ...           0.991573   \n",
       "5  {'criterion': 'entropy', 'n_estimators': 200, ...           0.991974   \n",
       "6  {'criterion': 'entropy', 'n_estimators': 1000,...           0.991673   \n",
       "7  {'criterion': 'entropy', 'n_estimators': 1000,...           0.991673   \n",
       "\n",
       "   split1_test_score  split2_test_score  split3_test_score  split4_test_score  \\\n",
       "0           0.991774           0.991974           0.990569           0.992275   \n",
       "1           0.992075           0.991874           0.991673           0.992174   \n",
       "2           0.991774           0.992175           0.991171           0.992575   \n",
       "3           0.992376           0.991874           0.991271           0.992676   \n",
       "4           0.992376           0.991974           0.992475           0.992776   \n",
       "5           0.992476           0.992075           0.992275           0.992275   \n",
       "6           0.992376           0.992175           0.992375           0.992676   \n",
       "7           0.992376           0.991974           0.991673           0.992575   \n",
       "\n",
       "   mean_test_score  std_test_score  rank_test_score  \n",
       "0         0.991673        0.000582                8  \n",
       "1         0.991894        0.000205                7  \n",
       "2         0.991914        0.000465                6  \n",
       "3         0.992014        0.000482                5  \n",
       "4         0.992235        0.000419                2  \n",
       "5         0.992215        0.000175                3  \n",
       "6         0.992255        0.000332                1  \n",
       "7         0.992054        0.000367                4  "
      ]
     },
     "execution_count": 228,
     "metadata": {},
     "output_type": "execute_result"
    }
   ],
   "source": [
    "pd.DataFrame(grid.cv_results_)"
   ]
  },
  {
   "cell_type": "markdown",
   "id": "recent-excitement",
   "metadata": {},
   "source": [
    "# Final Model"
   ]
  },
  {
   "cell_type": "code",
   "execution_count": 229,
   "id": "affiliated-cross",
   "metadata": {},
   "outputs": [],
   "source": [
    "def donor_predict_classification (df, model, imblearn_tool):\n",
    "    \"\"\"\n",
    "    Takes in dataframe of features and target,\n",
    "    creates x and y variables, scales features, \n",
    "    balances target, fits a classification model,\n",
    "    and return metrics.\n",
    "    \n",
    "    Args: dataframe, model, imblearn over-sampling tool\n",
    "    \n",
    "    Returns: trained model, X_train, X_test, y_train, y_test, y_pred\n",
    "    \"\"\"\n",
    "    # define variables\n",
    "    X = df.drop(columns = ['cand_id', 'rolling_avg', '20k_donor'])\n",
    "    y = df['20k_donor']\n",
    "    # scale features \n",
    "    X_scaled = StandardScaler().fit_transform(X)\n",
    "    # oversampling technique\n",
    "    sm = imblearn_tool\n",
    "    X, y = sm.fit_resample(X, y)\n",
    "    # split\n",
    "    X_train, X_test, y_train, y_test = train_test_split(X, y, \n",
    "                                stratify = y, random_state = 22)\n",
    "    # instantiate and fit, then predict\n",
    "    model = model\n",
    "    model.fit(X_train, y_train)\n",
    "    y_pred = model.predict(X_test)\n",
    "    # print metrics\n",
    "    print(f'accuracy  = {np.round(accuracy_score(y_test, y_pred), 3)}')\n",
    "    print(f'precision = {np.round(precision_score(y_test, y_pred), 3)}')\n",
    "    print(f'recall    = {np.round(recall_score(y_test, y_pred), 3)}')\n",
    "    print(f'f1-score  = {np.round(f1_score(y_test, y_pred), 3)}')\n",
    "    print(f'roc auc   = {np.round(roc_auc_score(y_test, y_pred), 3)}')\n",
    "    print(f'{confusion_matrix(y_test, y_pred)} -> confusion matrix')\n",
    "    print(f'{round(max(y_test.mean(), 1 - y_test.mean()), 2)} -> null accuracy')\n",
    "          \n",
    "    # return model and variables for feature extraction\n",
    "    return model, X_train, X_test, y_train, y_test, y_pred"
   ]
  },
  {
   "cell_type": "code",
   "execution_count": 230,
   "id": "revised-arthur",
   "metadata": {},
   "outputs": [
    {
     "name": "stdout",
     "output_type": "stream",
     "text": [
      "accuracy  = 0.993\n",
      "precision = 0.994\n",
      "recall    = 0.99\n",
      "f1-score  = 0.992\n",
      "roc auc   = 0.992\n",
      "[[9172   44]\n",
      " [  77 7320]] -> confusion matrix\n",
      "0.55 -> null accuracy\n"
     ]
    }
   ],
   "source": [
    "model, X_train, X_test, y_train, y_test, y_pred = \\\n",
    "                donor_predict_classification(df, RandomForestClassifier(), \n",
    "                                             ADASYN(sampling_strategy = 0.8))"
   ]
  },
  {
   "cell_type": "code",
   "execution_count": 218,
   "id": "willing-allocation",
   "metadata": {},
   "outputs": [
    {
     "data": {
      "image/png": "[encoded data removed]",
      "text/plain": [
       "<Figure size 432x288 with 2 Axes>"
      ]
     },
     "metadata": {
      "needs_background": "light"
     },
     "output_type": "display_data"
    }
   ],
   "source": [
    "plot_confusion_matrix(model, X_test, y_test);"
   ]
  }
 ],
 "metadata": {
  "kernelspec": {
   "display_name": "Python 3",
   "language": "python",
   "name": "python3"
  },
  "language_info": {
   "codemirror_mode": {
    "name": "ipython",
    "version": 3
   },
   "file_extension": ".py",
   "mimetype": "text/x-python",
   "name": "python",
   "nbconvert_exporter": "python",
   "pygments_lexer": "ipython3",
   "version": "3.8.2"
  }
 },
 "nbformat": 4,
 "nbformat_minor": 5
}
