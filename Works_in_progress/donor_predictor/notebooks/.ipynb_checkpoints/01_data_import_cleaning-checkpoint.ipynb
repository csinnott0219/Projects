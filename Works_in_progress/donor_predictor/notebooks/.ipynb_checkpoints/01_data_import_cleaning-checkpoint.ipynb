{
 "cells": [
  {
   "cell_type": "markdown",
   "id": "indoor-first",
   "metadata": {},
   "source": [
    "#### Windfall Children's Center Propensity to Give\n",
    "#### Corey J Sinnott\n",
    "   \n",
    "## Executive Summary\n",
    "   \n",
    "This report was commissioned to develop a model used to predict major donors. A major donor will be considered as any individual likely to give at least 20,000 USD. An initial dataset of ~130,000 donors can be found in the data folder, as well as a dataset containing potential feature values.  \n",
    "## Contents:\n",
    "- [Data Import & Cleaning](#Data-Import-&-Cleaning)"
   ]
  },
  {
   "cell_type": "markdown",
   "id": "maritime-prediction",
   "metadata": {},
   "source": [
    "### Importing Libraries"
   ]
  },
  {
   "cell_type": "code",
   "execution_count": 1,
   "id": "entire-illustration",
   "metadata": {},
   "outputs": [],
   "source": [
    "import pandas as pd\n",
    "import numpy as np\n",
    "import matplotlib.pyplot as plt\n",
    "import seaborn as sns"
   ]
  },
  {
   "cell_type": "code",
   "execution_count": 2,
   "id": "nasty-arrow",
   "metadata": {},
   "outputs": [
    {
     "data": {
      "text/plain": [
       "'/Users/coreysinnott/Desktop/personal_git/Works_in_progress/donor_predictor'"
      ]
     },
     "execution_count": 2,
     "metadata": {},
     "output_type": "execute_result"
    }
   ],
   "source": [
    "pwd"
   ]
  },
  {
   "cell_type": "markdown",
   "id": "bronze-preview",
   "metadata": {},
   "source": [
    "# Data Import & Cleaning"
   ]
  },
  {
   "cell_type": "markdown",
   "id": "linear-gravity",
   "metadata": {},
   "source": [
    "### Target Values"
   ]
  },
  {
   "cell_type": "code",
   "execution_count": 3,
   "id": "successful-aspect",
   "metadata": {},
   "outputs": [],
   "source": [
    "df_donations = pd.read_csv('./data/Windfall DS Challenge -- PTG/donations.csv', index_col = 0)"
   ]
  },
  {
   "cell_type": "code",
   "execution_count": 4,
   "id": "least-commodity",
   "metadata": {},
   "outputs": [
    {
     "data": {
      "text/plain": [
       "(992225, 4)"
      ]
     },
     "execution_count": 4,
     "metadata": {},
     "output_type": "execute_result"
    }
   ],
   "source": [
    "df_donations.shape"
   ]
  },
  {
   "cell_type": "code",
   "execution_count": 5,
   "id": "outstanding-commitment",
   "metadata": {},
   "outputs": [
    {
     "data": {
      "text/html": [
       "<div>\n",
       "<style scoped>\n",
       "    .dataframe tbody tr th:only-of-type {\n",
       "        vertical-align: middle;\n",
       "    }\n",
       "\n",
       "    .dataframe tbody tr th {\n",
       "        vertical-align: top;\n",
       "    }\n",
       "\n",
       "    .dataframe thead th {\n",
       "        text-align: right;\n",
       "    }\n",
       "</style>\n",
       "<table border=\"1\" class=\"dataframe\">\n",
       "  <thead>\n",
       "    <tr style=\"text-align: right;\">\n",
       "      <th></th>\n",
       "      <th>cand_id</th>\n",
       "      <th>trans_date</th>\n",
       "      <th>amount</th>\n",
       "      <th>age</th>\n",
       "    </tr>\n",
       "  </thead>\n",
       "  <tbody>\n",
       "    <tr>\n",
       "      <th>515278</th>\n",
       "      <td>candidate_118539</td>\n",
       "      <td>2017-06-16</td>\n",
       "      <td>40.00</td>\n",
       "      <td>0</td>\n",
       "    </tr>\n",
       "    <tr>\n",
       "      <th>805444</th>\n",
       "      <td>candidate_114032</td>\n",
       "      <td>2005-09-08</td>\n",
       "      <td>3.85</td>\n",
       "      <td>67</td>\n",
       "    </tr>\n",
       "    <tr>\n",
       "      <th>609898</th>\n",
       "      <td>candidate_48204</td>\n",
       "      <td>2008-05-02</td>\n",
       "      <td>5.00</td>\n",
       "      <td>0</td>\n",
       "    </tr>\n",
       "  </tbody>\n",
       "</table>\n",
       "</div>"
      ],
      "text/plain": [
       "                 cand_id  trans_date  amount  age\n",
       "515278  candidate_118539  2017-06-16   40.00    0\n",
       "805444  candidate_114032  2005-09-08    3.85   67\n",
       "609898   candidate_48204  2008-05-02    5.00    0"
      ]
     },
     "execution_count": 5,
     "metadata": {},
     "output_type": "execute_result"
    }
   ],
   "source": [
    "df_donations.sample(3)"
   ]
  },
  {
   "cell_type": "code",
   "execution_count": null,
   "id": "plain-nerve",
   "metadata": {},
   "outputs": [],
   "source": [
    "# convert to time series\n",
    "# resample to just year\n",
    "# sum values on year\n",
    "# maybe do an average per year total and then * 5?\n",
    "# propensity score?"
   ]
  },
  {
   "cell_type": "code",
   "execution_count": 6,
   "id": "sublime-executive",
   "metadata": {},
   "outputs": [
    {
     "data": {
      "text/plain": [
       "cand_id       0\n",
       "trans_date    0\n",
       "amount        0\n",
       "age           0\n",
       "dtype: int64"
      ]
     },
     "execution_count": 6,
     "metadata": {},
     "output_type": "execute_result"
    }
   ],
   "source": [
    "df_donations.isna().sum()"
   ]
  },
  {
   "cell_type": "code",
   "execution_count": 7,
   "id": "marine-inspector",
   "metadata": {},
   "outputs": [
    {
     "name": "stdout",
     "output_type": "stream",
     "text": [
      "<class 'pandas.core.frame.DataFrame'>\n",
      "Int64Index: 992225 entries, 0 to 992224\n",
      "Data columns (total 4 columns):\n",
      " #   Column      Non-Null Count   Dtype  \n",
      "---  ------      --------------   -----  \n",
      " 0   cand_id     992225 non-null  object \n",
      " 1   trans_date  992225 non-null  object \n",
      " 2   amount      992225 non-null  float64\n",
      " 3   age         992225 non-null  int64  \n",
      "dtypes: float64(1), int64(1), object(2)\n",
      "memory usage: 37.9+ MB\n"
     ]
    }
   ],
   "source": [
    "df_donations.info()"
   ]
  },
  {
   "cell_type": "code",
   "execution_count": 8,
   "id": "welsh-attachment",
   "metadata": {},
   "outputs": [],
   "source": [
    "# converting to timeseries\n",
    "df_donations['trans_date'] = pd.to_datetime(df_donations['trans_date'])"
   ]
  },
  {
   "cell_type": "code",
   "execution_count": 9,
   "id": "motivated-removal",
   "metadata": {},
   "outputs": [
    {
     "data": {
      "text/plain": [
       "count                           992225\n",
       "mean     2006-10-31 14:21:39.370606592\n",
       "min                1900-01-24 00:00:00\n",
       "25%                1999-07-19 00:00:00\n",
       "50%                2007-08-09 00:00:00\n",
       "75%                2015-05-29 00:00:00\n",
       "max                2020-07-31 00:00:00\n",
       "Name: trans_date, dtype: object"
      ]
     },
     "execution_count": 9,
     "metadata": {},
     "output_type": "execute_result"
    }
   ],
   "source": [
    "df_donations.trans_date.describe(datetime_is_numeric = True)"
   ]
  },
  {
   "cell_type": "code",
   "execution_count": 10,
   "id": "premier-drove",
   "metadata": {},
   "outputs": [],
   "source": [
    "# dropping values prior to 2000\n",
    "# to filter for activer donors\n",
    "df_donations = df_donations[df_donations.trans_date >= '2000-01-01 00:00:00']"
   ]
  },
  {
   "cell_type": "code",
   "execution_count": 11,
   "id": "satisfied-complaint",
   "metadata": {},
   "outputs": [
    {
     "data": {
      "text/plain": [
       "count                           726984\n",
       "mean     2011-05-21 06:33:58.110329856\n",
       "min                2000-01-03 00:00:00\n",
       "25%                2006-03-15 00:00:00\n",
       "50%                2011-11-14 00:00:00\n",
       "75%                2016-12-16 00:00:00\n",
       "max                2020-07-31 00:00:00\n",
       "Name: trans_date, dtype: object"
      ]
     },
     "execution_count": 11,
     "metadata": {},
     "output_type": "execute_result"
    }
   ],
   "source": [
    "#removed ~250k rows\n",
    "df_donations.trans_date.describe(datetime_is_numeric = True)"
   ]
  },
  {
   "cell_type": "code",
   "execution_count": 12,
   "id": "phantom-salmon",
   "metadata": {},
   "outputs": [
    {
     "data": {
      "text/html": [
       "<div>\n",
       "<style scoped>\n",
       "    .dataframe tbody tr th:only-of-type {\n",
       "        vertical-align: middle;\n",
       "    }\n",
       "\n",
       "    .dataframe tbody tr th {\n",
       "        vertical-align: top;\n",
       "    }\n",
       "\n",
       "    .dataframe thead th {\n",
       "        text-align: right;\n",
       "    }\n",
       "</style>\n",
       "<table border=\"1\" class=\"dataframe\">\n",
       "  <thead>\n",
       "    <tr style=\"text-align: right;\">\n",
       "      <th></th>\n",
       "      <th>cand_id</th>\n",
       "      <th>amount</th>\n",
       "      <th>age</th>\n",
       "    </tr>\n",
       "    <tr>\n",
       "      <th>trans_date</th>\n",
       "      <th></th>\n",
       "      <th></th>\n",
       "      <th></th>\n",
       "    </tr>\n",
       "  </thead>\n",
       "  <tbody>\n",
       "    <tr>\n",
       "      <th>2006-10-05</th>\n",
       "      <td>candidate_86164</td>\n",
       "      <td>2500.0</td>\n",
       "      <td>0</td>\n",
       "    </tr>\n",
       "  </tbody>\n",
       "</table>\n",
       "</div>"
      ],
      "text/plain": [
       "                    cand_id  amount  age\n",
       "trans_date                              \n",
       "2006-10-05  candidate_86164  2500.0    0"
      ]
     },
     "execution_count": 12,
     "metadata": {},
     "output_type": "execute_result"
    }
   ],
   "source": [
    "#resetting index to date\n",
    "df_donations = df_donations.set_index(keys = 'trans_date')\n",
    "df_donations.head(1)"
   ]
  },
  {
   "cell_type": "code",
   "execution_count": 19,
   "id": "front-shelf",
   "metadata": {},
   "outputs": [],
   "source": [
    "#summing total per year for each cand_id\n",
    "yearly_donations = pd.DataFrame(df_donations.reset_index().groupby(['cand_id', \n",
    "                                pd.Grouper(key='trans_date', freq='A-DEC')])['amount'].sum())"
   ]
  },
  {
   "cell_type": "code",
   "execution_count": 20,
   "id": "durable-disney",
   "metadata": {},
   "outputs": [
    {
     "data": {
      "text/html": [
       "<div>\n",
       "<style scoped>\n",
       "    .dataframe tbody tr th:only-of-type {\n",
       "        vertical-align: middle;\n",
       "    }\n",
       "\n",
       "    .dataframe tbody tr th {\n",
       "        vertical-align: top;\n",
       "    }\n",
       "\n",
       "    .dataframe thead th {\n",
       "        text-align: right;\n",
       "    }\n",
       "</style>\n",
       "<table border=\"1\" class=\"dataframe\">\n",
       "  <thead>\n",
       "    <tr style=\"text-align: right;\">\n",
       "      <th></th>\n",
       "      <th></th>\n",
       "      <th>amount</th>\n",
       "    </tr>\n",
       "    <tr>\n",
       "      <th>cand_id</th>\n",
       "      <th>trans_date</th>\n",
       "      <th></th>\n",
       "    </tr>\n",
       "  </thead>\n",
       "  <tbody>\n",
       "    <tr>\n",
       "      <th rowspan=\"12\" valign=\"top\">candidate_0</th>\n",
       "      <th>2007-12-31</th>\n",
       "      <td>50.00</td>\n",
       "    </tr>\n",
       "    <tr>\n",
       "      <th>2009-12-31</th>\n",
       "      <td>234.39</td>\n",
       "    </tr>\n",
       "    <tr>\n",
       "      <th>2010-12-31</th>\n",
       "      <td>912.50</td>\n",
       "    </tr>\n",
       "    <tr>\n",
       "      <th>2011-12-31</th>\n",
       "      <td>1000.00</td>\n",
       "    </tr>\n",
       "    <tr>\n",
       "      <th>2012-12-31</th>\n",
       "      <td>4600.00</td>\n",
       "    </tr>\n",
       "    <tr>\n",
       "      <th>2013-12-31</th>\n",
       "      <td>1950.01</td>\n",
       "    </tr>\n",
       "    <tr>\n",
       "      <th>2014-12-31</th>\n",
       "      <td>15600.00</td>\n",
       "    </tr>\n",
       "    <tr>\n",
       "      <th>2015-12-31</th>\n",
       "      <td>5500.00</td>\n",
       "    </tr>\n",
       "    <tr>\n",
       "      <th>2016-12-31</th>\n",
       "      <td>3750.00</td>\n",
       "    </tr>\n",
       "    <tr>\n",
       "      <th>2017-12-31</th>\n",
       "      <td>11609.94</td>\n",
       "    </tr>\n",
       "    <tr>\n",
       "      <th>2018-12-31</th>\n",
       "      <td>7874.97</td>\n",
       "    </tr>\n",
       "    <tr>\n",
       "      <th>2019-12-31</th>\n",
       "      <td>6500.00</td>\n",
       "    </tr>\n",
       "    <tr>\n",
       "      <th>candidate_1</th>\n",
       "      <th>2019-12-31</th>\n",
       "      <td>25000.00</td>\n",
       "    </tr>\n",
       "    <tr>\n",
       "      <th rowspan=\"2\" valign=\"top\">candidate_10</th>\n",
       "      <th>2006-12-31</th>\n",
       "      <td>85.00</td>\n",
       "    </tr>\n",
       "    <tr>\n",
       "      <th>2007-12-31</th>\n",
       "      <td>50.00</td>\n",
       "    </tr>\n",
       "  </tbody>\n",
       "</table>\n",
       "</div>"
      ],
      "text/plain": [
       "                           amount\n",
       "cand_id      trans_date          \n",
       "candidate_0  2007-12-31     50.00\n",
       "             2009-12-31    234.39\n",
       "             2010-12-31    912.50\n",
       "             2011-12-31   1000.00\n",
       "             2012-12-31   4600.00\n",
       "             2013-12-31   1950.01\n",
       "             2014-12-31  15600.00\n",
       "             2015-12-31   5500.00\n",
       "             2016-12-31   3750.00\n",
       "             2017-12-31  11609.94\n",
       "             2018-12-31   7874.97\n",
       "             2019-12-31   6500.00\n",
       "candidate_1  2019-12-31  25000.00\n",
       "candidate_10 2006-12-31     85.00\n",
       "             2007-12-31     50.00"
      ]
     },
     "execution_count": 20,
     "metadata": {},
     "output_type": "execute_result"
    }
   ],
   "source": [
    "yearly_donations.head(15)"
   ]
  },
  {
   "cell_type": "code",
   "execution_count": null,
   "id": "therapeutic-adrian",
   "metadata": {},
   "outputs": [],
   "source": [
    "# notice a trend of giving more as time ->\n",
    "# therefore will set window of five years,\n",
    "# or as many most recent years available\n",
    "# (period set to 1 to capture donors with only one year)\n",
    "# rather than initial idea of moving average for all"
   ]
  },
  {
   "cell_type": "code",
   "execution_count": 21,
   "id": "electrical-cathedral",
   "metadata": {},
   "outputs": [],
   "source": [
    "#filtering out 0's\n",
    "yearly_donations = yearly_donations[yearly_donations['amount'] != 0]"
   ]
  },
  {
   "cell_type": "code",
   "execution_count": 22,
   "id": "proof-gazette",
   "metadata": {},
   "outputs": [
    {
     "data": {
      "text/plain": [
       "(200615, 1)"
      ]
     },
     "execution_count": 22,
     "metadata": {},
     "output_type": "execute_result"
    }
   ],
   "source": [
    "yearly_donations.shape"
   ]
  },
  {
   "cell_type": "code",
   "execution_count": 23,
   "id": "heard-algeria",
   "metadata": {
    "scrolled": true
   },
   "outputs": [],
   "source": [
    "yearly_donations_classed = yearly_donations"
   ]
  },
  {
   "cell_type": "code",
   "execution_count": 24,
   "id": "distinguished-centre",
   "metadata": {},
   "outputs": [],
   "source": [
    "yearly_donations_classed['rolling_avg'] = \\\n",
    "            yearly_donations_classed.groupby('cand_id')['amount'].transform(lambda x: x.rolling(12, 1).mean())"
   ]
  },
  {
   "cell_type": "code",
   "execution_count": 26,
   "id": "japanese-collect",
   "metadata": {},
   "outputs": [
    {
     "data": {
      "text/html": [
       "<div>\n",
       "<style scoped>\n",
       "    .dataframe tbody tr th:only-of-type {\n",
       "        vertical-align: middle;\n",
       "    }\n",
       "\n",
       "    .dataframe tbody tr th {\n",
       "        vertical-align: top;\n",
       "    }\n",
       "\n",
       "    .dataframe thead th {\n",
       "        text-align: right;\n",
       "    }\n",
       "</style>\n",
       "<table border=\"1\" class=\"dataframe\">\n",
       "  <thead>\n",
       "    <tr style=\"text-align: right;\">\n",
       "      <th></th>\n",
       "      <th></th>\n",
       "      <th>amount</th>\n",
       "      <th>rolling_avg</th>\n",
       "    </tr>\n",
       "    <tr>\n",
       "      <th>cand_id</th>\n",
       "      <th>trans_date</th>\n",
       "      <th></th>\n",
       "      <th></th>\n",
       "    </tr>\n",
       "  </thead>\n",
       "  <tbody>\n",
       "    <tr>\n",
       "      <th rowspan=\"12\" valign=\"top\">candidate_0</th>\n",
       "      <th>2007-12-31</th>\n",
       "      <td>50.00</td>\n",
       "      <td>50.000000</td>\n",
       "    </tr>\n",
       "    <tr>\n",
       "      <th>2009-12-31</th>\n",
       "      <td>234.39</td>\n",
       "      <td>142.195000</td>\n",
       "    </tr>\n",
       "    <tr>\n",
       "      <th>2010-12-31</th>\n",
       "      <td>912.50</td>\n",
       "      <td>398.963333</td>\n",
       "    </tr>\n",
       "    <tr>\n",
       "      <th>2011-12-31</th>\n",
       "      <td>1000.00</td>\n",
       "      <td>549.222500</td>\n",
       "    </tr>\n",
       "    <tr>\n",
       "      <th>2012-12-31</th>\n",
       "      <td>4600.00</td>\n",
       "      <td>1359.378000</td>\n",
       "    </tr>\n",
       "    <tr>\n",
       "      <th>2013-12-31</th>\n",
       "      <td>1950.01</td>\n",
       "      <td>1457.816667</td>\n",
       "    </tr>\n",
       "    <tr>\n",
       "      <th>2014-12-31</th>\n",
       "      <td>15600.00</td>\n",
       "      <td>3478.128571</td>\n",
       "    </tr>\n",
       "    <tr>\n",
       "      <th>2015-12-31</th>\n",
       "      <td>5500.00</td>\n",
       "      <td>3730.862500</td>\n",
       "    </tr>\n",
       "    <tr>\n",
       "      <th>2016-12-31</th>\n",
       "      <td>3750.00</td>\n",
       "      <td>3732.988889</td>\n",
       "    </tr>\n",
       "    <tr>\n",
       "      <th>2017-12-31</th>\n",
       "      <td>11609.94</td>\n",
       "      <td>4520.684000</td>\n",
       "    </tr>\n",
       "    <tr>\n",
       "      <th>2018-12-31</th>\n",
       "      <td>7874.97</td>\n",
       "      <td>4825.619091</td>\n",
       "    </tr>\n",
       "    <tr>\n",
       "      <th>2019-12-31</th>\n",
       "      <td>6500.00</td>\n",
       "      <td>4965.150833</td>\n",
       "    </tr>\n",
       "    <tr>\n",
       "      <th>candidate_1</th>\n",
       "      <th>2019-12-31</th>\n",
       "      <td>25000.00</td>\n",
       "      <td>25000.000000</td>\n",
       "    </tr>\n",
       "    <tr>\n",
       "      <th rowspan=\"2\" valign=\"top\">candidate_10</th>\n",
       "      <th>2006-12-31</th>\n",
       "      <td>85.00</td>\n",
       "      <td>85.000000</td>\n",
       "    </tr>\n",
       "    <tr>\n",
       "      <th>2007-12-31</th>\n",
       "      <td>50.00</td>\n",
       "      <td>67.500000</td>\n",
       "    </tr>\n",
       "  </tbody>\n",
       "</table>\n",
       "</div>"
      ],
      "text/plain": [
       "                           amount   rolling_avg\n",
       "cand_id      trans_date                        \n",
       "candidate_0  2007-12-31     50.00     50.000000\n",
       "             2009-12-31    234.39    142.195000\n",
       "             2010-12-31    912.50    398.963333\n",
       "             2011-12-31   1000.00    549.222500\n",
       "             2012-12-31   4600.00   1359.378000\n",
       "             2013-12-31   1950.01   1457.816667\n",
       "             2014-12-31  15600.00   3478.128571\n",
       "             2015-12-31   5500.00   3730.862500\n",
       "             2016-12-31   3750.00   3732.988889\n",
       "             2017-12-31  11609.94   4520.684000\n",
       "             2018-12-31   7874.97   4825.619091\n",
       "             2019-12-31   6500.00   4965.150833\n",
       "candidate_1  2019-12-31  25000.00  25000.000000\n",
       "candidate_10 2006-12-31     85.00     85.000000\n",
       "             2007-12-31     50.00     67.500000"
      ]
     },
     "execution_count": 26,
     "metadata": {},
     "output_type": "execute_result"
    }
   ],
   "source": [
    "# select values verified by hand\n",
    "yearly_donations_classed.head(15)"
   ]
  },
  {
   "cell_type": "code",
   "execution_count": 27,
   "id": "rolled-argument",
   "metadata": {},
   "outputs": [],
   "source": [
    "#reset index to push cand_id back out\n",
    "yearly_donations_classed = yearly_donations_classed.reset_index()"
   ]
  },
  {
   "cell_type": "code",
   "execution_count": 28,
   "id": "fiscal-liverpool",
   "metadata": {},
   "outputs": [],
   "source": [
    "# filtering for the final average yearly amount\n",
    "# increase the final average by the amount they typically increase by year\n",
    "# if time allows\n",
    "donor_final_df = \\\n",
    "    yearly_donations_classed.loc[yearly_donations_classed.groupby('cand_id').rolling_avg.idxmax()]"
   ]
  },
  {
   "cell_type": "code",
   "execution_count": 29,
   "id": "australian-latino",
   "metadata": {},
   "outputs": [],
   "source": [
    "donor_final_df.drop(columns = ['trans_date','amount'], inplace = True)"
   ]
  },
  {
   "cell_type": "code",
   "execution_count": 30,
   "id": "fifth-yeast",
   "metadata": {},
   "outputs": [
    {
     "data": {
      "text/html": [
       "<div>\n",
       "<style scoped>\n",
       "    .dataframe tbody tr th:only-of-type {\n",
       "        vertical-align: middle;\n",
       "    }\n",
       "\n",
       "    .dataframe tbody tr th {\n",
       "        vertical-align: top;\n",
       "    }\n",
       "\n",
       "    .dataframe thead th {\n",
       "        text-align: right;\n",
       "    }\n",
       "</style>\n",
       "<table border=\"1\" class=\"dataframe\">\n",
       "  <thead>\n",
       "    <tr style=\"text-align: right;\">\n",
       "      <th></th>\n",
       "      <th>cand_id</th>\n",
       "      <th>rolling_avg</th>\n",
       "    </tr>\n",
       "  </thead>\n",
       "  <tbody>\n",
       "    <tr>\n",
       "      <th>11</th>\n",
       "      <td>candidate_0</td>\n",
       "      <td>4965.150833</td>\n",
       "    </tr>\n",
       "    <tr>\n",
       "      <th>12</th>\n",
       "      <td>candidate_1</td>\n",
       "      <td>25000.000000</td>\n",
       "    </tr>\n",
       "    <tr>\n",
       "      <th>13</th>\n",
       "      <td>candidate_10</td>\n",
       "      <td>85.000000</td>\n",
       "    </tr>\n",
       "  </tbody>\n",
       "</table>\n",
       "</div>"
      ],
      "text/plain": [
       "         cand_id   rolling_avg\n",
       "11   candidate_0   4965.150833\n",
       "12   candidate_1  25000.000000\n",
       "13  candidate_10     85.000000"
      ]
     },
     "execution_count": 30,
     "metadata": {},
     "output_type": "execute_result"
    }
   ],
   "source": [
    "donor_final_df.head(3)"
   ]
  },
  {
   "cell_type": "code",
   "execution_count": 60,
   "id": "excellent-easter",
   "metadata": {},
   "outputs": [
    {
     "data": {
      "text/plain": [
       "(74603, 3)"
      ]
     },
     "execution_count": 60,
     "metadata": {},
     "output_type": "execute_result"
    }
   ],
   "source": [
    "donor_final_df.shape"
   ]
  },
  {
   "cell_type": "code",
   "execution_count": 31,
   "id": "amateur-outside",
   "metadata": {},
   "outputs": [
    {
     "data": {
      "text/html": [
       "<div>\n",
       "<style scoped>\n",
       "    .dataframe tbody tr th:only-of-type {\n",
       "        vertical-align: middle;\n",
       "    }\n",
       "\n",
       "    .dataframe tbody tr th {\n",
       "        vertical-align: top;\n",
       "    }\n",
       "\n",
       "    .dataframe thead th {\n",
       "        text-align: right;\n",
       "    }\n",
       "</style>\n",
       "<table border=\"1\" class=\"dataframe\">\n",
       "  <thead>\n",
       "    <tr style=\"text-align: right;\">\n",
       "      <th></th>\n",
       "      <th>rolling_avg</th>\n",
       "    </tr>\n",
       "  </thead>\n",
       "  <tbody>\n",
       "    <tr>\n",
       "      <th>count</th>\n",
       "      <td>7.460300e+04</td>\n",
       "    </tr>\n",
       "    <tr>\n",
       "      <th>mean</th>\n",
       "      <td>1.018827e+03</td>\n",
       "    </tr>\n",
       "    <tr>\n",
       "      <th>std</th>\n",
       "      <td>4.034234e+04</td>\n",
       "    </tr>\n",
       "    <tr>\n",
       "      <th>min</th>\n",
       "      <td>1.000000e-02</td>\n",
       "    </tr>\n",
       "    <tr>\n",
       "      <th>25%</th>\n",
       "      <td>2.500000e+01</td>\n",
       "    </tr>\n",
       "    <tr>\n",
       "      <th>50%</th>\n",
       "      <td>5.000000e+01</td>\n",
       "    </tr>\n",
       "    <tr>\n",
       "      <th>75%</th>\n",
       "      <td>1.075000e+02</td>\n",
       "    </tr>\n",
       "    <tr>\n",
       "      <th>max</th>\n",
       "      <td>7.012995e+06</td>\n",
       "    </tr>\n",
       "  </tbody>\n",
       "</table>\n",
       "</div>"
      ],
      "text/plain": [
       "        rolling_avg\n",
       "count  7.460300e+04\n",
       "mean   1.018827e+03\n",
       "std    4.034234e+04\n",
       "min    1.000000e-02\n",
       "25%    2.500000e+01\n",
       "50%    5.000000e+01\n",
       "75%    1.075000e+02\n",
       "max    7.012995e+06"
      ]
     },
     "execution_count": 31,
     "metadata": {},
     "output_type": "execute_result"
    }
   ],
   "source": [
    "donor_final_df.describe()"
   ]
  },
  {
   "cell_type": "code",
   "execution_count": 32,
   "id": "higher-greek",
   "metadata": {},
   "outputs": [],
   "source": [
    "# creating a binary target value\n",
    "# assuming a yearly donation amount of greater than \n",
    "# $4k will qualify for a potential $20k in 5 years\n",
    "donor_final_df['20k_donor'] = np.where(donor_final_df['rolling_avg'] >= 4000, 1, 0)"
   ]
  },
  {
   "cell_type": "code",
   "execution_count": 33,
   "id": "heavy-arabic",
   "metadata": {},
   "outputs": [
    {
     "data": {
      "text/plain": [
       "0    0.981877\n",
       "1    0.018123\n",
       "Name: 20k_donor, dtype: float64"
      ]
     },
     "execution_count": 33,
     "metadata": {},
     "output_type": "execute_result"
    }
   ],
   "source": [
    "# highly imbalanced classes\n",
    "donor_final_df['20k_donor'].value_counts(normalize = True)"
   ]
  },
  {
   "cell_type": "code",
   "execution_count": null,
   "id": "technical-background",
   "metadata": {},
   "outputs": [],
   "source": [
    "# backing up csv\n",
    "#donor_final_df.to_csv('donor_final_averages_classed.csv')"
   ]
  },
  {
   "cell_type": "markdown",
   "id": "empty-business",
   "metadata": {},
   "source": [
    "### Feature Values"
   ]
  },
  {
   "cell_type": "code",
   "execution_count": 35,
   "id": "pursuant-output",
   "metadata": {},
   "outputs": [],
   "source": [
    "df_features = pd.read_csv('./data/Windfall DS Challenge -- PTG/windfall_features.csv')"
   ]
  },
  {
   "cell_type": "code",
   "execution_count": 36,
   "id": "occasional-geology",
   "metadata": {},
   "outputs": [
    {
     "data": {
      "text/plain": [
       "(130114, 23)"
      ]
     },
     "execution_count": 36,
     "metadata": {},
     "output_type": "execute_result"
    }
   ],
   "source": [
    "df_features.shape"
   ]
  },
  {
   "cell_type": "code",
   "execution_count": 37,
   "id": "nasty-disability",
   "metadata": {},
   "outputs": [
    {
     "data": {
      "text/html": [
       "<div>\n",
       "<style scoped>\n",
       "    .dataframe tbody tr th:only-of-type {\n",
       "        vertical-align: middle;\n",
       "    }\n",
       "\n",
       "    .dataframe tbody tr th {\n",
       "        vertical-align: top;\n",
       "    }\n",
       "\n",
       "    .dataframe thead th {\n",
       "        text-align: right;\n",
       "    }\n",
       "</style>\n",
       "<table border=\"1\" class=\"dataframe\">\n",
       "  <thead>\n",
       "    <tr style=\"text-align: right;\">\n",
       "      <th></th>\n",
       "      <th>candidate_id</th>\n",
       "      <th>totalHouseholdDebt</th>\n",
       "      <th>primaryPropertyLoanToValue</th>\n",
       "      <th>primaryPropertyValue</th>\n",
       "      <th>propertyCount</th>\n",
       "      <th>isClassADonor</th>\n",
       "      <th>isClassBDonor</th>\n",
       "      <th>isClassCDonor</th>\n",
       "      <th>isClassDDonor</th>\n",
       "      <th>NetWorth</th>\n",
       "      <th>...</th>\n",
       "      <th>sumClassDDonation</th>\n",
       "      <th>maxClassADonation</th>\n",
       "      <th>maxClassBDonation</th>\n",
       "      <th>maxClassCDonation</th>\n",
       "      <th>maxClassDDonation</th>\n",
       "      <th>sumCauseADonations</th>\n",
       "      <th>sumCauseBDonations</th>\n",
       "      <th>sumCauseCDonations</th>\n",
       "      <th>sumCauseDDonations</th>\n",
       "      <th>sumCauseEDonations</th>\n",
       "    </tr>\n",
       "  </thead>\n",
       "  <tbody>\n",
       "    <tr>\n",
       "      <th>0</th>\n",
       "      <td>candidate_0</td>\n",
       "      <td>6.085778</td>\n",
       "      <td>0.336380</td>\n",
       "      <td>2215000.0</td>\n",
       "      <td>4.0</td>\n",
       "      <td>0.0</td>\n",
       "      <td>0.0</td>\n",
       "      <td>1.0</td>\n",
       "      <td>1.0</td>\n",
       "      <td>14011369.0</td>\n",
       "      <td>...</td>\n",
       "      <td>2134.97</td>\n",
       "      <td>1.0</td>\n",
       "      <td>1.0</td>\n",
       "      <td>751.0</td>\n",
       "      <td>751.0</td>\n",
       "      <td>0.0</td>\n",
       "      <td>0.0</td>\n",
       "      <td>0.000000</td>\n",
       "      <td>0.00000</td>\n",
       "      <td>0.0</td>\n",
       "    </tr>\n",
       "    <tr>\n",
       "      <th>1</th>\n",
       "      <td>candidate_1</td>\n",
       "      <td>6.480672</td>\n",
       "      <td>0.828664</td>\n",
       "      <td>3650000.0</td>\n",
       "      <td>1.0</td>\n",
       "      <td>0.0</td>\n",
       "      <td>1.0</td>\n",
       "      <td>0.0</td>\n",
       "      <td>1.0</td>\n",
       "      <td>5812754.0</td>\n",
       "      <td>...</td>\n",
       "      <td>501.00</td>\n",
       "      <td>1.0</td>\n",
       "      <td>1751.0</td>\n",
       "      <td>1.0</td>\n",
       "      <td>251.0</td>\n",
       "      <td>0.0</td>\n",
       "      <td>0.0</td>\n",
       "      <td>0.000000</td>\n",
       "      <td>0.00000</td>\n",
       "      <td>0.0</td>\n",
       "    </tr>\n",
       "    <tr>\n",
       "      <th>2</th>\n",
       "      <td>candidate_2</td>\n",
       "      <td>0.000000</td>\n",
       "      <td>0.000002</td>\n",
       "      <td>625000.0</td>\n",
       "      <td>1.0</td>\n",
       "      <td>0.0</td>\n",
       "      <td>1.0</td>\n",
       "      <td>0.0</td>\n",
       "      <td>0.0</td>\n",
       "      <td>1060001.0</td>\n",
       "      <td>...</td>\n",
       "      <td>1.00</td>\n",
       "      <td>1.0</td>\n",
       "      <td>41.0</td>\n",
       "      <td>1.0</td>\n",
       "      <td>1.0</td>\n",
       "      <td>0.0</td>\n",
       "      <td>0.0</td>\n",
       "      <td>1.414973</td>\n",
       "      <td>1.78533</td>\n",
       "      <td>0.0</td>\n",
       "    </tr>\n",
       "  </tbody>\n",
       "</table>\n",
       "<p>3 rows × 23 columns</p>\n",
       "</div>"
      ],
      "text/plain": [
       "  candidate_id  totalHouseholdDebt  primaryPropertyLoanToValue  \\\n",
       "0  candidate_0            6.085778                    0.336380   \n",
       "1  candidate_1            6.480672                    0.828664   \n",
       "2  candidate_2            0.000000                    0.000002   \n",
       "\n",
       "   primaryPropertyValue  propertyCount  isClassADonor  isClassBDonor  \\\n",
       "0             2215000.0            4.0            0.0            0.0   \n",
       "1             3650000.0            1.0            0.0            1.0   \n",
       "2              625000.0            1.0            0.0            1.0   \n",
       "\n",
       "   isClassCDonor  isClassDDonor    NetWorth  ...  sumClassDDonation  \\\n",
       "0            1.0            1.0  14011369.0  ...            2134.97   \n",
       "1            0.0            1.0   5812754.0  ...             501.00   \n",
       "2            0.0            0.0   1060001.0  ...               1.00   \n",
       "\n",
       "   maxClassADonation  maxClassBDonation  maxClassCDonation  maxClassDDonation  \\\n",
       "0                1.0                1.0              751.0              751.0   \n",
       "1                1.0             1751.0                1.0              251.0   \n",
       "2                1.0               41.0                1.0                1.0   \n",
       "\n",
       "   sumCauseADonations  sumCauseBDonations  sumCauseCDonations  \\\n",
       "0                 0.0                 0.0            0.000000   \n",
       "1                 0.0                 0.0            0.000000   \n",
       "2                 0.0                 0.0            1.414973   \n",
       "\n",
       "   sumCauseDDonations  sumCauseEDonations  \n",
       "0             0.00000                 0.0  \n",
       "1             0.00000                 0.0  \n",
       "2             1.78533                 0.0  \n",
       "\n",
       "[3 rows x 23 columns]"
      ]
     },
     "execution_count": 37,
     "metadata": {},
     "output_type": "execute_result"
    }
   ],
   "source": [
    "df_features.head(3)"
   ]
  },
  {
   "cell_type": "code",
   "execution_count": 38,
   "id": "legitimate-saying",
   "metadata": {},
   "outputs": [
    {
     "name": "stdout",
     "output_type": "stream",
     "text": [
      "<class 'pandas.core.frame.DataFrame'>\n",
      "RangeIndex: 130114 entries, 0 to 130113\n",
      "Data columns (total 23 columns):\n",
      " #   Column                      Non-Null Count   Dtype  \n",
      "---  ------                      --------------   -----  \n",
      " 0   candidate_id                130114 non-null  object \n",
      " 1   totalHouseholdDebt          50919 non-null   float64\n",
      " 2   primaryPropertyLoanToValue  50919 non-null   float64\n",
      " 3   primaryPropertyValue        50919 non-null   float64\n",
      " 4   propertyCount               50919 non-null   float64\n",
      " 5   isClassADonor               50919 non-null   float64\n",
      " 6   isClassBDonor               50919 non-null   float64\n",
      " 7   isClassCDonor               50919 non-null   float64\n",
      " 8   isClassDDonor               50919 non-null   float64\n",
      " 9   NetWorth                    50919 non-null   float64\n",
      " 10  sumClassADonation           50919 non-null   float64\n",
      " 11  sumClassBDonation           50919 non-null   float64\n",
      " 12  sumClassCDonation           50919 non-null   float64\n",
      " 13  sumClassDDonation           50919 non-null   float64\n",
      " 14  maxClassADonation           50919 non-null   float64\n",
      " 15  maxClassBDonation           50919 non-null   float64\n",
      " 16  maxClassCDonation           50919 non-null   float64\n",
      " 17  maxClassDDonation           50919 non-null   float64\n",
      " 18  sumCauseADonations          50919 non-null   float64\n",
      " 19  sumCauseBDonations          50919 non-null   float64\n",
      " 20  sumCauseCDonations          50919 non-null   float64\n",
      " 21  sumCauseDDonations          50919 non-null   float64\n",
      " 22  sumCauseEDonations          50919 non-null   float64\n",
      "dtypes: float64(22), object(1)\n",
      "memory usage: 22.8+ MB\n"
     ]
    }
   ],
   "source": [
    "df_features.info()"
   ]
  },
  {
   "cell_type": "code",
   "execution_count": 40,
   "id": "revolutionary-manufacturer",
   "metadata": {},
   "outputs": [
    {
     "data": {
      "text/plain": [
       "candidate_id                      0\n",
       "totalHouseholdDebt            79195\n",
       "primaryPropertyLoanToValue    79195\n",
       "primaryPropertyValue          79195\n",
       "propertyCount                 79195\n",
       "isClassADonor                 79195\n",
       "isClassBDonor                 79195\n",
       "isClassCDonor                 79195\n",
       "isClassDDonor                 79195\n",
       "NetWorth                      79195\n",
       "sumClassADonation             79195\n",
       "sumClassBDonation             79195\n",
       "sumClassCDonation             79195\n",
       "sumClassDDonation             79195\n",
       "maxClassADonation             79195\n",
       "maxClassBDonation             79195\n",
       "maxClassCDonation             79195\n",
       "maxClassDDonation             79195\n",
       "sumCauseADonations            79195\n",
       "sumCauseBDonations            79195\n",
       "sumCauseCDonations            79195\n",
       "sumCauseDDonations            79195\n",
       "sumCauseEDonations            79195\n",
       "dtype: int64"
      ]
     },
     "execution_count": 40,
     "metadata": {},
     "output_type": "execute_result"
    }
   ],
   "source": [
    "# will leave as-is until merging\n",
    "df_features.isna().sum()"
   ]
  },
  {
   "cell_type": "markdown",
   "id": "assured-vacuum",
   "metadata": {},
   "source": [
    "### Combining Dataframes"
   ]
  },
  {
   "cell_type": "code",
   "execution_count": 44,
   "id": "daily-optics",
   "metadata": {},
   "outputs": [],
   "source": [
    "# renaming column to merge on\n",
    "df_features.rename(columns = {'candidate_id' : 'cand_id'}, inplace = True)"
   ]
  },
  {
   "cell_type": "code",
   "execution_count": 45,
   "id": "logical-charm",
   "metadata": {},
   "outputs": [
    {
     "data": {
      "text/html": [
       "<div>\n",
       "<style scoped>\n",
       "    .dataframe tbody tr th:only-of-type {\n",
       "        vertical-align: middle;\n",
       "    }\n",
       "\n",
       "    .dataframe tbody tr th {\n",
       "        vertical-align: top;\n",
       "    }\n",
       "\n",
       "    .dataframe thead th {\n",
       "        text-align: right;\n",
       "    }\n",
       "</style>\n",
       "<table border=\"1\" class=\"dataframe\">\n",
       "  <thead>\n",
       "    <tr style=\"text-align: right;\">\n",
       "      <th></th>\n",
       "      <th>cand_id</th>\n",
       "      <th>totalHouseholdDebt</th>\n",
       "      <th>primaryPropertyLoanToValue</th>\n",
       "      <th>primaryPropertyValue</th>\n",
       "      <th>propertyCount</th>\n",
       "      <th>isClassADonor</th>\n",
       "      <th>isClassBDonor</th>\n",
       "      <th>isClassCDonor</th>\n",
       "      <th>isClassDDonor</th>\n",
       "      <th>NetWorth</th>\n",
       "      <th>...</th>\n",
       "      <th>sumClassDDonation</th>\n",
       "      <th>maxClassADonation</th>\n",
       "      <th>maxClassBDonation</th>\n",
       "      <th>maxClassCDonation</th>\n",
       "      <th>maxClassDDonation</th>\n",
       "      <th>sumCauseADonations</th>\n",
       "      <th>sumCauseBDonations</th>\n",
       "      <th>sumCauseCDonations</th>\n",
       "      <th>sumCauseDDonations</th>\n",
       "      <th>sumCauseEDonations</th>\n",
       "    </tr>\n",
       "  </thead>\n",
       "  <tbody>\n",
       "    <tr>\n",
       "      <th>0</th>\n",
       "      <td>candidate_0</td>\n",
       "      <td>6.085778</td>\n",
       "      <td>0.33638</td>\n",
       "      <td>2215000.0</td>\n",
       "      <td>4.0</td>\n",
       "      <td>0.0</td>\n",
       "      <td>0.0</td>\n",
       "      <td>1.0</td>\n",
       "      <td>1.0</td>\n",
       "      <td>14011369.0</td>\n",
       "      <td>...</td>\n",
       "      <td>2134.97</td>\n",
       "      <td>1.0</td>\n",
       "      <td>1.0</td>\n",
       "      <td>751.0</td>\n",
       "      <td>751.0</td>\n",
       "      <td>0.0</td>\n",
       "      <td>0.0</td>\n",
       "      <td>0.0</td>\n",
       "      <td>0.0</td>\n",
       "      <td>0.0</td>\n",
       "    </tr>\n",
       "  </tbody>\n",
       "</table>\n",
       "<p>1 rows × 23 columns</p>\n",
       "</div>"
      ],
      "text/plain": [
       "       cand_id  totalHouseholdDebt  primaryPropertyLoanToValue  \\\n",
       "0  candidate_0            6.085778                     0.33638   \n",
       "\n",
       "   primaryPropertyValue  propertyCount  isClassADonor  isClassBDonor  \\\n",
       "0             2215000.0            4.0            0.0            0.0   \n",
       "\n",
       "   isClassCDonor  isClassDDonor    NetWorth  ...  sumClassDDonation  \\\n",
       "0            1.0            1.0  14011369.0  ...            2134.97   \n",
       "\n",
       "   maxClassADonation  maxClassBDonation  maxClassCDonation  maxClassDDonation  \\\n",
       "0                1.0                1.0              751.0              751.0   \n",
       "\n",
       "   sumCauseADonations  sumCauseBDonations  sumCauseCDonations  \\\n",
       "0                 0.0                 0.0                 0.0   \n",
       "\n",
       "   sumCauseDDonations  sumCauseEDonations  \n",
       "0                 0.0                 0.0  \n",
       "\n",
       "[1 rows x 23 columns]"
      ]
     },
     "execution_count": 45,
     "metadata": {},
     "output_type": "execute_result"
    }
   ],
   "source": [
    "df_features.head(1)"
   ]
  },
  {
   "cell_type": "code",
   "execution_count": 58,
   "id": "worst-passing",
   "metadata": {},
   "outputs": [],
   "source": [
    "df = pd.merge(left = df_features, right = donor_final_df, on = 'cand_id', how = 'right')"
   ]
  },
  {
   "cell_type": "code",
   "execution_count": 61,
   "id": "intimate-talent",
   "metadata": {},
   "outputs": [
    {
     "data": {
      "text/plain": [
       "(74603, 25)"
      ]
     },
     "execution_count": 61,
     "metadata": {},
     "output_type": "execute_result"
    }
   ],
   "source": [
    "df.shape"
   ]
  },
  {
   "cell_type": "code",
   "execution_count": 64,
   "id": "conceptual-handy",
   "metadata": {},
   "outputs": [
    {
     "data": {
      "text/html": [
       "<div>\n",
       "<style scoped>\n",
       "    .dataframe tbody tr th:only-of-type {\n",
       "        vertical-align: middle;\n",
       "    }\n",
       "\n",
       "    .dataframe tbody tr th {\n",
       "        vertical-align: top;\n",
       "    }\n",
       "\n",
       "    .dataframe thead th {\n",
       "        text-align: right;\n",
       "    }\n",
       "</style>\n",
       "<table border=\"1\" class=\"dataframe\">\n",
       "  <thead>\n",
       "    <tr style=\"text-align: right;\">\n",
       "      <th></th>\n",
       "      <th>cand_id</th>\n",
       "      <th>totalHouseholdDebt</th>\n",
       "      <th>primaryPropertyLoanToValue</th>\n",
       "      <th>primaryPropertyValue</th>\n",
       "      <th>propertyCount</th>\n",
       "      <th>isClassADonor</th>\n",
       "      <th>isClassBDonor</th>\n",
       "      <th>isClassCDonor</th>\n",
       "      <th>isClassDDonor</th>\n",
       "      <th>NetWorth</th>\n",
       "      <th>...</th>\n",
       "      <th>maxClassBDonation</th>\n",
       "      <th>maxClassCDonation</th>\n",
       "      <th>maxClassDDonation</th>\n",
       "      <th>sumCauseADonations</th>\n",
       "      <th>sumCauseBDonations</th>\n",
       "      <th>sumCauseCDonations</th>\n",
       "      <th>sumCauseDDonations</th>\n",
       "      <th>sumCauseEDonations</th>\n",
       "      <th>rolling_avg</th>\n",
       "      <th>20k_donor</th>\n",
       "    </tr>\n",
       "  </thead>\n",
       "  <tbody>\n",
       "    <tr>\n",
       "      <th>0</th>\n",
       "      <td>candidate_0</td>\n",
       "      <td>6.085778</td>\n",
       "      <td>0.336380</td>\n",
       "      <td>2215000.0</td>\n",
       "      <td>4.0</td>\n",
       "      <td>0.0</td>\n",
       "      <td>0.0</td>\n",
       "      <td>1.0</td>\n",
       "      <td>1.0</td>\n",
       "      <td>14011369.0</td>\n",
       "      <td>...</td>\n",
       "      <td>1.0</td>\n",
       "      <td>751.0</td>\n",
       "      <td>751.0</td>\n",
       "      <td>0.0</td>\n",
       "      <td>0.0</td>\n",
       "      <td>0.000000</td>\n",
       "      <td>0.0</td>\n",
       "      <td>0.0</td>\n",
       "      <td>4965.150833</td>\n",
       "      <td>1</td>\n",
       "    </tr>\n",
       "    <tr>\n",
       "      <th>1</th>\n",
       "      <td>candidate_1</td>\n",
       "      <td>6.480672</td>\n",
       "      <td>0.828664</td>\n",
       "      <td>3650000.0</td>\n",
       "      <td>1.0</td>\n",
       "      <td>0.0</td>\n",
       "      <td>1.0</td>\n",
       "      <td>0.0</td>\n",
       "      <td>1.0</td>\n",
       "      <td>5812754.0</td>\n",
       "      <td>...</td>\n",
       "      <td>1751.0</td>\n",
       "      <td>1.0</td>\n",
       "      <td>251.0</td>\n",
       "      <td>0.0</td>\n",
       "      <td>0.0</td>\n",
       "      <td>0.000000</td>\n",
       "      <td>0.0</td>\n",
       "      <td>0.0</td>\n",
       "      <td>25000.000000</td>\n",
       "      <td>1</td>\n",
       "    </tr>\n",
       "    <tr>\n",
       "      <th>2</th>\n",
       "      <td>candidate_10</td>\n",
       "      <td>4.667154</td>\n",
       "      <td>0.078097</td>\n",
       "      <td>595000.0</td>\n",
       "      <td>1.0</td>\n",
       "      <td>0.0</td>\n",
       "      <td>1.0</td>\n",
       "      <td>0.0</td>\n",
       "      <td>0.0</td>\n",
       "      <td>954112.0</td>\n",
       "      <td>...</td>\n",
       "      <td>41.0</td>\n",
       "      <td>1.0</td>\n",
       "      <td>1.0</td>\n",
       "      <td>0.0</td>\n",
       "      <td>0.0</td>\n",
       "      <td>2.164353</td>\n",
       "      <td>0.0</td>\n",
       "      <td>0.0</td>\n",
       "      <td>85.000000</td>\n",
       "      <td>0</td>\n",
       "    </tr>\n",
       "  </tbody>\n",
       "</table>\n",
       "<p>3 rows × 25 columns</p>\n",
       "</div>"
      ],
      "text/plain": [
       "        cand_id  totalHouseholdDebt  primaryPropertyLoanToValue  \\\n",
       "0   candidate_0            6.085778                    0.336380   \n",
       "1   candidate_1            6.480672                    0.828664   \n",
       "2  candidate_10            4.667154                    0.078097   \n",
       "\n",
       "   primaryPropertyValue  propertyCount  isClassADonor  isClassBDonor  \\\n",
       "0             2215000.0            4.0            0.0            0.0   \n",
       "1             3650000.0            1.0            0.0            1.0   \n",
       "2              595000.0            1.0            0.0            1.0   \n",
       "\n",
       "   isClassCDonor  isClassDDonor    NetWorth  ...  maxClassBDonation  \\\n",
       "0            1.0            1.0  14011369.0  ...                1.0   \n",
       "1            0.0            1.0   5812754.0  ...             1751.0   \n",
       "2            0.0            0.0    954112.0  ...               41.0   \n",
       "\n",
       "   maxClassCDonation  maxClassDDonation  sumCauseADonations  \\\n",
       "0              751.0              751.0                 0.0   \n",
       "1                1.0              251.0                 0.0   \n",
       "2                1.0                1.0                 0.0   \n",
       "\n",
       "   sumCauseBDonations  sumCauseCDonations  sumCauseDDonations  \\\n",
       "0                 0.0            0.000000                 0.0   \n",
       "1                 0.0            0.000000                 0.0   \n",
       "2                 0.0            2.164353                 0.0   \n",
       "\n",
       "   sumCauseEDonations   rolling_avg  20k_donor  \n",
       "0                 0.0   4965.150833          1  \n",
       "1                 0.0  25000.000000          1  \n",
       "2                 0.0     85.000000          0  \n",
       "\n",
       "[3 rows x 25 columns]"
      ]
     },
     "execution_count": 64,
     "metadata": {},
     "output_type": "execute_result"
    }
   ],
   "source": [
    "df.head(3)"
   ]
  },
  {
   "cell_type": "code",
   "execution_count": 65,
   "id": "differential-parliament",
   "metadata": {},
   "outputs": [
    {
     "data": {
      "text/plain": [
       "cand_id                           0\n",
       "totalHouseholdDebt            36916\n",
       "primaryPropertyLoanToValue    36916\n",
       "primaryPropertyValue          36916\n",
       "propertyCount                 36916\n",
       "isClassADonor                 36916\n",
       "isClassBDonor                 36916\n",
       "isClassCDonor                 36916\n",
       "isClassDDonor                 36916\n",
       "NetWorth                      36916\n",
       "sumClassADonation             36916\n",
       "sumClassBDonation             36916\n",
       "sumClassCDonation             36916\n",
       "sumClassDDonation             36916\n",
       "maxClassADonation             36916\n",
       "maxClassBDonation             36916\n",
       "maxClassCDonation             36916\n",
       "maxClassDDonation             36916\n",
       "sumCauseADonations            36916\n",
       "sumCauseBDonations            36916\n",
       "sumCauseCDonations            36916\n",
       "sumCauseDDonations            36916\n",
       "sumCauseEDonations            36916\n",
       "rolling_avg                       0\n",
       "20k_donor                         0\n",
       "dtype: int64"
      ]
     },
     "execution_count": 65,
     "metadata": {},
     "output_type": "execute_result"
    }
   ],
   "source": [
    "df.isna().sum()"
   ]
  },
  {
   "cell_type": "code",
   "execution_count": 79,
   "id": "stuck-technology",
   "metadata": {},
   "outputs": [],
   "source": [
    "# making an assumption that net worth is a top feature\n",
    "df_trim = df[df['NetWorth'].notna()]"
   ]
  },
  {
   "cell_type": "code",
   "execution_count": 80,
   "id": "speaking-retro",
   "metadata": {},
   "outputs": [
    {
     "data": {
      "text/plain": [
       "cand_id                       0\n",
       "totalHouseholdDebt            0\n",
       "primaryPropertyLoanToValue    0\n",
       "primaryPropertyValue          0\n",
       "propertyCount                 0\n",
       "isClassADonor                 0\n",
       "isClassBDonor                 0\n",
       "isClassCDonor                 0\n",
       "isClassDDonor                 0\n",
       "NetWorth                      0\n",
       "sumClassADonation             0\n",
       "sumClassBDonation             0\n",
       "sumClassCDonation             0\n",
       "sumClassDDonation             0\n",
       "maxClassADonation             0\n",
       "maxClassBDonation             0\n",
       "maxClassCDonation             0\n",
       "maxClassDDonation             0\n",
       "sumCauseADonations            0\n",
       "sumCauseBDonations            0\n",
       "sumCauseCDonations            0\n",
       "sumCauseDDonations            0\n",
       "sumCauseEDonations            0\n",
       "rolling_avg                   0\n",
       "20k_donor                     0\n",
       "dtype: int64"
      ]
     },
     "execution_count": 80,
     "metadata": {},
     "output_type": "execute_result"
    }
   ],
   "source": [
    "# luckily that removed all nulls\n",
    "df_trim.isna().sum()"
   ]
  },
  {
   "cell_type": "code",
   "execution_count": 81,
   "id": "modified-suffering",
   "metadata": {},
   "outputs": [
    {
     "data": {
      "text/plain": [
       "(37687, 25)"
      ]
     },
     "execution_count": 81,
     "metadata": {},
     "output_type": "execute_result"
    }
   ],
   "source": [
    "df_trim.shape"
   ]
  },
  {
   "cell_type": "code",
   "execution_count": 83,
   "id": "fallen-symphony",
   "metadata": {},
   "outputs": [
    {
     "data": {
      "text/html": [
       "<div>\n",
       "<style scoped>\n",
       "    .dataframe tbody tr th:only-of-type {\n",
       "        vertical-align: middle;\n",
       "    }\n",
       "\n",
       "    .dataframe tbody tr th {\n",
       "        vertical-align: top;\n",
       "    }\n",
       "\n",
       "    .dataframe thead th {\n",
       "        text-align: right;\n",
       "    }\n",
       "</style>\n",
       "<table border=\"1\" class=\"dataframe\">\n",
       "  <thead>\n",
       "    <tr style=\"text-align: right;\">\n",
       "      <th></th>\n",
       "      <th>cand_id</th>\n",
       "      <th>totalHouseholdDebt</th>\n",
       "      <th>primaryPropertyLoanToValue</th>\n",
       "      <th>primaryPropertyValue</th>\n",
       "      <th>propertyCount</th>\n",
       "      <th>isClassADonor</th>\n",
       "      <th>isClassBDonor</th>\n",
       "      <th>isClassCDonor</th>\n",
       "      <th>isClassDDonor</th>\n",
       "      <th>NetWorth</th>\n",
       "      <th>...</th>\n",
       "      <th>maxClassBDonation</th>\n",
       "      <th>maxClassCDonation</th>\n",
       "      <th>maxClassDDonation</th>\n",
       "      <th>sumCauseADonations</th>\n",
       "      <th>sumCauseBDonations</th>\n",
       "      <th>sumCauseCDonations</th>\n",
       "      <th>sumCauseDDonations</th>\n",
       "      <th>sumCauseEDonations</th>\n",
       "      <th>rolling_avg</th>\n",
       "      <th>20k_donor</th>\n",
       "    </tr>\n",
       "  </thead>\n",
       "  <tbody>\n",
       "    <tr>\n",
       "      <th>18282</th>\n",
       "      <td>candidate_123110</td>\n",
       "      <td>5.374565</td>\n",
       "      <td>0.285493</td>\n",
       "      <td>829793.0</td>\n",
       "      <td>1.0</td>\n",
       "      <td>0.0</td>\n",
       "      <td>1.0</td>\n",
       "      <td>1.0</td>\n",
       "      <td>0.0</td>\n",
       "      <td>1732803.0</td>\n",
       "      <td>...</td>\n",
       "      <td>51.0</td>\n",
       "      <td>101.0</td>\n",
       "      <td>1.0</td>\n",
       "      <td>0.000000</td>\n",
       "      <td>0.000000</td>\n",
       "      <td>0.0</td>\n",
       "      <td>1.70757</td>\n",
       "      <td>0.0</td>\n",
       "      <td>116.666667</td>\n",
       "      <td>0</td>\n",
       "    </tr>\n",
       "    <tr>\n",
       "      <th>23808</th>\n",
       "      <td>candidate_129914</td>\n",
       "      <td>5.319976</td>\n",
       "      <td>0.128697</td>\n",
       "      <td>667000.0</td>\n",
       "      <td>2.0</td>\n",
       "      <td>0.0</td>\n",
       "      <td>1.0</td>\n",
       "      <td>0.0</td>\n",
       "      <td>0.0</td>\n",
       "      <td>3413901.0</td>\n",
       "      <td>...</td>\n",
       "      <td>16.0</td>\n",
       "      <td>1.0</td>\n",
       "      <td>1.0</td>\n",
       "      <td>1.041393</td>\n",
       "      <td>1.322219</td>\n",
       "      <td>0.0</td>\n",
       "      <td>0.90309</td>\n",
       "      <td>0.0</td>\n",
       "      <td>50.000000</td>\n",
       "      <td>0</td>\n",
       "    </tr>\n",
       "    <tr>\n",
       "      <th>9079</th>\n",
       "      <td>candidate_111640</td>\n",
       "      <td>0.000000</td>\n",
       "      <td>0.000000</td>\n",
       "      <td>1024628.0</td>\n",
       "      <td>1.0</td>\n",
       "      <td>0.0</td>\n",
       "      <td>1.0</td>\n",
       "      <td>0.0</td>\n",
       "      <td>0.0</td>\n",
       "      <td>4504262.0</td>\n",
       "      <td>...</td>\n",
       "      <td>51.0</td>\n",
       "      <td>1.0</td>\n",
       "      <td>1.0</td>\n",
       "      <td>1.880814</td>\n",
       "      <td>0.000000</td>\n",
       "      <td>0.0</td>\n",
       "      <td>0.00000</td>\n",
       "      <td>0.0</td>\n",
       "      <td>1040.000000</td>\n",
       "      <td>0</td>\n",
       "    </tr>\n",
       "  </tbody>\n",
       "</table>\n",
       "<p>3 rows × 25 columns</p>\n",
       "</div>"
      ],
      "text/plain": [
       "                cand_id  totalHouseholdDebt  primaryPropertyLoanToValue  \\\n",
       "18282  candidate_123110            5.374565                    0.285493   \n",
       "23808  candidate_129914            5.319976                    0.128697   \n",
       "9079   candidate_111640            0.000000                    0.000000   \n",
       "\n",
       "       primaryPropertyValue  propertyCount  isClassADonor  isClassBDonor  \\\n",
       "18282              829793.0            1.0            0.0            1.0   \n",
       "23808              667000.0            2.0            0.0            1.0   \n",
       "9079              1024628.0            1.0            0.0            1.0   \n",
       "\n",
       "       isClassCDonor  isClassDDonor   NetWorth  ...  maxClassBDonation  \\\n",
       "18282            1.0            0.0  1732803.0  ...               51.0   \n",
       "23808            0.0            0.0  3413901.0  ...               16.0   \n",
       "9079             0.0            0.0  4504262.0  ...               51.0   \n",
       "\n",
       "       maxClassCDonation  maxClassDDonation  sumCauseADonations  \\\n",
       "18282              101.0                1.0            0.000000   \n",
       "23808                1.0                1.0            1.041393   \n",
       "9079                 1.0                1.0            1.880814   \n",
       "\n",
       "       sumCauseBDonations  sumCauseCDonations  sumCauseDDonations  \\\n",
       "18282            0.000000                 0.0             1.70757   \n",
       "23808            1.322219                 0.0             0.90309   \n",
       "9079             0.000000                 0.0             0.00000   \n",
       "\n",
       "       sumCauseEDonations  rolling_avg  20k_donor  \n",
       "18282                 0.0   116.666667          0  \n",
       "23808                 0.0    50.000000          0  \n",
       "9079                  0.0  1040.000000          0  \n",
       "\n",
       "[3 rows x 25 columns]"
      ]
     },
     "execution_count": 83,
     "metadata": {},
     "output_type": "execute_result"
    }
   ],
   "source": [
    "df_trim.sample(3)"
   ]
  },
  {
   "cell_type": "code",
   "execution_count": 84,
   "id": "stable-candidate",
   "metadata": {},
   "outputs": [
    {
     "data": {
      "text/plain": [
       "0    0.978162\n",
       "1    0.021838\n",
       "Name: 20k_donor, dtype: float64"
      ]
     },
     "execution_count": 84,
     "metadata": {},
     "output_type": "execute_result"
    }
   ],
   "source": [
    "df_trim['20k_donor'].value_counts(normalize = True)"
   ]
  },
  {
   "cell_type": "code",
   "execution_count": 85,
   "id": "classical-repair",
   "metadata": {},
   "outputs": [],
   "source": [
    "# exporting the final df as csv\n",
    "df_trim.to_csv('final_df.csv')"
   ]
  }
 ],
 "metadata": {
  "kernelspec": {
   "display_name": "Python 3",
   "language": "python",
   "name": "python3"
  },
  "language_info": {
   "codemirror_mode": {
    "name": "ipython",
    "version": 3
   },
   "file_extension": ".py",
   "mimetype": "text/x-python",
   "name": "python",
   "nbconvert_exporter": "python",
   "pygments_lexer": "ipython3",
   "version": "3.8.2"
  }
 },
 "nbformat": 4,
 "nbformat_minor": 5
}
