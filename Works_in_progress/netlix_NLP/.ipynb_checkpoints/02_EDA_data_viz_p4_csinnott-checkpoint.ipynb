{
 "cells": [
  {
   "cell_type": "markdown",
   "metadata": {},
   "source": [
    "#### Project 4: Netflix NLP\n",
    "#### Corey J Sinnott\n",
    "# Data Cleaning, Initial EDA and Early Featurization\n",
    "\n",
    "## Executive Summary\n",
    "\n",
    "This report was commissioned to perform natural language processing (NLP) and analysis on two subreddits of Reddit.com. Data includes over 8000 posts, 4000 belonging to r/AskALiberal, and 4000 belonging to r/AskAConservative. The problem statement was defined as, can we classify to which subreddit a post belongs? After in-depth analysis, conclusions and recommendations will be presented.\n",
    "\n",
    "*See model_classification_exec_summary.ipynb for the full summary, data dictionary, and findings.*\n",
    "\n",
    "## Contents:\n",
    "- [Initial EDA & Cleaning](#Initial-EDA-&-Cleaning)\n",
    "- [EDA and Featurization](#EDA-and_Featurization)"
   ]
  },
  {
   "cell_type": "markdown",
   "metadata": {},
   "source": [
    "#### Importing Libraries"
   ]
  },
  {
   "cell_type": "code",
   "execution_count": 1,
   "metadata": {},
   "outputs": [],
   "source": [
    "import pandas as pd\n",
    "import numpy as np\n",
    "import warnings\n",
    "warnings.filterwarnings(\"ignore\")\n",
    "import language_tool_python\n",
    "from textblob import TextBlob\n",
    "from textblob.sentiments import NaiveBayesAnalyzer\n",
    "from textblob import Blobber\n",
    "from sklearn.feature_extraction.text import CountVectorizer, TfidfVectorizer"
   ]
  },
  {
   "cell_type": "markdown",
   "metadata": {},
   "source": [
    "#### Inspecting Data"
   ]
  },
  {
   "cell_type": "code",
   "execution_count": 13,
   "metadata": {},
   "outputs": [],
   "source": [
    "df = pd.read_csv('./data/netflix_titles.csv')"
   ]
  },
  {
   "cell_type": "code",
   "execution_count": 15,
   "metadata": {},
   "outputs": [
    {
     "data": {
      "text/html": [
       "<div>\n",
       "<style scoped>\n",
       "    .dataframe tbody tr th:only-of-type {\n",
       "        vertical-align: middle;\n",
       "    }\n",
       "\n",
       "    .dataframe tbody tr th {\n",
       "        vertical-align: top;\n",
       "    }\n",
       "\n",
       "    .dataframe thead th {\n",
       "        text-align: right;\n",
       "    }\n",
       "</style>\n",
       "<table border=\"1\" class=\"dataframe\">\n",
       "  <thead>\n",
       "    <tr style=\"text-align: right;\">\n",
       "      <th></th>\n",
       "      <th>show_id</th>\n",
       "      <th>type</th>\n",
       "      <th>title</th>\n",
       "      <th>director</th>\n",
       "      <th>cast</th>\n",
       "      <th>country</th>\n",
       "      <th>date_added</th>\n",
       "      <th>release_year</th>\n",
       "      <th>rating</th>\n",
       "      <th>duration</th>\n",
       "      <th>listed_in</th>\n",
       "      <th>description</th>\n",
       "    </tr>\n",
       "  </thead>\n",
       "  <tbody>\n",
       "    <tr>\n",
       "      <th>4</th>\n",
       "      <td>s5</td>\n",
       "      <td>Movie</td>\n",
       "      <td>21</td>\n",
       "      <td>Robert Luketic</td>\n",
       "      <td>Jim Sturgess, Kevin Spacey, Kate Bosworth, Aar...</td>\n",
       "      <td>United States</td>\n",
       "      <td>January 1, 2020</td>\n",
       "      <td>2008</td>\n",
       "      <td>PG-13</td>\n",
       "      <td>123 min</td>\n",
       "      <td>Dramas</td>\n",
       "      <td>A brilliant group of students become card-coun...</td>\n",
       "    </tr>\n",
       "    <tr>\n",
       "      <th>1595</th>\n",
       "      <td>s1596</td>\n",
       "      <td>Movie</td>\n",
       "      <td>Dangal</td>\n",
       "      <td>Nitesh Tiwari</td>\n",
       "      <td>Aamir Khan, Sakshi Tanwar, Fatima Sana Shaikh,...</td>\n",
       "      <td>India</td>\n",
       "      <td>June 21, 2017</td>\n",
       "      <td>2016</td>\n",
       "      <td>TV-PG</td>\n",
       "      <td>161 min</td>\n",
       "      <td>Dramas, International Movies, Sports Movies</td>\n",
       "      <td>A once-promising wrestler pursues the gold med...</td>\n",
       "    </tr>\n",
       "    <tr>\n",
       "      <th>3717</th>\n",
       "      <td>s3718</td>\n",
       "      <td>Movie</td>\n",
       "      <td>Look Out, Officer</td>\n",
       "      <td>Sze Yu Lau</td>\n",
       "      <td>Stephen Chow, Bill Tung, Stanley Sui-Fan Fung,...</td>\n",
       "      <td>Hong Kong</td>\n",
       "      <td>August 16, 2018</td>\n",
       "      <td>1990</td>\n",
       "      <td>TV-14</td>\n",
       "      <td>88 min</td>\n",
       "      <td>Action &amp; Adventure, Comedies, International Mo...</td>\n",
       "      <td>An officer killed on the job returns to Earth ...</td>\n",
       "    </tr>\n",
       "  </tbody>\n",
       "</table>\n",
       "</div>"
      ],
      "text/plain": [
       "     show_id   type              title        director  \\\n",
       "4         s5  Movie                 21  Robert Luketic   \n",
       "1595   s1596  Movie             Dangal   Nitesh Tiwari   \n",
       "3717   s3718  Movie  Look Out, Officer      Sze Yu Lau   \n",
       "\n",
       "                                                   cast        country  \\\n",
       "4     Jim Sturgess, Kevin Spacey, Kate Bosworth, Aar...  United States   \n",
       "1595  Aamir Khan, Sakshi Tanwar, Fatima Sana Shaikh,...          India   \n",
       "3717  Stephen Chow, Bill Tung, Stanley Sui-Fan Fung,...      Hong Kong   \n",
       "\n",
       "           date_added  release_year rating duration  \\\n",
       "4     January 1, 2020          2008  PG-13  123 min   \n",
       "1595    June 21, 2017          2016  TV-PG  161 min   \n",
       "3717  August 16, 2018          1990  TV-14   88 min   \n",
       "\n",
       "                                              listed_in  \\\n",
       "4                                                Dramas   \n",
       "1595        Dramas, International Movies, Sports Movies   \n",
       "3717  Action & Adventure, Comedies, International Mo...   \n",
       "\n",
       "                                            description  \n",
       "4     A brilliant group of students become card-coun...  \n",
       "1595  A once-promising wrestler pursues the gold med...  \n",
       "3717  An officer killed on the job returns to Earth ...  "
      ]
     },
     "execution_count": 15,
     "metadata": {},
     "output_type": "execute_result"
    }
   ],
   "source": [
    "df.sample(3)"
   ]
  },
  {
   "cell_type": "code",
   "execution_count": 28,
   "metadata": {},
   "outputs": [
    {
     "data": {
      "text/plain": [
       "TV-MA       2863\n",
       "TV-14       1931\n",
       "TV-PG        806\n",
       "R            665\n",
       "PG-13        386\n",
       "TV-Y         280\n",
       "TV-Y7        271\n",
       "PG           247\n",
       "TV-G         194\n",
       "NR            84\n",
       "G             39\n",
       "TV-Y7-FV       6\n",
       "UR             5\n",
       "NC-17          3\n",
       "Name: rating, dtype: int64"
      ]
     },
     "execution_count": 28,
     "metadata": {},
     "output_type": "execute_result"
    }
   ],
   "source": [
    "df['rating'].value_counts()"
   ]
  },
  {
   "cell_type": "markdown",
   "metadata": {},
   "source": [
    "#### Binarizing Target for Classification\n",
    " - 0 for not adult content\n",
    " - 1 for adult content"
   ]
  },
  {
   "cell_type": "code",
   "execution_count": 30,
   "metadata": {},
   "outputs": [],
   "source": [
    "df.replace(to_replace=('TV-MA', 'R', 'NC-17'), value = 1, inplace = True)"
   ]
  },
  {
   "cell_type": "code",
   "execution_count": 31,
   "metadata": {},
   "outputs": [],
   "source": [
    "# will leave NR for now\n",
    "df.replace(to_replace=('TV-14', 'TV-PG', 'PG-13', 'TV-Y', 'TV-Y7',\n",
    "                      'PG', 'TV-G', 'NR', 'G', 'TV-Y7-FV', 'UR'), \n",
    "           value = 0, inplace = True)"
   ]
  },
  {
   "cell_type": "code",
   "execution_count": 32,
   "metadata": {},
   "outputs": [
    {
     "data": {
      "text/plain": [
       "0.0    4249\n",
       "1.0    3531\n",
       "Name: rating, dtype: int64"
      ]
     },
     "execution_count": 32,
     "metadata": {},
     "output_type": "execute_result"
    }
   ],
   "source": [
    "df['rating'].value_counts()"
   ]
  },
  {
   "cell_type": "code",
   "execution_count": 37,
   "metadata": {},
   "outputs": [],
   "source": [
    "#df with all columns for reference\n",
    "df_all = df"
   ]
  },
  {
   "cell_type": "code",
   "execution_count": 36,
   "metadata": {},
   "outputs": [
    {
     "name": "stdout",
     "output_type": "stream",
     "text": [
      "<class 'pandas.core.frame.DataFrame'>\n",
      "RangeIndex: 7787 entries, 0 to 7786\n",
      "Data columns (total 14 columns):\n",
      " #   Column                  Non-Null Count  Dtype  \n",
      "---  ------                  --------------  -----  \n",
      " 0   show_id                 7787 non-null   object \n",
      " 1   type                    7787 non-null   object \n",
      " 2   title                   7787 non-null   object \n",
      " 3   director                5398 non-null   object \n",
      " 4   cast                    7069 non-null   object \n",
      " 5   country                 7280 non-null   object \n",
      " 6   date_added              7777 non-null   object \n",
      " 7   release_year            7787 non-null   int64  \n",
      " 8   rating                  7780 non-null   float64\n",
      " 9   duration                7787 non-null   object \n",
      " 10  listed_in               7787 non-null   object \n",
      " 11  description             7787 non-null   object \n",
      " 12  description_length      7787 non-null   int64  \n",
      " 13  description_word_count  7787 non-null   int64  \n",
      "dtypes: float64(1), int64(3), object(10)\n",
      "memory usage: 851.8+ KB\n"
     ]
    }
   ],
   "source": [
    "df.info()"
   ]
  },
  {
   "cell_type": "markdown",
   "metadata": {},
   "source": [
    " -  Dropping features"
   ]
  },
  {
   "cell_type": "code",
   "execution_count": 44,
   "metadata": {},
   "outputs": [],
   "source": [
    "df = df.drop(columns = ['show_id', 'director', 'cast', 'date_added', \n",
    "            'release_year'], axis = 1)"
   ]
  },
  {
   "cell_type": "code",
   "execution_count": 47,
   "metadata": {},
   "outputs": [],
   "source": [
    "df.set_index(keys = df['title'], inplace = True)"
   ]
  },
  {
   "cell_type": "markdown",
   "metadata": {},
   "source": [
    "#### Engineering Features"
   ]
  },
  {
   "cell_type": "code",
   "execution_count": 34,
   "metadata": {},
   "outputs": [],
   "source": [
    "df['description_length'] = [len(i) for i in df['description']]\n",
    "df['description_word_count'] = [len(i.split()) for i in df['description']]"
   ]
  },
  {
   "cell_type": "code",
   "execution_count": 48,
   "metadata": {},
   "outputs": [
    {
     "data": {
      "text/html": [
       "<div>\n",
       "<style scoped>\n",
       "    .dataframe tbody tr th:only-of-type {\n",
       "        vertical-align: middle;\n",
       "    }\n",
       "\n",
       "    .dataframe tbody tr th {\n",
       "        vertical-align: top;\n",
       "    }\n",
       "\n",
       "    .dataframe thead th {\n",
       "        text-align: right;\n",
       "    }\n",
       "</style>\n",
       "<table border=\"1\" class=\"dataframe\">\n",
       "  <thead>\n",
       "    <tr style=\"text-align: right;\">\n",
       "      <th></th>\n",
       "      <th>type</th>\n",
       "      <th>title</th>\n",
       "      <th>country</th>\n",
       "      <th>rating</th>\n",
       "      <th>duration</th>\n",
       "      <th>listed_in</th>\n",
       "      <th>description</th>\n",
       "      <th>description_length</th>\n",
       "      <th>description_word_count</th>\n",
       "    </tr>\n",
       "    <tr>\n",
       "      <th>title</th>\n",
       "      <th></th>\n",
       "      <th></th>\n",
       "      <th></th>\n",
       "      <th></th>\n",
       "      <th></th>\n",
       "      <th></th>\n",
       "      <th></th>\n",
       "      <th></th>\n",
       "      <th></th>\n",
       "    </tr>\n",
       "  </thead>\n",
       "  <tbody>\n",
       "    <tr>\n",
       "      <th>District 9</th>\n",
       "      <td>Movie</td>\n",
       "      <td>District 9</td>\n",
       "      <td>South Africa, United States, New Zealand, Canada</td>\n",
       "      <td>1.0</td>\n",
       "      <td>112 min</td>\n",
       "      <td>Action &amp; Adventure, International Movies, Sci-...</td>\n",
       "      <td>After years of segregation and forced labor, a...</td>\n",
       "      <td>144</td>\n",
       "      <td>23</td>\n",
       "    </tr>\n",
       "  </tbody>\n",
       "</table>\n",
       "</div>"
      ],
      "text/plain": [
       "             type       title  \\\n",
       "title                           \n",
       "District 9  Movie  District 9   \n",
       "\n",
       "                                                     country  rating duration  \\\n",
       "title                                                                           \n",
       "District 9  South Africa, United States, New Zealand, Canada     1.0  112 min   \n",
       "\n",
       "                                                    listed_in  \\\n",
       "title                                                           \n",
       "District 9  Action & Adventure, International Movies, Sci-...   \n",
       "\n",
       "                                                  description  \\\n",
       "title                                                           \n",
       "District 9  After years of segregation and forced labor, a...   \n",
       "\n",
       "            description_length  description_word_count  \n",
       "title                                                   \n",
       "District 9                 144                      23  "
      ]
     },
     "execution_count": 48,
     "metadata": {},
     "output_type": "execute_result"
    }
   ],
   "source": [
    "df.sample(1)"
   ]
  },
  {
   "cell_type": "code",
   "execution_count": 64,
   "metadata": {},
   "outputs": [
    {
     "data": {
      "text/plain": [
       "Movie      5377\n",
       "TV Show    2410\n",
       "Name: type, dtype: int64"
      ]
     },
     "execution_count": 64,
     "metadata": {},
     "output_type": "execute_result"
    }
   ],
   "source": [
    "df['type'].value_counts()"
   ]
  },
  {
   "cell_type": "code",
   "execution_count": 50,
   "metadata": {},
   "outputs": [
    {
     "data": {
      "text/plain": [
       "1 Season      1608\n",
       "2 Seasons      382\n",
       "3 Seasons      184\n",
       "90 min         136\n",
       "93 min         131\n",
       "              ... \n",
       "253 min          1\n",
       "193 min          1\n",
       "16 Seasons       1\n",
       "203 min          1\n",
       "43 min           1\n",
       "Name: duration, Length: 216, dtype: int64"
      ]
     },
     "execution_count": 50,
     "metadata": {},
     "output_type": "execute_result"
    }
   ],
   "source": [
    "# average netflix episode = 42min\n",
    "# converting all to minutes\n",
    "df['duration'].value_counts()"
   ]
  },
  {
   "cell_type": "code",
   "execution_count": 59,
   "metadata": {},
   "outputs": [],
   "source": [
    "df['duration'] = df['duration'].map(lambda x: ''.join([i for i in x if i.isdigit()]))"
   ]
  },
  {
   "cell_type": "code",
   "execution_count": 60,
   "metadata": {},
   "outputs": [
    {
     "data": {
      "text/plain": [
       "1      1608\n",
       "2       382\n",
       "3       185\n",
       "90      136\n",
       "93      131\n",
       "       ... \n",
       "312       1\n",
       "167       1\n",
       "203       1\n",
       "193       1\n",
       "36        1\n",
       "Name: duration, Length: 206, dtype: int64"
      ]
     },
     "execution_count": 60,
     "metadata": {},
     "output_type": "execute_result"
    }
   ],
   "source": [
    "df['duration'].value_counts()"
   ]
  },
  {
   "cell_type": "code",
   "execution_count": 63,
   "metadata": {},
   "outputs": [],
   "source": [
    "df['duration'] = df['duration'].astype(int)"
   ]
  },
  {
   "cell_type": "code",
   "execution_count": 67,
   "metadata": {},
   "outputs": [],
   "source": [
    "# will return to / refine this if time permits\n",
    "def durationater(df):\n",
    "    if df['type'] == 'TV Show':\n",
    "        [(i * 8 * 42) for i in df['duration']]\n",
    "        \n",
    "    return df['duration']"
   ]
  },
  {
   "cell_type": "markdown",
   "metadata": {},
   "source": [
    "#### Adding columns for polarity and subjectivity"
   ]
  },
  {
   "cell_type": "code",
   "execution_count": 69,
   "metadata": {},
   "outputs": [],
   "source": [
    "df['descr_polarity'] = [TextBlob(i).polarity for i in df['description']]"
   ]
  },
  {
   "cell_type": "code",
   "execution_count": 71,
   "metadata": {},
   "outputs": [],
   "source": [
    "df['descr_subjectivity'] = [TextBlob(i).subjectivity for i in df['description']]"
   ]
  },
  {
   "cell_type": "code",
   "execution_count": 73,
   "metadata": {},
   "outputs": [],
   "source": [
    "df = df.drop(columns = ['title'])"
   ]
  },
  {
   "cell_type": "code",
   "execution_count": 74,
   "metadata": {},
   "outputs": [
    {
     "data": {
      "text/html": [
       "<div>\n",
       "<style scoped>\n",
       "    .dataframe tbody tr th:only-of-type {\n",
       "        vertical-align: middle;\n",
       "    }\n",
       "\n",
       "    .dataframe tbody tr th {\n",
       "        vertical-align: top;\n",
       "    }\n",
       "\n",
       "    .dataframe thead th {\n",
       "        text-align: right;\n",
       "    }\n",
       "</style>\n",
       "<table border=\"1\" class=\"dataframe\">\n",
       "  <thead>\n",
       "    <tr style=\"text-align: right;\">\n",
       "      <th></th>\n",
       "      <th>type</th>\n",
       "      <th>country</th>\n",
       "      <th>rating</th>\n",
       "      <th>duration</th>\n",
       "      <th>listed_in</th>\n",
       "      <th>description</th>\n",
       "      <th>description_length</th>\n",
       "      <th>description_word_count</th>\n",
       "      <th>descr_polarity</th>\n",
       "      <th>descr_subjectivity</th>\n",
       "    </tr>\n",
       "    <tr>\n",
       "      <th>title</th>\n",
       "      <th></th>\n",
       "      <th></th>\n",
       "      <th></th>\n",
       "      <th></th>\n",
       "      <th></th>\n",
       "      <th></th>\n",
       "      <th></th>\n",
       "      <th></th>\n",
       "      <th></th>\n",
       "      <th></th>\n",
       "    </tr>\n",
       "  </thead>\n",
       "  <tbody>\n",
       "    <tr>\n",
       "      <th>The Bible's Buried Secrets</th>\n",
       "      <td>TV Show</td>\n",
       "      <td>United Kingdom</td>\n",
       "      <td>0.0</td>\n",
       "      <td>1</td>\n",
       "      <td>British TV Shows, Docuseries, Science &amp; Nature TV</td>\n",
       "      <td>Host Francesca Stavrakopoulou travels across t...</td>\n",
       "      <td>132</td>\n",
       "      <td>18</td>\n",
       "      <td>0.144444</td>\n",
       "      <td>0.40</td>\n",
       "    </tr>\n",
       "    <tr>\n",
       "      <th>The Circle Brazil</th>\n",
       "      <td>TV Show</td>\n",
       "      <td>Brazil, United Kingdom</td>\n",
       "      <td>1.0</td>\n",
       "      <td>1</td>\n",
       "      <td>International TV Shows, Reality TV</td>\n",
       "      <td>Be yourself or someone else? In this fun reali...</td>\n",
       "      <td>150</td>\n",
       "      <td>26</td>\n",
       "      <td>0.650000</td>\n",
       "      <td>0.25</td>\n",
       "    </tr>\n",
       "    <tr>\n",
       "      <th>The Wedding Party 2: Destination Dubai</th>\n",
       "      <td>Movie</td>\n",
       "      <td>Nigeria</td>\n",
       "      <td>0.0</td>\n",
       "      <td>98</td>\n",
       "      <td>Comedies, International Movies, Romantic Movies</td>\n",
       "      <td>In this sequel to the 2016 hit \"The Wedding Pa...</td>\n",
       "      <td>149</td>\n",
       "      <td>26</td>\n",
       "      <td>0.000000</td>\n",
       "      <td>0.00</td>\n",
       "    </tr>\n",
       "  </tbody>\n",
       "</table>\n",
       "</div>"
      ],
      "text/plain": [
       "                                           type                 country  \\\n",
       "title                                                                     \n",
       "The Bible's Buried Secrets              TV Show          United Kingdom   \n",
       "The Circle Brazil                       TV Show  Brazil, United Kingdom   \n",
       "The Wedding Party 2: Destination Dubai    Movie                 Nigeria   \n",
       "\n",
       "                                        rating  duration  \\\n",
       "title                                                      \n",
       "The Bible's Buried Secrets                 0.0         1   \n",
       "The Circle Brazil                          1.0         1   \n",
       "The Wedding Party 2: Destination Dubai     0.0        98   \n",
       "\n",
       "                                                                                listed_in  \\\n",
       "title                                                                                       \n",
       "The Bible's Buried Secrets              British TV Shows, Docuseries, Science & Nature TV   \n",
       "The Circle Brazil                                      International TV Shows, Reality TV   \n",
       "The Wedding Party 2: Destination Dubai    Comedies, International Movies, Romantic Movies   \n",
       "\n",
       "                                                                              description  \\\n",
       "title                                                                                       \n",
       "The Bible's Buried Secrets              Host Francesca Stavrakopoulou travels across t...   \n",
       "The Circle Brazil                       Be yourself or someone else? In this fun reali...   \n",
       "The Wedding Party 2: Destination Dubai  In this sequel to the 2016 hit \"The Wedding Pa...   \n",
       "\n",
       "                                        description_length  \\\n",
       "title                                                        \n",
       "The Bible's Buried Secrets                             132   \n",
       "The Circle Brazil                                      150   \n",
       "The Wedding Party 2: Destination Dubai                 149   \n",
       "\n",
       "                                        description_word_count  \\\n",
       "title                                                            \n",
       "The Bible's Buried Secrets                                  18   \n",
       "The Circle Brazil                                           26   \n",
       "The Wedding Party 2: Destination Dubai                      26   \n",
       "\n",
       "                                        descr_polarity  descr_subjectivity  \n",
       "title                                                                       \n",
       "The Bible's Buried Secrets                    0.144444                0.40  \n",
       "The Circle Brazil                             0.650000                0.25  \n",
       "The Wedding Party 2: Destination Dubai        0.000000                0.00  "
      ]
     },
     "execution_count": 74,
     "metadata": {},
     "output_type": "execute_result"
    }
   ],
   "source": [
    "df.sample(3)"
   ]
  },
  {
   "cell_type": "markdown",
   "metadata": {},
   "source": [
    "#### Exporting to CSV for analysis notebooks"
   ]
  },
  {
   "cell_type": "code",
   "execution_count": 75,
   "metadata": {},
   "outputs": [],
   "source": [
    "df.to_csv('netflix_prepped_df.csv')"
   ]
  }
 ],
 "metadata": {
  "kernelspec": {
   "display_name": "Python 3",
   "language": "python",
   "name": "python3"
  },
  "language_info": {
   "codemirror_mode": {
    "name": "ipython",
    "version": 3
   },
   "file_extension": ".py",
   "mimetype": "text/x-python",
   "name": "python",
   "nbconvert_exporter": "python",
   "pygments_lexer": "ipython3",
   "version": "3.8.2"
  }
 },
 "nbformat": 4,
 "nbformat_minor": 4
}
