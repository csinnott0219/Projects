{
 "cells": [
  {
   "cell_type": "markdown",
   "id": "copyrighted-framing",
   "metadata": {},
   "source": [
    "# Stroke Prediction\n",
    " - Data aquired from: https://www.kaggle.com/fedesoriano/stroke-prediction-dataset\n",
    " - Code to be used for a blog post on handling imbalanced data."
   ]
  },
  {
   "cell_type": "markdown",
   "id": "dietary-triple",
   "metadata": {},
   "source": [
    "#### Importing Libraries"
   ]
  },
  {
   "cell_type": "code",
   "execution_count": 414,
   "id": "reported-brook",
   "metadata": {},
   "outputs": [],
   "source": [
    "import matplotlib.pyplot as plt\n",
    "import seaborn as sns\n",
    "import pandas as pd\n",
    "import numpy as np\n",
    "\n",
    "from sklearn.preprocessing import PolynomialFeatures, StandardScaler\n",
    "from sklearn.model_selection import GridSearchCV, train_test_split, RandomizedSearchCV\n",
    "from sklearn.metrics import confusion_matrix, accuracy_score, balanced_accuracy_score,\\\n",
    "                            precision_score, recall_score, roc_auc_score,\\\n",
    "                            plot_confusion_matrix, classification_report, plot_roc_curve, f1_score\n",
    "from sklearn.ensemble import RandomForestClassifier\n",
    "from sklearn.preprocessing import OneHotEncoder, LabelEncoder\n",
    "#from category_encoders import OneHotEncoder\n",
    "from sklearn.compose import make_column_transformer, make_column_selector\n",
    "from sklearn.experimental import enable_hist_gradient_boosting\n",
    "from sklearn.ensemble import HistGradientBoostingClassifier"
   ]
  },
  {
   "cell_type": "code",
   "execution_count": 291,
   "id": "mighty-persian",
   "metadata": {},
   "outputs": [],
   "source": [
    "from imblearn.pipeline import make_pipeline\n",
    "from sklearn.ensemble import IsolationForest"
   ]
  },
  {
   "cell_type": "markdown",
   "id": "optimum-bachelor",
   "metadata": {},
   "source": [
    "# Data Import & Cleaning"
   ]
  },
  {
   "cell_type": "code",
   "execution_count": 300,
   "id": "reported-generic",
   "metadata": {},
   "outputs": [
    {
     "name": "stdout",
     "output_type": "stream",
     "text": [
      "/Users/coreysinnott/Desktop/personal_git/Works_in_progress/stroke_prediction\n"
     ]
    }
   ],
   "source": [
    "cd stroke_prediction"
   ]
  },
  {
   "cell_type": "code",
   "execution_count": 475,
   "id": "sorted-string",
   "metadata": {},
   "outputs": [],
   "source": [
    "df = pd.read_csv('./data/healthcare-dataset-stroke-data.csv')"
   ]
  },
  {
   "cell_type": "code",
   "execution_count": 476,
   "id": "danish-twenty",
   "metadata": {},
   "outputs": [
    {
     "data": {
      "text/html": [
       "<div>\n",
       "<style scoped>\n",
       "    .dataframe tbody tr th:only-of-type {\n",
       "        vertical-align: middle;\n",
       "    }\n",
       "\n",
       "    .dataframe tbody tr th {\n",
       "        vertical-align: top;\n",
       "    }\n",
       "\n",
       "    .dataframe thead th {\n",
       "        text-align: right;\n",
       "    }\n",
       "</style>\n",
       "<table border=\"1\" class=\"dataframe\">\n",
       "  <thead>\n",
       "    <tr style=\"text-align: right;\">\n",
       "      <th></th>\n",
       "      <th>id</th>\n",
       "      <th>gender</th>\n",
       "      <th>age</th>\n",
       "      <th>hypertension</th>\n",
       "      <th>heart_disease</th>\n",
       "      <th>ever_married</th>\n",
       "      <th>work_type</th>\n",
       "      <th>Residence_type</th>\n",
       "      <th>avg_glucose_level</th>\n",
       "      <th>bmi</th>\n",
       "      <th>smoking_status</th>\n",
       "      <th>stroke</th>\n",
       "    </tr>\n",
       "  </thead>\n",
       "  <tbody>\n",
       "    <tr>\n",
       "      <th>0</th>\n",
       "      <td>9046</td>\n",
       "      <td>Male</td>\n",
       "      <td>67.0</td>\n",
       "      <td>0</td>\n",
       "      <td>1</td>\n",
       "      <td>Yes</td>\n",
       "      <td>Private</td>\n",
       "      <td>Urban</td>\n",
       "      <td>228.69</td>\n",
       "      <td>36.6</td>\n",
       "      <td>formerly smoked</td>\n",
       "      <td>1</td>\n",
       "    </tr>\n",
       "    <tr>\n",
       "      <th>1</th>\n",
       "      <td>51676</td>\n",
       "      <td>Female</td>\n",
       "      <td>61.0</td>\n",
       "      <td>0</td>\n",
       "      <td>0</td>\n",
       "      <td>Yes</td>\n",
       "      <td>Self-employed</td>\n",
       "      <td>Rural</td>\n",
       "      <td>202.21</td>\n",
       "      <td>NaN</td>\n",
       "      <td>never smoked</td>\n",
       "      <td>1</td>\n",
       "    </tr>\n",
       "    <tr>\n",
       "      <th>2</th>\n",
       "      <td>31112</td>\n",
       "      <td>Male</td>\n",
       "      <td>80.0</td>\n",
       "      <td>0</td>\n",
       "      <td>1</td>\n",
       "      <td>Yes</td>\n",
       "      <td>Private</td>\n",
       "      <td>Rural</td>\n",
       "      <td>105.92</td>\n",
       "      <td>32.5</td>\n",
       "      <td>never smoked</td>\n",
       "      <td>1</td>\n",
       "    </tr>\n",
       "  </tbody>\n",
       "</table>\n",
       "</div>"
      ],
      "text/plain": [
       "      id  gender   age  hypertension  heart_disease ever_married  \\\n",
       "0   9046    Male  67.0             0              1          Yes   \n",
       "1  51676  Female  61.0             0              0          Yes   \n",
       "2  31112    Male  80.0             0              1          Yes   \n",
       "\n",
       "       work_type Residence_type  avg_glucose_level   bmi   smoking_status  \\\n",
       "0        Private          Urban             228.69  36.6  formerly smoked   \n",
       "1  Self-employed          Rural             202.21   NaN     never smoked   \n",
       "2        Private          Rural             105.92  32.5     never smoked   \n",
       "\n",
       "   stroke  \n",
       "0       1  \n",
       "1       1  \n",
       "2       1  "
      ]
     },
     "execution_count": 476,
     "metadata": {},
     "output_type": "execute_result"
    }
   ],
   "source": [
    "df.head(3)"
   ]
  },
  {
   "cell_type": "code",
   "execution_count": 477,
   "id": "systematic-measurement",
   "metadata": {},
   "outputs": [
    {
     "data": {
      "text/plain": [
       "(5110, 12)"
      ]
     },
     "execution_count": 477,
     "metadata": {},
     "output_type": "execute_result"
    }
   ],
   "source": [
    "df.shape"
   ]
  },
  {
   "cell_type": "code",
   "execution_count": 478,
   "id": "earlier-islam",
   "metadata": {},
   "outputs": [
    {
     "name": "stdout",
     "output_type": "stream",
     "text": [
      "<class 'pandas.core.frame.DataFrame'>\n",
      "RangeIndex: 5110 entries, 0 to 5109\n",
      "Data columns (total 12 columns):\n",
      " #   Column             Non-Null Count  Dtype  \n",
      "---  ------             --------------  -----  \n",
      " 0   id                 5110 non-null   int64  \n",
      " 1   gender             5110 non-null   object \n",
      " 2   age                5110 non-null   float64\n",
      " 3   hypertension       5110 non-null   int64  \n",
      " 4   heart_disease      5110 non-null   int64  \n",
      " 5   ever_married       5110 non-null   object \n",
      " 6   work_type          5110 non-null   object \n",
      " 7   Residence_type     5110 non-null   object \n",
      " 8   avg_glucose_level  5110 non-null   float64\n",
      " 9   bmi                4909 non-null   float64\n",
      " 10  smoking_status     5110 non-null   object \n",
      " 11  stroke             5110 non-null   int64  \n",
      "dtypes: float64(3), int64(4), object(5)\n",
      "memory usage: 479.2+ KB\n"
     ]
    }
   ],
   "source": [
    "df.info()"
   ]
  },
  {
   "cell_type": "markdown",
   "id": "passing-saint",
   "metadata": {},
   "source": [
    "Binarizing / Vectorizing where possible:"
   ]
  },
  {
   "cell_type": "code",
   "execution_count": 479,
   "id": "intermediate-tenant",
   "metadata": {},
   "outputs": [
    {
     "name": "stdout",
     "output_type": "stream",
     "text": [
      "['Male' 'Female' 'Other']\n",
      "['Yes' 'No']\n",
      "['Private' 'Self-employed' 'Govt_job' 'children' 'Never_worked']\n",
      "['Urban' 'Rural']\n",
      "['formerly smoked' 'never smoked' 'smokes' 'Unknown']\n"
     ]
    }
   ],
   "source": [
    "for i in ['gender', 'ever_married', 'work_type', 'Residence_type', 'smoking_status']:\n",
    "    print(df[i].unique())"
   ]
  },
  {
   "cell_type": "code",
   "execution_count": 480,
   "id": "sharp-printer",
   "metadata": {},
   "outputs": [],
   "source": [
    "df['gender'] = np.where(df['gender'] == 'Male', 1, 0)"
   ]
  },
  {
   "cell_type": "code",
   "execution_count": 481,
   "id": "extraordinary-agent",
   "metadata": {},
   "outputs": [],
   "source": [
    "df['ever_married'] = np.where(df['ever_married'] == 'Yes', 1, 0)"
   ]
  },
  {
   "cell_type": "code",
   "execution_count": 482,
   "id": "beginning-spray",
   "metadata": {},
   "outputs": [],
   "source": [
    "df['Residence_type'] = np.where(df['Residence_type'] == 'Urban', 1, 0)"
   ]
  },
  {
   "cell_type": "code",
   "execution_count": 483,
   "id": "removable-server",
   "metadata": {},
   "outputs": [],
   "source": [
    "df['smoking_status'] = np.where(((df['smoking_status'] == 'smokes') | (df['smoking_status'] == 'formerly smoked')), 1, 0)"
   ]
  },
  {
   "cell_type": "code",
   "execution_count": 484,
   "id": "cardiac-clinic",
   "metadata": {},
   "outputs": [
    {
     "name": "stdout",
     "output_type": "stream",
     "text": [
      "[1 0]\n",
      "[1 0]\n",
      "['Private' 'Self-employed' 'Govt_job' 'children' 'Never_worked']\n",
      "[1 0]\n",
      "[1 0]\n"
     ]
    }
   ],
   "source": [
    "for i in ['gender', 'ever_married', 'work_type', 'Residence_type', 'smoking_status']:\n",
    "    print(df[i].unique())"
   ]
  },
  {
   "cell_type": "code",
   "execution_count": 485,
   "id": "green-figure",
   "metadata": {},
   "outputs": [],
   "source": [
    "#not imputing bmi due to the clinical importance as seen in the heatmap\n",
    "df.dropna(subset = ['bmi'], inplace = True)"
   ]
  },
  {
   "cell_type": "markdown",
   "id": "alternative-permission",
   "metadata": {},
   "source": [
    "Highly imbalanced classes:"
   ]
  },
  {
   "cell_type": "code",
   "execution_count": 335,
   "id": "enabling-corner",
   "metadata": {},
   "outputs": [
    {
     "data": {
      "image/png": "[encoded data removed]",
      "text/plain": [
       "<Figure size 360x360 with 1 Axes>"
      ]
     },
     "metadata": {
      "needs_background": "light"
     },
     "output_type": "display_data"
    }
   ],
   "source": [
    "sns.displot(df.stroke);"
   ]
  },
  {
   "cell_type": "code",
   "execution_count": 336,
   "id": "hundred-willow",
   "metadata": {},
   "outputs": [
    {
     "data": {
      "text/plain": [
       "0    4700\n",
       "1     209\n",
       "Name: stroke, dtype: int64"
      ]
     },
     "execution_count": 336,
     "metadata": {},
     "output_type": "execute_result"
    }
   ],
   "source": [
    "df.stroke.value_counts()"
   ]
  },
  {
   "cell_type": "markdown",
   "id": "administrative-clearing",
   "metadata": {},
   "source": [
    "Removing outliers:"
   ]
  },
  {
   "cell_type": "code",
   "execution_count": 486,
   "id": "absent-italian",
   "metadata": {},
   "outputs": [],
   "source": [
    "iso = IsolationForest(n_estimators = 1000, contamination = 0.1)"
   ]
  },
  {
   "cell_type": "code",
   "execution_count": 487,
   "id": "stainless-terrain",
   "metadata": {},
   "outputs": [],
   "source": [
    "outs = pd.Series(iso.fit_predict(df[['bmi', 'avg_glucose_level']]), name = 'outliers')"
   ]
  },
  {
   "cell_type": "code",
   "execution_count": 488,
   "id": "buried-section",
   "metadata": {},
   "outputs": [
    {
     "data": {
      "text/plain": [
       " 1    4418\n",
       "-1     491\n",
       "Name: outliers, dtype: int64"
      ]
     },
     "execution_count": 488,
     "metadata": {},
     "output_type": "execute_result"
    }
   ],
   "source": [
    "outs.value_counts()"
   ]
  },
  {
   "cell_type": "code",
   "execution_count": 489,
   "id": "increased-freight",
   "metadata": {},
   "outputs": [],
   "source": [
    "df = pd.concat([outs.reset_index(), df.reset_index()], axis = 1, ignore_index = False).drop(columns = 'index')"
   ]
  },
  {
   "cell_type": "code",
   "execution_count": 490,
   "id": "outdoor-cherry",
   "metadata": {},
   "outputs": [
    {
     "data": {
      "text/html": [
       "<div>\n",
       "<style scoped>\n",
       "    .dataframe tbody tr th:only-of-type {\n",
       "        vertical-align: middle;\n",
       "    }\n",
       "\n",
       "    .dataframe tbody tr th {\n",
       "        vertical-align: top;\n",
       "    }\n",
       "\n",
       "    .dataframe thead th {\n",
       "        text-align: right;\n",
       "    }\n",
       "</style>\n",
       "<table border=\"1\" class=\"dataframe\">\n",
       "  <thead>\n",
       "    <tr style=\"text-align: right;\">\n",
       "      <th></th>\n",
       "      <th>outliers</th>\n",
       "      <th>id</th>\n",
       "      <th>gender</th>\n",
       "      <th>age</th>\n",
       "      <th>hypertension</th>\n",
       "      <th>heart_disease</th>\n",
       "      <th>ever_married</th>\n",
       "      <th>work_type</th>\n",
       "      <th>Residence_type</th>\n",
       "      <th>avg_glucose_level</th>\n",
       "      <th>bmi</th>\n",
       "      <th>smoking_status</th>\n",
       "      <th>stroke</th>\n",
       "    </tr>\n",
       "  </thead>\n",
       "  <tbody>\n",
       "    <tr>\n",
       "      <th>0</th>\n",
       "      <td>-1</td>\n",
       "      <td>9046</td>\n",
       "      <td>1</td>\n",
       "      <td>67.0</td>\n",
       "      <td>0</td>\n",
       "      <td>1</td>\n",
       "      <td>1</td>\n",
       "      <td>Private</td>\n",
       "      <td>1</td>\n",
       "      <td>228.69</td>\n",
       "      <td>36.6</td>\n",
       "      <td>1</td>\n",
       "      <td>1</td>\n",
       "    </tr>\n",
       "    <tr>\n",
       "      <th>1</th>\n",
       "      <td>1</td>\n",
       "      <td>31112</td>\n",
       "      <td>1</td>\n",
       "      <td>80.0</td>\n",
       "      <td>0</td>\n",
       "      <td>1</td>\n",
       "      <td>1</td>\n",
       "      <td>Private</td>\n",
       "      <td>0</td>\n",
       "      <td>105.92</td>\n",
       "      <td>32.5</td>\n",
       "      <td>0</td>\n",
       "      <td>1</td>\n",
       "    </tr>\n",
       "    <tr>\n",
       "      <th>2</th>\n",
       "      <td>1</td>\n",
       "      <td>60182</td>\n",
       "      <td>0</td>\n",
       "      <td>49.0</td>\n",
       "      <td>0</td>\n",
       "      <td>0</td>\n",
       "      <td>1</td>\n",
       "      <td>Private</td>\n",
       "      <td>1</td>\n",
       "      <td>171.23</td>\n",
       "      <td>34.4</td>\n",
       "      <td>1</td>\n",
       "      <td>1</td>\n",
       "    </tr>\n",
       "  </tbody>\n",
       "</table>\n",
       "</div>"
      ],
      "text/plain": [
       "   outliers     id  gender   age  hypertension  heart_disease  ever_married  \\\n",
       "0        -1   9046       1  67.0             0              1             1   \n",
       "1         1  31112       1  80.0             0              1             1   \n",
       "2         1  60182       0  49.0             0              0             1   \n",
       "\n",
       "  work_type  Residence_type  avg_glucose_level   bmi  smoking_status  stroke  \n",
       "0   Private               1             228.69  36.6               1       1  \n",
       "1   Private               0             105.92  32.5               0       1  \n",
       "2   Private               1             171.23  34.4               1       1  "
      ]
     },
     "execution_count": 490,
     "metadata": {},
     "output_type": "execute_result"
    }
   ],
   "source": [
    "df.head(3)"
   ]
  },
  {
   "cell_type": "code",
   "execution_count": 491,
   "id": "rotary-hayes",
   "metadata": {},
   "outputs": [],
   "source": [
    "df = df[df['outliers'] == 1]"
   ]
  },
  {
   "cell_type": "code",
   "execution_count": 492,
   "id": "democratic-episode",
   "metadata": {},
   "outputs": [
    {
     "data": {
      "text/plain": [
       "(4418, 13)"
      ]
     },
     "execution_count": 492,
     "metadata": {},
     "output_type": "execute_result"
    }
   ],
   "source": [
    "df.shape"
   ]
  },
  {
   "cell_type": "code",
   "execution_count": 493,
   "id": "secondary-quality",
   "metadata": {},
   "outputs": [
    {
     "data": {
      "text/plain": [
       "0    4247\n",
       "1     171\n",
       "Name: stroke, dtype: int64"
      ]
     },
     "execution_count": 493,
     "metadata": {},
     "output_type": "execute_result"
    }
   ],
   "source": [
    "# lost 39 positive for stroke values\n",
    "# may need to adjust to include more values\n",
    "df['stroke'].value_counts()"
   ]
  },
  {
   "cell_type": "markdown",
   "id": "coral-apache",
   "metadata": {},
   "source": [
    "# Visualizations"
   ]
  },
  {
   "cell_type": "code",
   "execution_count": 348,
   "id": "listed-century",
   "metadata": {},
   "outputs": [
    {
     "data": {
      "image/png": "[encoded data removed]",
      "text/plain": [
       "<Figure size 1296x360 with 2 Axes>"
      ]
     },
     "metadata": {
      "needs_background": "light"
     },
     "output_type": "display_data"
    }
   ],
   "source": [
    "import matplotlib.pyplot as plt\n",
    "mask = np.zeros_like(df.drop(columns = ['outliers', 'id']).corr())\n",
    "mask[np.triu_indices_from(mask)] = True\n",
    "plt.figure(figsize=(18, 5))\n",
    "sns.heatmap(\n",
    "    df.drop(columns = ['outliers', 'id']).corr(),\n",
    "    cmap='coolwarm',\n",
    "    annot=True,\n",
    "    mask=mask,\n",
    "    vmin=-1.,\n",
    "    vmax=1.,\n",
    "    linewidths=.01\n",
    ")\n",
    "plt.title('Correlation matrix');\n",
    "#everything has a colinear relationship with age"
   ]
  },
  {
   "cell_type": "markdown",
   "id": "automated-wesley",
   "metadata": {},
   "source": [
    "# Model Testing\n",
    "- StandardScaler for numeric data.\n",
    "- LabelEncoding for strings\n",
    "- Different approaches to imbalanced target"
   ]
  },
  {
   "cell_type": "markdown",
   "id": "bulgarian-eight",
   "metadata": {},
   "source": [
    "No handling of imbalance:"
   ]
  },
  {
   "cell_type": "code",
   "execution_count": 354,
   "id": "innocent-interval",
   "metadata": {},
   "outputs": [],
   "source": [
    "X = df.drop(columns = ['stroke', 'id', 'outliers'])\n",
    "y = df.stroke"
   ]
  },
  {
   "cell_type": "code",
   "execution_count": 355,
   "id": "political-contact",
   "metadata": {},
   "outputs": [],
   "source": [
    "X_train, X_test, y_train, y_test = train_test_split(X, y, stratify = y)"
   ]
  },
  {
   "cell_type": "code",
   "execution_count": 356,
   "id": "prospective-marina",
   "metadata": {},
   "outputs": [
    {
     "name": "stdout",
     "output_type": "stream",
     "text": [
      "Null model accuracy: 0.96\n"
     ]
    }
   ],
   "source": [
    "print(f'Null model accuracy: {round(max(y_test.mean(), 1 - y_test.mean()), 2)}')"
   ]
  },
  {
   "cell_type": "code",
   "execution_count": 359,
   "id": "powerful-france",
   "metadata": {},
   "outputs": [],
   "source": [
    "mct = make_column_transformer(\n",
    "        (StandardScaler(), make_column_selector(dtype_include = np.number)),\n",
    "        (OneHotEncoder(), make_column_selector(dtype_include = object))\n",
    ")"
   ]
  },
  {
   "cell_type": "code",
   "execution_count": 360,
   "id": "sweet-burns",
   "metadata": {},
   "outputs": [],
   "source": [
    "X_train = mct.fit_transform(X_train)"
   ]
  },
  {
   "cell_type": "code",
   "execution_count": 361,
   "id": "exact-siemens",
   "metadata": {},
   "outputs": [],
   "source": [
    "X_test = mct.transform(X_test)"
   ]
  },
  {
   "cell_type": "code",
   "execution_count": 362,
   "id": "forward-volleyball",
   "metadata": {},
   "outputs": [],
   "source": [
    "rf = RandomForestClassifier()"
   ]
  },
  {
   "cell_type": "code",
   "execution_count": 363,
   "id": "chief-rental",
   "metadata": {},
   "outputs": [
    {
     "data": {
      "text/plain": [
       "RandomForestClassifier()"
      ]
     },
     "execution_count": 363,
     "metadata": {},
     "output_type": "execute_result"
    }
   ],
   "source": [
    "rf.fit(X_train, y_train)"
   ]
  },
  {
   "cell_type": "code",
   "execution_count": 364,
   "id": "fixed-cleanup",
   "metadata": {},
   "outputs": [],
   "source": [
    "y_pred = rf.predict(X_test)"
   ]
  },
  {
   "cell_type": "code",
   "execution_count": 365,
   "id": "improving-glance",
   "metadata": {},
   "outputs": [
    {
     "name": "stdout",
     "output_type": "stream",
     "text": [
      "accuracy  = 0.96\n",
      "precision = 0.0\n",
      "recall    = 0.0\n",
      "f1-score  = 0.0\n",
      "roc auc   = 0.5\n",
      "null accuracy = 0.96\n"
     ]
    }
   ],
   "source": [
    "def classification_eval(y_test, y_pred):\n",
    "    print(f'accuracy  = {np.round(accuracy_score(y_test, y_pred), 3)}')\n",
    "    print(f'precision = {np.round(precision_score(y_test, y_pred), 3)}')\n",
    "    print(f'recall    = {np.round(recall_score(y_test, y_pred), 3)}')\n",
    "    print(f'f1-score  = {np.round(f1_score(y_test, y_pred), 3)}')\n",
    "    print(f'roc auc   = {np.round(roc_auc_score(y_test, y_pred), 3)}')\n",
    "    print(f'null accuracy = {round(max(y_test.mean(), 1 - y_test.mean()), 2)}')\n",
    "\n",
    "classification_eval(y_test, y_pred)"
   ]
  },
  {
   "cell_type": "code",
   "execution_count": 366,
   "id": "terminal-atmosphere",
   "metadata": {},
   "outputs": [
    {
     "data": {
      "image/png": "[encoded data removed]",
      "text/plain": [
       "<Figure size 432x288 with 2 Axes>"
      ]
     },
     "metadata": {
      "needs_background": "light"
     },
     "output_type": "display_data"
    }
   ],
   "source": [
    "plot_confusion_matrix(rf, X_test, y_test);"
   ]
  },
  {
   "cell_type": "markdown",
   "id": "minimal-chapel",
   "metadata": {},
   "source": [
    "Pre-processing:"
   ]
  },
  {
   "cell_type": "code",
   "execution_count": 456,
   "id": "expected-italy",
   "metadata": {},
   "outputs": [],
   "source": [
    "le = LabelEncoder()\n",
    "ss = StandardScaler()"
   ]
  },
  {
   "cell_type": "code",
   "execution_count": 457,
   "id": "prostate-calculation",
   "metadata": {},
   "outputs": [],
   "source": [
    "df['work_type'] = le.fit_transform(df['work_type'])"
   ]
  },
  {
   "cell_type": "code",
   "execution_count": 458,
   "id": "prescribed-athens",
   "metadata": {},
   "outputs": [],
   "source": [
    "num_cols = ['age', 'avg_glucose_level', 'bmi']"
   ]
  },
  {
   "cell_type": "code",
   "execution_count": 459,
   "id": "outer-assets",
   "metadata": {},
   "outputs": [],
   "source": [
    "df[num_cols] = ss.fit_transform(df[num_cols])"
   ]
  },
  {
   "cell_type": "code",
   "execution_count": 460,
   "id": "verified-leisure",
   "metadata": {},
   "outputs": [],
   "source": [
    "X = df.drop(columns = ['stroke', 'id'])\n",
    "y = df.stroke"
   ]
  },
  {
   "cell_type": "markdown",
   "id": "cross-addiction",
   "metadata": {},
   "source": [
    "RandomOversampler:"
   ]
  },
  {
   "cell_type": "code",
   "execution_count": 373,
   "id": "handy-central",
   "metadata": {},
   "outputs": [],
   "source": [
    "from imblearn.over_sampling import RandomOverSampler"
   ]
  },
  {
   "cell_type": "code",
   "execution_count": 374,
   "id": "wound-longitude",
   "metadata": {},
   "outputs": [],
   "source": [
    "rs = RandomOverSampler()"
   ]
  },
  {
   "cell_type": "code",
   "execution_count": 375,
   "id": "metric-asian",
   "metadata": {},
   "outputs": [],
   "source": [
    "X, y = rs.fit_resample(X, y)"
   ]
  },
  {
   "cell_type": "code",
   "execution_count": 376,
   "id": "cross-cholesterol",
   "metadata": {},
   "outputs": [],
   "source": [
    "X_train, X_test, y_train, y_test = train_test_split(X, y, stratify = y)"
   ]
  },
  {
   "cell_type": "code",
   "execution_count": 377,
   "id": "diagnostic-federation",
   "metadata": {},
   "outputs": [
    {
     "data": {
      "text/plain": [
       "RandomForestClassifier()"
      ]
     },
     "execution_count": 377,
     "metadata": {},
     "output_type": "execute_result"
    }
   ],
   "source": [
    "rf.fit(X_train, y_train)"
   ]
  },
  {
   "cell_type": "code",
   "execution_count": 378,
   "id": "historic-sector",
   "metadata": {},
   "outputs": [],
   "source": [
    "y_pred = rf.predict(X_test)"
   ]
  },
  {
   "cell_type": "code",
   "execution_count": 379,
   "id": "minute-counter",
   "metadata": {},
   "outputs": [
    {
     "name": "stdout",
     "output_type": "stream",
     "text": [
      "accuracy  = 0.994\n",
      "precision = 0.989\n",
      "recall    = 1.0\n",
      "f1-score  = 0.994\n",
      "roc auc   = 0.994\n",
      "null accuracy = 0.5\n"
     ]
    }
   ],
   "source": [
    "def classification_eval(y_test, y_pred):\n",
    "    print(f'accuracy  = {np.round(accuracy_score(y_test, y_pred), 3)}')\n",
    "    print(f'precision = {np.round(precision_score(y_test, y_pred), 3)}')\n",
    "    print(f'recall    = {np.round(recall_score(y_test, y_pred), 3)}')\n",
    "    print(f'f1-score  = {np.round(f1_score(y_test, y_pred), 3)}')\n",
    "    print(f'roc auc   = {np.round(roc_auc_score(y_test, y_pred), 3)}')\n",
    "    print(f'null accuracy = {round(max(y_test.mean(), 1 - y_test.mean()), 2)}')\n",
    "\n",
    "classification_eval(y_test, y_pred)"
   ]
  },
  {
   "cell_type": "code",
   "execution_count": 380,
   "id": "insured-sweet",
   "metadata": {},
   "outputs": [
    {
     "data": {
      "image/png": "[encoded data removed]",
      "text/plain": [
       "<Figure size 432x288 with 2 Axes>"
      ]
     },
     "metadata": {
      "needs_background": "light"
     },
     "output_type": "display_data"
    }
   ],
   "source": [
    "plot_confusion_matrix(rf, X_test, y_test);"
   ]
  },
  {
   "cell_type": "markdown",
   "id": "chinese-freeware",
   "metadata": {},
   "source": [
    "SMOTE:"
   ]
  },
  {
   "cell_type": "code",
   "execution_count": 381,
   "id": "intended-plaza",
   "metadata": {},
   "outputs": [],
   "source": [
    "from imblearn.over_sampling import SMOTE"
   ]
  },
  {
   "cell_type": "code",
   "execution_count": 382,
   "id": "detected-antibody",
   "metadata": {},
   "outputs": [],
   "source": [
    "sm = SMOTE()"
   ]
  },
  {
   "cell_type": "code",
   "execution_count": 383,
   "id": "surprised-double",
   "metadata": {},
   "outputs": [],
   "source": [
    "X, y = sm.fit_resample(X, y)"
   ]
  },
  {
   "cell_type": "code",
   "execution_count": 384,
   "id": "stuffed-triple",
   "metadata": {},
   "outputs": [],
   "source": [
    "X_train, X_test, y_train, y_test = train_test_split(X, y, stratify = y)"
   ]
  },
  {
   "cell_type": "code",
   "execution_count": 385,
   "id": "synthetic-things",
   "metadata": {},
   "outputs": [
    {
     "data": {
      "text/plain": [
       "RandomForestClassifier()"
      ]
     },
     "execution_count": 385,
     "metadata": {},
     "output_type": "execute_result"
    }
   ],
   "source": [
    "rf.fit(X_train, y_train)"
   ]
  },
  {
   "cell_type": "code",
   "execution_count": 386,
   "id": "simple-sword",
   "metadata": {},
   "outputs": [],
   "source": [
    "y_pred = rf.predict(X_test)"
   ]
  },
  {
   "cell_type": "code",
   "execution_count": 387,
   "id": "chinese-statement",
   "metadata": {},
   "outputs": [
    {
     "name": "stdout",
     "output_type": "stream",
     "text": [
      "accuracy  = 0.994\n",
      "precision = 0.989\n",
      "recall    = 1.0\n",
      "f1-score  = 0.994\n",
      "roc auc   = 0.994\n",
      "null accuracy = 0.5\n"
     ]
    }
   ],
   "source": [
    "def classification_eval(y_test, y_pred):\n",
    "    print(f'accuracy  = {np.round(accuracy_score(y_test, y_pred), 3)}')\n",
    "    print(f'precision = {np.round(precision_score(y_test, y_pred), 3)}')\n",
    "    print(f'recall    = {np.round(recall_score(y_test, y_pred), 3)}')\n",
    "    print(f'f1-score  = {np.round(f1_score(y_test, y_pred), 3)}')\n",
    "    print(f'roc auc   = {np.round(roc_auc_score(y_test, y_pred), 3)}')\n",
    "    print(f'null accuracy = {round(max(y_test.mean(), 1 - y_test.mean()), 2)}')\n",
    "\n",
    "classification_eval(y_test, y_pred)"
   ]
  },
  {
   "cell_type": "code",
   "execution_count": 388,
   "id": "civil-aircraft",
   "metadata": {},
   "outputs": [
    {
     "data": {
      "image/png": "[encoded data removed]",
      "text/plain": [
       "<Figure size 432x288 with 2 Axes>"
      ]
     },
     "metadata": {
      "needs_background": "light"
     },
     "output_type": "display_data"
    }
   ],
   "source": [
    "plot_confusion_matrix(rf, X_test, y_test);"
   ]
  },
  {
   "cell_type": "markdown",
   "id": "important-moral",
   "metadata": {},
   "source": [
    "ADASYN:"
   ]
  },
  {
   "cell_type": "code",
   "execution_count": 389,
   "id": "fifth-communist",
   "metadata": {},
   "outputs": [],
   "source": [
    "from imblearn.over_sampling import ADASYN"
   ]
  },
  {
   "cell_type": "code",
   "execution_count": 390,
   "id": "improved-language",
   "metadata": {},
   "outputs": [],
   "source": [
    "ad = ADASYN()"
   ]
  },
  {
   "cell_type": "code",
   "execution_count": 391,
   "id": "brazilian-breast",
   "metadata": {},
   "outputs": [],
   "source": [
    "X, y = ad.fit_resample(X, y)"
   ]
  },
  {
   "cell_type": "code",
   "execution_count": 392,
   "id": "occasional-nursery",
   "metadata": {},
   "outputs": [],
   "source": [
    "X_train, X_test, y_train, y_test = train_test_split(X, y, stratify = y)"
   ]
  },
  {
   "cell_type": "code",
   "execution_count": 393,
   "id": "conceptual-facing",
   "metadata": {},
   "outputs": [
    {
     "data": {
      "text/plain": [
       "RandomForestClassifier()"
      ]
     },
     "execution_count": 393,
     "metadata": {},
     "output_type": "execute_result"
    }
   ],
   "source": [
    "rf.fit(X_train, y_train)"
   ]
  },
  {
   "cell_type": "code",
   "execution_count": 394,
   "id": "pending-marriage",
   "metadata": {},
   "outputs": [],
   "source": [
    "y_pred = rf.predict(X_test)"
   ]
  },
  {
   "cell_type": "code",
   "execution_count": 395,
   "id": "stainless-belfast",
   "metadata": {},
   "outputs": [
    {
     "name": "stdout",
     "output_type": "stream",
     "text": [
      "accuracy  = 0.994\n",
      "precision = 0.989\n",
      "recall    = 1.0\n",
      "f1-score  = 0.994\n",
      "roc auc   = 0.994\n",
      "null accuracy = 0.5\n"
     ]
    }
   ],
   "source": [
    "def classification_eval(y_test, y_pred):\n",
    "    print(f'accuracy  = {np.round(accuracy_score(y_test, y_pred), 3)}')\n",
    "    print(f'precision = {np.round(precision_score(y_test, y_pred), 3)}')\n",
    "    print(f'recall    = {np.round(recall_score(y_test, y_pred), 3)}')\n",
    "    print(f'f1-score  = {np.round(f1_score(y_test, y_pred), 3)}')\n",
    "    print(f'roc auc   = {np.round(roc_auc_score(y_test, y_pred), 3)}')\n",
    "    print(f'null accuracy = {round(max(y_test.mean(), 1 - y_test.mean()), 2)}')\n",
    "\n",
    "classification_eval(y_test, y_pred)"
   ]
  },
  {
   "cell_type": "code",
   "execution_count": 396,
   "id": "trained-composition",
   "metadata": {},
   "outputs": [
    {
     "data": {
      "image/png": "[encoded data removed]",
      "text/plain": [
       "<Figure size 432x288 with 2 Axes>"
      ]
     },
     "metadata": {
      "needs_background": "light"
     },
     "output_type": "display_data"
    }
   ],
   "source": [
    "plot_confusion_matrix(rf, X_test, y_test);"
   ]
  },
  {
   "cell_type": "markdown",
   "id": "crazy-nicaragua",
   "metadata": {},
   "source": [
    "SMOTENC"
   ]
  },
  {
   "cell_type": "code",
   "execution_count": 397,
   "id": "cathedral-tulsa",
   "metadata": {},
   "outputs": [],
   "source": [
    "from imblearn.over_sampling import SMOTENC"
   ]
  },
  {
   "cell_type": "code",
   "execution_count": 406,
   "id": "controlling-cassette",
   "metadata": {},
   "outputs": [
    {
     "data": {
      "text/html": [
       "<div>\n",
       "<style scoped>\n",
       "    .dataframe tbody tr th:only-of-type {\n",
       "        vertical-align: middle;\n",
       "    }\n",
       "\n",
       "    .dataframe tbody tr th {\n",
       "        vertical-align: top;\n",
       "    }\n",
       "\n",
       "    .dataframe thead th {\n",
       "        text-align: right;\n",
       "    }\n",
       "</style>\n",
       "<table border=\"1\" class=\"dataframe\">\n",
       "  <thead>\n",
       "    <tr style=\"text-align: right;\">\n",
       "      <th></th>\n",
       "      <th>outliers</th>\n",
       "      <th>gender</th>\n",
       "      <th>age</th>\n",
       "      <th>hypertension</th>\n",
       "      <th>heart_disease</th>\n",
       "      <th>ever_married</th>\n",
       "      <th>work_type</th>\n",
       "      <th>Residence_type</th>\n",
       "      <th>avg_glucose_level</th>\n",
       "      <th>bmi</th>\n",
       "      <th>smoking_status</th>\n",
       "    </tr>\n",
       "  </thead>\n",
       "  <tbody>\n",
       "    <tr>\n",
       "      <th>5009</th>\n",
       "      <td>1</td>\n",
       "      <td>0</td>\n",
       "      <td>1.141322</td>\n",
       "      <td>1</td>\n",
       "      <td>0</td>\n",
       "      <td>1</td>\n",
       "      <td>3</td>\n",
       "      <td>0</td>\n",
       "      <td>3.118882</td>\n",
       "      <td>-0.20979</td>\n",
       "      <td>0</td>\n",
       "    </tr>\n",
       "  </tbody>\n",
       "</table>\n",
       "</div>"
      ],
      "text/plain": [
       "      outliers  gender       age  hypertension  heart_disease  ever_married  \\\n",
       "5009         1       0  1.141322             1              0             1   \n",
       "\n",
       "      work_type  Residence_type  avg_glucose_level      bmi  smoking_status  \n",
       "5009          3               0           3.118882 -0.20979               0  "
      ]
     },
     "execution_count": 406,
     "metadata": {},
     "output_type": "execute_result"
    }
   ],
   "source": [
    "X_train.head(1)"
   ]
  },
  {
   "cell_type": "code",
   "execution_count": 407,
   "id": "lyric-rings",
   "metadata": {},
   "outputs": [],
   "source": [
    "sm = SMOTENC(categorical_features = [0, 2])"
   ]
  },
  {
   "cell_type": "code",
   "execution_count": 408,
   "id": "based-procedure",
   "metadata": {},
   "outputs": [],
   "source": [
    "X, y = sm.fit_resample(X, y)"
   ]
  },
  {
   "cell_type": "code",
   "execution_count": 409,
   "id": "arbitrary-malta",
   "metadata": {},
   "outputs": [],
   "source": [
    "X_train, X_test, y_train, y_test = train_test_split(X, y, stratify = y)"
   ]
  },
  {
   "cell_type": "code",
   "execution_count": 410,
   "id": "starting-genealogy",
   "metadata": {},
   "outputs": [
    {
     "data": {
      "text/plain": [
       "RandomForestClassifier()"
      ]
     },
     "execution_count": 410,
     "metadata": {},
     "output_type": "execute_result"
    }
   ],
   "source": [
    "rf.fit(X_train, y_train)"
   ]
  },
  {
   "cell_type": "code",
   "execution_count": 411,
   "id": "stunning-elevation",
   "metadata": {},
   "outputs": [],
   "source": [
    "y_pred = rf.predict(X_test)"
   ]
  },
  {
   "cell_type": "code",
   "execution_count": 412,
   "id": "overhead-jimmy",
   "metadata": {},
   "outputs": [
    {
     "name": "stdout",
     "output_type": "stream",
     "text": [
      "accuracy  = 0.995\n",
      "precision = 0.991\n",
      "recall    = 1.0\n",
      "f1-score  = 0.995\n",
      "roc auc   = 0.995\n",
      "null accuracy = 0.5\n"
     ]
    }
   ],
   "source": [
    "def classification_eval(y_test, y_pred):\n",
    "    print(f'accuracy  = {np.round(accuracy_score(y_test, y_pred), 3)}')\n",
    "    print(f'precision = {np.round(precision_score(y_test, y_pred), 3)}')\n",
    "    print(f'recall    = {np.round(recall_score(y_test, y_pred), 3)}')\n",
    "    print(f'f1-score  = {np.round(f1_score(y_test, y_pred), 3)}')\n",
    "    print(f'roc auc   = {np.round(roc_auc_score(y_test, y_pred), 3)}')\n",
    "    print(f'null accuracy = {round(max(y_test.mean(), 1 - y_test.mean()), 2)}')\n",
    "\n",
    "classification_eval(y_test, y_pred)"
   ]
  },
  {
   "cell_type": "code",
   "execution_count": 413,
   "id": "attractive-chorus",
   "metadata": {},
   "outputs": [
    {
     "data": {
      "image/png": "[encoded data removed]",
      "text/plain": [
       "<Figure size 432x288 with 2 Axes>"
      ]
     },
     "metadata": {
      "needs_background": "light"
     },
     "output_type": "display_data"
    }
   ],
   "source": [
    "plot_confusion_matrix(rf, X_test, y_test);"
   ]
  },
  {
   "cell_type": "code",
   "execution_count": 415,
   "id": "joint-latest",
   "metadata": {},
   "outputs": [],
   "source": [
    "hgb = HistGradientBoostingClassifier()"
   ]
  },
  {
   "cell_type": "code",
   "execution_count": 416,
   "id": "departmental-gothic",
   "metadata": {},
   "outputs": [
    {
     "data": {
      "text/plain": [
       "HistGradientBoostingClassifier()"
      ]
     },
     "execution_count": 416,
     "metadata": {},
     "output_type": "execute_result"
    }
   ],
   "source": [
    "hgb.fit(X_train, y_train)"
   ]
  },
  {
   "cell_type": "code",
   "execution_count": 417,
   "id": "minimal-sleeve",
   "metadata": {},
   "outputs": [],
   "source": [
    "y_pred = hgb.predict(X_test)"
   ]
  },
  {
   "cell_type": "code",
   "execution_count": 418,
   "id": "latest-rescue",
   "metadata": {},
   "outputs": [
    {
     "name": "stdout",
     "output_type": "stream",
     "text": [
      "accuracy  = 0.966\n",
      "precision = 0.936\n",
      "recall    = 1.0\n",
      "f1-score  = 0.967\n",
      "roc auc   = 0.966\n",
      "null accuracy = 0.5\n"
     ]
    }
   ],
   "source": [
    "def classification_eval(y_test, y_pred):\n",
    "    print(f'accuracy  = {np.round(accuracy_score(y_test, y_pred), 3)}')\n",
    "    print(f'precision = {np.round(precision_score(y_test, y_pred), 3)}')\n",
    "    print(f'recall    = {np.round(recall_score(y_test, y_pred), 3)}')\n",
    "    print(f'f1-score  = {np.round(f1_score(y_test, y_pred), 3)}')\n",
    "    print(f'roc auc   = {np.round(roc_auc_score(y_test, y_pred), 3)}')\n",
    "    print(f'null accuracy = {round(max(y_test.mean(), 1 - y_test.mean()), 2)}')\n",
    "\n",
    "classification_eval(y_test, y_pred)"
   ]
  },
  {
   "cell_type": "code",
   "execution_count": 420,
   "id": "delayed-division",
   "metadata": {},
   "outputs": [
    {
     "data": {
      "image/png": "[encoded data removed]",
      "text/plain": [
       "<Figure size 432x288 with 2 Axes>"
      ]
     },
     "metadata": {
      "needs_background": "light"
     },
     "output_type": "display_data"
    }
   ],
   "source": [
    "plot_confusion_matrix(hgb, X_test, y_test);"
   ]
  },
  {
   "cell_type": "markdown",
   "id": "precise-burner",
   "metadata": {},
   "source": [
    "# Final Model & Evaluation"
   ]
  },
  {
   "cell_type": "code",
   "execution_count": 494,
   "id": "crucial-services",
   "metadata": {},
   "outputs": [],
   "source": [
    "def stroke_predictor (df):\n",
    "    \"\"\"\n",
    "    \"\"\"\n",
    "    le = LabelEncoder()\n",
    "    ss = StandardScaler()\n",
    "\n",
    "    df['work_type'] = le.fit_transform(df['work_type'])\n",
    "\n",
    "    num_cols = ['age', 'avg_glucose_level', 'bmi']\n",
    "    df[num_cols] = ss.fit_transform(df[num_cols])\n",
    "    \n",
    "    X = df.drop(columns = ['stroke', 'id', 'outliers'])\n",
    "    y = df.stroke\n",
    "    \n",
    "    sm = SMOTENC(categorical_features = [0, 2])\n",
    "    X, y = sm.fit_resample(X, y)\n",
    "    \n",
    "    X_train, X_test, y_train, y_test = train_test_split(X, y, stratify = y)\n",
    "    \n",
    "    model = RandomForestClassifier()\n",
    "    model.fit(X_train, y_train)\n",
    "    y_pred = model.predict(X_test)\n",
    "    \n",
    "    print(f'accuracy  = {np.round(accuracy_score(y_test, y_pred), 3)}')\n",
    "    print(f'precision = {np.round(precision_score(y_test, y_pred), 3)}')\n",
    "    print(f'recall    = {np.round(recall_score(y_test, y_pred), 3)}')\n",
    "    print(f'f1-score  = {np.round(f1_score(y_test, y_pred), 3)}')\n",
    "    print(f'roc auc   = {np.round(roc_auc_score(y_test, y_pred), 3)}')\n",
    "    print(f'null accuracy = {round(max(y_test.mean(), 1 - y_test.mean()), 2)}')\n",
    "    \n",
    "    return model, X_train, X_test, y_train, y_test, y_pred"
   ]
  },
  {
   "cell_type": "code",
   "execution_count": 495,
   "id": "announced-swaziland",
   "metadata": {},
   "outputs": [
    {
     "name": "stdout",
     "output_type": "stream",
     "text": [
      "accuracy  = 0.944\n",
      "precision = 0.924\n",
      "recall    = 0.968\n",
      "f1-score  = 0.946\n",
      "roc auc   = 0.944\n",
      "null accuracy = 0.5\n"
     ]
    }
   ],
   "source": [
    "model, X_train, X_test, y_train, y_test, y_pred = stroke_predictor(df)"
   ]
  },
  {
   "cell_type": "code",
   "execution_count": 496,
   "id": "artificial-decimal",
   "metadata": {},
   "outputs": [
    {
     "data": {
      "text/plain": [
       "(2124, 10)"
      ]
     },
     "execution_count": 496,
     "metadata": {},
     "output_type": "execute_result"
    }
   ],
   "source": [
    "X_test.shape"
   ]
  },
  {
   "cell_type": "code",
   "execution_count": 497,
   "id": "recovered-beauty",
   "metadata": {},
   "outputs": [
    {
     "data": {
      "image/png": "[encoded data removed]",
      "text/plain": [
       "<Figure size 432x288 with 2 Axes>"
      ]
     },
     "metadata": {
      "needs_background": "light"
     },
     "output_type": "display_data"
    }
   ],
   "source": [
    "plot_confusion_matrix(model, X_test, y_test);"
   ]
  },
  {
   "cell_type": "code",
   "execution_count": 498,
   "id": "specific-timing",
   "metadata": {},
   "outputs": [],
   "source": [
    "y_pred_prob = model.predict_proba(X_test)"
   ]
  },
  {
   "cell_type": "code",
   "execution_count": 500,
   "id": "composed-leisure",
   "metadata": {},
   "outputs": [
    {
     "data": {
      "image/png": "[encoded data removed]",
      "text/plain": [
       "<Figure size 360x360 with 1 Axes>"
      ]
     },
     "metadata": {
      "needs_background": "light"
     },
     "output_type": "display_data"
    }
   ],
   "source": [
    "sns.displot(y_pred_prob[:, 1]);\n",
    "plt.title('Histogram of predicted probabilities');"
   ]
  },
  {
   "cell_type": "code",
   "execution_count": 501,
   "id": "flying-weight",
   "metadata": {},
   "outputs": [
    {
     "data": {
      "image/png": "[encoded data removed]",
      "text/plain": [
       "<Figure size 432x288 with 1 Axes>"
      ]
     },
     "metadata": {
      "needs_background": "light"
     },
     "output_type": "display_data"
    }
   ],
   "source": [
    "plot_roc_curve(model, X_test, y_test)\n",
    "plt.title('ROC AUC score and curve for subreddit classification');\n",
    "plt.plot([0,1], [0,1], 'k--')\n",
    "plt.show();"
   ]
  },
  {
   "cell_type": "code",
   "execution_count": 502,
   "id": "wrapped-tissue",
   "metadata": {},
   "outputs": [],
   "source": [
    "feat_names = [i for i in X_train]"
   ]
  },
  {
   "cell_type": "code",
   "execution_count": 503,
   "id": "egyptian-treasury",
   "metadata": {},
   "outputs": [],
   "source": [
    "classed = [i for i in y_train]"
   ]
  },
  {
   "cell_type": "code",
   "execution_count": 504,
   "id": "downtown-tradition",
   "metadata": {},
   "outputs": [],
   "source": [
    "feat_import_df = pd.DataFrame({'importances': model.feature_importances_, \n",
    " 'name': feat_names}).sort_values('importances')"
   ]
  },
  {
   "cell_type": "code",
   "execution_count": 505,
   "id": "hungarian-soviet",
   "metadata": {},
   "outputs": [
    {
     "data": {
      "text/html": [
       "<div>\n",
       "<style scoped>\n",
       "    .dataframe tbody tr th:only-of-type {\n",
       "        vertical-align: middle;\n",
       "    }\n",
       "\n",
       "    .dataframe tbody tr th {\n",
       "        vertical-align: top;\n",
       "    }\n",
       "\n",
       "    .dataframe thead th {\n",
       "        text-align: right;\n",
       "    }\n",
       "</style>\n",
       "<table border=\"1\" class=\"dataframe\">\n",
       "  <thead>\n",
       "    <tr style=\"text-align: right;\">\n",
       "      <th></th>\n",
       "      <th>importances</th>\n",
       "      <th>name</th>\n",
       "    </tr>\n",
       "  </thead>\n",
       "  <tbody>\n",
       "    <tr>\n",
       "      <th>1</th>\n",
       "      <td>0.447910</td>\n",
       "      <td>age</td>\n",
       "    </tr>\n",
       "    <tr>\n",
       "      <th>7</th>\n",
       "      <td>0.181928</td>\n",
       "      <td>avg_glucose_level</td>\n",
       "    </tr>\n",
       "    <tr>\n",
       "      <th>8</th>\n",
       "      <td>0.176702</td>\n",
       "      <td>bmi</td>\n",
       "    </tr>\n",
       "    <tr>\n",
       "      <th>5</th>\n",
       "      <td>0.069483</td>\n",
       "      <td>work_type</td>\n",
       "    </tr>\n",
       "    <tr>\n",
       "      <th>0</th>\n",
       "      <td>0.029392</td>\n",
       "      <td>gender</td>\n",
       "    </tr>\n",
       "    <tr>\n",
       "      <th>4</th>\n",
       "      <td>0.024532</td>\n",
       "      <td>ever_married</td>\n",
       "    </tr>\n",
       "    <tr>\n",
       "      <th>9</th>\n",
       "      <td>0.024504</td>\n",
       "      <td>smoking_status</td>\n",
       "    </tr>\n",
       "    <tr>\n",
       "      <th>6</th>\n",
       "      <td>0.022248</td>\n",
       "      <td>Residence_type</td>\n",
       "    </tr>\n",
       "    <tr>\n",
       "      <th>2</th>\n",
       "      <td>0.012653</td>\n",
       "      <td>hypertension</td>\n",
       "    </tr>\n",
       "    <tr>\n",
       "      <th>3</th>\n",
       "      <td>0.010648</td>\n",
       "      <td>heart_disease</td>\n",
       "    </tr>\n",
       "  </tbody>\n",
       "</table>\n",
       "</div>"
      ],
      "text/plain": [
       "   importances               name\n",
       "1     0.447910                age\n",
       "7     0.181928  avg_glucose_level\n",
       "8     0.176702                bmi\n",
       "5     0.069483          work_type\n",
       "0     0.029392             gender\n",
       "4     0.024532       ever_married\n",
       "9     0.024504     smoking_status\n",
       "6     0.022248     Residence_type\n",
       "2     0.012653       hypertension\n",
       "3     0.010648      heart_disease"
      ]
     },
     "execution_count": 505,
     "metadata": {},
     "output_type": "execute_result"
    }
   ],
   "source": [
    "feat_import_df.sort_values('importances', ascending = False).head(15)"
   ]
  },
  {
   "cell_type": "code",
   "execution_count": 508,
   "id": "short-waters",
   "metadata": {},
   "outputs": [
    {
     "data": {
      "image/png": "[encoded data removed]",
      "text/plain": [
       "<Figure size 1080x720 with 1 Axes>"
      ]
     },
     "metadata": {},
     "output_type": "display_data"
    }
   ],
   "source": [
    "sns.set(style=\"darkgrid\", context=\"notebook\")\n",
    "plt.figure(figsize=(15, 10))\n",
    "x = feat_import_df['importances'].tail(21)\n",
    "y = feat_import_df['name'].tail(21)\n",
    "sns.barplot(x = x, y = y).set_title('Top ranking features by importance');"
   ]
  },
  {
   "cell_type": "code",
   "execution_count": null,
   "id": "stuck-cross",
   "metadata": {},
   "outputs": [],
   "source": []
  },
  {
   "cell_type": "code",
   "execution_count": null,
   "id": "dying-level",
   "metadata": {},
   "outputs": [],
   "source": []
  },
  {
   "cell_type": "code",
   "execution_count": null,
   "id": "supported-recall",
   "metadata": {},
   "outputs": [],
   "source": []
  },
  {
   "cell_type": "code",
   "execution_count": null,
   "id": "modified-vertex",
   "metadata": {},
   "outputs": [],
   "source": []
  },
  {
   "cell_type": "code",
   "execution_count": null,
   "id": "balanced-cathedral",
   "metadata": {},
   "outputs": [],
   "source": []
  },
  {
   "cell_type": "code",
   "execution_count": null,
   "id": "entertaining-terrace",
   "metadata": {},
   "outputs": [],
   "source": []
  }
 ],
 "metadata": {
  "kernelspec": {
   "display_name": "Python 3",
   "language": "python",
   "name": "python3"
  },
  "language_info": {
   "codemirror_mode": {
    "name": "ipython",
    "version": 3
   },
   "file_extension": ".py",
   "mimetype": "text/x-python",
   "name": "python",
   "nbconvert_exporter": "python",
   "pygments_lexer": "ipython3",
   "version": "3.8.2"
  }
 },
 "nbformat": 4,
 "nbformat_minor": 5
}
