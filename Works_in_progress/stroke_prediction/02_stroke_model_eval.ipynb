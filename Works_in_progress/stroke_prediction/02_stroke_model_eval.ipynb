{
 "cells": [
  {
   "cell_type": "markdown",
   "id": "occupied-legislation",
   "metadata": {},
   "source": [
    "# Stroke Prediction\n",
    " - Data aquired from: https://www.kaggle.com/fedesoriano/stroke-prediction-dataset\n",
    " - Code to be used for a blog post on handling imbalanced data."
   ]
  },
  {
   "cell_type": "markdown",
   "id": "amber-binary",
   "metadata": {},
   "source": [
    "#### Importing Libraries"
   ]
  },
  {
   "cell_type": "code",
   "execution_count": 152,
   "id": "patient-arena",
   "metadata": {},
   "outputs": [],
   "source": [
    "import matplotlib.pyplot as plt\n",
    "import seaborn as sns\n",
    "import pandas as pd\n",
    "import numpy as np\n",
    "\n",
    "from sklearn.preprocessing import PolynomialFeatures, StandardScaler\n",
    "from sklearn.model_selection import GridSearchCV, train_test_split, RandomizedSearchCV\n",
    "from sklearn.metrics import confusion_matrix, accuracy_score, balanced_accuracy_score,\\\n",
    "                            precision_score, recall_score, roc_auc_score,\\\n",
    "                            plot_confusion_matrix, classification_report, plot_roc_curve, f1_score\n",
    "from sklearn.ensemble import RandomForestClassifier\n",
    "from sklearn.preprocessing import OneHotEncoder, LabelEncoder\n",
    "#from category_encoders import OneHotEncoder\n",
    "from sklearn.compose import make_column_transformer, make_column_selector\n",
    "from sklearn.experimental import enable_hist_gradient_boosting\n",
    "from sklearn.ensemble import HistGradientBoostingClassifier\n",
    "\n",
    "from imblearn.pipeline import make_pipeline\n",
    "from sklearn.ensemble import IsolationForest"
   ]
  },
  {
   "cell_type": "markdown",
   "id": "local-ceramic",
   "metadata": {},
   "source": [
    "# Data Import & Cleaning"
   ]
  },
  {
   "cell_type": "code",
   "execution_count": 153,
   "id": "speaking-corner",
   "metadata": {},
   "outputs": [],
   "source": [
    "df = pd.read_csv('./data/healthcare-dataset-stroke-data.csv')"
   ]
  },
  {
   "cell_type": "markdown",
   "id": "perceived-break",
   "metadata": {},
   "source": [
    "Binarizing / Vectorizing:"
   ]
  },
  {
   "cell_type": "code",
   "execution_count": 154,
   "id": "particular-salmon",
   "metadata": {},
   "outputs": [
    {
     "name": "stdout",
     "output_type": "stream",
     "text": [
      "['Male' 'Female' 'Other']\n",
      "['Yes' 'No']\n",
      "['Private' 'Self-employed' 'Govt_job' 'children' 'Never_worked']\n",
      "['Urban' 'Rural']\n",
      "['formerly smoked' 'never smoked' 'smokes' 'Unknown']\n"
     ]
    }
   ],
   "source": [
    "for i in ['gender', 'ever_married', 'work_type', 'Residence_type', 'smoking_status']:\n",
    "    print(df[i].unique())"
   ]
  },
  {
   "cell_type": "code",
   "execution_count": 155,
   "id": "growing-mirror",
   "metadata": {},
   "outputs": [],
   "source": [
    "df['gender'] = np.where(df['gender'] == 'Male', 1, 0)"
   ]
  },
  {
   "cell_type": "code",
   "execution_count": 156,
   "id": "collective-tennis",
   "metadata": {},
   "outputs": [],
   "source": [
    "df['ever_married'] = np.where(df['ever_married'] == 'Yes', 1, 0)"
   ]
  },
  {
   "cell_type": "code",
   "execution_count": 157,
   "id": "contemporary-movie",
   "metadata": {},
   "outputs": [],
   "source": [
    "df['Residence_type'] = np.where(df['Residence_type'] == 'Urban', 1, 0)"
   ]
  },
  {
   "cell_type": "code",
   "execution_count": 158,
   "id": "blank-cleaner",
   "metadata": {},
   "outputs": [],
   "source": [
    "df['smoking_status'] = np.where(((df['smoking_status'] == 'smokes') | (df['smoking_status'] == 'formerly smoked')), 1, 0)"
   ]
  },
  {
   "cell_type": "code",
   "execution_count": 159,
   "id": "special-emperor",
   "metadata": {},
   "outputs": [
    {
     "name": "stdout",
     "output_type": "stream",
     "text": [
      "[1 0]\n",
      "[1 0]\n",
      "['Private' 'Self-employed' 'Govt_job' 'children' 'Never_worked']\n",
      "[1 0]\n",
      "[1 0]\n"
     ]
    }
   ],
   "source": [
    "for i in ['gender', 'ever_married', 'work_type', 'Residence_type', 'smoking_status']:\n",
    "    print(df[i].unique())"
   ]
  },
  {
   "cell_type": "code",
   "execution_count": 160,
   "id": "attempted-spotlight",
   "metadata": {},
   "outputs": [],
   "source": [
    "#not imputing bmi due to the clinical importance as seen in the heatmap\n",
    "df.dropna(subset = ['bmi'], inplace = True)"
   ]
  },
  {
   "cell_type": "markdown",
   "id": "affiliated-compiler",
   "metadata": {},
   "source": [
    "Removing outliers:"
   ]
  },
  {
   "cell_type": "code",
   "execution_count": 161,
   "id": "lined-aquatic",
   "metadata": {},
   "outputs": [],
   "source": [
    "iso = IsolationForest(n_estimators = 1000, contamination = 0.08)"
   ]
  },
  {
   "cell_type": "code",
   "execution_count": 162,
   "id": "visible-newfoundland",
   "metadata": {},
   "outputs": [],
   "source": [
    "outs = pd.Series(iso.fit_predict(df[['bmi', 'avg_glucose_level']]), name = 'outliers')"
   ]
  },
  {
   "cell_type": "code",
   "execution_count": 163,
   "id": "local-johns",
   "metadata": {},
   "outputs": [
    {
     "data": {
      "text/plain": [
       " 1    4516\n",
       "-1     393\n",
       "Name: outliers, dtype: int64"
      ]
     },
     "execution_count": 163,
     "metadata": {},
     "output_type": "execute_result"
    }
   ],
   "source": [
    "outs.value_counts()"
   ]
  },
  {
   "cell_type": "code",
   "execution_count": 164,
   "id": "executive-manitoba",
   "metadata": {},
   "outputs": [],
   "source": [
    "df = pd.concat([outs.reset_index(), df.reset_index()], axis = 1, ignore_index = False).drop(columns = 'index')"
   ]
  },
  {
   "cell_type": "code",
   "execution_count": 165,
   "id": "later-boost",
   "metadata": {},
   "outputs": [],
   "source": [
    "df = df[df['outliers'] == 1]"
   ]
  },
  {
   "cell_type": "code",
   "execution_count": 166,
   "id": "native-multimedia",
   "metadata": {},
   "outputs": [
    {
     "data": {
      "text/plain": [
       "0    4339\n",
       "1     177\n",
       "Name: stroke, dtype: int64"
      ]
     },
     "execution_count": 166,
     "metadata": {},
     "output_type": "execute_result"
    }
   ],
   "source": [
    "# lost positive for stroke values\n",
    "df['stroke'].value_counts()"
   ]
  },
  {
   "cell_type": "markdown",
   "id": "timely-collectible",
   "metadata": {},
   "source": [
    "Pre-processing:"
   ]
  },
  {
   "cell_type": "code",
   "execution_count": 167,
   "id": "hairy-server",
   "metadata": {},
   "outputs": [],
   "source": [
    "le = LabelEncoder()\n",
    "ss = StandardScaler()"
   ]
  },
  {
   "cell_type": "code",
   "execution_count": 168,
   "id": "geographic-chicago",
   "metadata": {},
   "outputs": [],
   "source": [
    "df['work_type'] = le.fit_transform(df['work_type'])"
   ]
  },
  {
   "cell_type": "code",
   "execution_count": 169,
   "id": "reduced-reverse",
   "metadata": {},
   "outputs": [],
   "source": [
    "num_cols = ['age', 'avg_glucose_level', 'bmi']\n",
    "df[num_cols] = ss.fit_transform(df[num_cols])"
   ]
  },
  {
   "cell_type": "code",
   "execution_count": 170,
   "id": "differential-liability",
   "metadata": {},
   "outputs": [],
   "source": [
    "X = df.drop(columns = ['stroke', 'id', 'outliers'])\n",
    "y = df.stroke"
   ]
  },
  {
   "cell_type": "markdown",
   "id": "operational-husband",
   "metadata": {},
   "source": [
    "# Final Model\n",
    "- StandardScaler for numeric data.\n",
    "- LabelEncoding for strings\n",
    "- SMOTENC for imbalanced target"
   ]
  },
  {
   "cell_type": "markdown",
   "id": "gorgeous-hypothetical",
   "metadata": {},
   "source": [
    "SMOTENC"
   ]
  },
  {
   "cell_type": "code",
   "execution_count": 171,
   "id": "forced-siemens",
   "metadata": {},
   "outputs": [],
   "source": [
    "from imblearn.over_sampling import SMOTENC"
   ]
  },
  {
   "cell_type": "code",
   "execution_count": 172,
   "id": "virtual-september",
   "metadata": {},
   "outputs": [],
   "source": [
    "sm = SMOTENC(categorical_features = [0, 2])"
   ]
  },
  {
   "cell_type": "code",
   "execution_count": 173,
   "id": "introductory-phase",
   "metadata": {},
   "outputs": [],
   "source": [
    "X, y = sm.fit_resample(X, y)"
   ]
  },
  {
   "cell_type": "code",
   "execution_count": 174,
   "id": "distributed-entry",
   "metadata": {},
   "outputs": [],
   "source": [
    "X_train, X_test, y_train, y_test = train_test_split(X, y, stratify = y)"
   ]
  },
  {
   "cell_type": "code",
   "execution_count": 175,
   "id": "complete-certificate",
   "metadata": {},
   "outputs": [],
   "source": [
    "model = RandomForestClassifier()"
   ]
  },
  {
   "cell_type": "code",
   "execution_count": 176,
   "id": "contrary-wayne",
   "metadata": {},
   "outputs": [
    {
     "data": {
      "text/plain": [
       "RandomForestClassifier()"
      ]
     },
     "execution_count": 176,
     "metadata": {},
     "output_type": "execute_result"
    }
   ],
   "source": [
    "model.fit(X_train, y_train)"
   ]
  },
  {
   "cell_type": "code",
   "execution_count": 177,
   "id": "solid-madrid",
   "metadata": {},
   "outputs": [],
   "source": [
    "y_pred = model.predict(X_test)"
   ]
  },
  {
   "cell_type": "code",
   "execution_count": 178,
   "id": "controlling-handy",
   "metadata": {},
   "outputs": [
    {
     "name": "stdout",
     "output_type": "stream",
     "text": [
      "accuracy  = 0.946\n",
      "precision = 0.922\n",
      "recall    = 0.975\n",
      "f1-score  = 0.948\n",
      "roc auc   = 0.946\n",
      "null accuracy = 0.5\n"
     ]
    }
   ],
   "source": [
    "def classification_eval(y_test, y_pred):\n",
    "    print(f'accuracy  = {np.round(accuracy_score(y_test, y_pred), 3)}')\n",
    "    print(f'precision = {np.round(precision_score(y_test, y_pred), 3)}')\n",
    "    print(f'recall    = {np.round(recall_score(y_test, y_pred), 3)}')\n",
    "    print(f'f1-score  = {np.round(f1_score(y_test, y_pred), 3)}')\n",
    "    print(f'roc auc   = {np.round(roc_auc_score(y_test, y_pred), 3)}')\n",
    "    print(f'null accuracy = {round(max(y_test.mean(), 1 - y_test.mean()), 2)}')\n",
    "\n",
    "classification_eval(y_test, y_pred)"
   ]
  },
  {
   "cell_type": "code",
   "execution_count": 179,
   "id": "unique-circle",
   "metadata": {},
   "outputs": [
    {
     "data": {
      "image/png": "[encoded data removed]",
      "text/plain": [
       "<Figure size 432x288 with 2 Axes>"
      ]
     },
     "metadata": {},
     "output_type": "display_data"
    }
   ],
   "source": [
    "plot_confusion_matrix(model, X_test, y_test);"
   ]
  },
  {
   "cell_type": "code",
   "execution_count": 180,
   "id": "victorian-knitting",
   "metadata": {},
   "outputs": [],
   "source": [
    "y_pred_prob = model.predict_proba(X_test)"
   ]
  },
  {
   "cell_type": "code",
   "execution_count": 181,
   "id": "designed-boxing",
   "metadata": {},
   "outputs": [
    {
     "data": {
      "image/png": "[encoded data removed]",
      "text/plain": [
       "<Figure size 360x360 with 1 Axes>"
      ]
     },
     "metadata": {},
     "output_type": "display_data"
    }
   ],
   "source": [
    "sns.displot(y_pred_prob[:, 1]);\n",
    "plt.title('Histogram of predicted probabilities');"
   ]
  },
  {
   "cell_type": "code",
   "execution_count": 182,
   "id": "heard-catalyst",
   "metadata": {},
   "outputs": [
    {
     "data": {
      "image/png": "[encoded data removed]",
      "text/plain": [
       "<Figure size 432x288 with 1 Axes>"
      ]
     },
     "metadata": {},
     "output_type": "display_data"
    }
   ],
   "source": [
    "plot_roc_curve(model, X_test, y_test)\n",
    "plt.title('ROC AUC score and curve for subreddit classification');\n",
    "plt.plot([0,1], [0,1], 'k--')\n",
    "plt.show();"
   ]
  },
  {
   "cell_type": "code",
   "execution_count": 183,
   "id": "rental-class",
   "metadata": {},
   "outputs": [],
   "source": [
    "feat_names = [i for i in X_train]"
   ]
  },
  {
   "cell_type": "code",
   "execution_count": 184,
   "id": "stuck-settle",
   "metadata": {},
   "outputs": [],
   "source": [
    "classed = [i for i in y_train]"
   ]
  },
  {
   "cell_type": "code",
   "execution_count": 185,
   "id": "fluid-exception",
   "metadata": {},
   "outputs": [],
   "source": [
    "feat_import_df = pd.DataFrame({'importances': model.feature_importances_, \n",
    " 'name': feat_names}).sort_values('importances')"
   ]
  },
  {
   "cell_type": "code",
   "execution_count": 186,
   "id": "related-stack",
   "metadata": {},
   "outputs": [
    {
     "data": {
      "text/html": [
       "<div>\n",
       "<style scoped>\n",
       "    .dataframe tbody tr th:only-of-type {\n",
       "        vertical-align: middle;\n",
       "    }\n",
       "\n",
       "    .dataframe tbody tr th {\n",
       "        vertical-align: top;\n",
       "    }\n",
       "\n",
       "    .dataframe thead th {\n",
       "        text-align: right;\n",
       "    }\n",
       "</style>\n",
       "<table border=\"1\" class=\"dataframe\">\n",
       "  <thead>\n",
       "    <tr style=\"text-align: right;\">\n",
       "      <th></th>\n",
       "      <th>importances</th>\n",
       "      <th>name</th>\n",
       "    </tr>\n",
       "  </thead>\n",
       "  <tbody>\n",
       "    <tr>\n",
       "      <th>1</th>\n",
       "      <td>0.451409</td>\n",
       "      <td>age</td>\n",
       "    </tr>\n",
       "    <tr>\n",
       "      <th>7</th>\n",
       "      <td>0.182030</td>\n",
       "      <td>avg_glucose_level</td>\n",
       "    </tr>\n",
       "    <tr>\n",
       "      <th>8</th>\n",
       "      <td>0.170127</td>\n",
       "      <td>bmi</td>\n",
       "    </tr>\n",
       "    <tr>\n",
       "      <th>5</th>\n",
       "      <td>0.070093</td>\n",
       "      <td>work_type</td>\n",
       "    </tr>\n",
       "    <tr>\n",
       "      <th>4</th>\n",
       "      <td>0.027383</td>\n",
       "      <td>ever_married</td>\n",
       "    </tr>\n",
       "    <tr>\n",
       "      <th>9</th>\n",
       "      <td>0.026891</td>\n",
       "      <td>smoking_status</td>\n",
       "    </tr>\n",
       "    <tr>\n",
       "      <th>0</th>\n",
       "      <td>0.025352</td>\n",
       "      <td>gender</td>\n",
       "    </tr>\n",
       "    <tr>\n",
       "      <th>6</th>\n",
       "      <td>0.023157</td>\n",
       "      <td>Residence_type</td>\n",
       "    </tr>\n",
       "    <tr>\n",
       "      <th>2</th>\n",
       "      <td>0.012690</td>\n",
       "      <td>hypertension</td>\n",
       "    </tr>\n",
       "    <tr>\n",
       "      <th>3</th>\n",
       "      <td>0.010868</td>\n",
       "      <td>heart_disease</td>\n",
       "    </tr>\n",
       "  </tbody>\n",
       "</table>\n",
       "</div>"
      ],
      "text/plain": [
       "   importances               name\n",
       "1     0.451409                age\n",
       "7     0.182030  avg_glucose_level\n",
       "8     0.170127                bmi\n",
       "5     0.070093          work_type\n",
       "4     0.027383       ever_married\n",
       "9     0.026891     smoking_status\n",
       "0     0.025352             gender\n",
       "6     0.023157     Residence_type\n",
       "2     0.012690       hypertension\n",
       "3     0.010868      heart_disease"
      ]
     },
     "execution_count": 186,
     "metadata": {},
     "output_type": "execute_result"
    }
   ],
   "source": [
    "feat_import_df.sort_values('importances', ascending = False).head(15)"
   ]
  },
  {
   "cell_type": "code",
   "execution_count": 187,
   "id": "peripheral-maintenance",
   "metadata": {},
   "outputs": [
    {
     "data": {
      "image/png": "[encoded data removed]",
      "text/plain": [
       "<Figure size 1080x720 with 1 Axes>"
      ]
     },
     "metadata": {},
     "output_type": "display_data"
    }
   ],
   "source": [
    "sns.set(style=\"darkgrid\", context=\"notebook\")\n",
    "plt.figure(figsize=(15, 10))\n",
    "x = feat_import_df['importances'].tail(21)\n",
    "y = feat_import_df['name'].tail(21)\n",
    "sns.barplot(x = x, y = y).set_title('Top ranking features by importance');"
   ]
  },
  {
   "cell_type": "code",
   "execution_count": null,
   "id": "specified-electric",
   "metadata": {},
   "outputs": [],
   "source": []
  },
  {
   "cell_type": "code",
   "execution_count": null,
   "id": "corresponding-barbados",
   "metadata": {},
   "outputs": [],
   "source": []
  },
  {
   "cell_type": "code",
   "execution_count": null,
   "id": "saving-christian",
   "metadata": {},
   "outputs": [],
   "source": []
  },
  {
   "cell_type": "code",
   "execution_count": null,
   "id": "alpha-kingston",
   "metadata": {},
   "outputs": [],
   "source": []
  },
  {
   "cell_type": "code",
   "execution_count": null,
   "id": "differential-regulation",
   "metadata": {},
   "outputs": [],
   "source": []
  },
  {
   "cell_type": "code",
   "execution_count": null,
   "id": "aggregate-rachel",
   "metadata": {},
   "outputs": [],
   "source": []
  }
 ],
 "metadata": {
  "kernelspec": {
   "display_name": "Python 3",
   "language": "python",
   "name": "python3"
  },
  "language_info": {
   "codemirror_mode": {
    "name": "ipython",
    "version": 3
   },
   "file_extension": ".py",
   "mimetype": "text/x-python",
   "name": "python",
   "nbconvert_exporter": "python",
   "pygments_lexer": "ipython3",
   "version": "3.8.2"
  }
 },
 "nbformat": 4,
 "nbformat_minor": 5
}
