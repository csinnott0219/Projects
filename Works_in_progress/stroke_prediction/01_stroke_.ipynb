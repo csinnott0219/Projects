{
 "cells": [
  {
   "cell_type": "markdown",
   "id": "dying-thought",
   "metadata": {},
   "source": [
    "# Stroke Prediction\n",
    " - Data aquired from: https://www.kaggle.com/fedesoriano/stroke-prediction-dataset\n",
    " - Code to be used for a blog post on handling imbalanced data."
   ]
  },
  {
   "cell_type": "markdown",
   "id": "impaired-headline",
   "metadata": {},
   "source": [
    "#### Importing Libraries"
   ]
  },
  {
   "cell_type": "code",
   "execution_count": 216,
   "id": "described-discount",
   "metadata": {},
   "outputs": [],
   "source": [
    "import matplotlib.pyplot as plt\n",
    "import seaborn as sns\n",
    "import pandas as pd\n",
    "import numpy as np\n",
    "\n",
    "from sklearn.preprocessing import PolynomialFeatures, StandardScaler\n",
    "from sklearn.model_selection import GridSearchCV, train_test_split, RandomizedSearchCV\n",
    "from sklearn.metrics import confusion_matrix, accuracy_score, balanced_accuracy_score,\\\n",
    "                            precision_score, recall_score, roc_auc_score,\\\n",
    "                            plot_confusion_matrix, classification_report, plot_roc_curve, f1_score\n",
    "from sklearn.ensemble import RandomForestClassifier\n",
    "from sklearn.preprocessing import OneHotEncoder, LabelEncoder\n",
    "#from category_encoders import OneHotEncoder\n",
    "from sklearn.compose import make_column_transformer, make_column_selector"
   ]
  },
  {
   "cell_type": "code",
   "execution_count": 288,
   "id": "aquatic-cedar",
   "metadata": {},
   "outputs": [],
   "source": [
    "from imblearn.pipeline import make_pipeline\n",
    "from sklearn.ensemble import IsolationForest"
   ]
  },
  {
   "cell_type": "markdown",
   "id": "israeli-comparative",
   "metadata": {},
   "source": [
    "# Data Import & Cleaning"
   ]
  },
  {
   "cell_type": "code",
   "execution_count": 202,
   "id": "sporting-doctor",
   "metadata": {},
   "outputs": [],
   "source": [
    "df = pd.read_csv('./data/healthcare-dataset-stroke-data.csv')"
   ]
  },
  {
   "cell_type": "code",
   "execution_count": 203,
   "id": "dominant-metabolism",
   "metadata": {},
   "outputs": [
    {
     "data": {
      "text/html": [
       "<div>\n",
       "<style scoped>\n",
       "    .dataframe tbody tr th:only-of-type {\n",
       "        vertical-align: middle;\n",
       "    }\n",
       "\n",
       "    .dataframe tbody tr th {\n",
       "        vertical-align: top;\n",
       "    }\n",
       "\n",
       "    .dataframe thead th {\n",
       "        text-align: right;\n",
       "    }\n",
       "</style>\n",
       "<table border=\"1\" class=\"dataframe\">\n",
       "  <thead>\n",
       "    <tr style=\"text-align: right;\">\n",
       "      <th></th>\n",
       "      <th>id</th>\n",
       "      <th>gender</th>\n",
       "      <th>age</th>\n",
       "      <th>hypertension</th>\n",
       "      <th>heart_disease</th>\n",
       "      <th>ever_married</th>\n",
       "      <th>work_type</th>\n",
       "      <th>Residence_type</th>\n",
       "      <th>avg_glucose_level</th>\n",
       "      <th>bmi</th>\n",
       "      <th>smoking_status</th>\n",
       "      <th>stroke</th>\n",
       "    </tr>\n",
       "  </thead>\n",
       "  <tbody>\n",
       "    <tr>\n",
       "      <th>0</th>\n",
       "      <td>9046</td>\n",
       "      <td>Male</td>\n",
       "      <td>67.0</td>\n",
       "      <td>0</td>\n",
       "      <td>1</td>\n",
       "      <td>Yes</td>\n",
       "      <td>Private</td>\n",
       "      <td>Urban</td>\n",
       "      <td>228.69</td>\n",
       "      <td>36.6</td>\n",
       "      <td>formerly smoked</td>\n",
       "      <td>1</td>\n",
       "    </tr>\n",
       "    <tr>\n",
       "      <th>1</th>\n",
       "      <td>51676</td>\n",
       "      <td>Female</td>\n",
       "      <td>61.0</td>\n",
       "      <td>0</td>\n",
       "      <td>0</td>\n",
       "      <td>Yes</td>\n",
       "      <td>Self-employed</td>\n",
       "      <td>Rural</td>\n",
       "      <td>202.21</td>\n",
       "      <td>NaN</td>\n",
       "      <td>never smoked</td>\n",
       "      <td>1</td>\n",
       "    </tr>\n",
       "    <tr>\n",
       "      <th>2</th>\n",
       "      <td>31112</td>\n",
       "      <td>Male</td>\n",
       "      <td>80.0</td>\n",
       "      <td>0</td>\n",
       "      <td>1</td>\n",
       "      <td>Yes</td>\n",
       "      <td>Private</td>\n",
       "      <td>Rural</td>\n",
       "      <td>105.92</td>\n",
       "      <td>32.5</td>\n",
       "      <td>never smoked</td>\n",
       "      <td>1</td>\n",
       "    </tr>\n",
       "  </tbody>\n",
       "</table>\n",
       "</div>"
      ],
      "text/plain": [
       "      id  gender   age  hypertension  heart_disease ever_married  \\\n",
       "0   9046    Male  67.0             0              1          Yes   \n",
       "1  51676  Female  61.0             0              0          Yes   \n",
       "2  31112    Male  80.0             0              1          Yes   \n",
       "\n",
       "       work_type Residence_type  avg_glucose_level   bmi   smoking_status  \\\n",
       "0        Private          Urban             228.69  36.6  formerly smoked   \n",
       "1  Self-employed          Rural             202.21   NaN     never smoked   \n",
       "2        Private          Rural             105.92  32.5     never smoked   \n",
       "\n",
       "   stroke  \n",
       "0       1  \n",
       "1       1  \n",
       "2       1  "
      ]
     },
     "execution_count": 203,
     "metadata": {},
     "output_type": "execute_result"
    }
   ],
   "source": [
    "df.head(3)"
   ]
  },
  {
   "cell_type": "code",
   "execution_count": 5,
   "id": "linear-surrey",
   "metadata": {},
   "outputs": [
    {
     "data": {
      "text/plain": [
       "(5110, 12)"
      ]
     },
     "execution_count": 5,
     "metadata": {},
     "output_type": "execute_result"
    }
   ],
   "source": [
    "df.shape"
   ]
  },
  {
   "cell_type": "code",
   "execution_count": 47,
   "id": "governmental-organizer",
   "metadata": {},
   "outputs": [
    {
     "name": "stdout",
     "output_type": "stream",
     "text": [
      "<class 'pandas.core.frame.DataFrame'>\n",
      "Int64Index: 4909 entries, 0 to 5109\n",
      "Data columns (total 12 columns):\n",
      " #   Column             Non-Null Count  Dtype  \n",
      "---  ------             --------------  -----  \n",
      " 0   id                 4909 non-null   int64  \n",
      " 1   gender             4909 non-null   int64  \n",
      " 2   age                4909 non-null   float64\n",
      " 3   hypertension       4909 non-null   int64  \n",
      " 4   heart_disease      4909 non-null   int64  \n",
      " 5   ever_married       4909 non-null   int64  \n",
      " 6   work_type          4909 non-null   object \n",
      " 7   Residence_type     4909 non-null   int64  \n",
      " 8   avg_glucose_level  4909 non-null   float64\n",
      " 9   bmi                4909 non-null   float64\n",
      " 10  smoking_status     4909 non-null   object \n",
      " 11  stroke             4909 non-null   int64  \n",
      "dtypes: float64(3), int64(7), object(2)\n",
      "memory usage: 498.6+ KB\n"
     ]
    }
   ],
   "source": [
    "df.info()"
   ]
  },
  {
   "cell_type": "markdown",
   "id": "scientific-mystery",
   "metadata": {},
   "source": [
    "Binarizing / Vectorizing where possible:"
   ]
  },
  {
   "cell_type": "code",
   "execution_count": 65,
   "id": "treated-organ",
   "metadata": {},
   "outputs": [
    {
     "name": "stdout",
     "output_type": "stream",
     "text": [
      "[1 0]\n",
      "[1 0]\n",
      "['Private' 'Self-employed' 'Govt_job' 'children' 'Never_worked']\n",
      "[1 0]\n",
      "['formerly smoked' 'never smoked' 'smokes' 'Unknown']\n"
     ]
    }
   ],
   "source": [
    "for i in ['gender', 'ever_married', 'work_type', 'Residence_type', 'smoking_status']:\n",
    "    print(df[i].unique())"
   ]
  },
  {
   "cell_type": "code",
   "execution_count": 209,
   "id": "junior-antique",
   "metadata": {},
   "outputs": [],
   "source": [
    "df['gender'] = np.where(df['gender'] == 'Male', 1, 0)"
   ]
  },
  {
   "cell_type": "code",
   "execution_count": 210,
   "id": "short-moore",
   "metadata": {},
   "outputs": [],
   "source": [
    "df['ever_married'] = np.where(df['ever_married'] == 'Yes', 1, 0)"
   ]
  },
  {
   "cell_type": "code",
   "execution_count": 211,
   "id": "extreme-salvation",
   "metadata": {},
   "outputs": [],
   "source": [
    "df['Residence_type'] = np.where(df['Residence_type'] == 'Urban', 1, 0)"
   ]
  },
  {
   "cell_type": "code",
   "execution_count": 207,
   "id": "commercial-street",
   "metadata": {},
   "outputs": [],
   "source": [
    "df['smoking_status'] = np.where(((df['smoking_status'] == 'smokes') | (df['smoking_status'] == 'formerly smoked')), 1, 0)"
   ]
  },
  {
   "cell_type": "code",
   "execution_count": 208,
   "id": "limiting-playlist",
   "metadata": {},
   "outputs": [
    {
     "data": {
      "text/plain": [
       "0    3436\n",
       "1    1674\n",
       "Name: smoking_status, dtype: int64"
      ]
     },
     "execution_count": 208,
     "metadata": {},
     "output_type": "execute_result"
    }
   ],
   "source": [
    "df.smoking_status.value_counts()"
   ]
  },
  {
   "cell_type": "code",
   "execution_count": 212,
   "id": "hindu-youth",
   "metadata": {},
   "outputs": [],
   "source": [
    "df.dropna(subset = ['bmi'], inplace = True)"
   ]
  },
  {
   "cell_type": "markdown",
   "id": "short-asbestos",
   "metadata": {},
   "source": [
    "Highly imbalanced classes:"
   ]
  },
  {
   "cell_type": "code",
   "execution_count": 213,
   "id": "conventional-desire",
   "metadata": {},
   "outputs": [
    {
     "data": {
      "image/png": "[encoded data removed]",
      "text/plain": [
       "<Figure size 360x360 with 1 Axes>"
      ]
     },
     "metadata": {
      "needs_background": "light"
     },
     "output_type": "display_data"
    }
   ],
   "source": [
    "sns.displot(df.stroke);"
   ]
  },
  {
   "cell_type": "code",
   "execution_count": 214,
   "id": "distant-colonial",
   "metadata": {},
   "outputs": [
    {
     "data": {
      "text/plain": [
       "0    4700\n",
       "1     209\n",
       "Name: stroke, dtype: int64"
      ]
     },
     "execution_count": 214,
     "metadata": {},
     "output_type": "execute_result"
    }
   ],
   "source": [
    "df.stroke.value_counts()"
   ]
  },
  {
   "cell_type": "markdown",
   "id": "alien-trust",
   "metadata": {},
   "source": [
    "Removing outliers:"
   ]
  },
  {
   "cell_type": "code",
   "execution_count": 218,
   "id": "sunrise-stranger",
   "metadata": {},
   "outputs": [],
   "source": [
    "iso = IsolationForest(n_estimators = 1000, contamination = 0.1)"
   ]
  },
  {
   "cell_type": "code",
   "execution_count": 220,
   "id": "proper-secretary",
   "metadata": {},
   "outputs": [],
   "source": [
    "outs = pd.Series(iso.fit_predict(df[['bmi', 'avg_glucose_level']]))"
   ]
  },
  {
   "cell_type": "code",
   "execution_count": 221,
   "id": "devoted-skating",
   "metadata": {},
   "outputs": [
    {
     "data": {
      "text/plain": [
       " 1    4418\n",
       "-1     491\n",
       "dtype: int64"
      ]
     },
     "execution_count": 221,
     "metadata": {},
     "output_type": "execute_result"
    }
   ],
   "source": [
    "outs.value_counts()"
   ]
  },
  {
   "cell_type": "code",
   "execution_count": 222,
   "id": "superb-jurisdiction",
   "metadata": {},
   "outputs": [],
   "source": [
    "df = pd.concat([outs.reset_index(), df.reset_index()], axis = 1, ignore_index = False).drop(columns = 'index')"
   ]
  },
  {
   "cell_type": "code",
   "execution_count": 223,
   "id": "disciplinary-biotechnology",
   "metadata": {},
   "outputs": [
    {
     "data": {
      "text/html": [
       "<div>\n",
       "<style scoped>\n",
       "    .dataframe tbody tr th:only-of-type {\n",
       "        vertical-align: middle;\n",
       "    }\n",
       "\n",
       "    .dataframe tbody tr th {\n",
       "        vertical-align: top;\n",
       "    }\n",
       "\n",
       "    .dataframe thead th {\n",
       "        text-align: right;\n",
       "    }\n",
       "</style>\n",
       "<table border=\"1\" class=\"dataframe\">\n",
       "  <thead>\n",
       "    <tr style=\"text-align: right;\">\n",
       "      <th></th>\n",
       "      <th>0</th>\n",
       "      <th>id</th>\n",
       "      <th>gender</th>\n",
       "      <th>age</th>\n",
       "      <th>hypertension</th>\n",
       "      <th>heart_disease</th>\n",
       "      <th>ever_married</th>\n",
       "      <th>work_type</th>\n",
       "      <th>Residence_type</th>\n",
       "      <th>avg_glucose_level</th>\n",
       "      <th>bmi</th>\n",
       "      <th>smoking_status</th>\n",
       "      <th>stroke</th>\n",
       "    </tr>\n",
       "  </thead>\n",
       "  <tbody>\n",
       "    <tr>\n",
       "      <th>0</th>\n",
       "      <td>-1</td>\n",
       "      <td>9046</td>\n",
       "      <td>1</td>\n",
       "      <td>67.0</td>\n",
       "      <td>0</td>\n",
       "      <td>1</td>\n",
       "      <td>1</td>\n",
       "      <td>Private</td>\n",
       "      <td>1</td>\n",
       "      <td>228.69</td>\n",
       "      <td>36.6</td>\n",
       "      <td>1</td>\n",
       "      <td>1</td>\n",
       "    </tr>\n",
       "    <tr>\n",
       "      <th>1</th>\n",
       "      <td>1</td>\n",
       "      <td>31112</td>\n",
       "      <td>1</td>\n",
       "      <td>80.0</td>\n",
       "      <td>0</td>\n",
       "      <td>1</td>\n",
       "      <td>1</td>\n",
       "      <td>Private</td>\n",
       "      <td>0</td>\n",
       "      <td>105.92</td>\n",
       "      <td>32.5</td>\n",
       "      <td>0</td>\n",
       "      <td>1</td>\n",
       "    </tr>\n",
       "    <tr>\n",
       "      <th>2</th>\n",
       "      <td>1</td>\n",
       "      <td>60182</td>\n",
       "      <td>0</td>\n",
       "      <td>49.0</td>\n",
       "      <td>0</td>\n",
       "      <td>0</td>\n",
       "      <td>1</td>\n",
       "      <td>Private</td>\n",
       "      <td>1</td>\n",
       "      <td>171.23</td>\n",
       "      <td>34.4</td>\n",
       "      <td>1</td>\n",
       "      <td>1</td>\n",
       "    </tr>\n",
       "  </tbody>\n",
       "</table>\n",
       "</div>"
      ],
      "text/plain": [
       "   0     id  gender   age  hypertension  heart_disease  ever_married  \\\n",
       "0 -1   9046       1  67.0             0              1             1   \n",
       "1  1  31112       1  80.0             0              1             1   \n",
       "2  1  60182       0  49.0             0              0             1   \n",
       "\n",
       "  work_type  Residence_type  avg_glucose_level   bmi  smoking_status  stroke  \n",
       "0   Private               1             228.69  36.6               1       1  \n",
       "1   Private               0             105.92  32.5               0       1  \n",
       "2   Private               1             171.23  34.4               1       1  "
      ]
     },
     "execution_count": 223,
     "metadata": {},
     "output_type": "execute_result"
    }
   ],
   "source": [
    "df.head(3)"
   ]
  },
  {
   "cell_type": "code",
   "execution_count": 224,
   "id": "colonial-norfolk",
   "metadata": {},
   "outputs": [],
   "source": [
    "df = df[df[0] == 1]"
   ]
  },
  {
   "cell_type": "code",
   "execution_count": 225,
   "id": "stable-forth",
   "metadata": {},
   "outputs": [
    {
     "data": {
      "text/plain": [
       "(4418, 13)"
      ]
     },
     "execution_count": 225,
     "metadata": {},
     "output_type": "execute_result"
    }
   ],
   "source": [
    "df.shape"
   ]
  },
  {
   "cell_type": "code",
   "execution_count": 226,
   "id": "skilled-citizen",
   "metadata": {},
   "outputs": [
    {
     "data": {
      "text/plain": [
       "0    4246\n",
       "1     172\n",
       "Name: stroke, dtype: int64"
      ]
     },
     "execution_count": 226,
     "metadata": {},
     "output_type": "execute_result"
    }
   ],
   "source": [
    "df['stroke'].value_counts()"
   ]
  },
  {
   "cell_type": "markdown",
   "id": "possible-dairy",
   "metadata": {},
   "source": [
    "# Visualizations"
   ]
  },
  {
   "cell_type": "code",
   "execution_count": 215,
   "id": "atmospheric-sculpture",
   "metadata": {},
   "outputs": [
    {
     "data": {
      "image/png": "[encoded data removed]",
      "text/plain": [
       "<Figure size 1296x360 with 2 Axes>"
      ]
     },
     "metadata": {
      "needs_background": "light"
     },
     "output_type": "display_data"
    }
   ],
   "source": [
    "import matplotlib.pyplot as plt\n",
    "mask = np.zeros_like(df.corr())\n",
    "mask[np.triu_indices_from(mask)] = True\n",
    "plt.figure(figsize=(18, 5))\n",
    "sns.heatmap(\n",
    "    df.corr(),\n",
    "    cmap='coolwarm',\n",
    "    annot=True,\n",
    "    mask=mask,\n",
    "    vmin=-1.,\n",
    "    vmax=1.,\n",
    "    linewidths=.01\n",
    ")\n",
    "plt.title('Correlation matrix');\n",
    "#everything has a colinear relationship with age"
   ]
  },
  {
   "cell_type": "markdown",
   "id": "cognitive-egypt",
   "metadata": {},
   "source": [
    "# Model Testing\n",
    "- StandardScaler for numeric data.\n",
    "- LabelEncoding for strings\n",
    "- Different approaches to imbalanced target"
   ]
  },
  {
   "cell_type": "markdown",
   "id": "controlling-divorce",
   "metadata": {},
   "source": [
    "No handling of imbalance:"
   ]
  },
  {
   "cell_type": "code",
   "execution_count": 276,
   "id": "finnish-general",
   "metadata": {},
   "outputs": [],
   "source": [
    "X = df.drop(columns = ['stroke', 'id'])\n",
    "y = df.stroke"
   ]
  },
  {
   "cell_type": "code",
   "execution_count": 31,
   "id": "ambient-hardwood",
   "metadata": {},
   "outputs": [],
   "source": [
    "#np.count_nonzero((predictions == 1) & (y == 1) | (predictions == 0) & (y == 0)) / np.size(y)"
   ]
  },
  {
   "cell_type": "code",
   "execution_count": 277,
   "id": "express-index",
   "metadata": {},
   "outputs": [],
   "source": [
    "X_train, X_test, y_train, y_test = train_test_split(X, y, stratify = y)"
   ]
  },
  {
   "cell_type": "code",
   "execution_count": 99,
   "id": "protecting-marketing",
   "metadata": {},
   "outputs": [
    {
     "name": "stdout",
     "output_type": "stream",
     "text": [
      "Null model accuracy: 0.96\n"
     ]
    }
   ],
   "source": [
    "print(f'Null model accuracy: {round(max(y_test.mean(), 1 - y_test.mean()), 2)}')"
   ]
  },
  {
   "cell_type": "code",
   "execution_count": 217,
   "id": "introductory-underground",
   "metadata": {},
   "outputs": [],
   "source": [
    "mct = make_column_transformer(\n",
    "        (StandardScaler(), make_column_selector(dtype_include = np.number)),\n",
    "        (LabelEncoder(), make_column_selector(dtype_include = object))\n",
    ")"
   ]
  },
  {
   "cell_type": "code",
   "execution_count": 101,
   "id": "noticed-identification",
   "metadata": {},
   "outputs": [],
   "source": [
    "X_train = mct.fit_transform(X_train)"
   ]
  },
  {
   "cell_type": "code",
   "execution_count": 102,
   "id": "generic-salem",
   "metadata": {},
   "outputs": [],
   "source": [
    "X_test = mct.transform(X_test)"
   ]
  },
  {
   "cell_type": "code",
   "execution_count": 81,
   "id": "level-parcel",
   "metadata": {},
   "outputs": [],
   "source": [
    "rf = RandomForestClassifier()"
   ]
  },
  {
   "cell_type": "code",
   "execution_count": 82,
   "id": "overall-crisis",
   "metadata": {},
   "outputs": [
    {
     "data": {
      "text/plain": [
       "RandomForestClassifier()"
      ]
     },
     "execution_count": 82,
     "metadata": {},
     "output_type": "execute_result"
    }
   ],
   "source": [
    "rf.fit(X_train, y_train)"
   ]
  },
  {
   "cell_type": "code",
   "execution_count": 83,
   "id": "sapphire-array",
   "metadata": {},
   "outputs": [],
   "source": [
    "y_pred = rf.predict(X_test)"
   ]
  },
  {
   "cell_type": "code",
   "execution_count": 87,
   "id": "pleasant-mountain",
   "metadata": {},
   "outputs": [
    {
     "name": "stdout",
     "output_type": "stream",
     "text": [
      "accuracy  = 0.957\n",
      "precision = 0.0\n",
      "recall    = 0.0\n",
      "f1-score  = 0.0\n",
      "roc auc   = 0.5\n"
     ]
    }
   ],
   "source": [
    "def classification_eval(y_test, y_pred):\n",
    "    print(f'accuracy  = {np.round(accuracy_score(y_test, y_pred), 3)}')\n",
    "    print(f'precision = {np.round(precision_score(y_test, y_pred), 3)}')\n",
    "    print(f'recall    = {np.round(recall_score(y_test, y_pred), 3)}')\n",
    "    print(f'f1-score  = {np.round(f1_score(y_test, y_pred), 3)}')\n",
    "    print(f'roc auc   = {np.round(roc_auc_score(y_test, y_pred), 3)}')\n",
    "    print(f'null accuracy = {round(max(y_test.mean(), 1 - y_test.mean()), 2)}')\n",
    "\n",
    "classification_eval(y_test, y_pred)"
   ]
  },
  {
   "cell_type": "code",
   "execution_count": null,
   "id": "tutorial-senator",
   "metadata": {},
   "outputs": [],
   "source": [
    "plot_confusion_matrix(rf, X_test, y_test);"
   ]
  },
  {
   "cell_type": "markdown",
   "id": "endless-awareness",
   "metadata": {},
   "source": [
    "Pre-processing outside of pipeline for flexibility/speed:"
   ]
  },
  {
   "cell_type": "code",
   "execution_count": 248,
   "id": "cooked-saturn",
   "metadata": {},
   "outputs": [],
   "source": [
    "le = LabelEncoder()\n",
    "ss = StandardScaler()"
   ]
  },
  {
   "cell_type": "code",
   "execution_count": 239,
   "id": "homeless-network",
   "metadata": {},
   "outputs": [],
   "source": [
    "df['work_type'] = le.fit_transform(df['work_type'])"
   ]
  },
  {
   "cell_type": "code",
   "execution_count": 247,
   "id": "detailed-percentage",
   "metadata": {},
   "outputs": [],
   "source": [
    "num_cols = ['age', 'avg_glucose_level', 'bmi']"
   ]
  },
  {
   "cell_type": "code",
   "execution_count": 249,
   "id": "packed-polls",
   "metadata": {},
   "outputs": [],
   "source": [
    "df[num_cols] = ss.fit_transform(df[num_cols])"
   ]
  },
  {
   "cell_type": "code",
   "execution_count": null,
   "id": "interpreted-sound",
   "metadata": {},
   "outputs": [],
   "source": [
    "X = df.drop(columns = ['stroke', 'id'])\n",
    "y = df.stroke"
   ]
  },
  {
   "cell_type": "markdown",
   "id": "clinical-chair",
   "metadata": {},
   "source": [
    "RandomOversampler:"
   ]
  },
  {
   "cell_type": "code",
   "execution_count": 262,
   "id": "creative-nutrition",
   "metadata": {},
   "outputs": [],
   "source": [
    "from imblearn.over_sampling import RandomOverSampler"
   ]
  },
  {
   "cell_type": "code",
   "execution_count": null,
   "id": "tutorial-subdivision",
   "metadata": {},
   "outputs": [],
   "source": [
    "rs = RandomOverSampler()"
   ]
  },
  {
   "cell_type": "code",
   "execution_count": null,
   "id": "adequate-spoke",
   "metadata": {},
   "outputs": [],
   "source": [
    "X, y = rs.fit_resample(X, y)"
   ]
  },
  {
   "cell_type": "code",
   "execution_count": 263,
   "id": "charitable-rider",
   "metadata": {},
   "outputs": [],
   "source": [
    "X_train, X_test, y_train, y_test = train_test_split(X, y, stratify = y)"
   ]
  },
  {
   "cell_type": "code",
   "execution_count": 264,
   "id": "electronic-trunk",
   "metadata": {},
   "outputs": [
    {
     "data": {
      "text/plain": [
       "RandomForestClassifier()"
      ]
     },
     "execution_count": 264,
     "metadata": {},
     "output_type": "execute_result"
    }
   ],
   "source": [
    "rf.fit(X_train, y_train)"
   ]
  },
  {
   "cell_type": "code",
   "execution_count": 265,
   "id": "possible-shoulder",
   "metadata": {},
   "outputs": [],
   "source": [
    "y_pred = rf.predict(X_test)"
   ]
  },
  {
   "cell_type": "code",
   "execution_count": 266,
   "id": "thrown-arlington",
   "metadata": {},
   "outputs": [
    {
     "name": "stdout",
     "output_type": "stream",
     "text": [
      "accuracy  = 0.95\n",
      "precision = 0.931\n",
      "recall    = 0.972\n",
      "f1-score  = 0.951\n",
      "roc auc   = 0.95\n"
     ]
    }
   ],
   "source": [
    "def classification_eval(y_test, y_pred):\n",
    "    print(f'accuracy  = {np.round(accuracy_score(y_test, y_pred), 3)}')\n",
    "    print(f'precision = {np.round(precision_score(y_test, y_pred), 3)}')\n",
    "    print(f'recall    = {np.round(recall_score(y_test, y_pred), 3)}')\n",
    "    print(f'f1-score  = {np.round(f1_score(y_test, y_pred), 3)}')\n",
    "    print(f'roc auc   = {np.round(roc_auc_score(y_test, y_pred), 3)}')\n",
    "    print(f'null accuracy = {round(max(y_test.mean(), 1 - y_test.mean()), 2)}')\n",
    "\n",
    "classification_eval(y_test, y_pred)"
   ]
  },
  {
   "cell_type": "code",
   "execution_count": null,
   "id": "described-canberra",
   "metadata": {},
   "outputs": [],
   "source": [
    "plot_confusion_matrix(rf, X_test, y_test);"
   ]
  },
  {
   "cell_type": "markdown",
   "id": "developed-documentary",
   "metadata": {},
   "source": [
    "SMOTE:"
   ]
  },
  {
   "cell_type": "code",
   "execution_count": 262,
   "id": "presidential-resident",
   "metadata": {},
   "outputs": [],
   "source": [
    "from imblearn.over_sampling import SMOTE"
   ]
  },
  {
   "cell_type": "code",
   "execution_count": null,
   "id": "environmental-viewer",
   "metadata": {},
   "outputs": [],
   "source": [
    "sm = SMOTE()"
   ]
  },
  {
   "cell_type": "code",
   "execution_count": null,
   "id": "deluxe-blanket",
   "metadata": {},
   "outputs": [],
   "source": [
    "X, y = sm.fit_resample(X, y)"
   ]
  },
  {
   "cell_type": "code",
   "execution_count": 263,
   "id": "sensitive-defendant",
   "metadata": {},
   "outputs": [],
   "source": [
    "X_train, X_test, y_train, y_test = train_test_split(X, y, stratify = y)"
   ]
  },
  {
   "cell_type": "code",
   "execution_count": 264,
   "id": "sensitive-sleeping",
   "metadata": {},
   "outputs": [
    {
     "data": {
      "text/plain": [
       "RandomForestClassifier()"
      ]
     },
     "execution_count": 264,
     "metadata": {},
     "output_type": "execute_result"
    }
   ],
   "source": [
    "rf.fit(X_train, y_train)"
   ]
  },
  {
   "cell_type": "code",
   "execution_count": 265,
   "id": "expensive-grenada",
   "metadata": {},
   "outputs": [],
   "source": [
    "y_pred = rf.predict(X_test)"
   ]
  },
  {
   "cell_type": "code",
   "execution_count": 266,
   "id": "extraordinary-literature",
   "metadata": {},
   "outputs": [
    {
     "name": "stdout",
     "output_type": "stream",
     "text": [
      "accuracy  = 0.95\n",
      "precision = 0.931\n",
      "recall    = 0.972\n",
      "f1-score  = 0.951\n",
      "roc auc   = 0.95\n"
     ]
    }
   ],
   "source": [
    "def classification_eval(y_test, y_pred):\n",
    "    print(f'accuracy  = {np.round(accuracy_score(y_test, y_pred), 3)}')\n",
    "    print(f'precision = {np.round(precision_score(y_test, y_pred), 3)}')\n",
    "    print(f'recall    = {np.round(recall_score(y_test, y_pred), 3)}')\n",
    "    print(f'f1-score  = {np.round(f1_score(y_test, y_pred), 3)}')\n",
    "    print(f'roc auc   = {np.round(roc_auc_score(y_test, y_pred), 3)}')\n",
    "    print(f'null accuracy = {round(max(y_test.mean(), 1 - y_test.mean()), 2)}')\n",
    "\n",
    "classification_eval(y_test, y_pred)"
   ]
  },
  {
   "cell_type": "code",
   "execution_count": null,
   "id": "conservative-ceremony",
   "metadata": {},
   "outputs": [],
   "source": [
    "plot_confusion_matrix(rf, X_test, y_test);"
   ]
  },
  {
   "cell_type": "markdown",
   "id": "designed-listing",
   "metadata": {},
   "source": [
    "ADASYN:"
   ]
  },
  {
   "cell_type": "code",
   "execution_count": 262,
   "id": "homeless-incidence",
   "metadata": {},
   "outputs": [],
   "source": [
    "from imblearn.over_sampling import ADASYN"
   ]
  },
  {
   "cell_type": "code",
   "execution_count": null,
   "id": "growing-failing",
   "metadata": {},
   "outputs": [],
   "source": [
    "ad = ADASYN()"
   ]
  },
  {
   "cell_type": "code",
   "execution_count": null,
   "id": "burning-cruise",
   "metadata": {},
   "outputs": [],
   "source": [
    "X, y = ad.fit_resample(X, y)"
   ]
  },
  {
   "cell_type": "code",
   "execution_count": 263,
   "id": "strong-sewing",
   "metadata": {},
   "outputs": [],
   "source": [
    "X_train, X_test, y_train, y_test = train_test_split(X, y, stratify = y)"
   ]
  },
  {
   "cell_type": "code",
   "execution_count": 264,
   "id": "portuguese-consolidation",
   "metadata": {},
   "outputs": [
    {
     "data": {
      "text/plain": [
       "RandomForestClassifier()"
      ]
     },
     "execution_count": 264,
     "metadata": {},
     "output_type": "execute_result"
    }
   ],
   "source": [
    "rf.fit(X_train, y_train)"
   ]
  },
  {
   "cell_type": "code",
   "execution_count": 265,
   "id": "other-chile",
   "metadata": {},
   "outputs": [],
   "source": [
    "y_pred = rf.predict(X_test)"
   ]
  },
  {
   "cell_type": "code",
   "execution_count": 266,
   "id": "changing-minimum",
   "metadata": {},
   "outputs": [
    {
     "name": "stdout",
     "output_type": "stream",
     "text": [
      "accuracy  = 0.95\n",
      "precision = 0.931\n",
      "recall    = 0.972\n",
      "f1-score  = 0.951\n",
      "roc auc   = 0.95\n"
     ]
    }
   ],
   "source": [
    "def classification_eval(y_test, y_pred):\n",
    "    print(f'accuracy  = {np.round(accuracy_score(y_test, y_pred), 3)}')\n",
    "    print(f'precision = {np.round(precision_score(y_test, y_pred), 3)}')\n",
    "    print(f'recall    = {np.round(recall_score(y_test, y_pred), 3)}')\n",
    "    print(f'f1-score  = {np.round(f1_score(y_test, y_pred), 3)}')\n",
    "    print(f'roc auc   = {np.round(roc_auc_score(y_test, y_pred), 3)}')\n",
    "    print(f'null accuracy = {round(max(y_test.mean(), 1 - y_test.mean()), 2)}')\n",
    "\n",
    "classification_eval(y_test, y_pred)"
   ]
  },
  {
   "cell_type": "code",
   "execution_count": null,
   "id": "miniature-insertion",
   "metadata": {},
   "outputs": [],
   "source": [
    "plot_confusion_matrix(rf, X_test, y_test);"
   ]
  },
  {
   "cell_type": "markdown",
   "id": "recent-dispatch",
   "metadata": {},
   "source": [
    "SMOTENC"
   ]
  },
  {
   "cell_type": "code",
   "execution_count": 289,
   "id": "revolutionary-admission",
   "metadata": {},
   "outputs": [],
   "source": [
    "from imblearn.over_sampling import SMOTENC"
   ]
  },
  {
   "cell_type": "code",
   "execution_count": null,
   "id": "advisory-limit",
   "metadata": {},
   "outputs": [],
   "source": [
    "ad = ADASYN()"
   ]
  },
  {
   "cell_type": "code",
   "execution_count": null,
   "id": "active-heart",
   "metadata": {},
   "outputs": [],
   "source": [
    "X, y = ad.fit_resample(X, y)"
   ]
  },
  {
   "cell_type": "code",
   "execution_count": 263,
   "id": "balanced-search",
   "metadata": {},
   "outputs": [],
   "source": [
    "X_train, X_test, y_train, y_test = train_test_split(X, y, stratify = y)"
   ]
  },
  {
   "cell_type": "code",
   "execution_count": 264,
   "id": "senior-winter",
   "metadata": {},
   "outputs": [
    {
     "data": {
      "text/plain": [
       "RandomForestClassifier()"
      ]
     },
     "execution_count": 264,
     "metadata": {},
     "output_type": "execute_result"
    }
   ],
   "source": [
    "rf.fit(X_train, y_train)"
   ]
  },
  {
   "cell_type": "code",
   "execution_count": 265,
   "id": "productive-improvement",
   "metadata": {},
   "outputs": [],
   "source": [
    "y_pred = rf.predict(X_test)"
   ]
  },
  {
   "cell_type": "code",
   "execution_count": 266,
   "id": "manufactured-camping",
   "metadata": {},
   "outputs": [
    {
     "name": "stdout",
     "output_type": "stream",
     "text": [
      "accuracy  = 0.95\n",
      "precision = 0.931\n",
      "recall    = 0.972\n",
      "f1-score  = 0.951\n",
      "roc auc   = 0.95\n"
     ]
    }
   ],
   "source": [
    "def classification_eval(y_test, y_pred):\n",
    "    print(f'accuracy  = {np.round(accuracy_score(y_test, y_pred), 3)}')\n",
    "    print(f'precision = {np.round(precision_score(y_test, y_pred), 3)}')\n",
    "    print(f'recall    = {np.round(recall_score(y_test, y_pred), 3)}')\n",
    "    print(f'f1-score  = {np.round(f1_score(y_test, y_pred), 3)}')\n",
    "    print(f'roc auc   = {np.round(roc_auc_score(y_test, y_pred), 3)}')\n",
    "    print(f'null accuracy = {round(max(y_test.mean(), 1 - y_test.mean()), 2)}')\n",
    "\n",
    "classification_eval(y_test, y_pred)"
   ]
  },
  {
   "cell_type": "code",
   "execution_count": null,
   "id": "linear-senegal",
   "metadata": {},
   "outputs": [],
   "source": [
    "plot_confusion_matrix(rf, X_test, y_test);"
   ]
  },
  {
   "cell_type": "code",
   "execution_count": null,
   "id": "talented-istanbul",
   "metadata": {},
   "outputs": [],
   "source": []
  },
  {
   "cell_type": "code",
   "execution_count": null,
   "id": "russian-simpson",
   "metadata": {},
   "outputs": [],
   "source": []
  },
  {
   "cell_type": "code",
   "execution_count": null,
   "id": "armed-brighton",
   "metadata": {},
   "outputs": [],
   "source": []
  },
  {
   "cell_type": "code",
   "execution_count": null,
   "id": "restricted-merchandise",
   "metadata": {},
   "outputs": [],
   "source": []
  },
  {
   "cell_type": "code",
   "execution_count": null,
   "id": "naval-pressing",
   "metadata": {},
   "outputs": [],
   "source": []
  },
  {
   "cell_type": "code",
   "execution_count": null,
   "id": "resident-mention",
   "metadata": {},
   "outputs": [],
   "source": []
  },
  {
   "cell_type": "code",
   "execution_count": null,
   "id": "binding-advancement",
   "metadata": {},
   "outputs": [],
   "source": []
  },
  {
   "cell_type": "code",
   "execution_count": null,
   "id": "geographic-salad",
   "metadata": {},
   "outputs": [],
   "source": []
  },
  {
   "cell_type": "code",
   "execution_count": 109,
   "id": "ranking-diploma",
   "metadata": {},
   "outputs": [
    {
     "data": {
      "image/png": "[encoded data removed]",
      "text/plain": [
       "<Figure size 432x288 with 2 Axes>"
      ]
     },
     "metadata": {
      "needs_background": "light"
     },
     "output_type": "display_data"
    }
   ],
   "source": [
    "plot_confusion_matrix(grid, X_test, y_test);"
   ]
  },
  {
   "cell_type": "code",
   "execution_count": 250,
   "id": "surprising-elimination",
   "metadata": {},
   "outputs": [],
   "source": [
    "X = df.drop(columns = ['stroke', 'id', 0])\n",
    "y = df.stroke"
   ]
  },
  {
   "cell_type": "code",
   "execution_count": 251,
   "id": "engaging-newport",
   "metadata": {},
   "outputs": [],
   "source": [
    "#np.count_nonzero((predictions == 1) & (y == 1) | (predictions == 0) & (y == 0)) / np.size(y)"
   ]
  },
  {
   "cell_type": "code",
   "execution_count": 252,
   "id": "fabulous-inventory",
   "metadata": {},
   "outputs": [],
   "source": [
    "X_train, X_test, y_train, y_test = train_test_split(X, y, stratify = y)"
   ]
  },
  {
   "cell_type": "code",
   "execution_count": 253,
   "id": "authentic-folks",
   "metadata": {},
   "outputs": [
    {
     "name": "stdout",
     "output_type": "stream",
     "text": [
      "Null model accuracy: 0.96\n"
     ]
    }
   ],
   "source": [
    "print(f'Null model accuracy: {round(max(y_test.mean(), 1 - y_test.mean()), 2)}')"
   ]
  },
  {
   "cell_type": "code",
   "execution_count": 254,
   "id": "moral-night",
   "metadata": {},
   "outputs": [
    {
     "data": {
      "text/html": [
       "<div>\n",
       "<style scoped>\n",
       "    .dataframe tbody tr th:only-of-type {\n",
       "        vertical-align: middle;\n",
       "    }\n",
       "\n",
       "    .dataframe tbody tr th {\n",
       "        vertical-align: top;\n",
       "    }\n",
       "\n",
       "    .dataframe thead th {\n",
       "        text-align: right;\n",
       "    }\n",
       "</style>\n",
       "<table border=\"1\" class=\"dataframe\">\n",
       "  <thead>\n",
       "    <tr style=\"text-align: right;\">\n",
       "      <th></th>\n",
       "      <th>gender</th>\n",
       "      <th>age</th>\n",
       "      <th>hypertension</th>\n",
       "      <th>heart_disease</th>\n",
       "      <th>ever_married</th>\n",
       "      <th>work_type</th>\n",
       "      <th>Residence_type</th>\n",
       "      <th>avg_glucose_level</th>\n",
       "      <th>bmi</th>\n",
       "      <th>smoking_status</th>\n",
       "    </tr>\n",
       "  </thead>\n",
       "  <tbody>\n",
       "    <tr>\n",
       "      <th>608</th>\n",
       "      <td>1</td>\n",
       "      <td>1.277386</td>\n",
       "      <td>1</td>\n",
       "      <td>0</td>\n",
       "      <td>1</td>\n",
       "      <td>2</td>\n",
       "      <td>1</td>\n",
       "      <td>-0.095123</td>\n",
       "      <td>-0.433480</td>\n",
       "      <td>1</td>\n",
       "    </tr>\n",
       "    <tr>\n",
       "      <th>341</th>\n",
       "      <td>1</td>\n",
       "      <td>-1.667325</td>\n",
       "      <td>0</td>\n",
       "      <td>0</td>\n",
       "      <td>0</td>\n",
       "      <td>4</td>\n",
       "      <td>0</td>\n",
       "      <td>-0.354214</td>\n",
       "      <td>-1.847000</td>\n",
       "      <td>0</td>\n",
       "    </tr>\n",
       "    <tr>\n",
       "      <th>2827</th>\n",
       "      <td>1</td>\n",
       "      <td>1.634320</td>\n",
       "      <td>1</td>\n",
       "      <td>0</td>\n",
       "      <td>0</td>\n",
       "      <td>2</td>\n",
       "      <td>1</td>\n",
       "      <td>-0.040129</td>\n",
       "      <td>-1.005241</td>\n",
       "      <td>0</td>\n",
       "    </tr>\n",
       "  </tbody>\n",
       "</table>\n",
       "</div>"
      ],
      "text/plain": [
       "      gender       age  hypertension  heart_disease  ever_married  work_type  \\\n",
       "608        1  1.277386             1              0             1          2   \n",
       "341        1 -1.667325             0              0             0          4   \n",
       "2827       1  1.634320             1              0             0          2   \n",
       "\n",
       "      Residence_type  avg_glucose_level       bmi  smoking_status  \n",
       "608                1          -0.095123 -0.433480               1  \n",
       "341                0          -0.354214 -1.847000               0  \n",
       "2827               1          -0.040129 -1.005241               0  "
      ]
     },
     "execution_count": 254,
     "metadata": {},
     "output_type": "execute_result"
    }
   ],
   "source": [
    "X_train.head(3)"
   ]
  },
  {
   "cell_type": "code",
   "execution_count": 255,
   "id": "lonely-alert",
   "metadata": {},
   "outputs": [],
   "source": [
    "pipe = make_pipeline(RandomOverSampler(), RandomForestClassifier())"
   ]
  },
  {
   "cell_type": "code",
   "execution_count": 256,
   "id": "worth-improvement",
   "metadata": {},
   "outputs": [],
   "source": [
    "grid = GridSearchCV(estimator = pipe, \n",
    "                    param_grid = dict(randomoversampler__sampling_strategy = [0.6, 0.75, 1]))"
   ]
  },
  {
   "cell_type": "code",
   "execution_count": 257,
   "id": "polyphonic-rental",
   "metadata": {},
   "outputs": [
    {
     "data": {
      "text/plain": [
       "GridSearchCV(estimator=Pipeline(steps=[('randomoversampler',\n",
       "                                        RandomOverSampler()),\n",
       "                                       ('randomforestclassifier',\n",
       "                                        RandomForestClassifier())]),\n",
       "             param_grid={'randomoversampler__sampling_strategy': [0.6, 0.75,\n",
       "                                                                  1]})"
      ]
     },
     "execution_count": 257,
     "metadata": {},
     "output_type": "execute_result"
    }
   ],
   "source": [
    "grid.fit(X_train, y_train)"
   ]
  },
  {
   "cell_type": "code",
   "execution_count": 258,
   "id": "grave-basis",
   "metadata": {},
   "outputs": [],
   "source": [
    "y_pred = grid.predict(X_test)"
   ]
  },
  {
   "cell_type": "code",
   "execution_count": 259,
   "id": "simplified-administrator",
   "metadata": {},
   "outputs": [
    {
     "name": "stdout",
     "output_type": "stream",
     "text": [
      "accuracy  = 0.953\n",
      "precision = 0.091\n",
      "recall    = 0.023\n",
      "f1-score  = 0.037\n",
      "roc auc   = 0.507\n"
     ]
    }
   ],
   "source": [
    "def classification_eval(y_test, y_pred):\n",
    "    print(f'accuracy  = {np.round(accuracy_score(y_test, y_pred), 3)}')\n",
    "    print(f'precision = {np.round(precision_score(y_test, y_pred), 3)}')\n",
    "    print(f'recall    = {np.round(recall_score(y_test, y_pred), 3)}')\n",
    "    print(f'f1-score  = {np.round(f1_score(y_test, y_pred), 3)}')\n",
    "    print(f'roc auc   = {np.round(roc_auc_score(y_test, y_pred), 3)}')\n",
    "\n",
    "classification_eval(y_test, y_pred)"
   ]
  },
  {
   "cell_type": "code",
   "execution_count": 260,
   "id": "prescribed-retro",
   "metadata": {},
   "outputs": [
    {
     "data": {
      "text/plain": [
       "{'randomoversampler__sampling_strategy': 0.6}"
      ]
     },
     "execution_count": 260,
     "metadata": {},
     "output_type": "execute_result"
    }
   ],
   "source": [
    "grid.best_params_"
   ]
  },
  {
   "cell_type": "code",
   "execution_count": 261,
   "id": "afraid-applicant",
   "metadata": {},
   "outputs": [
    {
     "data": {
      "image/png": "[encoded data removed]",
      "text/plain": [
       "<Figure size 432x288 with 2 Axes>"
      ]
     },
     "metadata": {
      "needs_background": "light"
     },
     "output_type": "display_data"
    }
   ],
   "source": [
    "plot_confusion_matrix(grid, X_test, y_test);"
   ]
  },
  {
   "cell_type": "code",
   "execution_count": 262,
   "id": "effective-alexandria",
   "metadata": {},
   "outputs": [],
   "source": [
    "from imblearn.over_sampling import SMOTE\n",
    "\n",
    "sm = SMOTE()\n",
    "X, y = sm.fit_resample(X, y)"
   ]
  },
  {
   "cell_type": "code",
   "execution_count": 263,
   "id": "peripheral-bradley",
   "metadata": {},
   "outputs": [],
   "source": [
    "X_train, X_test, y_train, y_test = train_test_split(X, y, stratify = y)"
   ]
  },
  {
   "cell_type": "code",
   "execution_count": 264,
   "id": "swiss-allen",
   "metadata": {},
   "outputs": [
    {
     "data": {
      "text/plain": [
       "RandomForestClassifier()"
      ]
     },
     "execution_count": 264,
     "metadata": {},
     "output_type": "execute_result"
    }
   ],
   "source": [
    "rf.fit(X_train, y_train)"
   ]
  },
  {
   "cell_type": "code",
   "execution_count": 265,
   "id": "retained-beach",
   "metadata": {},
   "outputs": [],
   "source": [
    "y_pred = rf.predict(X_test)"
   ]
  },
  {
   "cell_type": "code",
   "execution_count": 266,
   "id": "decreased-sherman",
   "metadata": {},
   "outputs": [
    {
     "name": "stdout",
     "output_type": "stream",
     "text": [
      "accuracy  = 0.95\n",
      "precision = 0.931\n",
      "recall    = 0.972\n",
      "f1-score  = 0.951\n",
      "roc auc   = 0.95\n"
     ]
    }
   ],
   "source": [
    "def classification_eval(y_test, y_pred):\n",
    "    print(f'accuracy  = {np.round(accuracy_score(y_test, y_pred), 3)}')\n",
    "    print(f'precision = {np.round(precision_score(y_test, y_pred), 3)}')\n",
    "    print(f'recall    = {np.round(recall_score(y_test, y_pred), 3)}')\n",
    "    print(f'f1-score  = {np.round(f1_score(y_test, y_pred), 3)}')\n",
    "    print(f'roc auc   = {np.round(roc_auc_score(y_test, y_pred), 3)}')\n",
    "\n",
    "classification_eval(y_test, y_pred)"
   ]
  },
  {
   "cell_type": "code",
   "execution_count": 267,
   "id": "optional-python",
   "metadata": {},
   "outputs": [],
   "source": [
    "from imblearn.over_sampling import ADASYN"
   ]
  },
  {
   "cell_type": "code",
   "execution_count": null,
   "id": "genuine-choir",
   "metadata": {},
   "outputs": [],
   "source": []
  },
  {
   "cell_type": "code",
   "execution_count": null,
   "id": "tested-forth",
   "metadata": {},
   "outputs": [],
   "source": []
  },
  {
   "cell_type": "code",
   "execution_count": null,
   "id": "color-manchester",
   "metadata": {},
   "outputs": [],
   "source": []
  },
  {
   "cell_type": "code",
   "execution_count": null,
   "id": "congressional-crawford",
   "metadata": {},
   "outputs": [],
   "source": []
  },
  {
   "cell_type": "code",
   "execution_count": null,
   "id": "invalid-gilbert",
   "metadata": {},
   "outputs": [],
   "source": []
  },
  {
   "cell_type": "code",
   "execution_count": null,
   "id": "turkish-tumor",
   "metadata": {},
   "outputs": [],
   "source": []
  },
  {
   "cell_type": "code",
   "execution_count": null,
   "id": "surgical-barrel",
   "metadata": {},
   "outputs": [],
   "source": []
  },
  {
   "cell_type": "code",
   "execution_count": null,
   "id": "acknowledged-reply",
   "metadata": {},
   "outputs": [],
   "source": []
  },
  {
   "cell_type": "code",
   "execution_count": null,
   "id": "substantial-italian",
   "metadata": {},
   "outputs": [],
   "source": []
  },
  {
   "cell_type": "code",
   "execution_count": null,
   "id": "genuine-judgment",
   "metadata": {},
   "outputs": [],
   "source": []
  },
  {
   "cell_type": "code",
   "execution_count": null,
   "id": "twelve-dispatch",
   "metadata": {},
   "outputs": [],
   "source": []
  }
 ],
 "metadata": {
  "kernelspec": {
   "display_name": "Python 3",
   "language": "python",
   "name": "python3"
  },
  "language_info": {
   "codemirror_mode": {
    "name": "ipython",
    "version": 3
   },
   "file_extension": ".py",
   "mimetype": "text/x-python",
   "name": "python",
   "nbconvert_exporter": "python",
   "pygments_lexer": "ipython3",
   "version": "3.8.2"
  }
 },
 "nbformat": 4,
 "nbformat_minor": 5
}
