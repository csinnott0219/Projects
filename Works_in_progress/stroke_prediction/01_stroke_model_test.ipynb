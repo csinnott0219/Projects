{
 "cells": [
  {
   "cell_type": "markdown",
   "id": "indoor-jimmy",
   "metadata": {},
   "source": [
    "# Stroke Prediction\n",
    " - Data aquired from: https://www.kaggle.com/fedesoriano/stroke-prediction-dataset\n",
    " - Code to be used for a blog post on handling imbalanced data.\n",
    " - Presented here: https://sinnott-cj.medium.com/stroke-prediction-imbalanced-data-b6c406a81b8a"
   ]
  },
  {
   "cell_type": "markdown",
   "id": "rapid-istanbul",
   "metadata": {},
   "source": [
    "#### Importing Libraries"
   ]
  },
  {
   "cell_type": "code",
   "execution_count": 99,
   "id": "egyptian-validation",
   "metadata": {},
   "outputs": [],
   "source": [
    "import matplotlib.pyplot as plt\n",
    "import seaborn as sns\n",
    "import pandas as pd\n",
    "import numpy as np\n",
    "\n",
    "from sklearn.preprocessing import PolynomialFeatures, StandardScaler\n",
    "from sklearn.model_selection import GridSearchCV, train_test_split, RandomizedSearchCV\n",
    "from sklearn.metrics import confusion_matrix, accuracy_score, balanced_accuracy_score,\\\n",
    "                            precision_score, recall_score, roc_auc_score,\\\n",
    "                            plot_confusion_matrix, classification_report, plot_roc_curve, f1_score\n",
    "from sklearn.ensemble import RandomForestClassifier\n",
    "from sklearn.preprocessing import OneHotEncoder, LabelEncoder\n",
    "#from category_encoders import OneHotEncoder\n",
    "from sklearn.compose import make_column_transformer, make_column_selector\n",
    "from sklearn.experimental import enable_hist_gradient_boosting\n",
    "from sklearn.ensemble import HistGradientBoostingClassifier"
   ]
  },
  {
   "cell_type": "code",
   "execution_count": 100,
   "id": "honey-battery",
   "metadata": {},
   "outputs": [],
   "source": [
    "from imblearn.pipeline import make_pipeline\n",
    "from sklearn.ensemble import IsolationForest"
   ]
  },
  {
   "cell_type": "markdown",
   "id": "qualified-albuquerque",
   "metadata": {},
   "source": [
    "# Data Import & Cleaning"
   ]
  },
  {
   "cell_type": "code",
   "execution_count": 101,
   "id": "cordless-accessory",
   "metadata": {},
   "outputs": [
    {
     "name": "stdout",
     "output_type": "stream",
     "text": [
      "[Errno 2] No such file or directory: 'stroke_prediction'\n",
      "/Users/coreysinnott/Desktop/personal_git/Works_in_progress/stroke_prediction\n"
     ]
    }
   ],
   "source": [
    "cd stroke_prediction"
   ]
  },
  {
   "cell_type": "code",
   "execution_count": 102,
   "id": "european-visiting",
   "metadata": {},
   "outputs": [],
   "source": [
    "df = pd.read_csv('./data/healthcare-dataset-stroke-data.csv')"
   ]
  },
  {
   "cell_type": "code",
   "execution_count": 103,
   "id": "collect-handling",
   "metadata": {},
   "outputs": [
    {
     "data": {
      "text/html": [
       "<div>\n",
       "<style scoped>\n",
       "    .dataframe tbody tr th:only-of-type {\n",
       "        vertical-align: middle;\n",
       "    }\n",
       "\n",
       "    .dataframe tbody tr th {\n",
       "        vertical-align: top;\n",
       "    }\n",
       "\n",
       "    .dataframe thead th {\n",
       "        text-align: right;\n",
       "    }\n",
       "</style>\n",
       "<table border=\"1\" class=\"dataframe\">\n",
       "  <thead>\n",
       "    <tr style=\"text-align: right;\">\n",
       "      <th></th>\n",
       "      <th>id</th>\n",
       "      <th>gender</th>\n",
       "      <th>age</th>\n",
       "      <th>hypertension</th>\n",
       "      <th>heart_disease</th>\n",
       "      <th>ever_married</th>\n",
       "      <th>work_type</th>\n",
       "      <th>Residence_type</th>\n",
       "      <th>avg_glucose_level</th>\n",
       "      <th>bmi</th>\n",
       "      <th>smoking_status</th>\n",
       "      <th>stroke</th>\n",
       "    </tr>\n",
       "  </thead>\n",
       "  <tbody>\n",
       "    <tr>\n",
       "      <th>0</th>\n",
       "      <td>9046</td>\n",
       "      <td>Male</td>\n",
       "      <td>67.0</td>\n",
       "      <td>0</td>\n",
       "      <td>1</td>\n",
       "      <td>Yes</td>\n",
       "      <td>Private</td>\n",
       "      <td>Urban</td>\n",
       "      <td>228.69</td>\n",
       "      <td>36.6</td>\n",
       "      <td>formerly smoked</td>\n",
       "      <td>1</td>\n",
       "    </tr>\n",
       "    <tr>\n",
       "      <th>1</th>\n",
       "      <td>51676</td>\n",
       "      <td>Female</td>\n",
       "      <td>61.0</td>\n",
       "      <td>0</td>\n",
       "      <td>0</td>\n",
       "      <td>Yes</td>\n",
       "      <td>Self-employed</td>\n",
       "      <td>Rural</td>\n",
       "      <td>202.21</td>\n",
       "      <td>NaN</td>\n",
       "      <td>never smoked</td>\n",
       "      <td>1</td>\n",
       "    </tr>\n",
       "    <tr>\n",
       "      <th>2</th>\n",
       "      <td>31112</td>\n",
       "      <td>Male</td>\n",
       "      <td>80.0</td>\n",
       "      <td>0</td>\n",
       "      <td>1</td>\n",
       "      <td>Yes</td>\n",
       "      <td>Private</td>\n",
       "      <td>Rural</td>\n",
       "      <td>105.92</td>\n",
       "      <td>32.5</td>\n",
       "      <td>never smoked</td>\n",
       "      <td>1</td>\n",
       "    </tr>\n",
       "  </tbody>\n",
       "</table>\n",
       "</div>"
      ],
      "text/plain": [
       "      id  gender   age  hypertension  heart_disease ever_married  \\\n",
       "0   9046    Male  67.0             0              1          Yes   \n",
       "1  51676  Female  61.0             0              0          Yes   \n",
       "2  31112    Male  80.0             0              1          Yes   \n",
       "\n",
       "       work_type Residence_type  avg_glucose_level   bmi   smoking_status  \\\n",
       "0        Private          Urban             228.69  36.6  formerly smoked   \n",
       "1  Self-employed          Rural             202.21   NaN     never smoked   \n",
       "2        Private          Rural             105.92  32.5     never smoked   \n",
       "\n",
       "   stroke  \n",
       "0       1  \n",
       "1       1  \n",
       "2       1  "
      ]
     },
     "execution_count": 103,
     "metadata": {},
     "output_type": "execute_result"
    }
   ],
   "source": [
    "df.head(3)"
   ]
  },
  {
   "cell_type": "code",
   "execution_count": 104,
   "id": "continental-kitty",
   "metadata": {},
   "outputs": [
    {
     "data": {
      "text/plain": [
       "(5110, 12)"
      ]
     },
     "execution_count": 104,
     "metadata": {},
     "output_type": "execute_result"
    }
   ],
   "source": [
    "df.shape"
   ]
  },
  {
   "cell_type": "code",
   "execution_count": 105,
   "id": "artistic-maine",
   "metadata": {},
   "outputs": [
    {
     "name": "stdout",
     "output_type": "stream",
     "text": [
      "<class 'pandas.core.frame.DataFrame'>\n",
      "RangeIndex: 5110 entries, 0 to 5109\n",
      "Data columns (total 12 columns):\n",
      " #   Column             Non-Null Count  Dtype  \n",
      "---  ------             --------------  -----  \n",
      " 0   id                 5110 non-null   int64  \n",
      " 1   gender             5110 non-null   object \n",
      " 2   age                5110 non-null   float64\n",
      " 3   hypertension       5110 non-null   int64  \n",
      " 4   heart_disease      5110 non-null   int64  \n",
      " 5   ever_married       5110 non-null   object \n",
      " 6   work_type          5110 non-null   object \n",
      " 7   Residence_type     5110 non-null   object \n",
      " 8   avg_glucose_level  5110 non-null   float64\n",
      " 9   bmi                4909 non-null   float64\n",
      " 10  smoking_status     5110 non-null   object \n",
      " 11  stroke             5110 non-null   int64  \n",
      "dtypes: float64(3), int64(4), object(5)\n",
      "memory usage: 479.2+ KB\n"
     ]
    }
   ],
   "source": [
    "df.info()"
   ]
  },
  {
   "cell_type": "markdown",
   "id": "consistent-burst",
   "metadata": {},
   "source": [
    "Binarizing / Vectorizing where possible:"
   ]
  },
  {
   "cell_type": "code",
   "execution_count": 106,
   "id": "constant-myrtle",
   "metadata": {},
   "outputs": [
    {
     "name": "stdout",
     "output_type": "stream",
     "text": [
      "['Male' 'Female' 'Other']\n",
      "['Yes' 'No']\n",
      "['Private' 'Self-employed' 'Govt_job' 'children' 'Never_worked']\n",
      "['Urban' 'Rural']\n",
      "['formerly smoked' 'never smoked' 'smokes' 'Unknown']\n"
     ]
    },
    {
     "data": {
      "text/plain": [
       "[None, None, None, None, None]"
      ]
     },
     "execution_count": 106,
     "metadata": {},
     "output_type": "execute_result"
    }
   ],
   "source": [
    "text_cols = ['gender', 'ever_married', 'work_type', 'Residence_type', 'smoking_status']\n",
    "[print(df[i].unique()) for i in df[text_cols]]"
   ]
  },
  {
   "cell_type": "code",
   "execution_count": 107,
   "id": "prescribed-cooperative",
   "metadata": {},
   "outputs": [],
   "source": [
    "df['gender'] = np.where(df['gender'] == 'Male', 1, 0)"
   ]
  },
  {
   "cell_type": "code",
   "execution_count": 108,
   "id": "biblical-moses",
   "metadata": {},
   "outputs": [],
   "source": [
    "df['ever_married'] = np.where(df['ever_married'] == 'Yes', 1, 0)"
   ]
  },
  {
   "cell_type": "code",
   "execution_count": 109,
   "id": "incoming-clock",
   "metadata": {},
   "outputs": [],
   "source": [
    "df['Residence_type'] = np.where(df['Residence_type'] == 'Urban', 1, 0)"
   ]
  },
  {
   "cell_type": "code",
   "execution_count": 110,
   "id": "scientific-wayne",
   "metadata": {},
   "outputs": [],
   "source": [
    "df['smoking_status'] = np.where(((df['smoking_status'] == 'smokes') | (df['smoking_status'] == 'formerly smoked')), 1, 0)"
   ]
  },
  {
   "cell_type": "code",
   "execution_count": 111,
   "id": "ultimate-horse",
   "metadata": {},
   "outputs": [
    {
     "name": "stdout",
     "output_type": "stream",
     "text": [
      "[1 0]\n",
      "[1 0]\n",
      "['Private' 'Self-employed' 'Govt_job' 'children' 'Never_worked']\n",
      "[1 0]\n",
      "[1 0]\n"
     ]
    }
   ],
   "source": [
    "for i in ['gender', 'ever_married', 'work_type', 'Residence_type', 'smoking_status']:\n",
    "    print(df[i].unique())"
   ]
  },
  {
   "cell_type": "code",
   "execution_count": 112,
   "id": "clinical-dressing",
   "metadata": {},
   "outputs": [],
   "source": [
    "#not imputing bmi due to the clinical importance as seen in the heatmap\n",
    "df.dropna(subset = ['bmi'], inplace = True)"
   ]
  },
  {
   "cell_type": "markdown",
   "id": "isolated-chemical",
   "metadata": {},
   "source": [
    "Highly imbalanced classes:"
   ]
  },
  {
   "cell_type": "code",
   "execution_count": 113,
   "id": "blocked-projection",
   "metadata": {},
   "outputs": [
    {
     "data": {
      "image/png": "[encoded data removed]",
      "text/plain": [
       "<Figure size 360x360 with 1 Axes>"
      ]
     },
     "metadata": {
      "needs_background": "light"
     },
     "output_type": "display_data"
    }
   ],
   "source": [
    "sns.displot(df.stroke);"
   ]
  },
  {
   "cell_type": "code",
   "execution_count": 114,
   "id": "prescribed-understanding",
   "metadata": {},
   "outputs": [
    {
     "data": {
      "text/plain": [
       "0    4700\n",
       "1     209\n",
       "Name: stroke, dtype: int64"
      ]
     },
     "execution_count": 114,
     "metadata": {},
     "output_type": "execute_result"
    }
   ],
   "source": [
    "df.stroke.value_counts()"
   ]
  },
  {
   "cell_type": "markdown",
   "id": "placed-newfoundland",
   "metadata": {},
   "source": [
    "Removing outliers:"
   ]
  },
  {
   "cell_type": "code",
   "execution_count": 115,
   "id": "prime-designation",
   "metadata": {},
   "outputs": [],
   "source": [
    "iso = IsolationForest(n_estimators = 1000, contamination = 0.03)"
   ]
  },
  {
   "cell_type": "code",
   "execution_count": 116,
   "id": "french-awareness",
   "metadata": {},
   "outputs": [],
   "source": [
    "outs = pd.Series(iso.fit_predict(df[['bmi', 'avg_glucose_level']]), name = 'outliers')"
   ]
  },
  {
   "cell_type": "code",
   "execution_count": 117,
   "id": "literary-poster",
   "metadata": {},
   "outputs": [
    {
     "data": {
      "text/plain": [
       " 1    4761\n",
       "-1     148\n",
       "Name: outliers, dtype: int64"
      ]
     },
     "execution_count": 117,
     "metadata": {},
     "output_type": "execute_result"
    }
   ],
   "source": [
    "outs.value_counts()"
   ]
  },
  {
   "cell_type": "code",
   "execution_count": 118,
   "id": "federal-smile",
   "metadata": {},
   "outputs": [],
   "source": [
    "df = pd.concat([outs.reset_index(), df.reset_index()], axis = 1, ignore_index = False).drop(columns = 'index')"
   ]
  },
  {
   "cell_type": "code",
   "execution_count": 119,
   "id": "electoral-commercial",
   "metadata": {},
   "outputs": [
    {
     "data": {
      "text/html": [
       "<div>\n",
       "<style scoped>\n",
       "    .dataframe tbody tr th:only-of-type {\n",
       "        vertical-align: middle;\n",
       "    }\n",
       "\n",
       "    .dataframe tbody tr th {\n",
       "        vertical-align: top;\n",
       "    }\n",
       "\n",
       "    .dataframe thead th {\n",
       "        text-align: right;\n",
       "    }\n",
       "</style>\n",
       "<table border=\"1\" class=\"dataframe\">\n",
       "  <thead>\n",
       "    <tr style=\"text-align: right;\">\n",
       "      <th></th>\n",
       "      <th>outliers</th>\n",
       "      <th>id</th>\n",
       "      <th>gender</th>\n",
       "      <th>age</th>\n",
       "      <th>hypertension</th>\n",
       "      <th>heart_disease</th>\n",
       "      <th>ever_married</th>\n",
       "      <th>work_type</th>\n",
       "      <th>Residence_type</th>\n",
       "      <th>avg_glucose_level</th>\n",
       "      <th>bmi</th>\n",
       "      <th>smoking_status</th>\n",
       "      <th>stroke</th>\n",
       "    </tr>\n",
       "  </thead>\n",
       "  <tbody>\n",
       "    <tr>\n",
       "      <th>0</th>\n",
       "      <td>1</td>\n",
       "      <td>9046</td>\n",
       "      <td>1</td>\n",
       "      <td>67.0</td>\n",
       "      <td>0</td>\n",
       "      <td>1</td>\n",
       "      <td>1</td>\n",
       "      <td>Private</td>\n",
       "      <td>1</td>\n",
       "      <td>228.69</td>\n",
       "      <td>36.6</td>\n",
       "      <td>1</td>\n",
       "      <td>1</td>\n",
       "    </tr>\n",
       "    <tr>\n",
       "      <th>1</th>\n",
       "      <td>1</td>\n",
       "      <td>31112</td>\n",
       "      <td>1</td>\n",
       "      <td>80.0</td>\n",
       "      <td>0</td>\n",
       "      <td>1</td>\n",
       "      <td>1</td>\n",
       "      <td>Private</td>\n",
       "      <td>0</td>\n",
       "      <td>105.92</td>\n",
       "      <td>32.5</td>\n",
       "      <td>0</td>\n",
       "      <td>1</td>\n",
       "    </tr>\n",
       "    <tr>\n",
       "      <th>2</th>\n",
       "      <td>1</td>\n",
       "      <td>60182</td>\n",
       "      <td>0</td>\n",
       "      <td>49.0</td>\n",
       "      <td>0</td>\n",
       "      <td>0</td>\n",
       "      <td>1</td>\n",
       "      <td>Private</td>\n",
       "      <td>1</td>\n",
       "      <td>171.23</td>\n",
       "      <td>34.4</td>\n",
       "      <td>1</td>\n",
       "      <td>1</td>\n",
       "    </tr>\n",
       "  </tbody>\n",
       "</table>\n",
       "</div>"
      ],
      "text/plain": [
       "   outliers     id  gender   age  hypertension  heart_disease  ever_married  \\\n",
       "0         1   9046       1  67.0             0              1             1   \n",
       "1         1  31112       1  80.0             0              1             1   \n",
       "2         1  60182       0  49.0             0              0             1   \n",
       "\n",
       "  work_type  Residence_type  avg_glucose_level   bmi  smoking_status  stroke  \n",
       "0   Private               1             228.69  36.6               1       1  \n",
       "1   Private               0             105.92  32.5               0       1  \n",
       "2   Private               1             171.23  34.4               1       1  "
      ]
     },
     "execution_count": 119,
     "metadata": {},
     "output_type": "execute_result"
    }
   ],
   "source": [
    "df.head(3)"
   ]
  },
  {
   "cell_type": "code",
   "execution_count": 120,
   "id": "tribal-thermal",
   "metadata": {},
   "outputs": [],
   "source": [
    "df = df[df['outliers'] == 1]"
   ]
  },
  {
   "cell_type": "code",
   "execution_count": 121,
   "id": "annoying-rings",
   "metadata": {},
   "outputs": [
    {
     "data": {
      "text/plain": [
       "(4761, 13)"
      ]
     },
     "execution_count": 121,
     "metadata": {},
     "output_type": "execute_result"
    }
   ],
   "source": [
    "df.shape"
   ]
  },
  {
   "cell_type": "code",
   "execution_count": 122,
   "id": "adjusted-interstate",
   "metadata": {},
   "outputs": [
    {
     "data": {
      "text/plain": [
       "0    4564\n",
       "1     197\n",
       "Name: stroke, dtype: int64"
      ]
     },
     "execution_count": 122,
     "metadata": {},
     "output_type": "execute_result"
    }
   ],
   "source": [
    "# lost 39 positive for stroke values\n",
    "# may need to adjust to include more values\n",
    "df['stroke'].value_counts()"
   ]
  },
  {
   "cell_type": "markdown",
   "id": "consecutive-exclusion",
   "metadata": {},
   "source": [
    "# Visualizations"
   ]
  },
  {
   "cell_type": "code",
   "execution_count": 348,
   "id": "embedded-medication",
   "metadata": {},
   "outputs": [
    {
     "data": {
      "image/png": "[encoded data removed]",
      "text/plain": [
       "<Figure size 1296x360 with 2 Axes>"
      ]
     },
     "metadata": {
      "needs_background": "light"
     },
     "output_type": "display_data"
    }
   ],
   "source": [
    "import matplotlib.pyplot as plt\n",
    "mask = np.zeros_like(df.drop(columns = ['outliers', 'id']).corr())\n",
    "mask[np.triu_indices_from(mask)] = True\n",
    "plt.figure(figsize=(18, 5))\n",
    "sns.heatmap(\n",
    "    df.drop(columns = ['outliers', 'id']).corr(),\n",
    "    cmap='coolwarm',\n",
    "    annot=True,\n",
    "    mask=mask,\n",
    "    vmin=-1.,\n",
    "    vmax=1.,\n",
    "    linewidths=.01\n",
    ")\n",
    "plt.title('Correlation matrix');\n",
    "#everything has a colinear relationship with age"
   ]
  },
  {
   "cell_type": "markdown",
   "id": "martial-world",
   "metadata": {},
   "source": [
    "# Model Testing\n",
    "- StandardScaler for numeric data.\n",
    "- LabelEncoding for strings\n",
    "- Different approaches to imbalanced target"
   ]
  },
  {
   "cell_type": "markdown",
   "id": "active-ecology",
   "metadata": {},
   "source": [
    "No handling of imbalance:"
   ]
  },
  {
   "cell_type": "code",
   "execution_count": 354,
   "id": "subtle-rogers",
   "metadata": {},
   "outputs": [],
   "source": [
    "X = df.drop(columns = ['stroke', 'id', 'outliers'])\n",
    "y = df.stroke"
   ]
  },
  {
   "cell_type": "code",
   "execution_count": 355,
   "id": "given-rescue",
   "metadata": {},
   "outputs": [],
   "source": [
    "X_train, X_test, y_train, y_test = train_test_split(X, y, stratify = y)"
   ]
  },
  {
   "cell_type": "code",
   "execution_count": 356,
   "id": "devoted-lounge",
   "metadata": {},
   "outputs": [
    {
     "name": "stdout",
     "output_type": "stream",
     "text": [
      "Null model accuracy: 0.96\n"
     ]
    }
   ],
   "source": [
    "print(f'Null model accuracy: {round(max(y_test.mean(), 1 - y_test.mean()), 2)}')"
   ]
  },
  {
   "cell_type": "code",
   "execution_count": 359,
   "id": "gothic-storage",
   "metadata": {},
   "outputs": [],
   "source": [
    "mct = make_column_transformer(\n",
    "        (StandardScaler(), make_column_selector(dtype_include = np.number)),\n",
    "        (OneHotEncoder(), make_column_selector(dtype_include = object))\n",
    ")"
   ]
  },
  {
   "cell_type": "code",
   "execution_count": 360,
   "id": "forward-configuration",
   "metadata": {},
   "outputs": [],
   "source": [
    "X_train = mct.fit_transform(X_train)"
   ]
  },
  {
   "cell_type": "code",
   "execution_count": 361,
   "id": "impaired-eating",
   "metadata": {},
   "outputs": [],
   "source": [
    "X_test = mct.transform(X_test)"
   ]
  },
  {
   "cell_type": "code",
   "execution_count": 362,
   "id": "substantial-wealth",
   "metadata": {},
   "outputs": [],
   "source": [
    "rf = RandomForestClassifier()"
   ]
  },
  {
   "cell_type": "code",
   "execution_count": 363,
   "id": "awful-insulation",
   "metadata": {},
   "outputs": [
    {
     "data": {
      "text/plain": [
       "RandomForestClassifier()"
      ]
     },
     "execution_count": 363,
     "metadata": {},
     "output_type": "execute_result"
    }
   ],
   "source": [
    "rf.fit(X_train, y_train)"
   ]
  },
  {
   "cell_type": "code",
   "execution_count": 364,
   "id": "developed-period",
   "metadata": {},
   "outputs": [],
   "source": [
    "y_pred = rf.predict(X_test)"
   ]
  },
  {
   "cell_type": "code",
   "execution_count": 365,
   "id": "monthly-assignment",
   "metadata": {},
   "outputs": [
    {
     "name": "stdout",
     "output_type": "stream",
     "text": [
      "accuracy  = 0.96\n",
      "precision = 0.0\n",
      "recall    = 0.0\n",
      "f1-score  = 0.0\n",
      "roc auc   = 0.5\n",
      "null accuracy = 0.96\n"
     ]
    }
   ],
   "source": [
    "def classification_eval(y_test, y_pred):\n",
    "    print(f'accuracy  = {np.round(accuracy_score(y_test, y_pred), 3)}')\n",
    "    print(f'precision = {np.round(precision_score(y_test, y_pred), 3)}')\n",
    "    print(f'recall    = {np.round(recall_score(y_test, y_pred), 3)}')\n",
    "    print(f'f1-score  = {np.round(f1_score(y_test, y_pred), 3)}')\n",
    "    print(f'roc auc   = {np.round(roc_auc_score(y_test, y_pred), 3)}')\n",
    "    print(f'null accuracy = {round(max(y_test.mean(), 1 - y_test.mean()), 2)}')\n",
    "\n",
    "classification_eval(y_test, y_pred)"
   ]
  },
  {
   "cell_type": "code",
   "execution_count": 366,
   "id": "decreased-filing",
   "metadata": {},
   "outputs": [
    {
     "data": {
      "image/png": "[encoded data removed]",
      "text/plain": [
       "<Figure size 432x288 with 2 Axes>"
      ]
     },
     "metadata": {
      "needs_background": "light"
     },
     "output_type": "display_data"
    }
   ],
   "source": [
    "plot_confusion_matrix(rf, X_test, y_test);"
   ]
  },
  {
   "cell_type": "markdown",
   "id": "accomplished-colonial",
   "metadata": {},
   "source": [
    "Pre-processing:"
   ]
  },
  {
   "cell_type": "code",
   "execution_count": 158,
   "id": "indian-handle",
   "metadata": {},
   "outputs": [],
   "source": [
    "le = LabelEncoder()\n",
    "ss = StandardScaler()"
   ]
  },
  {
   "cell_type": "code",
   "execution_count": 159,
   "id": "looking-romantic",
   "metadata": {},
   "outputs": [],
   "source": [
    "df['work_type'] = le.fit_transform(df['work_type'])"
   ]
  },
  {
   "cell_type": "code",
   "execution_count": 160,
   "id": "indirect-textbook",
   "metadata": {},
   "outputs": [],
   "source": [
    "num_cols = ['age', 'avg_glucose_level', 'bmi']"
   ]
  },
  {
   "cell_type": "code",
   "execution_count": 161,
   "id": "successful-crazy",
   "metadata": {},
   "outputs": [],
   "source": [
    "df[num_cols] = ss.fit_transform(df[num_cols])"
   ]
  },
  {
   "cell_type": "code",
   "execution_count": 208,
   "id": "acting-mortgage",
   "metadata": {},
   "outputs": [],
   "source": [
    "X = df.drop(columns = ['stroke', 'id', 'outliers'])\n",
    "y = df.stroke"
   ]
  },
  {
   "cell_type": "markdown",
   "id": "working-netherlands",
   "metadata": {},
   "source": [
    "RandomOversampler: *best performing technique*"
   ]
  },
  {
   "cell_type": "code",
   "execution_count": 172,
   "id": "standard-bracelet",
   "metadata": {},
   "outputs": [],
   "source": [
    "from imblearn.over_sampling import RandomOverSampler"
   ]
  },
  {
   "cell_type": "code",
   "execution_count": 173,
   "id": "executive-soldier",
   "metadata": {},
   "outputs": [],
   "source": [
    "rs = RandomOverSampler()"
   ]
  },
  {
   "cell_type": "code",
   "execution_count": 174,
   "id": "atomic-deployment",
   "metadata": {},
   "outputs": [],
   "source": [
    "X, y = rs.fit_resample(X, y)"
   ]
  },
  {
   "cell_type": "code",
   "execution_count": 175,
   "id": "fourth-negotiation",
   "metadata": {},
   "outputs": [],
   "source": [
    "X_train, X_test, y_train, y_test = train_test_split(X, y, stratify = y)"
   ]
  },
  {
   "cell_type": "code",
   "execution_count": 176,
   "id": "optimum-clarity",
   "metadata": {},
   "outputs": [],
   "source": [
    "rf = RandomForestClassifier()"
   ]
  },
  {
   "cell_type": "code",
   "execution_count": 177,
   "id": "operating-blond",
   "metadata": {},
   "outputs": [
    {
     "data": {
      "text/plain": [
       "RandomForestClassifier()"
      ]
     },
     "execution_count": 177,
     "metadata": {},
     "output_type": "execute_result"
    }
   ],
   "source": [
    "rf.fit(X_train, y_train)"
   ]
  },
  {
   "cell_type": "code",
   "execution_count": 178,
   "id": "smoking-validity",
   "metadata": {},
   "outputs": [],
   "source": [
    "y_pred = rf.predict(X_test)"
   ]
  },
  {
   "cell_type": "code",
   "execution_count": 179,
   "id": "acting-release",
   "metadata": {},
   "outputs": [
    {
     "name": "stdout",
     "output_type": "stream",
     "text": [
      "accuracy  = 0.993\n",
      "precision = 0.986\n",
      "recall    = 1.0\n",
      "f1-score  = 0.993\n",
      "roc auc   = 0.993\n",
      "null accuracy = 0.5\n"
     ]
    }
   ],
   "source": [
    "def classification_eval(y_test, y_pred):\n",
    "    print(f'accuracy  = {np.round(accuracy_score(y_test, y_pred), 3)}')\n",
    "    print(f'precision = {np.round(precision_score(y_test, y_pred), 3)}')\n",
    "    print(f'recall    = {np.round(recall_score(y_test, y_pred), 3)}')\n",
    "    print(f'f1-score  = {np.round(f1_score(y_test, y_pred), 3)}')\n",
    "    print(f'roc auc   = {np.round(roc_auc_score(y_test, y_pred), 3)}')\n",
    "    print(f'null accuracy = {round(max(y_test.mean(), 1 - y_test.mean()), 2)}')\n",
    "\n",
    "classification_eval(y_test, y_pred)"
   ]
  },
  {
   "cell_type": "code",
   "execution_count": 180,
   "id": "regular-gasoline",
   "metadata": {},
   "outputs": [
    {
     "data": {
      "image/png": "[encoded data removed]",
      "text/plain": [
       "<Figure size 432x288 with 2 Axes>"
      ]
     },
     "metadata": {
      "needs_background": "light"
     },
     "output_type": "display_data"
    }
   ],
   "source": [
    "plot_confusion_matrix(rf, X_test, y_test);"
   ]
  },
  {
   "cell_type": "markdown",
   "id": "above-footwear",
   "metadata": {},
   "source": [
    "SMOTE:"
   ]
  },
  {
   "cell_type": "code",
   "execution_count": 182,
   "id": "proud-indianapolis",
   "metadata": {},
   "outputs": [],
   "source": [
    "from imblearn.over_sampling import SMOTE"
   ]
  },
  {
   "cell_type": "code",
   "execution_count": 183,
   "id": "temporal-olive",
   "metadata": {},
   "outputs": [],
   "source": [
    "sm = SMOTE()"
   ]
  },
  {
   "cell_type": "code",
   "execution_count": 184,
   "id": "plain-anchor",
   "metadata": {},
   "outputs": [],
   "source": [
    "X, y = sm.fit_resample(X, y)"
   ]
  },
  {
   "cell_type": "code",
   "execution_count": 185,
   "id": "guilty-prescription",
   "metadata": {},
   "outputs": [],
   "source": [
    "X_train, X_test, y_train, y_test = train_test_split(X, y, stratify = y)"
   ]
  },
  {
   "cell_type": "code",
   "execution_count": 186,
   "id": "stopped-single",
   "metadata": {},
   "outputs": [
    {
     "data": {
      "text/plain": [
       "RandomForestClassifier()"
      ]
     },
     "execution_count": 186,
     "metadata": {},
     "output_type": "execute_result"
    }
   ],
   "source": [
    "rf.fit(X_train, y_train)"
   ]
  },
  {
   "cell_type": "code",
   "execution_count": 187,
   "id": "fantastic-river",
   "metadata": {},
   "outputs": [],
   "source": [
    "y_pred = rf.predict(X_test)"
   ]
  },
  {
   "cell_type": "code",
   "execution_count": 188,
   "id": "expanded-arrest",
   "metadata": {},
   "outputs": [
    {
     "name": "stdout",
     "output_type": "stream",
     "text": [
      "accuracy  = 0.938\n",
      "precision = 0.917\n",
      "recall    = 0.963\n",
      "f1-score  = 0.939\n",
      "roc auc   = 0.938\n",
      "null accuracy = 0.5\n"
     ]
    }
   ],
   "source": [
    "def classification_eval(y_test, y_pred):\n",
    "    print(f'accuracy  = {np.round(accuracy_score(y_test, y_pred), 3)}')\n",
    "    print(f'precision = {np.round(precision_score(y_test, y_pred), 3)}')\n",
    "    print(f'recall    = {np.round(recall_score(y_test, y_pred), 3)}')\n",
    "    print(f'f1-score  = {np.round(f1_score(y_test, y_pred), 3)}')\n",
    "    print(f'roc auc   = {np.round(roc_auc_score(y_test, y_pred), 3)}')\n",
    "    print(f'null accuracy = {round(max(y_test.mean(), 1 - y_test.mean()), 2)}')\n",
    "\n",
    "classification_eval(y_test, y_pred)"
   ]
  },
  {
   "cell_type": "code",
   "execution_count": 189,
   "id": "north-priest",
   "metadata": {},
   "outputs": [
    {
     "data": {
      "image/png": "[encoded data removed]",
      "text/plain": [
       "<Figure size 432x288 with 2 Axes>"
      ]
     },
     "metadata": {
      "needs_background": "light"
     },
     "output_type": "display_data"
    }
   ],
   "source": [
    "plot_confusion_matrix(rf, X_test, y_test);"
   ]
  },
  {
   "cell_type": "markdown",
   "id": "front-denmark",
   "metadata": {},
   "source": [
    "ADASYN:"
   ]
  },
  {
   "cell_type": "code",
   "execution_count": 163,
   "id": "considerable-nudist",
   "metadata": {},
   "outputs": [],
   "source": [
    "from imblearn.over_sampling import ADASYN"
   ]
  },
  {
   "cell_type": "code",
   "execution_count": 191,
   "id": "happy-enough",
   "metadata": {},
   "outputs": [],
   "source": [
    "ad = ADASYN()"
   ]
  },
  {
   "cell_type": "code",
   "execution_count": 192,
   "id": "amazing-branch",
   "metadata": {},
   "outputs": [],
   "source": [
    "X, y = ad.fit_resample(X, y)"
   ]
  },
  {
   "cell_type": "code",
   "execution_count": 193,
   "id": "instrumental-essex",
   "metadata": {},
   "outputs": [],
   "source": [
    "X_train, X_test, y_train, y_test = train_test_split(X, y, stratify = y)"
   ]
  },
  {
   "cell_type": "code",
   "execution_count": 194,
   "id": "athletic-shooting",
   "metadata": {},
   "outputs": [
    {
     "data": {
      "text/plain": [
       "RandomForestClassifier()"
      ]
     },
     "execution_count": 194,
     "metadata": {},
     "output_type": "execute_result"
    }
   ],
   "source": [
    "rf.fit(X_train, y_train)"
   ]
  },
  {
   "cell_type": "code",
   "execution_count": 195,
   "id": "progressive-strategy",
   "metadata": {},
   "outputs": [],
   "source": [
    "y_pred = rf.predict(X_test)"
   ]
  },
  {
   "cell_type": "code",
   "execution_count": 196,
   "id": "tropical-drama",
   "metadata": {},
   "outputs": [
    {
     "name": "stdout",
     "output_type": "stream",
     "text": [
      "accuracy  = 0.933\n",
      "precision = 0.909\n",
      "recall    = 0.963\n",
      "f1-score  = 0.935\n",
      "roc auc   = 0.933\n",
      "null accuracy = 0.5\n"
     ]
    }
   ],
   "source": [
    "def classification_eval(y_test, y_pred):\n",
    "    print(f'accuracy  = {np.round(accuracy_score(y_test, y_pred), 3)}')\n",
    "    print(f'precision = {np.round(precision_score(y_test, y_pred), 3)}')\n",
    "    print(f'recall    = {np.round(recall_score(y_test, y_pred), 3)}')\n",
    "    print(f'f1-score  = {np.round(f1_score(y_test, y_pred), 3)}')\n",
    "    print(f'roc auc   = {np.round(roc_auc_score(y_test, y_pred), 3)}')\n",
    "    print(f'null accuracy = {round(max(y_test.mean(), 1 - y_test.mean()), 2)}')\n",
    "\n",
    "classification_eval(y_test, y_pred)"
   ]
  },
  {
   "cell_type": "code",
   "execution_count": 197,
   "id": "modular-shakespeare",
   "metadata": {},
   "outputs": [
    {
     "data": {
      "image/png": "[encoded data removed]",
      "text/plain": [
       "<Figure size 432x288 with 2 Axes>"
      ]
     },
     "metadata": {
      "needs_background": "light"
     },
     "output_type": "display_data"
    }
   ],
   "source": [
    "plot_confusion_matrix(rf, X_test, y_test);"
   ]
  },
  {
   "cell_type": "markdown",
   "id": "european-breath",
   "metadata": {},
   "source": [
    "SMOTENC"
   ]
  },
  {
   "cell_type": "code",
   "execution_count": 200,
   "id": "qualified-attendance",
   "metadata": {},
   "outputs": [],
   "source": [
    "from imblearn.over_sampling import SMOTENC"
   ]
  },
  {
   "cell_type": "code",
   "execution_count": 201,
   "id": "external-religious",
   "metadata": {},
   "outputs": [],
   "source": [
    "sm = SMOTENC(categorical_features = [0, 2])"
   ]
  },
  {
   "cell_type": "code",
   "execution_count": 202,
   "id": "activated-seventh",
   "metadata": {},
   "outputs": [],
   "source": [
    "X, y = sm.fit_resample(X, y)"
   ]
  },
  {
   "cell_type": "code",
   "execution_count": 203,
   "id": "preliminary-liabilities",
   "metadata": {},
   "outputs": [],
   "source": [
    "X_train, X_test, y_train, y_test = train_test_split(X, y, stratify = y)"
   ]
  },
  {
   "cell_type": "code",
   "execution_count": 204,
   "id": "saving-destination",
   "metadata": {},
   "outputs": [
    {
     "data": {
      "text/plain": [
       "RandomForestClassifier()"
      ]
     },
     "execution_count": 204,
     "metadata": {},
     "output_type": "execute_result"
    }
   ],
   "source": [
    "rf.fit(X_train, y_train)"
   ]
  },
  {
   "cell_type": "code",
   "execution_count": 205,
   "id": "refined-dating",
   "metadata": {},
   "outputs": [],
   "source": [
    "y_pred = rf.predict(X_test)"
   ]
  },
  {
   "cell_type": "code",
   "execution_count": 206,
   "id": "prescribed-lender",
   "metadata": {},
   "outputs": [
    {
     "name": "stdout",
     "output_type": "stream",
     "text": [
      "accuracy  = 0.94\n",
      "precision = 0.917\n",
      "recall    = 0.968\n",
      "f1-score  = 0.942\n",
      "roc auc   = 0.94\n",
      "null accuracy = 0.5\n"
     ]
    }
   ],
   "source": [
    "def classification_eval(y_test, y_pred):\n",
    "    print(f'accuracy  = {np.round(accuracy_score(y_test, y_pred), 3)}')\n",
    "    print(f'precision = {np.round(precision_score(y_test, y_pred), 3)}')\n",
    "    print(f'recall    = {np.round(recall_score(y_test, y_pred), 3)}')\n",
    "    print(f'f1-score  = {np.round(f1_score(y_test, y_pred), 3)}')\n",
    "    print(f'roc auc   = {np.round(roc_auc_score(y_test, y_pred), 3)}')\n",
    "    print(f'null accuracy = {round(max(y_test.mean(), 1 - y_test.mean()), 2)}')\n",
    "\n",
    "classification_eval(y_test, y_pred)"
   ]
  },
  {
   "cell_type": "code",
   "execution_count": 207,
   "id": "enormous-dayton",
   "metadata": {},
   "outputs": [
    {
     "data": {
      "image/png": "[encoded data removed]",
      "text/plain": [
       "<Figure size 432x288 with 2 Axes>"
      ]
     },
     "metadata": {
      "needs_background": "light"
     },
     "output_type": "display_data"
    }
   ],
   "source": [
    "plot_confusion_matrix(rf, X_test, y_test);"
   ]
  },
  {
   "cell_type": "code",
   "execution_count": 209,
   "id": "cooked-prime",
   "metadata": {},
   "outputs": [],
   "source": [
    "hgb = HistGradientBoostingClassifier()"
   ]
  },
  {
   "cell_type": "code",
   "execution_count": 210,
   "id": "eligible-birmingham",
   "metadata": {},
   "outputs": [
    {
     "data": {
      "text/plain": [
       "HistGradientBoostingClassifier()"
      ]
     },
     "execution_count": 210,
     "metadata": {},
     "output_type": "execute_result"
    }
   ],
   "source": [
    "hgb.fit(X_train, y_train)"
   ]
  },
  {
   "cell_type": "code",
   "execution_count": 211,
   "id": "surprised-interference",
   "metadata": {},
   "outputs": [],
   "source": [
    "y_pred = hgb.predict(X_test)"
   ]
  },
  {
   "cell_type": "code",
   "execution_count": 212,
   "id": "demographic-desktop",
   "metadata": {},
   "outputs": [
    {
     "name": "stdout",
     "output_type": "stream",
     "text": [
      "accuracy  = 0.936\n",
      "precision = 0.911\n",
      "recall    = 0.966\n",
      "f1-score  = 0.937\n",
      "roc auc   = 0.936\n",
      "null accuracy = 0.5\n"
     ]
    }
   ],
   "source": [
    "def classification_eval(y_test, y_pred):\n",
    "    print(f'accuracy  = {np.round(accuracy_score(y_test, y_pred), 3)}')\n",
    "    print(f'precision = {np.round(precision_score(y_test, y_pred), 3)}')\n",
    "    print(f'recall    = {np.round(recall_score(y_test, y_pred), 3)}')\n",
    "    print(f'f1-score  = {np.round(f1_score(y_test, y_pred), 3)}')\n",
    "    print(f'roc auc   = {np.round(roc_auc_score(y_test, y_pred), 3)}')\n",
    "    print(f'null accuracy = {round(max(y_test.mean(), 1 - y_test.mean()), 2)}')\n",
    "\n",
    "classification_eval(y_test, y_pred)"
   ]
  },
  {
   "cell_type": "code",
   "execution_count": 213,
   "id": "hourly-georgia",
   "metadata": {},
   "outputs": [
    {
     "data": {
      "image/png": "[encoded data removed]",
      "text/plain": [
       "<Figure size 432x288 with 2 Axes>"
      ]
     },
     "metadata": {
      "needs_background": "light"
     },
     "output_type": "display_data"
    }
   ],
   "source": [
    "plot_confusion_matrix(hgb, X_test, y_test);"
   ]
  },
  {
   "cell_type": "markdown",
   "id": "bottom-leone",
   "metadata": {},
   "source": [
    "# Best Model:"
   ]
  },
  {
   "cell_type": "code",
   "execution_count": 214,
   "id": "known-xerox",
   "metadata": {},
   "outputs": [],
   "source": [
    "def stroke_predictor (df):\n",
    "    \"\"\"\n",
    "    \"\"\"\n",
    "    le = LabelEncoder()\n",
    "    ss = StandardScaler()\n",
    "\n",
    "    df['work_type'] = le.fit_transform(df['work_type'])\n",
    "\n",
    "    num_cols = ['age', 'avg_glucose_level', 'bmi']\n",
    "    df[num_cols] = ss.fit_transform(df[num_cols])\n",
    "    \n",
    "    X = df.drop(columns = ['stroke', 'id', 'outliers'])\n",
    "    y = df.stroke\n",
    "    \n",
    "    ros = RandomOverSampler()\n",
    "    X, y = ros.fit_resample(X, y)\n",
    "    \n",
    "    X_train, X_test, y_train, y_test = train_test_split(X, y, stratify = y)\n",
    "    \n",
    "    model = RandomForestClassifier()\n",
    "    model.fit(X_train, y_train)\n",
    "    y_pred = model.predict(X_test)\n",
    "    \n",
    "    print(f'accuracy  = {np.round(accuracy_score(y_test, y_pred), 3)}')\n",
    "    print(f'precision = {np.round(precision_score(y_test, y_pred), 3)}')\n",
    "    print(f'recall    = {np.round(recall_score(y_test, y_pred), 3)}')\n",
    "    print(f'f1-score  = {np.round(f1_score(y_test, y_pred), 3)}')\n",
    "    print(f'roc auc   = {np.round(roc_auc_score(y_test, y_pred), 3)}')\n",
    "    print(f'null accuracy = {round(max(y_test.mean(), 1 - y_test.mean()), 2)}')\n",
    "    \n",
    "    return model, X_train, X_test, y_train, y_test, y_pred"
   ]
  },
  {
   "cell_type": "code",
   "execution_count": 215,
   "id": "proud-visibility",
   "metadata": {},
   "outputs": [
    {
     "name": "stdout",
     "output_type": "stream",
     "text": [
      "accuracy  = 0.991\n",
      "precision = 0.983\n",
      "recall    = 1.0\n",
      "f1-score  = 0.991\n",
      "roc auc   = 0.991\n",
      "null accuracy = 0.5\n"
     ]
    }
   ],
   "source": [
    "model, X_train, X_test, y_train, y_test, y_pred = stroke_predictor(df)"
   ]
  },
  {
   "cell_type": "code",
   "execution_count": 217,
   "id": "tight-houston",
   "metadata": {},
   "outputs": [
    {
     "data": {
      "image/png": "[encoded data removed]",
      "text/plain": [
       "<Figure size 432x288 with 2 Axes>"
      ]
     },
     "metadata": {
      "needs_background": "light"
     },
     "output_type": "display_data"
    }
   ],
   "source": [
    "plot_confusion_matrix(model, X_test, y_test);"
   ]
  },
  {
   "cell_type": "code",
   "execution_count": 218,
   "id": "electoral-edward",
   "metadata": {},
   "outputs": [],
   "source": [
    "y_pred_prob = model.predict_proba(X_test)"
   ]
  },
  {
   "cell_type": "code",
   "execution_count": 219,
   "id": "undefined-weight",
   "metadata": {},
   "outputs": [
    {
     "data": {
      "image/png": "[encoded data removed]",
      "text/plain": [
       "<Figure size 360x360 with 1 Axes>"
      ]
     },
     "metadata": {
      "needs_background": "light"
     },
     "output_type": "display_data"
    }
   ],
   "source": [
    "sns.displot(y_pred_prob[:, 1]);\n",
    "plt.title('Histogram of predicted probabilities');"
   ]
  },
  {
   "cell_type": "code",
   "execution_count": 221,
   "id": "lyric-engine",
   "metadata": {},
   "outputs": [
    {
     "data": {
      "image/png": "[encoded data removed]",
      "text/plain": [
       "<Figure size 432x288 with 1 Axes>"
      ]
     },
     "metadata": {
      "needs_background": "light"
     },
     "output_type": "display_data"
    }
   ],
   "source": [
    "plot_roc_curve(model, X_test, y_test)\n",
    "plt.title('ROC AUC score and curve for stroke classification');\n",
    "plt.plot([0,1], [0,1], 'k--')\n",
    "plt.show();"
   ]
  },
  {
   "cell_type": "code",
   "execution_count": 222,
   "id": "sticky-century",
   "metadata": {},
   "outputs": [],
   "source": [
    "feat_names = [i for i in X_train]"
   ]
  },
  {
   "cell_type": "code",
   "execution_count": 223,
   "id": "dated-deputy",
   "metadata": {},
   "outputs": [],
   "source": [
    "classed = [i for i in y_train]"
   ]
  },
  {
   "cell_type": "code",
   "execution_count": 224,
   "id": "protective-bangladesh",
   "metadata": {},
   "outputs": [],
   "source": [
    "feat_import_df = pd.DataFrame({'importances': model.feature_importances_, \n",
    " 'name': feat_names}).sort_values('importances')"
   ]
  },
  {
   "cell_type": "code",
   "execution_count": 225,
   "id": "recent-belgium",
   "metadata": {},
   "outputs": [
    {
     "data": {
      "text/html": [
       "<div>\n",
       "<style scoped>\n",
       "    .dataframe tbody tr th:only-of-type {\n",
       "        vertical-align: middle;\n",
       "    }\n",
       "\n",
       "    .dataframe tbody tr th {\n",
       "        vertical-align: top;\n",
       "    }\n",
       "\n",
       "    .dataframe thead th {\n",
       "        text-align: right;\n",
       "    }\n",
       "</style>\n",
       "<table border=\"1\" class=\"dataframe\">\n",
       "  <thead>\n",
       "    <tr style=\"text-align: right;\">\n",
       "      <th></th>\n",
       "      <th>importances</th>\n",
       "      <th>name</th>\n",
       "    </tr>\n",
       "  </thead>\n",
       "  <tbody>\n",
       "    <tr>\n",
       "      <th>1</th>\n",
       "      <td>0.391667</td>\n",
       "      <td>age</td>\n",
       "    </tr>\n",
       "    <tr>\n",
       "      <th>7</th>\n",
       "      <td>0.215758</td>\n",
       "      <td>avg_glucose_level</td>\n",
       "    </tr>\n",
       "    <tr>\n",
       "      <th>8</th>\n",
       "      <td>0.178903</td>\n",
       "      <td>bmi</td>\n",
       "    </tr>\n",
       "    <tr>\n",
       "      <th>5</th>\n",
       "      <td>0.050370</td>\n",
       "      <td>work_type</td>\n",
       "    </tr>\n",
       "    <tr>\n",
       "      <th>4</th>\n",
       "      <td>0.040717</td>\n",
       "      <td>ever_married</td>\n",
       "    </tr>\n",
       "    <tr>\n",
       "      <th>2</th>\n",
       "      <td>0.034766</td>\n",
       "      <td>hypertension</td>\n",
       "    </tr>\n",
       "    <tr>\n",
       "      <th>9</th>\n",
       "      <td>0.025048</td>\n",
       "      <td>smoking_status</td>\n",
       "    </tr>\n",
       "    <tr>\n",
       "      <th>0</th>\n",
       "      <td>0.022739</td>\n",
       "      <td>gender</td>\n",
       "    </tr>\n",
       "    <tr>\n",
       "      <th>6</th>\n",
       "      <td>0.021038</td>\n",
       "      <td>Residence_type</td>\n",
       "    </tr>\n",
       "    <tr>\n",
       "      <th>3</th>\n",
       "      <td>0.018994</td>\n",
       "      <td>heart_disease</td>\n",
       "    </tr>\n",
       "  </tbody>\n",
       "</table>\n",
       "</div>"
      ],
      "text/plain": [
       "   importances               name\n",
       "1     0.391667                age\n",
       "7     0.215758  avg_glucose_level\n",
       "8     0.178903                bmi\n",
       "5     0.050370          work_type\n",
       "4     0.040717       ever_married\n",
       "2     0.034766       hypertension\n",
       "9     0.025048     smoking_status\n",
       "0     0.022739             gender\n",
       "6     0.021038     Residence_type\n",
       "3     0.018994      heart_disease"
      ]
     },
     "execution_count": 225,
     "metadata": {},
     "output_type": "execute_result"
    }
   ],
   "source": [
    "feat_import_df.sort_values('importances', ascending = False).head(15)"
   ]
  },
  {
   "cell_type": "code",
   "execution_count": 226,
   "id": "spare-terminology",
   "metadata": {},
   "outputs": [
    {
     "data": {
      "image/png": "[encoded data removed]",
      "text/plain": [
       "<Figure size 1080x720 with 1 Axes>"
      ]
     },
     "metadata": {},
     "output_type": "display_data"
    }
   ],
   "source": [
    "sns.set(style=\"darkgrid\", context=\"notebook\")\n",
    "plt.figure(figsize=(15, 10))\n",
    "x = feat_import_df['importances'].tail(21)\n",
    "y = feat_import_df['name'].tail(21)\n",
    "sns.barplot(x = x, y = y).set_title('Top ranking features by importance');"
   ]
  }
 ],
 "metadata": {
  "kernelspec": {
   "display_name": "Python 3",
   "language": "python",
   "name": "python3"
  },
  "language_info": {
   "codemirror_mode": {
    "name": "ipython",
    "version": 3
   },
   "file_extension": ".py",
   "mimetype": "text/x-python",
   "name": "python",
   "nbconvert_exporter": "python",
   "pygments_lexer": "ipython3",
   "version": "3.8.2"
  }
 },
 "nbformat": 4,
 "nbformat_minor": 5
}
