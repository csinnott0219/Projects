{
 "cells": [
  {
   "cell_type": "markdown",
   "metadata": {},
   "source": [
    "#### Project 3: Reddit NLP\n",
    "#### Corey J Sinnott\n",
    "# Data Cleaning, Initial EDA and Early Featurization\n",
    "\n",
    "## Executive Summary\n",
    "\n",
    "This report was commissioned to perform natural language processing (NLP) and analysis on two subreddits of Reddit.com. Data includes over 8000 posts, 4000 belonging to r/AskALiberal, and 4000 belonging to r/AskAConservative. The problem statement was defined as, can we classify to which subreddit a post belongs? After in-depth analysis, conclusions and recommendations will be presented.\n",
    "\n",
    "*See model_classification_exec_summary.ipynb for the full summary, data dictionary, and findings.*\n",
    "\n",
    "## Contents:\n",
    "- [Initial EDA & Cleaning](#Initial-EDA-&-Cleaning)\n",
    "- [EDA and Featurization](#EDA-and_Featurization)"
   ]
  },
  {
   "cell_type": "markdown",
   "metadata": {},
   "source": [
    "#### Importing Libraries"
   ]
  },
  {
   "cell_type": "code",
   "execution_count": 94,
   "metadata": {},
   "outputs": [],
   "source": [
    "import pandas as pd\n",
    "import numpy as np\n",
    "import warnings\n",
    "warnings.filterwarnings(\"ignore\")\n",
    "import language_tool_python\n",
    "from textblob import TextBlob\n",
    "from textblob.sentiments import NaiveBayesAnalyzer\n",
    "from textblob import Blobber\n",
    "from sklearn.feature_extraction.text import CountVectorizer, TfidfVectorizer"
   ]
  },
  {
   "cell_type": "code",
   "execution_count": 12,
   "metadata": {},
   "outputs": [],
   "source": [
    "#cd project-3"
   ]
  },
  {
   "cell_type": "markdown",
   "metadata": {},
   "source": [
    "# Initial EDA & Cleaning\n",
    " - Reading in data and exploring basic metrics.\n",
    " - Cleaning data, which includes removing \"removed by moderator\" posts."
   ]
  },
  {
   "cell_type": "code",
   "execution_count": 13,
   "metadata": {},
   "outputs": [],
   "source": [
    "df = pd.read_csv('./data/full_pull_4000_each_incl_self_text.csv')"
   ]
  },
  {
   "cell_type": "code",
   "execution_count": 14,
   "metadata": {},
   "outputs": [
    {
     "data": {
      "text/html": [
       "<div>\n",
       "<style scoped>\n",
       "    .dataframe tbody tr th:only-of-type {\n",
       "        vertical-align: middle;\n",
       "    }\n",
       "\n",
       "    .dataframe tbody tr th {\n",
       "        vertical-align: top;\n",
       "    }\n",
       "\n",
       "    .dataframe thead th {\n",
       "        text-align: right;\n",
       "    }\n",
       "</style>\n",
       "<table border=\"1\" class=\"dataframe\">\n",
       "  <thead>\n",
       "    <tr style=\"text-align: right;\">\n",
       "      <th></th>\n",
       "      <th>Unnamed: 0</th>\n",
       "      <th>title</th>\n",
       "      <th>selftext</th>\n",
       "      <th>subreddit</th>\n",
       "      <th>created_utc</th>\n",
       "    </tr>\n",
       "  </thead>\n",
       "  <tbody>\n",
       "    <tr>\n",
       "      <th>0</th>\n",
       "      <td>0</td>\n",
       "      <td>Biden plans to cancel the Keystone XL pipeline...</td>\n",
       "      <td>[https://www.cbc.ca/amp/1.5877038](https://www...</td>\n",
       "      <td>AskALiberal</td>\n",
       "      <td>1610945588</td>\n",
       "    </tr>\n",
       "    <tr>\n",
       "      <th>1</th>\n",
       "      <td>1</td>\n",
       "      <td>2020 Best of r/AskALiberal Results</td>\n",
       "      <td>#Good afternoon, everyone!\\n\\n\\nThe winners an...</td>\n",
       "      <td>AskALiberal</td>\n",
       "      <td>1610943721</td>\n",
       "    </tr>\n",
       "    <tr>\n",
       "      <th>2</th>\n",
       "      <td>2</td>\n",
       "      <td>Place your bets: will Trump be removed by forc...</td>\n",
       "      <td>We already know Trump will not attend Biden's ...</td>\n",
       "      <td>AskALiberal</td>\n",
       "      <td>1610942754</td>\n",
       "    </tr>\n",
       "    <tr>\n",
       "      <th>3</th>\n",
       "      <td>3</td>\n",
       "      <td>Have you ever gotten conservatives to rethink ...</td>\n",
       "      <td>I’m had both positive/negative conversations f...</td>\n",
       "      <td>AskALiberal</td>\n",
       "      <td>1610942080</td>\n",
       "    </tr>\n",
       "    <tr>\n",
       "      <th>4</th>\n",
       "      <td>4</td>\n",
       "      <td>Who is winning the culture war right now?</td>\n",
       "      <td>Liberals? Conservatives? China?</td>\n",
       "      <td>AskALiberal</td>\n",
       "      <td>1610939740</td>\n",
       "    </tr>\n",
       "  </tbody>\n",
       "</table>\n",
       "</div>"
      ],
      "text/plain": [
       "   Unnamed: 0                                              title  \\\n",
       "0           0  Biden plans to cancel the Keystone XL pipeline...   \n",
       "1           1                 2020 Best of r/AskALiberal Results   \n",
       "2           2  Place your bets: will Trump be removed by forc...   \n",
       "3           3  Have you ever gotten conservatives to rethink ...   \n",
       "4           4          Who is winning the culture war right now?   \n",
       "\n",
       "                                            selftext    subreddit  created_utc  \n",
       "0  [https://www.cbc.ca/amp/1.5877038](https://www...  AskALiberal   1610945588  \n",
       "1  #Good afternoon, everyone!\\n\\n\\nThe winners an...  AskALiberal   1610943721  \n",
       "2  We already know Trump will not attend Biden's ...  AskALiberal   1610942754  \n",
       "3  I’m had both positive/negative conversations f...  AskALiberal   1610942080  \n",
       "4                    Liberals? Conservatives? China?  AskALiberal   1610939740  "
      ]
     },
     "execution_count": 14,
     "metadata": {},
     "output_type": "execute_result"
    }
   ],
   "source": [
    "df.head()"
   ]
  },
  {
   "cell_type": "code",
   "execution_count": 15,
   "metadata": {},
   "outputs": [
    {
     "name": "stdout",
     "output_type": "stream",
     "text": [
      "<class 'pandas.core.frame.DataFrame'>\n",
      "RangeIndex: 8000 entries, 0 to 7999\n",
      "Data columns (total 5 columns):\n",
      " #   Column       Non-Null Count  Dtype \n",
      "---  ------       --------------  ----- \n",
      " 0   Unnamed: 0   8000 non-null   int64 \n",
      " 1   title        8000 non-null   object\n",
      " 2   selftext     7209 non-null   object\n",
      " 3   subreddit    8000 non-null   object\n",
      " 4   created_utc  8000 non-null   int64 \n",
      "dtypes: int64(2), object(3)\n",
      "memory usage: 312.6+ KB\n"
     ]
    }
   ],
   "source": [
    "df.info()"
   ]
  },
  {
   "cell_type": "code",
   "execution_count": 16,
   "metadata": {},
   "outputs": [],
   "source": [
    "df = df.drop(columns = ['Unnamed: 0'])"
   ]
  },
  {
   "cell_type": "code",
   "execution_count": 17,
   "metadata": {},
   "outputs": [
    {
     "data": {
      "text/plain": [
       "count                                                  8000\n",
       "unique                                                 7761\n",
       "top       Trump fires Esper. McConnell meets with Barr a...\n",
       "freq                                                      6\n",
       "Name: title, dtype: object"
      ]
     },
     "execution_count": 17,
     "metadata": {},
     "output_type": "execute_result"
    }
   ],
   "source": [
    "df.title.describe()"
   ]
  },
  {
   "cell_type": "code",
   "execution_count": 18,
   "metadata": {},
   "outputs": [],
   "source": [
    "df = df.drop_duplicates()"
   ]
  },
  {
   "cell_type": "code",
   "execution_count": 19,
   "metadata": {},
   "outputs": [],
   "source": [
    "#dropping nulls for now; will most likely use all titles for further exploration later\n",
    "df = df.dropna()"
   ]
  },
  {
   "cell_type": "code",
   "execution_count": 20,
   "metadata": {},
   "outputs": [
    {
     "name": "stdout",
     "output_type": "stream",
     "text": [
      "<class 'pandas.core.frame.DataFrame'>\n",
      "Int64Index: 7209 entries, 0 to 7999\n",
      "Data columns (total 4 columns):\n",
      " #   Column       Non-Null Count  Dtype \n",
      "---  ------       --------------  ----- \n",
      " 0   title        7209 non-null   object\n",
      " 1   selftext     7209 non-null   object\n",
      " 2   subreddit    7209 non-null   object\n",
      " 3   created_utc  7209 non-null   int64 \n",
      "dtypes: int64(1), object(3)\n",
      "memory usage: 281.6+ KB\n"
     ]
    }
   ],
   "source": [
    "df.info()"
   ]
  },
  {
   "cell_type": "markdown",
   "metadata": {},
   "source": [
    "# EDA and Featurization\n",
    " - Creating new features:\n",
    "     - Length metrics using word counts\n",
    "     - Sentiment analysis using Beautiful Soup TextBlob\n",
    "     - Grammar analysis using Python Language Tool"
   ]
  },
  {
   "cell_type": "code",
   "execution_count": 21,
   "metadata": {},
   "outputs": [
    {
     "data": {
      "text/html": [
       "<div>\n",
       "<style scoped>\n",
       "    .dataframe tbody tr th:only-of-type {\n",
       "        vertical-align: middle;\n",
       "    }\n",
       "\n",
       "    .dataframe tbody tr th {\n",
       "        vertical-align: top;\n",
       "    }\n",
       "\n",
       "    .dataframe thead th {\n",
       "        text-align: right;\n",
       "    }\n",
       "</style>\n",
       "<table border=\"1\" class=\"dataframe\">\n",
       "  <thead>\n",
       "    <tr style=\"text-align: right;\">\n",
       "      <th></th>\n",
       "      <th>title</th>\n",
       "      <th>selftext</th>\n",
       "      <th>subreddit</th>\n",
       "      <th>created_utc</th>\n",
       "      <th>post_length</th>\n",
       "      <th>post_word_count</th>\n",
       "      <th>title_length</th>\n",
       "      <th>title_word_count</th>\n",
       "    </tr>\n",
       "  </thead>\n",
       "  <tbody>\n",
       "    <tr>\n",
       "      <th>0</th>\n",
       "      <td>Biden plans to cancel the Keystone XL pipeline...</td>\n",
       "      <td>[https://www.cbc.ca/amp/1.5877038](https://www...</td>\n",
       "      <td>AskALiberal</td>\n",
       "      <td>1610945588</td>\n",
       "      <td>83</td>\n",
       "      <td>3</td>\n",
       "      <td>143</td>\n",
       "      <td>26</td>\n",
       "    </tr>\n",
       "    <tr>\n",
       "      <th>1</th>\n",
       "      <td>2020 Best of r/AskALiberal Results</td>\n",
       "      <td>#Good afternoon, everyone!\\n\\n\\nThe winners an...</td>\n",
       "      <td>AskALiberal</td>\n",
       "      <td>1610943721</td>\n",
       "      <td>3412</td>\n",
       "      <td>416</td>\n",
       "      <td>34</td>\n",
       "      <td>5</td>\n",
       "    </tr>\n",
       "  </tbody>\n",
       "</table>\n",
       "</div>"
      ],
      "text/plain": [
       "                                               title  \\\n",
       "0  Biden plans to cancel the Keystone XL pipeline...   \n",
       "1                 2020 Best of r/AskALiberal Results   \n",
       "\n",
       "                                            selftext    subreddit  \\\n",
       "0  [https://www.cbc.ca/amp/1.5877038](https://www...  AskALiberal   \n",
       "1  #Good afternoon, everyone!\\n\\n\\nThe winners an...  AskALiberal   \n",
       "\n",
       "   created_utc  post_length  post_word_count  title_length  title_word_count  \n",
       "0   1610945588           83                3           143                26  \n",
       "1   1610943721         3412              416            34                 5  "
      ]
     },
     "execution_count": 21,
     "metadata": {},
     "output_type": "execute_result"
    }
   ],
   "source": [
    "#creating new columns for status length and word count\n",
    "df['post_length'] = [len(i) for i in df['selftext']]\n",
    "df['post_word_count'] = [len(i.split()) for i in df['selftext']]\n",
    "df['title_length'] = [len(i) for i in df['title']]\n",
    "df['title_word_count'] = [len(i.split()) for i in df['title']]\n",
    "df.head(2)"
   ]
  },
  {
   "cell_type": "code",
   "execution_count": 22,
   "metadata": {},
   "outputs": [
    {
     "data": {
      "text/html": [
       "<div>\n",
       "<style scoped>\n",
       "    .dataframe tbody tr th:only-of-type {\n",
       "        vertical-align: middle;\n",
       "    }\n",
       "\n",
       "    .dataframe tbody tr th {\n",
       "        vertical-align: top;\n",
       "    }\n",
       "\n",
       "    .dataframe thead th {\n",
       "        text-align: right;\n",
       "    }\n",
       "</style>\n",
       "<table border=\"1\" class=\"dataframe\">\n",
       "  <thead>\n",
       "    <tr style=\"text-align: right;\">\n",
       "      <th></th>\n",
       "      <th>title</th>\n",
       "      <th>selftext</th>\n",
       "      <th>subreddit</th>\n",
       "      <th>created_utc</th>\n",
       "      <th>post_length</th>\n",
       "      <th>post_word_count</th>\n",
       "      <th>title_length</th>\n",
       "      <th>title_word_count</th>\n",
       "    </tr>\n",
       "  </thead>\n",
       "  <tbody>\n",
       "    <tr>\n",
       "      <th>0</th>\n",
       "      <td>Biden plans to cancel the Keystone XL pipeline...</td>\n",
       "      <td>[https://www.cbc.ca/amp/1.5877038](https://www...</td>\n",
       "      <td>AskALiberal</td>\n",
       "      <td>1610945588</td>\n",
       "      <td>83</td>\n",
       "      <td>3</td>\n",
       "      <td>143</td>\n",
       "      <td>26</td>\n",
       "    </tr>\n",
       "    <tr>\n",
       "      <th>1</th>\n",
       "      <td>2020 Best of r/AskALiberal Results</td>\n",
       "      <td>#Good afternoon, everyone!\\n\\n\\nThe winners an...</td>\n",
       "      <td>AskALiberal</td>\n",
       "      <td>1610943721</td>\n",
       "      <td>3412</td>\n",
       "      <td>416</td>\n",
       "      <td>34</td>\n",
       "      <td>5</td>\n",
       "    </tr>\n",
       "  </tbody>\n",
       "</table>\n",
       "</div>"
      ],
      "text/plain": [
       "                                               title  \\\n",
       "0  Biden plans to cancel the Keystone XL pipeline...   \n",
       "1                 2020 Best of r/AskALiberal Results   \n",
       "\n",
       "                                            selftext    subreddit  \\\n",
       "0  [https://www.cbc.ca/amp/1.5877038](https://www...  AskALiberal   \n",
       "1  #Good afternoon, everyone!\\n\\n\\nThe winners an...  AskALiberal   \n",
       "\n",
       "   created_utc  post_length  post_word_count  title_length  title_word_count  \n",
       "0   1610945588           83                3           143                26  \n",
       "1   1610943721         3412              416            34                 5  "
      ]
     },
     "execution_count": 22,
     "metadata": {},
     "output_type": "execute_result"
    }
   ],
   "source": [
    "# separating for simpler EDA\n",
    "df_lib = df[df.subreddit == 'AskALiberal']\n",
    "df_lib.head(2)"
   ]
  },
  {
   "cell_type": "code",
   "execution_count": 23,
   "metadata": {},
   "outputs": [
    {
     "data": {
      "text/html": [
       "<div>\n",
       "<style scoped>\n",
       "    .dataframe tbody tr th:only-of-type {\n",
       "        vertical-align: middle;\n",
       "    }\n",
       "\n",
       "    .dataframe tbody tr th {\n",
       "        vertical-align: top;\n",
       "    }\n",
       "\n",
       "    .dataframe thead th {\n",
       "        text-align: right;\n",
       "    }\n",
       "</style>\n",
       "<table border=\"1\" class=\"dataframe\">\n",
       "  <thead>\n",
       "    <tr style=\"text-align: right;\">\n",
       "      <th></th>\n",
       "      <th>title</th>\n",
       "      <th>selftext</th>\n",
       "      <th>subreddit</th>\n",
       "      <th>created_utc</th>\n",
       "      <th>post_length</th>\n",
       "      <th>post_word_count</th>\n",
       "      <th>title_length</th>\n",
       "      <th>title_word_count</th>\n",
       "    </tr>\n",
       "  </thead>\n",
       "  <tbody>\n",
       "    <tr>\n",
       "      <th>4000</th>\n",
       "      <td>Why are do so many liberals think conservatism...</td>\n",
       "      <td>Its like saying communism is right leaning con...</td>\n",
       "      <td>askaconservative</td>\n",
       "      <td>1599996054</td>\n",
       "      <td>258</td>\n",
       "      <td>45</td>\n",
       "      <td>89</td>\n",
       "      <td>15</td>\n",
       "    </tr>\n",
       "    <tr>\n",
       "      <th>4001</th>\n",
       "      <td>Are you familiar with the CIA’s “Operation Con...</td>\n",
       "      <td>Basically the CIA supported a bunch of South A...</td>\n",
       "      <td>askaconservative</td>\n",
       "      <td>1599985914</td>\n",
       "      <td>380</td>\n",
       "      <td>54</td>\n",
       "      <td>61</td>\n",
       "      <td>9</td>\n",
       "    </tr>\n",
       "  </tbody>\n",
       "</table>\n",
       "</div>"
      ],
      "text/plain": [
       "                                                  title  \\\n",
       "4000  Why are do so many liberals think conservatism...   \n",
       "4001  Are you familiar with the CIA’s “Operation Con...   \n",
       "\n",
       "                                               selftext         subreddit  \\\n",
       "4000  Its like saying communism is right leaning con...  askaconservative   \n",
       "4001  Basically the CIA supported a bunch of South A...  askaconservative   \n",
       "\n",
       "      created_utc  post_length  post_word_count  title_length  \\\n",
       "4000   1599996054          258               45            89   \n",
       "4001   1599985914          380               54            61   \n",
       "\n",
       "      title_word_count  \n",
       "4000                15  \n",
       "4001                 9  "
      ]
     },
     "execution_count": 23,
     "metadata": {},
     "output_type": "execute_result"
    }
   ],
   "source": [
    "df_cons = df[df.subreddit == 'askaconservative']\n",
    "df_cons.head(2)"
   ]
  },
  {
   "cell_type": "code",
   "execution_count": 24,
   "metadata": {},
   "outputs": [
    {
     "data": {
      "text/html": [
       "<div>\n",
       "<style scoped>\n",
       "    .dataframe tbody tr th:only-of-type {\n",
       "        vertical-align: middle;\n",
       "    }\n",
       "\n",
       "    .dataframe tbody tr th {\n",
       "        vertical-align: top;\n",
       "    }\n",
       "\n",
       "    .dataframe thead th {\n",
       "        text-align: right;\n",
       "    }\n",
       "</style>\n",
       "<table border=\"1\" class=\"dataframe\">\n",
       "  <thead>\n",
       "    <tr style=\"text-align: right;\">\n",
       "      <th></th>\n",
       "      <th>count</th>\n",
       "      <th>mean</th>\n",
       "      <th>std</th>\n",
       "      <th>min</th>\n",
       "      <th>25%</th>\n",
       "      <th>50%</th>\n",
       "      <th>75%</th>\n",
       "      <th>max</th>\n",
       "    </tr>\n",
       "  </thead>\n",
       "  <tbody>\n",
       "    <tr>\n",
       "      <th>created_utc</th>\n",
       "      <td>3979.0</td>\n",
       "      <td>1.605385e+09</td>\n",
       "      <td>3.189884e+06</td>\n",
       "      <td>1.600006e+09</td>\n",
       "      <td>1.602755e+09</td>\n",
       "      <td>1.605012e+09</td>\n",
       "      <td>1.608112e+09</td>\n",
       "      <td>1.610946e+09</td>\n",
       "    </tr>\n",
       "    <tr>\n",
       "      <th>post_length</th>\n",
       "      <td>3979.0</td>\n",
       "      <td>4.394330e+02</td>\n",
       "      <td>7.297412e+02</td>\n",
       "      <td>1.000000e+00</td>\n",
       "      <td>2.200000e+01</td>\n",
       "      <td>2.230000e+02</td>\n",
       "      <td>5.385000e+02</td>\n",
       "      <td>1.295600e+04</td>\n",
       "    </tr>\n",
       "    <tr>\n",
       "      <th>post_word_count</th>\n",
       "      <td>3979.0</td>\n",
       "      <td>7.151872e+01</td>\n",
       "      <td>1.188088e+02</td>\n",
       "      <td>1.000000e+00</td>\n",
       "      <td>2.000000e+00</td>\n",
       "      <td>3.700000e+01</td>\n",
       "      <td>8.900000e+01</td>\n",
       "      <td>2.315000e+03</td>\n",
       "    </tr>\n",
       "    <tr>\n",
       "      <th>title_length</th>\n",
       "      <td>3979.0</td>\n",
       "      <td>8.319100e+01</td>\n",
       "      <td>4.931885e+01</td>\n",
       "      <td>3.000000e+00</td>\n",
       "      <td>4.900000e+01</td>\n",
       "      <td>7.100000e+01</td>\n",
       "      <td>1.050000e+02</td>\n",
       "      <td>2.990000e+02</td>\n",
       "    </tr>\n",
       "    <tr>\n",
       "      <th>title_word_count</th>\n",
       "      <td>3979.0</td>\n",
       "      <td>1.434406e+01</td>\n",
       "      <td>8.543239e+00</td>\n",
       "      <td>1.000000e+00</td>\n",
       "      <td>8.000000e+00</td>\n",
       "      <td>1.200000e+01</td>\n",
       "      <td>1.800000e+01</td>\n",
       "      <td>5.600000e+01</td>\n",
       "    </tr>\n",
       "  </tbody>\n",
       "</table>\n",
       "</div>"
      ],
      "text/plain": [
       "                   count          mean           std           min  \\\n",
       "created_utc       3979.0  1.605385e+09  3.189884e+06  1.600006e+09   \n",
       "post_length       3979.0  4.394330e+02  7.297412e+02  1.000000e+00   \n",
       "post_word_count   3979.0  7.151872e+01  1.188088e+02  1.000000e+00   \n",
       "title_length      3979.0  8.319100e+01  4.931885e+01  3.000000e+00   \n",
       "title_word_count  3979.0  1.434406e+01  8.543239e+00  1.000000e+00   \n",
       "\n",
       "                           25%           50%           75%           max  \n",
       "created_utc       1.602755e+09  1.605012e+09  1.608112e+09  1.610946e+09  \n",
       "post_length       2.200000e+01  2.230000e+02  5.385000e+02  1.295600e+04  \n",
       "post_word_count   2.000000e+00  3.700000e+01  8.900000e+01  2.315000e+03  \n",
       "title_length      4.900000e+01  7.100000e+01  1.050000e+02  2.990000e+02  \n",
       "title_word_count  8.000000e+00  1.200000e+01  1.800000e+01  5.600000e+01  "
      ]
     },
     "execution_count": 24,
     "metadata": {},
     "output_type": "execute_result"
    }
   ],
   "source": [
    "df_lib.sort_values('post_length').describe().T"
   ]
  },
  {
   "cell_type": "code",
   "execution_count": 25,
   "metadata": {},
   "outputs": [
    {
     "data": {
      "text/html": [
       "<div>\n",
       "<style scoped>\n",
       "    .dataframe tbody tr th:only-of-type {\n",
       "        vertical-align: middle;\n",
       "    }\n",
       "\n",
       "    .dataframe tbody tr th {\n",
       "        vertical-align: top;\n",
       "    }\n",
       "\n",
       "    .dataframe thead th {\n",
       "        text-align: right;\n",
       "    }\n",
       "</style>\n",
       "<table border=\"1\" class=\"dataframe\">\n",
       "  <thead>\n",
       "    <tr style=\"text-align: right;\">\n",
       "      <th></th>\n",
       "      <th>count</th>\n",
       "      <th>mean</th>\n",
       "      <th>std</th>\n",
       "      <th>min</th>\n",
       "      <th>25%</th>\n",
       "      <th>50%</th>\n",
       "      <th>75%</th>\n",
       "      <th>max</th>\n",
       "    </tr>\n",
       "  </thead>\n",
       "  <tbody>\n",
       "    <tr>\n",
       "      <th>created_utc</th>\n",
       "      <td>3230.0</td>\n",
       "      <td>1.592490e+09</td>\n",
       "      <td>4.194537e+06</td>\n",
       "      <td>1.584374e+09</td>\n",
       "      <td>1.589224e+09</td>\n",
       "      <td>1.592442e+09</td>\n",
       "      <td>1.595972e+09</td>\n",
       "      <td>1.599996e+09</td>\n",
       "    </tr>\n",
       "    <tr>\n",
       "      <th>post_length</th>\n",
       "      <td>3230.0</td>\n",
       "      <td>3.787715e+02</td>\n",
       "      <td>6.628354e+02</td>\n",
       "      <td>1.000000e+00</td>\n",
       "      <td>9.000000e+00</td>\n",
       "      <td>2.110000e+02</td>\n",
       "      <td>4.980000e+02</td>\n",
       "      <td>1.989300e+04</td>\n",
       "    </tr>\n",
       "    <tr>\n",
       "      <th>post_word_count</th>\n",
       "      <td>3230.0</td>\n",
       "      <td>6.258700e+01</td>\n",
       "      <td>9.778238e+01</td>\n",
       "      <td>1.000000e+00</td>\n",
       "      <td>1.000000e+00</td>\n",
       "      <td>3.500000e+01</td>\n",
       "      <td>8.400000e+01</td>\n",
       "      <td>2.007000e+03</td>\n",
       "    </tr>\n",
       "    <tr>\n",
       "      <th>title_length</th>\n",
       "      <td>3230.0</td>\n",
       "      <td>7.511486e+01</td>\n",
       "      <td>4.855969e+01</td>\n",
       "      <td>3.000000e+00</td>\n",
       "      <td>4.200000e+01</td>\n",
       "      <td>6.300000e+01</td>\n",
       "      <td>9.300000e+01</td>\n",
       "      <td>2.990000e+02</td>\n",
       "    </tr>\n",
       "    <tr>\n",
       "      <th>title_word_count</th>\n",
       "      <td>3230.0</td>\n",
       "      <td>1.267399e+01</td>\n",
       "      <td>8.332880e+00</td>\n",
       "      <td>1.000000e+00</td>\n",
       "      <td>7.000000e+00</td>\n",
       "      <td>1.100000e+01</td>\n",
       "      <td>1.600000e+01</td>\n",
       "      <td>5.900000e+01</td>\n",
       "    </tr>\n",
       "  </tbody>\n",
       "</table>\n",
       "</div>"
      ],
      "text/plain": [
       "                   count          mean           std           min  \\\n",
       "created_utc       3230.0  1.592490e+09  4.194537e+06  1.584374e+09   \n",
       "post_length       3230.0  3.787715e+02  6.628354e+02  1.000000e+00   \n",
       "post_word_count   3230.0  6.258700e+01  9.778238e+01  1.000000e+00   \n",
       "title_length      3230.0  7.511486e+01  4.855969e+01  3.000000e+00   \n",
       "title_word_count  3230.0  1.267399e+01  8.332880e+00  1.000000e+00   \n",
       "\n",
       "                           25%           50%           75%           max  \n",
       "created_utc       1.589224e+09  1.592442e+09  1.595972e+09  1.599996e+09  \n",
       "post_length       9.000000e+00  2.110000e+02  4.980000e+02  1.989300e+04  \n",
       "post_word_count   1.000000e+00  3.500000e+01  8.400000e+01  2.007000e+03  \n",
       "title_length      4.200000e+01  6.300000e+01  9.300000e+01  2.990000e+02  \n",
       "title_word_count  7.000000e+00  1.100000e+01  1.600000e+01  5.900000e+01  "
      ]
     },
     "execution_count": 25,
     "metadata": {},
     "output_type": "execute_result"
    }
   ],
   "source": [
    "df_cons.sort_values('post_length').describe().T"
   ]
  },
  {
   "cell_type": "markdown",
   "metadata": {},
   "source": [
    "#### Analyzing Grammar"
   ]
  },
  {
   "cell_type": "code",
   "execution_count": 26,
   "metadata": {},
   "outputs": [
    {
     "data": {
      "text/plain": [
       "2"
      ]
     },
     "execution_count": 26,
     "metadata": {},
     "output_type": "execute_result"
    }
   ],
   "source": [
    "# testing grammar evaluation tool\n",
    "# https://github.com/jxmorris12/language_tool_python\n",
    "tool = language_tool_python.LanguageTool('en-US')\n",
    "text = 'This are bad.'\n",
    "matches = tool.check(text)\n",
    "len(matches)"
   ]
  },
  {
   "cell_type": "code",
   "execution_count": 28,
   "metadata": {},
   "outputs": [],
   "source": [
    "#defining a function to rate grammar\n",
    "#later simply added columns for grammar EDA\n",
    "def grammarater (source_1, source_2, samples):\n",
    "    count_1 = 0\n",
    "    count_2 = 0\n",
    "    \n",
    "    for i in source_1:\n",
    "        while count_1 <= samples:           \n",
    "            errors_1 = tool.check(i)\n",
    "            error_rate_1 = (len(errors_1) / len(i)) * 100\n",
    "            count_1 += 1\n",
    "    print(f'{source_1} total errors: {errors_1}')\n",
    "    print(f'{source_1} has an error rate of {error_rate_1}')\n",
    "          \n",
    "    for x in source_2:\n",
    "        while count_2 <= samples:            \n",
    "            errors_2 = tool.check(x)\n",
    "            error_rate_2 = len(errors_2) / len(x)\n",
    "            count_2 += 1\n",
    "    print(f'{source_2} total errors: {errors_2}')\n",
    "    print(f'{source_2} has an error rate of {error_rate_2}')"
   ]
  },
  {
   "cell_type": "code",
   "execution_count": 29,
   "metadata": {},
   "outputs": [],
   "source": [
    "#grammarater(df_lib['title'], df_cons['title'], 5)"
   ]
  },
  {
   "cell_type": "code",
   "execution_count": 30,
   "metadata": {},
   "outputs": [],
   "source": [
    "df['grammar_errors'] = [tool.check(i) for i in df['selftext']]"
   ]
  },
  {
   "cell_type": "code",
   "execution_count": 31,
   "metadata": {},
   "outputs": [],
   "source": [
    "df['num_of_grammar_errors'] = [len(i) for i in df['grammar_errors']]"
   ]
  },
  {
   "cell_type": "code",
   "execution_count": 134,
   "metadata": {},
   "outputs": [],
   "source": [
    "df['gramm_err_rate'] = df.num_of_grammar_errors / len(df.num_of_grammar_errors) * 100"
   ]
  },
  {
   "cell_type": "code",
   "execution_count": 135,
   "metadata": {},
   "outputs": [
    {
     "data": {
      "text/html": [
       "<div>\n",
       "<style scoped>\n",
       "    .dataframe tbody tr th:only-of-type {\n",
       "        vertical-align: middle;\n",
       "    }\n",
       "\n",
       "    .dataframe tbody tr th {\n",
       "        vertical-align: top;\n",
       "    }\n",
       "\n",
       "    .dataframe thead th {\n",
       "        text-align: right;\n",
       "    }\n",
       "</style>\n",
       "<table border=\"1\" class=\"dataframe\">\n",
       "  <thead>\n",
       "    <tr style=\"text-align: right;\">\n",
       "      <th></th>\n",
       "      <th>title</th>\n",
       "      <th>selftext</th>\n",
       "      <th>subreddit</th>\n",
       "      <th>created_utc</th>\n",
       "      <th>post_length</th>\n",
       "      <th>post_word_count</th>\n",
       "      <th>title_length</th>\n",
       "      <th>title_word_count</th>\n",
       "      <th>num_of_grammar_errors</th>\n",
       "      <th>selftext_polarity</th>\n",
       "      <th>selftext_subjectivity</th>\n",
       "      <th>gramm_err_rate</th>\n",
       "    </tr>\n",
       "  </thead>\n",
       "  <tbody>\n",
       "    <tr>\n",
       "      <th>0</th>\n",
       "      <td>Biden plans to cancel the Keystone XL pipeline...</td>\n",
       "      <td>[https://www.cbc.ca/amp/1.5877038](https://www...</td>\n",
       "      <td>AskALiberal</td>\n",
       "      <td>1610945588</td>\n",
       "      <td>83</td>\n",
       "      <td>3</td>\n",
       "      <td>143</td>\n",
       "      <td>26</td>\n",
       "      <td>0</td>\n",
       "      <td>0.000000</td>\n",
       "      <td>0.000000</td>\n",
       "      <td>0.000000</td>\n",
       "    </tr>\n",
       "    <tr>\n",
       "      <th>1</th>\n",
       "      <td>2020 Best of r/AskALiberal Results</td>\n",
       "      <td>#Good afternoon, everyone!\\n\\n\\nThe winners an...</td>\n",
       "      <td>AskALiberal</td>\n",
       "      <td>1610943721</td>\n",
       "      <td>3412</td>\n",
       "      <td>416</td>\n",
       "      <td>34</td>\n",
       "      <td>5</td>\n",
       "      <td>55</td>\n",
       "      <td>0.263574</td>\n",
       "      <td>0.449266</td>\n",
       "      <td>0.762935</td>\n",
       "    </tr>\n",
       "    <tr>\n",
       "      <th>2</th>\n",
       "      <td>Place your bets: will Trump be removed by forc...</td>\n",
       "      <td>We already know Trump will not attend Biden's ...</td>\n",
       "      <td>AskALiberal</td>\n",
       "      <td>1610942754</td>\n",
       "      <td>726</td>\n",
       "      <td>117</td>\n",
       "      <td>69</td>\n",
       "      <td>13</td>\n",
       "      <td>5</td>\n",
       "      <td>-0.110000</td>\n",
       "      <td>0.375952</td>\n",
       "      <td>0.069358</td>\n",
       "    </tr>\n",
       "  </tbody>\n",
       "</table>\n",
       "</div>"
      ],
      "text/plain": [
       "                                               title  \\\n",
       "0  Biden plans to cancel the Keystone XL pipeline...   \n",
       "1                 2020 Best of r/AskALiberal Results   \n",
       "2  Place your bets: will Trump be removed by forc...   \n",
       "\n",
       "                                            selftext    subreddit  \\\n",
       "0  [https://www.cbc.ca/amp/1.5877038](https://www...  AskALiberal   \n",
       "1  #Good afternoon, everyone!\\n\\n\\nThe winners an...  AskALiberal   \n",
       "2  We already know Trump will not attend Biden's ...  AskALiberal   \n",
       "\n",
       "   created_utc  post_length  post_word_count  title_length  title_word_count  \\\n",
       "0   1610945588           83                3           143                26   \n",
       "1   1610943721         3412              416            34                 5   \n",
       "2   1610942754          726              117            69                13   \n",
       "\n",
       "   num_of_grammar_errors  selftext_polarity  selftext_subjectivity  \\\n",
       "0                      0           0.000000               0.000000   \n",
       "1                     55           0.263574               0.449266   \n",
       "2                      5          -0.110000               0.375952   \n",
       "\n",
       "   gramm_err_rate  \n",
       "0        0.000000  \n",
       "1        0.762935  \n",
       "2        0.069358  "
      ]
     },
     "execution_count": 135,
     "metadata": {},
     "output_type": "execute_result"
    }
   ],
   "source": [
    "#results include some kind of formatting text\n",
    "#results will be skewed if one subreddit has more formatting in the selftext body\n",
    "df.head(3)"
   ]
  },
  {
   "cell_type": "code",
   "execution_count": 56,
   "metadata": {},
   "outputs": [],
   "source": [
    "df = df.drop(columns = ['grammar_errors'])"
   ]
  },
  {
   "cell_type": "code",
   "execution_count": 33,
   "metadata": {},
   "outputs": [
    {
     "data": {
      "text/plain": [
       "count    3979.000000\n",
       "mean        2.104046\n",
       "std         4.596240\n",
       "min         0.000000\n",
       "25%         0.000000\n",
       "50%         0.000000\n",
       "75%         2.000000\n",
       "max        83.000000\n",
       "Name: num_of_grammar_errors, dtype: float64"
      ]
     },
     "execution_count": 33,
     "metadata": {},
     "output_type": "execute_result"
    }
   ],
   "source": [
    "df[df['subreddit'] == 'AskALiberal']['num_of_grammar_errors'].describe()"
   ]
  },
  {
   "cell_type": "code",
   "execution_count": 34,
   "metadata": {},
   "outputs": [
    {
     "data": {
      "text/plain": [
       "count    3230.000000\n",
       "mean        1.947368\n",
       "std         5.645045\n",
       "min         0.000000\n",
       "25%         0.000000\n",
       "50%         0.000000\n",
       "75%         2.000000\n",
       "max       216.000000\n",
       "Name: num_of_grammar_errors, dtype: float64"
      ]
     },
     "execution_count": 34,
     "metadata": {},
     "output_type": "execute_result"
    }
   ],
   "source": [
    "df[df['subreddit'] == 'askaconservative']['num_of_grammar_errors'].describe()"
   ]
  },
  {
   "cell_type": "markdown",
   "metadata": {},
   "source": [
    "#### Analyzing Sentiment"
   ]
  },
  {
   "cell_type": "code",
   "execution_count": 39,
   "metadata": {},
   "outputs": [],
   "source": [
    "df['selftext_polarity'] = [TextBlob(i).polarity for i in df['selftext']]"
   ]
  },
  {
   "cell_type": "code",
   "execution_count": 42,
   "metadata": {},
   "outputs": [],
   "source": [
    "df['selftext_subjectivity'] = [TextBlob(i).subjectivity for i in df['selftext']]"
   ]
  },
  {
   "cell_type": "code",
   "execution_count": 47,
   "metadata": {},
   "outputs": [],
   "source": [
    "#df['pos_or_neg'] = [TextBlob(i).sentiment for i in df['selftext']]"
   ]
  },
  {
   "cell_type": "code",
   "execution_count": 125,
   "metadata": {},
   "outputs": [
    {
     "data": {
      "text/html": [
       "<div>\n",
       "<style scoped>\n",
       "    .dataframe tbody tr th:only-of-type {\n",
       "        vertical-align: middle;\n",
       "    }\n",
       "\n",
       "    .dataframe tbody tr th {\n",
       "        vertical-align: top;\n",
       "    }\n",
       "\n",
       "    .dataframe thead th {\n",
       "        text-align: right;\n",
       "    }\n",
       "</style>\n",
       "<table border=\"1\" class=\"dataframe\">\n",
       "  <thead>\n",
       "    <tr style=\"text-align: right;\">\n",
       "      <th></th>\n",
       "      <th>title</th>\n",
       "      <th>selftext</th>\n",
       "      <th>subreddit</th>\n",
       "      <th>created_utc</th>\n",
       "      <th>post_length</th>\n",
       "      <th>post_word_count</th>\n",
       "      <th>title_length</th>\n",
       "      <th>title_word_count</th>\n",
       "      <th>num_of_grammar_errors</th>\n",
       "      <th>selftext_polarity</th>\n",
       "      <th>selftext_subjectivity</th>\n",
       "    </tr>\n",
       "  </thead>\n",
       "  <tbody>\n",
       "    <tr>\n",
       "      <th>5360</th>\n",
       "      <td>Donald Trump's reelection chances and whether ...</td>\n",
       "      <td>If the election was held today do you think Do...</td>\n",
       "      <td>askaconservative</td>\n",
       "      <td>1594871677</td>\n",
       "      <td>169</td>\n",
       "      <td>34</td>\n",
       "      <td>71</td>\n",
       "      <td>11</td>\n",
       "      <td>0</td>\n",
       "      <td>0.800000</td>\n",
       "      <td>0.400000</td>\n",
       "    </tr>\n",
       "    <tr>\n",
       "      <th>2435</th>\n",
       "      <td>Be honest: who do you think is going to win an...</td>\n",
       "      <td>I think Biden will win but I'm still nervous.</td>\n",
       "      <td>AskALiberal</td>\n",
       "      <td>1604104911</td>\n",
       "      <td>45</td>\n",
       "      <td>9</td>\n",
       "      <td>60</td>\n",
       "      <td>14</td>\n",
       "      <td>1</td>\n",
       "      <td>0.800000</td>\n",
       "      <td>0.400000</td>\n",
       "    </tr>\n",
       "    <tr>\n",
       "      <th>7441</th>\n",
       "      <td>Reagan vs Trump</td>\n",
       "      <td>I see many people hail Donald Trump as the gre...</td>\n",
       "      <td>askaconservative</td>\n",
       "      <td>1587188308</td>\n",
       "      <td>348</td>\n",
       "      <td>57</td>\n",
       "      <td>15</td>\n",
       "      <td>3</td>\n",
       "      <td>2</td>\n",
       "      <td>0.833333</td>\n",
       "      <td>0.833333</td>\n",
       "    </tr>\n",
       "    <tr>\n",
       "      <th>1668</th>\n",
       "      <td>What's your opinion on Toll Roads?</td>\n",
       "      <td>Do you think that they're a good idea, or not ...</td>\n",
       "      <td>AskALiberal</td>\n",
       "      <td>1605812413</td>\n",
       "      <td>81</td>\n",
       "      <td>16</td>\n",
       "      <td>34</td>\n",
       "      <td>6</td>\n",
       "      <td>0</td>\n",
       "      <td>0.850000</td>\n",
       "      <td>0.450000</td>\n",
       "    </tr>\n",
       "    <tr>\n",
       "      <th>7616</th>\n",
       "      <td>how do you feel about appropriate ppe?</td>\n",
       "      <td>how do you feel knowing that the “best healthc...</td>\n",
       "      <td>askaconservative</td>\n",
       "      <td>1586503567</td>\n",
       "      <td>209</td>\n",
       "      <td>34</td>\n",
       "      <td>38</td>\n",
       "      <td>7</td>\n",
       "      <td>2</td>\n",
       "      <td>1.000000</td>\n",
       "      <td>0.300000</td>\n",
       "    </tr>\n",
       "    <tr>\n",
       "      <th>3546</th>\n",
       "      <td>From a strategic standpoint, why is Biden even...</td>\n",
       "      <td>65% of Americans say that their minds won't be...</td>\n",
       "      <td>AskALiberal</td>\n",
       "      <td>1601248123</td>\n",
       "      <td>539</td>\n",
       "      <td>45</td>\n",
       "      <td>62</td>\n",
       "      <td>10</td>\n",
       "      <td>2</td>\n",
       "      <td>1.000000</td>\n",
       "      <td>0.300000</td>\n",
       "    </tr>\n",
       "    <tr>\n",
       "      <th>6024</th>\n",
       "      <td>Would you be happy if Candace Owens or Nikki H...</td>\n",
       "      <td>I'm impressed by both of them!</td>\n",
       "      <td>askaconservative</td>\n",
       "      <td>1592503483</td>\n",
       "      <td>30</td>\n",
       "      <td>6</td>\n",
       "      <td>74</td>\n",
       "      <td>14</td>\n",
       "      <td>0</td>\n",
       "      <td>1.000000</td>\n",
       "      <td>1.000000</td>\n",
       "    </tr>\n",
       "    <tr>\n",
       "      <th>1980</th>\n",
       "      <td>What's the best way to help in the Georgia run...</td>\n",
       "      <td>This January, we have a chance to pick up 2 se...</td>\n",
       "      <td>AskALiberal</td>\n",
       "      <td>1605031947</td>\n",
       "      <td>146</td>\n",
       "      <td>27</td>\n",
       "      <td>51</td>\n",
       "      <td>10</td>\n",
       "      <td>0</td>\n",
       "      <td>1.000000</td>\n",
       "      <td>0.300000</td>\n",
       "    </tr>\n",
       "    <tr>\n",
       "      <th>771</th>\n",
       "      <td>Former conservatives and other right-wingers, ...</td>\n",
       "      <td>And what do you think is the best way to get o...</td>\n",
       "      <td>AskALiberal</td>\n",
       "      <td>1609017746</td>\n",
       "      <td>108</td>\n",
       "      <td>21</td>\n",
       "      <td>77</td>\n",
       "      <td>11</td>\n",
       "      <td>0</td>\n",
       "      <td>1.000000</td>\n",
       "      <td>0.300000</td>\n",
       "    </tr>\n",
       "    <tr>\n",
       "      <th>7403</th>\n",
       "      <td>Solution to pollution?</td>\n",
       "      <td>I feel that plastic pollution in the ocean sho...</td>\n",
       "      <td>askaconservative</td>\n",
       "      <td>1587353428</td>\n",
       "      <td>317</td>\n",
       "      <td>60</td>\n",
       "      <td>22</td>\n",
       "      <td>3</td>\n",
       "      <td>0</td>\n",
       "      <td>1.000000</td>\n",
       "      <td>0.300000</td>\n",
       "    </tr>\n",
       "  </tbody>\n",
       "</table>\n",
       "</div>"
      ],
      "text/plain": [
       "                                                  title  \\\n",
       "5360  Donald Trump's reelection chances and whether ...   \n",
       "2435  Be honest: who do you think is going to win an...   \n",
       "7441                                    Reagan vs Trump   \n",
       "1668                 What's your opinion on Toll Roads?   \n",
       "7616             how do you feel about appropriate ppe?   \n",
       "3546  From a strategic standpoint, why is Biden even...   \n",
       "6024  Would you be happy if Candace Owens or Nikki H...   \n",
       "1980  What's the best way to help in the Georgia run...   \n",
       "771   Former conservatives and other right-wingers, ...   \n",
       "7403                             Solution to pollution?   \n",
       "\n",
       "                                               selftext         subreddit  \\\n",
       "5360  If the election was held today do you think Do...  askaconservative   \n",
       "2435      I think Biden will win but I'm still nervous.       AskALiberal   \n",
       "7441  I see many people hail Donald Trump as the gre...  askaconservative   \n",
       "1668  Do you think that they're a good idea, or not ...       AskALiberal   \n",
       "7616  how do you feel knowing that the “best healthc...  askaconservative   \n",
       "3546  65% of Americans say that their minds won't be...       AskALiberal   \n",
       "6024                     I'm impressed by both of them!  askaconservative   \n",
       "1980  This January, we have a chance to pick up 2 se...       AskALiberal   \n",
       "771   And what do you think is the best way to get o...       AskALiberal   \n",
       "7403  I feel that plastic pollution in the ocean sho...  askaconservative   \n",
       "\n",
       "      created_utc  post_length  post_word_count  title_length  \\\n",
       "5360   1594871677          169               34            71   \n",
       "2435   1604104911           45                9            60   \n",
       "7441   1587188308          348               57            15   \n",
       "1668   1605812413           81               16            34   \n",
       "7616   1586503567          209               34            38   \n",
       "3546   1601248123          539               45            62   \n",
       "6024   1592503483           30                6            74   \n",
       "1980   1605031947          146               27            51   \n",
       "771    1609017746          108               21            77   \n",
       "7403   1587353428          317               60            22   \n",
       "\n",
       "      title_word_count  num_of_grammar_errors  selftext_polarity  \\\n",
       "5360                11                      0           0.800000   \n",
       "2435                14                      1           0.800000   \n",
       "7441                 3                      2           0.833333   \n",
       "1668                 6                      0           0.850000   \n",
       "7616                 7                      2           1.000000   \n",
       "3546                10                      2           1.000000   \n",
       "6024                14                      0           1.000000   \n",
       "1980                10                      0           1.000000   \n",
       "771                 11                      0           1.000000   \n",
       "7403                 3                      0           1.000000   \n",
       "\n",
       "      selftext_subjectivity  \n",
       "5360               0.400000  \n",
       "2435               0.400000  \n",
       "7441               0.833333  \n",
       "1668               0.450000  \n",
       "7616               0.300000  \n",
       "3546               0.300000  \n",
       "6024               1.000000  \n",
       "1980               0.300000  \n",
       "771                0.300000  \n",
       "7403               0.300000  "
      ]
     },
     "execution_count": 125,
     "metadata": {},
     "output_type": "execute_result"
    }
   ],
   "source": [
    "df.sort_values(by = ['selftext_polarity']).tail(10)"
   ]
  },
  {
   "cell_type": "code",
   "execution_count": 124,
   "metadata": {},
   "outputs": [
    {
     "data": {
      "text/html": [
       "<div>\n",
       "<style scoped>\n",
       "    .dataframe tbody tr th:only-of-type {\n",
       "        vertical-align: middle;\n",
       "    }\n",
       "\n",
       "    .dataframe tbody tr th {\n",
       "        vertical-align: top;\n",
       "    }\n",
       "\n",
       "    .dataframe thead th {\n",
       "        text-align: right;\n",
       "    }\n",
       "</style>\n",
       "<table border=\"1\" class=\"dataframe\">\n",
       "  <thead>\n",
       "    <tr style=\"text-align: right;\">\n",
       "      <th></th>\n",
       "      <th>title</th>\n",
       "      <th>selftext</th>\n",
       "      <th>subreddit</th>\n",
       "      <th>created_utc</th>\n",
       "      <th>post_length</th>\n",
       "      <th>post_word_count</th>\n",
       "      <th>title_length</th>\n",
       "      <th>title_word_count</th>\n",
       "      <th>num_of_grammar_errors</th>\n",
       "      <th>selftext_polarity</th>\n",
       "      <th>selftext_subjectivity</th>\n",
       "    </tr>\n",
       "  </thead>\n",
       "  <tbody>\n",
       "    <tr>\n",
       "      <th>5920</th>\n",
       "      <td>What are your thoughts on the 95 percent decre...</td>\n",
       "      <td>https://www.independent.co.uk/news/world/ameri...</td>\n",
       "      <td>askaconservative</td>\n",
       "      <td>1592840791</td>\n",
       "      <td>328</td>\n",
       "      <td>30</td>\n",
       "      <td>105</td>\n",
       "      <td>17</td>\n",
       "      <td>0</td>\n",
       "      <td>0.000</td>\n",
       "      <td>1.0</td>\n",
       "    </tr>\n",
       "    <tr>\n",
       "      <th>6501</th>\n",
       "      <td>What do you think of qualified immunity?</td>\n",
       "      <td>Do you view it as a valid doctrine? Judicial a...</td>\n",
       "      <td>askaconservative</td>\n",
       "      <td>1591105492</td>\n",
       "      <td>94</td>\n",
       "      <td>17</td>\n",
       "      <td>40</td>\n",
       "      <td>7</td>\n",
       "      <td>1</td>\n",
       "      <td>0.000</td>\n",
       "      <td>1.0</td>\n",
       "    </tr>\n",
       "    <tr>\n",
       "      <th>2379</th>\n",
       "      <td>The Siena/NYT Upshot polls of AZ, PA, WI, and ...</td>\n",
       "      <td>NYT: [“Final polls show Biden ahead.The presid...</td>\n",
       "      <td>AskALiberal</td>\n",
       "      <td>1604248779</td>\n",
       "      <td>170</td>\n",
       "      <td>13</td>\n",
       "      <td>78</td>\n",
       "      <td>14</td>\n",
       "      <td>1</td>\n",
       "      <td>-0.375</td>\n",
       "      <td>1.0</td>\n",
       "    </tr>\n",
       "    <tr>\n",
       "      <th>4505</th>\n",
       "      <td>Simply hypothetical...</td>\n",
       "      <td>Imagine it has happened, the extreme leftists ...</td>\n",
       "      <td>askaconservative</td>\n",
       "      <td>1598068722</td>\n",
       "      <td>217</td>\n",
       "      <td>37</td>\n",
       "      <td>22</td>\n",
       "      <td>2</td>\n",
       "      <td>0</td>\n",
       "      <td>-0.125</td>\n",
       "      <td>1.0</td>\n",
       "    </tr>\n",
       "    <tr>\n",
       "      <th>2009</th>\n",
       "      <td>What do you think of lockdowns and mandates?</td>\n",
       "      <td>As the title suggests, I want to know what you...</td>\n",
       "      <td>AskALiberal</td>\n",
       "      <td>1604981503</td>\n",
       "      <td>113</td>\n",
       "      <td>19</td>\n",
       "      <td>44</td>\n",
       "      <td>8</td>\n",
       "      <td>0</td>\n",
       "      <td>0.000</td>\n",
       "      <td>1.0</td>\n",
       "    </tr>\n",
       "    <tr>\n",
       "      <th>4585</th>\n",
       "      <td>How do conservatives feel about the smoking gu...</td>\n",
       "      <td>Does it not matter or should he be perp walked...</td>\n",
       "      <td>askaconservative</td>\n",
       "      <td>1597775986</td>\n",
       "      <td>100</td>\n",
       "      <td>23</td>\n",
       "      <td>86</td>\n",
       "      <td>15</td>\n",
       "      <td>1</td>\n",
       "      <td>-0.500</td>\n",
       "      <td>1.0</td>\n",
       "    </tr>\n",
       "    <tr>\n",
       "      <th>550</th>\n",
       "      <td>What are your thoughts on Jovan Pulitzers test...</td>\n",
       "      <td>Link to video in comments. Only 10 minutes.</td>\n",
       "      <td>AskALiberal</td>\n",
       "      <td>1609789074</td>\n",
       "      <td>43</td>\n",
       "      <td>8</td>\n",
       "      <td>71</td>\n",
       "      <td>11</td>\n",
       "      <td>0</td>\n",
       "      <td>0.000</td>\n",
       "      <td>1.0</td>\n",
       "    </tr>\n",
       "    <tr>\n",
       "      <th>3140</th>\n",
       "      <td>How do you feel about the ACLU?</td>\n",
       "      <td>Are you generally supportive of it? Why or why...</td>\n",
       "      <td>AskALiberal</td>\n",
       "      <td>1602367736</td>\n",
       "      <td>51</td>\n",
       "      <td>10</td>\n",
       "      <td>31</td>\n",
       "      <td>7</td>\n",
       "      <td>0</td>\n",
       "      <td>0.500</td>\n",
       "      <td>1.0</td>\n",
       "    </tr>\n",
       "    <tr>\n",
       "      <th>6528</th>\n",
       "      <td>What do you think about the UK vetoing Trumps ...</td>\n",
       "      <td>Just curious about what the perspective over h...</td>\n",
       "      <td>askaconservative</td>\n",
       "      <td>1591044459</td>\n",
       "      <td>218</td>\n",
       "      <td>41</td>\n",
       "      <td>66</td>\n",
       "      <td>13</td>\n",
       "      <td>0</td>\n",
       "      <td>-0.100</td>\n",
       "      <td>1.0</td>\n",
       "    </tr>\n",
       "    <tr>\n",
       "      <th>122</th>\n",
       "      <td>Can a president be impeached after leaving off...</td>\n",
       "      <td>Like can Obama get impeached today or is only ...</td>\n",
       "      <td>AskALiberal</td>\n",
       "      <td>1610650121</td>\n",
       "      <td>101</td>\n",
       "      <td>17</td>\n",
       "      <td>50</td>\n",
       "      <td>8</td>\n",
       "      <td>0</td>\n",
       "      <td>0.000</td>\n",
       "      <td>1.0</td>\n",
       "    </tr>\n",
       "  </tbody>\n",
       "</table>\n",
       "</div>"
      ],
      "text/plain": [
       "                                                  title  \\\n",
       "5920  What are your thoughts on the 95 percent decre...   \n",
       "6501           What do you think of qualified immunity?   \n",
       "2379  The Siena/NYT Upshot polls of AZ, PA, WI, and ...   \n",
       "4505                             Simply hypothetical...   \n",
       "2009       What do you think of lockdowns and mandates?   \n",
       "4585  How do conservatives feel about the smoking gu...   \n",
       "550   What are your thoughts on Jovan Pulitzers test...   \n",
       "3140                    How do you feel about the ACLU?   \n",
       "6528  What do you think about the UK vetoing Trumps ...   \n",
       "122   Can a president be impeached after leaving off...   \n",
       "\n",
       "                                               selftext         subreddit  \\\n",
       "5920  https://www.independent.co.uk/news/world/ameri...  askaconservative   \n",
       "6501  Do you view it as a valid doctrine? Judicial a...  askaconservative   \n",
       "2379  NYT: [“Final polls show Biden ahead.The presid...       AskALiberal   \n",
       "4505  Imagine it has happened, the extreme leftists ...  askaconservative   \n",
       "2009  As the title suggests, I want to know what you...       AskALiberal   \n",
       "4585  Does it not matter or should he be perp walked...  askaconservative   \n",
       "550         Link to video in comments. Only 10 minutes.       AskALiberal   \n",
       "3140  Are you generally supportive of it? Why or why...       AskALiberal   \n",
       "6528  Just curious about what the perspective over h...  askaconservative   \n",
       "122   Like can Obama get impeached today or is only ...       AskALiberal   \n",
       "\n",
       "      created_utc  post_length  post_word_count  title_length  \\\n",
       "5920   1592840791          328               30           105   \n",
       "6501   1591105492           94               17            40   \n",
       "2379   1604248779          170               13            78   \n",
       "4505   1598068722          217               37            22   \n",
       "2009   1604981503          113               19            44   \n",
       "4585   1597775986          100               23            86   \n",
       "550    1609789074           43                8            71   \n",
       "3140   1602367736           51               10            31   \n",
       "6528   1591044459          218               41            66   \n",
       "122    1610650121          101               17            50   \n",
       "\n",
       "      title_word_count  num_of_grammar_errors  selftext_polarity  \\\n",
       "5920                17                      0              0.000   \n",
       "6501                 7                      1              0.000   \n",
       "2379                14                      1             -0.375   \n",
       "4505                 2                      0             -0.125   \n",
       "2009                 8                      0              0.000   \n",
       "4585                15                      1             -0.500   \n",
       "550                 11                      0              0.000   \n",
       "3140                 7                      0              0.500   \n",
       "6528                13                      0             -0.100   \n",
       "122                  8                      0              0.000   \n",
       "\n",
       "      selftext_subjectivity  \n",
       "5920                    1.0  \n",
       "6501                    1.0  \n",
       "2379                    1.0  \n",
       "4505                    1.0  \n",
       "2009                    1.0  \n",
       "4585                    1.0  \n",
       "550                     1.0  \n",
       "3140                    1.0  \n",
       "6528                    1.0  \n",
       "122                     1.0  "
      ]
     },
     "execution_count": 124,
     "metadata": {},
     "output_type": "execute_result"
    }
   ],
   "source": [
    "df.sort_values(by = ['selftext_subjectivity']).tail(10)"
   ]
  },
  {
   "cell_type": "code",
   "execution_count": 133,
   "metadata": {},
   "outputs": [
    {
     "data": {
      "text/html": [
       "<div>\n",
       "<style scoped>\n",
       "    .dataframe tbody tr th:only-of-type {\n",
       "        vertical-align: middle;\n",
       "    }\n",
       "\n",
       "    .dataframe tbody tr th {\n",
       "        vertical-align: top;\n",
       "    }\n",
       "\n",
       "    .dataframe thead th {\n",
       "        text-align: right;\n",
       "    }\n",
       "</style>\n",
       "<table border=\"1\" class=\"dataframe\">\n",
       "  <thead>\n",
       "    <tr style=\"text-align: right;\">\n",
       "      <th></th>\n",
       "      <th>count</th>\n",
       "      <th>mean</th>\n",
       "      <th>std</th>\n",
       "      <th>min</th>\n",
       "      <th>25%</th>\n",
       "      <th>50%</th>\n",
       "      <th>75%</th>\n",
       "      <th>max</th>\n",
       "    </tr>\n",
       "  </thead>\n",
       "  <tbody>\n",
       "    <tr>\n",
       "      <th>created_utc</th>\n",
       "      <td>7209.0</td>\n",
       "      <td>1.599607e+09</td>\n",
       "      <td>7.390874e+06</td>\n",
       "      <td>1.584374e+09</td>\n",
       "      <td>1.593113e+09</td>\n",
       "      <td>1.601048e+09</td>\n",
       "      <td>1.605473e+09</td>\n",
       "      <td>1.610946e+09</td>\n",
       "    </tr>\n",
       "    <tr>\n",
       "      <th>post_length</th>\n",
       "      <td>7209.0</td>\n",
       "      <td>4.122536e+02</td>\n",
       "      <td>7.011563e+02</td>\n",
       "      <td>1.000000e+00</td>\n",
       "      <td>1.300000e+01</td>\n",
       "      <td>2.170000e+02</td>\n",
       "      <td>5.210000e+02</td>\n",
       "      <td>1.989300e+04</td>\n",
       "    </tr>\n",
       "    <tr>\n",
       "      <th>post_word_count</th>\n",
       "      <td>7209.0</td>\n",
       "      <td>6.751685e+01</td>\n",
       "      <td>1.099689e+02</td>\n",
       "      <td>1.000000e+00</td>\n",
       "      <td>1.000000e+00</td>\n",
       "      <td>3.600000e+01</td>\n",
       "      <td>8.700000e+01</td>\n",
       "      <td>2.315000e+03</td>\n",
       "    </tr>\n",
       "    <tr>\n",
       "      <th>title_length</th>\n",
       "      <td>7209.0</td>\n",
       "      <td>7.957248e+01</td>\n",
       "      <td>4.914119e+01</td>\n",
       "      <td>3.000000e+00</td>\n",
       "      <td>4.600000e+01</td>\n",
       "      <td>6.800000e+01</td>\n",
       "      <td>9.900000e+01</td>\n",
       "      <td>2.990000e+02</td>\n",
       "    </tr>\n",
       "    <tr>\n",
       "      <th>title_word_count</th>\n",
       "      <td>7209.0</td>\n",
       "      <td>1.359578e+01</td>\n",
       "      <td>8.489777e+00</td>\n",
       "      <td>1.000000e+00</td>\n",
       "      <td>8.000000e+00</td>\n",
       "      <td>1.200000e+01</td>\n",
       "      <td>1.700000e+01</td>\n",
       "      <td>5.900000e+01</td>\n",
       "    </tr>\n",
       "    <tr>\n",
       "      <th>num_of_grammar_errors</th>\n",
       "      <td>7209.0</td>\n",
       "      <td>2.033847e+00</td>\n",
       "      <td>5.093163e+00</td>\n",
       "      <td>0.000000e+00</td>\n",
       "      <td>0.000000e+00</td>\n",
       "      <td>0.000000e+00</td>\n",
       "      <td>2.000000e+00</td>\n",
       "      <td>2.160000e+02</td>\n",
       "    </tr>\n",
       "    <tr>\n",
       "      <th>selftext_polarity</th>\n",
       "      <td>7209.0</td>\n",
       "      <td>6.031956e-02</td>\n",
       "      <td>1.588505e-01</td>\n",
       "      <td>-1.000000e+00</td>\n",
       "      <td>0.000000e+00</td>\n",
       "      <td>0.000000e+00</td>\n",
       "      <td>1.333333e-01</td>\n",
       "      <td>1.000000e+00</td>\n",
       "    </tr>\n",
       "    <tr>\n",
       "      <th>selftext_subjectivity</th>\n",
       "      <td>7209.0</td>\n",
       "      <td>3.109562e-01</td>\n",
       "      <td>2.598272e-01</td>\n",
       "      <td>0.000000e+00</td>\n",
       "      <td>0.000000e+00</td>\n",
       "      <td>3.666667e-01</td>\n",
       "      <td>5.000000e-01</td>\n",
       "      <td>1.000000e+00</td>\n",
       "    </tr>\n",
       "  </tbody>\n",
       "</table>\n",
       "</div>"
      ],
      "text/plain": [
       "                        count          mean           std           min  \\\n",
       "created_utc            7209.0  1.599607e+09  7.390874e+06  1.584374e+09   \n",
       "post_length            7209.0  4.122536e+02  7.011563e+02  1.000000e+00   \n",
       "post_word_count        7209.0  6.751685e+01  1.099689e+02  1.000000e+00   \n",
       "title_length           7209.0  7.957248e+01  4.914119e+01  3.000000e+00   \n",
       "title_word_count       7209.0  1.359578e+01  8.489777e+00  1.000000e+00   \n",
       "num_of_grammar_errors  7209.0  2.033847e+00  5.093163e+00  0.000000e+00   \n",
       "selftext_polarity      7209.0  6.031956e-02  1.588505e-01 -1.000000e+00   \n",
       "selftext_subjectivity  7209.0  3.109562e-01  2.598272e-01  0.000000e+00   \n",
       "\n",
       "                                25%           50%           75%           max  \n",
       "created_utc            1.593113e+09  1.601048e+09  1.605473e+09  1.610946e+09  \n",
       "post_length            1.300000e+01  2.170000e+02  5.210000e+02  1.989300e+04  \n",
       "post_word_count        1.000000e+00  3.600000e+01  8.700000e+01  2.315000e+03  \n",
       "title_length           4.600000e+01  6.800000e+01  9.900000e+01  2.990000e+02  \n",
       "title_word_count       8.000000e+00  1.200000e+01  1.700000e+01  5.900000e+01  \n",
       "num_of_grammar_errors  0.000000e+00  0.000000e+00  2.000000e+00  2.160000e+02  \n",
       "selftext_polarity      0.000000e+00  0.000000e+00  1.333333e-01  1.000000e+00  \n",
       "selftext_subjectivity  0.000000e+00  3.666667e-01  5.000000e-01  1.000000e+00  "
      ]
     },
     "execution_count": 133,
     "metadata": {},
     "output_type": "execute_result"
    }
   ],
   "source": [
    "df.sort_values(by = ['selftext_polarity']).describe().T"
   ]
  },
  {
   "cell_type": "code",
   "execution_count": 130,
   "metadata": {},
   "outputs": [
    {
     "data": {
      "text/html": [
       "<div>\n",
       "<style scoped>\n",
       "    .dataframe tbody tr th:only-of-type {\n",
       "        vertical-align: middle;\n",
       "    }\n",
       "\n",
       "    .dataframe tbody tr th {\n",
       "        vertical-align: top;\n",
       "    }\n",
       "\n",
       "    .dataframe thead th {\n",
       "        text-align: right;\n",
       "    }\n",
       "</style>\n",
       "<table border=\"1\" class=\"dataframe\">\n",
       "  <thead>\n",
       "    <tr style=\"text-align: right;\">\n",
       "      <th></th>\n",
       "      <th>count</th>\n",
       "      <th>mean</th>\n",
       "      <th>std</th>\n",
       "      <th>min</th>\n",
       "      <th>25%</th>\n",
       "      <th>50%</th>\n",
       "      <th>75%</th>\n",
       "      <th>max</th>\n",
       "    </tr>\n",
       "  </thead>\n",
       "  <tbody>\n",
       "    <tr>\n",
       "      <th>created_utc</th>\n",
       "      <td>7209.0</td>\n",
       "      <td>1.599607e+09</td>\n",
       "      <td>7.390874e+06</td>\n",
       "      <td>1.584374e+09</td>\n",
       "      <td>1.593113e+09</td>\n",
       "      <td>1.601048e+09</td>\n",
       "      <td>1.605473e+09</td>\n",
       "      <td>1.610946e+09</td>\n",
       "    </tr>\n",
       "    <tr>\n",
       "      <th>post_length</th>\n",
       "      <td>7209.0</td>\n",
       "      <td>4.122536e+02</td>\n",
       "      <td>7.011563e+02</td>\n",
       "      <td>1.000000e+00</td>\n",
       "      <td>1.300000e+01</td>\n",
       "      <td>2.170000e+02</td>\n",
       "      <td>5.210000e+02</td>\n",
       "      <td>1.989300e+04</td>\n",
       "    </tr>\n",
       "    <tr>\n",
       "      <th>post_word_count</th>\n",
       "      <td>7209.0</td>\n",
       "      <td>6.751685e+01</td>\n",
       "      <td>1.099689e+02</td>\n",
       "      <td>1.000000e+00</td>\n",
       "      <td>1.000000e+00</td>\n",
       "      <td>3.600000e+01</td>\n",
       "      <td>8.700000e+01</td>\n",
       "      <td>2.315000e+03</td>\n",
       "    </tr>\n",
       "    <tr>\n",
       "      <th>title_length</th>\n",
       "      <td>7209.0</td>\n",
       "      <td>7.957248e+01</td>\n",
       "      <td>4.914119e+01</td>\n",
       "      <td>3.000000e+00</td>\n",
       "      <td>4.600000e+01</td>\n",
       "      <td>6.800000e+01</td>\n",
       "      <td>9.900000e+01</td>\n",
       "      <td>2.990000e+02</td>\n",
       "    </tr>\n",
       "    <tr>\n",
       "      <th>title_word_count</th>\n",
       "      <td>7209.0</td>\n",
       "      <td>1.359578e+01</td>\n",
       "      <td>8.489777e+00</td>\n",
       "      <td>1.000000e+00</td>\n",
       "      <td>8.000000e+00</td>\n",
       "      <td>1.200000e+01</td>\n",
       "      <td>1.700000e+01</td>\n",
       "      <td>5.900000e+01</td>\n",
       "    </tr>\n",
       "    <tr>\n",
       "      <th>num_of_grammar_errors</th>\n",
       "      <td>7209.0</td>\n",
       "      <td>2.033847e+00</td>\n",
       "      <td>5.093163e+00</td>\n",
       "      <td>0.000000e+00</td>\n",
       "      <td>0.000000e+00</td>\n",
       "      <td>0.000000e+00</td>\n",
       "      <td>2.000000e+00</td>\n",
       "      <td>2.160000e+02</td>\n",
       "    </tr>\n",
       "    <tr>\n",
       "      <th>selftext_polarity</th>\n",
       "      <td>7209.0</td>\n",
       "      <td>6.031956e-02</td>\n",
       "      <td>1.588505e-01</td>\n",
       "      <td>-1.000000e+00</td>\n",
       "      <td>0.000000e+00</td>\n",
       "      <td>0.000000e+00</td>\n",
       "      <td>1.333333e-01</td>\n",
       "      <td>1.000000e+00</td>\n",
       "    </tr>\n",
       "    <tr>\n",
       "      <th>selftext_subjectivity</th>\n",
       "      <td>7209.0</td>\n",
       "      <td>3.109562e-01</td>\n",
       "      <td>2.598272e-01</td>\n",
       "      <td>0.000000e+00</td>\n",
       "      <td>0.000000e+00</td>\n",
       "      <td>3.666667e-01</td>\n",
       "      <td>5.000000e-01</td>\n",
       "      <td>1.000000e+00</td>\n",
       "    </tr>\n",
       "  </tbody>\n",
       "</table>\n",
       "</div>"
      ],
      "text/plain": [
       "                        count          mean           std           min  \\\n",
       "created_utc            7209.0  1.599607e+09  7.390874e+06  1.584374e+09   \n",
       "post_length            7209.0  4.122536e+02  7.011563e+02  1.000000e+00   \n",
       "post_word_count        7209.0  6.751685e+01  1.099689e+02  1.000000e+00   \n",
       "title_length           7209.0  7.957248e+01  4.914119e+01  3.000000e+00   \n",
       "title_word_count       7209.0  1.359578e+01  8.489777e+00  1.000000e+00   \n",
       "num_of_grammar_errors  7209.0  2.033847e+00  5.093163e+00  0.000000e+00   \n",
       "selftext_polarity      7209.0  6.031956e-02  1.588505e-01 -1.000000e+00   \n",
       "selftext_subjectivity  7209.0  3.109562e-01  2.598272e-01  0.000000e+00   \n",
       "\n",
       "                                25%           50%           75%           max  \n",
       "created_utc            1.593113e+09  1.601048e+09  1.605473e+09  1.610946e+09  \n",
       "post_length            1.300000e+01  2.170000e+02  5.210000e+02  1.989300e+04  \n",
       "post_word_count        1.000000e+00  3.600000e+01  8.700000e+01  2.315000e+03  \n",
       "title_length           4.600000e+01  6.800000e+01  9.900000e+01  2.990000e+02  \n",
       "title_word_count       8.000000e+00  1.200000e+01  1.700000e+01  5.900000e+01  \n",
       "num_of_grammar_errors  0.000000e+00  0.000000e+00  2.000000e+00  2.160000e+02  \n",
       "selftext_polarity      0.000000e+00  0.000000e+00  1.333333e-01  1.000000e+00  \n",
       "selftext_subjectivity  0.000000e+00  3.666667e-01  5.000000e-01  1.000000e+00  "
      ]
     },
     "execution_count": 130,
     "metadata": {},
     "output_type": "execute_result"
    }
   ],
   "source": [
    "df.sort_values(by = ['selftext_subjectivity']).describe().T"
   ]
  },
  {
   "cell_type": "code",
   "execution_count": 72,
   "metadata": {},
   "outputs": [],
   "source": [
    "lib_pol = df[df['subreddit'] == 'AskALiberal']['selftext_polarity'].mean()\n",
    "\n",
    "lib_sub = df[df['subreddit'] == 'AskALiberal']['selftext_subjectivity'].mean()\n",
    "\n",
    "con_pol = df[df['subreddit'] == 'askaconservative']['selftext_polarity'].mean()\n",
    "\n",
    "con_sub = df[df['subreddit'] == 'askaconservative']['selftext_subjectivity'].mean()"
   ]
  },
  {
   "cell_type": "code",
   "execution_count": 93,
   "metadata": {},
   "outputs": [],
   "source": [
    "# df['grammer_err_rate'] = [(i / x) if i > 0 else (i * 0) for i in df['num_of_grammar_errors'] for x in df['post_length']]\n",
    "# df.head()"
   ]
  },
  {
   "cell_type": "code",
   "execution_count": 80,
   "metadata": {},
   "outputs": [
    {
     "name": "stdout",
     "output_type": "stream",
     "text": [
      "r/askaliberal polarity = 0.064\n",
      "r/askaliberal subjectivity = 0.322\n",
      "r/askaconservative polarity = 0.056\n",
      "r/askaconservative subjectivity = 0.297\n"
     ]
    }
   ],
   "source": [
    "print(f'r/askaliberal polarity = {round((lib_pol), 3)}')\n",
    "print(f'r/askaliberal subjectivity = {round((lib_sub), 3)}')\n",
    "print(f'r/askaconservative polarity = {round((con_pol), 3)}')\n",
    "print(f'r/askaconservative subjectivity = {round((con_sub), 3)}')"
   ]
  },
  {
   "cell_type": "code",
   "execution_count": 95,
   "metadata": {},
   "outputs": [],
   "source": [
    "cvzr = CountVectorizer(stop_words='english', max_features=200)"
   ]
  },
  {
   "cell_type": "code",
   "execution_count": 96,
   "metadata": {},
   "outputs": [],
   "source": [
    "df_lib = df[df.subreddit == 'AskALiberal']\n",
    "df_cons = df[df.subreddit == 'askaconservative']"
   ]
  },
  {
   "cell_type": "markdown",
   "metadata": {},
   "source": [
    "## CountVectorizing to Analyze Top Words, Bi-grams, and Tri-grams"
   ]
  },
  {
   "cell_type": "code",
   "execution_count": 99,
   "metadata": {},
   "outputs": [],
   "source": [
    "self_text_lib = cvzr.fit_transform(df_lib['selftext'])\n",
    "title_text_lib = cvzr.fit_transform(df_lib['title'])\n",
    "self_text_cons = cvzr.fit_transform(df_cons['selftext'])\n",
    "title_text_cons = cvzr.fit_transform(df_cons['title'])"
   ]
  },
  {
   "cell_type": "code",
   "execution_count": 105,
   "metadata": {},
   "outputs": [
    {
     "data": {
      "text/plain": [
       "systemic       1476\n",
       "news           1322\n",
       "left           1233\n",
       "state          1154\n",
       "having         1062\n",
       "best            925\n",
       "immigration     923\n",
       "protests        823\n",
       "china           720\n",
       "democratic      712\n",
       "dtype: int64"
      ]
     },
     "execution_count": 105,
     "metadata": {},
     "output_type": "execute_result"
    }
   ],
   "source": [
    "self_text_lib.sum().sort_values(ascending = False).head(10)"
   ]
  },
  {
   "cell_type": "code",
   "execution_count": 107,
   "metadata": {},
   "outputs": [
    {
     "data": {
      "text/plain": [
       "thoughts    636\n",
       "systemic    595\n",
       "beliefs     458\n",
       "left        222\n",
       "tax         210\n",
       "economy     205\n",
       "non         202\n",
       "does        179\n",
       "leftists    159\n",
       "use         158\n",
       "dtype: int64"
      ]
     },
     "execution_count": 107,
     "metadata": {},
     "output_type": "execute_result"
    }
   ],
   "source": [
    "title_text_lib.sum().sort_values(ascending = False).head(10)"
   ]
  },
  {
   "cell_type": "code",
   "execution_count": 109,
   "metadata": {},
   "outputs": [
    {
     "data": {
      "text/plain": [
       "point          1069\n",
       "tax             821\n",
       "republicans     819\n",
       "trying          818\n",
       "left            805\n",
       "immigration     690\n",
       "come            654\n",
       "healthcare      591\n",
       "getting         580\n",
       "community       570\n",
       "dtype: int64"
      ]
     },
     "execution_count": 109,
     "metadata": {},
     "output_type": "execute_result"
    }
   ],
   "source": [
    "self_text_cons.sum().sort_values(ascending = False).head(10)"
   ]
  },
  {
   "cell_type": "code",
   "execution_count": 110,
   "metadata": {},
   "outputs": [
    {
     "data": {
      "text/plain": [
       "trump            495\n",
       "think            391\n",
       "conservatives    368\n",
       "conservative     311\n",
       "people           163\n",
       "does             151\n",
       "thoughts         138\n",
       "feel             134\n",
       "support          114\n",
       "like             113\n",
       "dtype: int64"
      ]
     },
     "execution_count": 110,
     "metadata": {},
     "output_type": "execute_result"
    }
   ],
   "source": [
    "title_text_cons.sum().sort_values(ascending = False).head(10)"
   ]
  },
  {
   "cell_type": "code",
   "execution_count": 101,
   "metadata": {},
   "outputs": [],
   "source": [
    "# askaliberal bigrams\n",
    "cvzr_bi = CountVectorizer(stop_words='english', max_features=200, ngram_range=(2,2))\n",
    "\n",
    "self_text_lib_bigrams = cvzr_bi.fit_transform(df_lib['selftext'])\n",
    "title_text_lib_bigrams = cvzr_bi.fit_transform(df_lib['title'])"
   ]
  },
  {
   "cell_type": "code",
   "execution_count": 111,
   "metadata": {},
   "outputs": [
    {
     "data": {
      "text/plain": [
       "https www           624\n",
       "org wiki            120\n",
       "wikipedia org       120\n",
       "supreme court       118\n",
       "https en            115\n",
       "en wikipedia        115\n",
       "joe biden           109\n",
       "don think            96\n",
       "united states        91\n",
       "democratic party     91\n",
       "dtype: int64"
      ]
     },
     "execution_count": 111,
     "metadata": {},
     "output_type": "execute_result"
    }
   ],
   "source": [
    "self_text_lib_bigrams.sum().sort_values(ascending = False).head(10)"
   ]
  },
  {
   "cell_type": "code",
   "execution_count": 112,
   "metadata": {},
   "outputs": [
    {
     "data": {
      "text/plain": [
       "joe biden               79\n",
       "supreme court           64\n",
       "think trump             41\n",
       "democratic party        39\n",
       "trump supporters        34\n",
       "covid 19                28\n",
       "donald trump            27\n",
       "united states           22\n",
       "biden administration    21\n",
       "look like               21\n",
       "dtype: int64"
      ]
     },
     "execution_count": 112,
     "metadata": {},
     "output_type": "execute_result"
    }
   ],
   "source": [
    "title_text_lib_bigrams.sum().sort_values(ascending = False).head(10)"
   ]
  },
  {
   "cell_type": "code",
   "execution_count": 102,
   "metadata": {},
   "outputs": [],
   "source": [
    "# askaconservative bigrams\n",
    "cvzr_bi = CountVectorizer(stop_words='english', max_features=200, ngram_range=(2,2))\n",
    "\n",
    "self_text_cons_bigrams = cvzr_bi.fit_transform(df_cons['selftext'])\n",
    "title_text_cons_bigrams = cvzr_bi.fit_transform(df_cons['title'])"
   ]
  },
  {
   "cell_type": "code",
   "execution_count": 113,
   "metadata": {},
   "outputs": [
    {
     "data": {
      "text/plain": [
       "https www        351\n",
       "gt gt            169\n",
       "covid 19          86\n",
       "don know          70\n",
       "ve seen           63\n",
       "amp x200b         61\n",
       "united states     59\n",
       "feel like         58\n",
       "14 2020           54\n",
       "don think         53\n",
       "dtype: int64"
      ]
     },
     "execution_count": 113,
     "metadata": {},
     "output_type": "execute_result"
    }
   ],
   "source": [
    "self_text_cons_bigrams.sum().sort_values(ascending = False).head(10)"
   ]
  },
  {
   "cell_type": "code",
   "execution_count": 114,
   "metadata": {},
   "outputs": [
    {
     "data": {
      "text/plain": [
       "joe biden               79\n",
       "supreme court           64\n",
       "think trump             41\n",
       "democratic party        39\n",
       "trump supporters        34\n",
       "covid 19                28\n",
       "donald trump            27\n",
       "united states           22\n",
       "biden administration    21\n",
       "look like               21\n",
       "dtype: int64"
      ]
     },
     "execution_count": 114,
     "metadata": {},
     "output_type": "execute_result"
    }
   ],
   "source": [
    "title_text_lib_bigrams.sum().sort_values(ascending = False).head(10)"
   ]
  },
  {
   "cell_type": "code",
   "execution_count": 103,
   "metadata": {},
   "outputs": [],
   "source": [
    "# askaliberal trigrams\n",
    "cvzr_tri = CountVectorizer(stop_words='english', max_features=200, ngram_range=(3,3))\n",
    "\n",
    "self_text_lib_trigrams = cvzr_tri.fit_transform(df_lib['selftext'])\n",
    "title_text_lib_trigrams = cvzr_tri.fit_transform(df_lib['title'])"
   ]
  },
  {
   "cell_type": "code",
   "execution_count": 115,
   "metadata": {},
   "outputs": [
    {
     "data": {
      "text/plain": [
       "weekly general chat           16\n",
       "amy coney barrett             16\n",
       "askaliberal weekly general    16\n",
       "think joe biden                9\n",
       "worst things trump             7\n",
       "green new deal                 7\n",
       "esper mcconnell meets          6\n",
       "think democratic party         6\n",
       "meets barr backs               6\n",
       "mcconnell meets barr           6\n",
       "dtype: int64"
      ]
     },
     "execution_count": 115,
     "metadata": {},
     "output_type": "execute_result"
    }
   ],
   "source": [
    "title_text_lib_trigrams.sum().sort_values(ascending = False).head(10)"
   ]
  },
  {
   "cell_type": "code",
   "execution_count": 104,
   "metadata": {},
   "outputs": [],
   "source": [
    "# askaconservative trigrams\n",
    "cvzr_tri = CountVectorizer(stop_words='english', max_features=200, ngram_range=(3,3))\n",
    "\n",
    "self_text_cons_trigrams = cvzr_tri.fit_transform(df_cons['selftext'])\n",
    "title_text_cons_trigrams = cvzr_tri.fit_transform(df_cons['title'])"
   ]
  },
  {
   "cell_type": "code",
   "execution_count": 117,
   "metadata": {},
   "outputs": [
    {
     "data": {
      "text/plain": [
       "black lives matter           14\n",
       "ranked choice voting          6\n",
       "people socio political        5\n",
       "think cringe people           5\n",
       "cringe people socio           5\n",
       "lives matter movement         5\n",
       "response covid 19             5\n",
       "socio political spectrum      5\n",
       "000 millionaires stimulus     4\n",
       "sexist negative things        4\n",
       "dtype: int64"
      ]
     },
     "execution_count": 117,
     "metadata": {},
     "output_type": "execute_result"
    }
   ],
   "source": [
    "title_text_cons_trigrams.sum().sort_values(ascending = False).head(10)"
   ]
  }
 ],
 "metadata": {
  "kernelspec": {
   "display_name": "Python 3",
   "language": "python",
   "name": "python3"
  },
  "language_info": {
   "codemirror_mode": {
    "name": "ipython",
    "version": 3
   },
   "file_extension": ".py",
   "mimetype": "text/x-python",
   "name": "python",
   "nbconvert_exporter": "python",
   "pygments_lexer": "ipython3",
   "version": "3.8.2"
  }
 },
 "nbformat": 4,
 "nbformat_minor": 4
}
