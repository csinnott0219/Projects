{
 "cells": [
  {
   "cell_type": "markdown",
   "metadata": {},
   "source": [
    "#### Project 3: Reddit NLP\n",
    "#### Corey J Sinnott\n",
    "# Modeling and Classification\n",
    "\n",
    "## Executive Summary\n",
    "\n",
    "This report was commissioned to perform natural language processing (NLP) and analysis on two subreddits of Reddit.com. Data includes over 8000 posts, 4000 belonging to r/AskALiberal, and 4000 belonging to r/AskAConservative. The problem statement was defined as, can we classify to which subreddit a post belongs? After in-depth analysis, conclusions and recommendations will be presented.\n",
    "\n",
    "Data was obtained from the following source:\n",
    "- r/AskALiberal of Reddit.com: \n",
    " - https://www.reddit.com/r/askaliberal/\n",
    "- r/AskAConservative of Reddit.com: \n",
    " - https://www.reddit.com/r/askaconservative/\n",
    " \n",
    "The data was initially obtained using the Pushshift API, and a novel function created to best utilize the API. The API and function together allowed the extraction of 8000 post titles and post bodies, which were then exported to CSV for analysis.\n",
    "\n",
    "Prior to analysis, additional features were created. The Python Language Tool library was used to count grammar errors in post bodies, and a column was engineered for grammar error rate. Next, Beautiful Soup's TextBlob sentiment analysis tools were used to create feature columns for post body subjectivity and polarity. Finally, the posts and titles were merged, and several forms of count vectorization were implemented, with various tuning, the best being Sci-Kit Learn's CountVectorizer, with stop words set to \"english,\" max features equal to 2500, and n-grams limited to 1, 1.\n",
    "    \n",
    "The data was then explored visually for trends and correlations. The resulting graphs can be found in data_visuals_p3_csinnott.ipynb.\n",
    "\n",
    "Finally, the data was separated into training and test sets, and run through several models, including Naive Bayes, Logistic Regression, K-Nearest, MLP, AdaBoost, Bagging, Random Forest, and a TensorFlow Neural Net. Random Forest classificaiton performed with the highest degree of accuracy, at 74%. Precision was measured at 75%, recall 62%, and an f-1 score of 68%. \n",
    "\n",
    "## Contents:\n",
    "- [Data Import & Cleaning](#Data-Import-&-Cleaning)\n",
    "- [Preprocessing and Feature Engineering](#Preprocessing-and-Feature-Engineering)\n",
    "- [Best Performing Model](#Best-Performing-Model)\n",
    "- [Model Evaluation](#Model-Evaluation)\n",
    "- [Conclusions & Recommendations](#Conclusions-&-Recommendations)\n",
    "\n",
    "\n",
    "## Sources\n",
    " - www.reddit.com\n",
    " - https://www.reddit.com/r/askaliberal/\n",
    " - https://www.reddit.com/r/askaconservative/\n",
    " - https://en.wikipedia.org/wiki/Reddit\n",
    " - http://scholar.google.com/scholar_url?url=https://www.mdpi.com/1099-4300/19/7/330/pdf&hl=en&sa=X&ei=29cJYKqGHL3EywSi74rAAQ&scisig=AAGBfm1Wq9xZiTx05ui5vdTMsAtGb7CUvw&nossl=1&oi=scholarr\n",
    " - https://www.researchgate.net/publication/318252186_Overfitting_Reduction_of_Text_Classification_Based_on_AdaBELM"
   ]
  },
  {
   "cell_type": "markdown",
   "metadata": {},
   "source": [
    "#### Importing Libraries"
   ]
  },
  {
   "cell_type": "code",
   "execution_count": 63,
   "metadata": {},
   "outputs": [],
   "source": [
    "import pandas as pd\n",
    "import numpy as np\n",
    "import matplotlib.pyplot as plt\n",
    "import warnings\n",
    "warnings.filterwarnings(\"ignore\")\n",
    "import seaborn as sns\n",
    "import language_tool_python\n",
    "from textblob import TextBlob\n",
    "from textblob.sentiments import NaiveBayesAnalyzer\n",
    "from textblob import Blobber\n",
    "from sklearn.preprocessing import PolynomialFeatures, StandardScaler\n",
    "from sklearn.pipeline import make_pipeline, Pipeline\n",
    "from sklearn.model_selection import GridSearchCV, train_test_split\n",
    "from nltk.stem import WordNetLemmatizer\n",
    "from nltk.stem.porter import PorterStemmer\n",
    "from sklearn.feature_extraction.text import CountVectorizer, TfidfVectorizer, text\n",
    "from nltk.tokenize import sent_tokenize, word_tokenize\n",
    "from sklearn.ensemble import RandomForestClassifier\n",
    "from sklearn.metrics import confusion_matrix, accuracy_score, \\\n",
    "balanced_accuracy_score, precision_score, recall_score, roc_auc_score, \\\n",
    "plot_confusion_matrix, \\\n",
    "classification_report, plot_roc_curve, f1_score\n",
    "from sklearn.compose import make_column_transformer, make_column_selector, ColumnTransformer\n",
    "from sklearn import set_config\n",
    "set_config(display = 'diagram')\n",
    "from sklearn.inspection import permutation_importance"
   ]
  },
  {
   "cell_type": "markdown",
   "metadata": {},
   "source": [
    "# Data Import & Cleaning"
   ]
  },
  {
   "cell_type": "code",
   "execution_count": 6,
   "metadata": {},
   "outputs": [],
   "source": [
    "df = pd.read_csv('./data/full_pull_4000_each_incl_self_text.csv')"
   ]
  },
  {
   "cell_type": "code",
   "execution_count": 7,
   "metadata": {},
   "outputs": [],
   "source": [
    "df = df.drop(columns = ['Unnamed: 0'])"
   ]
  },
  {
   "cell_type": "code",
   "execution_count": 8,
   "metadata": {},
   "outputs": [],
   "source": [
    "df = df.drop_duplicates()"
   ]
  },
  {
   "cell_type": "code",
   "execution_count": 9,
   "metadata": {},
   "outputs": [],
   "source": [
    "#dropping nulls for now; will most likely use all titles for further exploration later\n",
    "df = df.dropna()"
   ]
  },
  {
   "cell_type": "code",
   "execution_count": 10,
   "metadata": {},
   "outputs": [],
   "source": [
    "#creating new columns for status length and word count\n",
    "df['post_length'] = [len(i) for i in df['selftext']]\n",
    "df['post_word_count'] = [len(i.split()) for i in df['selftext']]\n",
    "df['title_length'] = [len(i) for i in df['title']]\n",
    "df['title_word_count'] = [len(i.split()) for i in df['title']]"
   ]
  },
  {
   "cell_type": "code",
   "execution_count": 11,
   "metadata": {},
   "outputs": [],
   "source": [
    "# separating for simpler EDA\n",
    "df_lib = df[df.subreddit == 'AskALiberal']"
   ]
  },
  {
   "cell_type": "code",
   "execution_count": 12,
   "metadata": {},
   "outputs": [],
   "source": [
    "df_cons = df[df.subreddit == 'askaconservative']"
   ]
  },
  {
   "cell_type": "markdown",
   "metadata": {},
   "source": [
    "# Preprocessing and Feature Engineering"
   ]
  },
  {
   "cell_type": "code",
   "execution_count": 13,
   "metadata": {},
   "outputs": [
    {
     "data": {
      "text/plain": [
       "2"
      ]
     },
     "execution_count": 13,
     "metadata": {},
     "output_type": "execute_result"
    }
   ],
   "source": [
    "# testing grammar evaluation tool\n",
    "# https://github.com/jxmorris12/language_tool_python\n",
    "tool = language_tool_python.LanguageTool('en-US')\n",
    "text = 'This are bad.'\n",
    "matches = tool.check(text)\n",
    "len(matches)"
   ]
  },
  {
   "cell_type": "code",
   "execution_count": 14,
   "metadata": {
    "jupyter": {
     "source_hidden": true
    }
   },
   "outputs": [],
   "source": [
    "def grammarater (source_1, source_2, samples):\n",
    "    count_1 = 0\n",
    "    count_2 = 0\n",
    "    \n",
    "    for i in source_1:\n",
    "        while count_1 <= samples:           \n",
    "            errors_1 = tool.check(i)\n",
    "            error_rate_1 = (len(errors_1) / len(i)) * 100\n",
    "            count_1 += 1\n",
    "    print(f'{source_1} total errors: {errors_1}')\n",
    "    print(f'{source_1} has an error rate of {error_rate_1}')\n",
    "          \n",
    "    for x in source_2:\n",
    "        while count_2 <= samples:            \n",
    "            errors_2 = tool.check(x)\n",
    "            error_rate_2 = len(errors_2) / len(x)\n",
    "            count_2 += 1\n",
    "    print(f'{source_2} total errors: {errors_2}')\n",
    "    print(f'{source_2} has an error rate of {error_rate_2}')"
   ]
  },
  {
   "cell_type": "code",
   "execution_count": 15,
   "metadata": {},
   "outputs": [],
   "source": [
    "df['grammar_errors'] = [tool.check(i) for i in df['selftext']]"
   ]
  },
  {
   "cell_type": "code",
   "execution_count": 16,
   "metadata": {},
   "outputs": [],
   "source": [
    "df['num_of_grammar_errors'] = [len(i) for i in df['grammar_errors']]"
   ]
  },
  {
   "cell_type": "code",
   "execution_count": 17,
   "metadata": {},
   "outputs": [],
   "source": [
    "df = df.drop(columns = ['grammar_errors'])"
   ]
  },
  {
   "cell_type": "code",
   "execution_count": 18,
   "metadata": {},
   "outputs": [],
   "source": [
    "df['selftext_polarity'] = [TextBlob(i).polarity for i in df['selftext']]\n",
    "df['selftext_subjectivity'] = [TextBlob(i).subjectivity for i in df['selftext']]"
   ]
  },
  {
   "cell_type": "code",
   "execution_count": null,
   "metadata": {},
   "outputs": [],
   "source": [
    "df['title_polarity'] = [TextBlob(i).polarity for i in df['title']]\n",
    "df['title_subjectivity'] = [TextBlob(i).subjectivity for i in df['title']]"
   ]
  },
  {
   "cell_type": "code",
   "execution_count": 20,
   "metadata": {},
   "outputs": [
    {
     "data": {
      "text/plain": [
       "(7209, 11)"
      ]
     },
     "execution_count": 20,
     "metadata": {},
     "output_type": "execute_result"
    }
   ],
   "source": [
    "df.shape"
   ]
  },
  {
   "cell_type": "code",
   "execution_count": 21,
   "metadata": {},
   "outputs": [],
   "source": [
    "df_feat = df"
   ]
  },
  {
   "cell_type": "code",
   "execution_count": 22,
   "metadata": {},
   "outputs": [],
   "source": [
    "df_feat['all_text'] = df_feat['title'] + df['selftext']"
   ]
  },
  {
   "cell_type": "markdown",
   "metadata": {},
   "source": [
    "## CountVectorizing and Defining Variables\n",
    " - Several different techniques utilized, including Tfidf Vectorizing and Regexp tokenizing.\n",
    " - Many different parameters explored, with the best displayed below."
   ]
  },
  {
   "cell_type": "code",
   "execution_count": null,
   "metadata": {},
   "outputs": [],
   "source": [
    "add_stop_words = ['https', 'http', '/n'] #area for testing additional stop words"
   ]
  },
  {
   "cell_type": "code",
   "execution_count": null,
   "metadata": {},
   "outputs": [],
   "source": [
    "stop_words = text.ENGLISH_STOP_WORDS.union(add_stop_words)"
   ]
  },
  {
   "cell_type": "code",
   "execution_count": 23,
   "metadata": {},
   "outputs": [],
   "source": [
    "cvzr = CountVectorizer(stop_words=stop_words, max_features=2500, \n",
    "                       ngram_range=(1, 1), strip_accents = 'ascii')\n",
    "# additional vectorizing methods tested; above are the best parameters found\n",
    "# tfidf - 4% accuracy\n",
    "# Regexp tokenizer did not assist in increasing"
   ]
  },
  {
   "cell_type": "code",
   "execution_count": 24,
   "metadata": {},
   "outputs": [],
   "source": [
    "word_vect = cvzr.fit_transform(df_feat['all_text'])"
   ]
  },
  {
   "cell_type": "code",
   "execution_count": 25,
   "metadata": {},
   "outputs": [],
   "source": [
    "word_vect = pd.DataFrame(word_vect.toarray(), columns = cvzr.get_feature_names())"
   ]
  },
  {
   "cell_type": "code",
   "execution_count": 26,
   "metadata": {},
   "outputs": [
    {
     "data": {
      "text/plain": [
       "(7209, 2500)"
      ]
     },
     "execution_count": 26,
     "metadata": {},
     "output_type": "execute_result"
    }
   ],
   "source": [
    "word_vect.shape"
   ]
  },
  {
   "cell_type": "code",
   "execution_count": 27,
   "metadata": {},
   "outputs": [],
   "source": [
    "df_use = pd.concat([df_feat.reset_index(), word_vect], axis = 1)"
   ]
  },
  {
   "cell_type": "code",
   "execution_count": 28,
   "metadata": {},
   "outputs": [
    {
     "data": {
      "text/plain": [
       "(7209, 2513)"
      ]
     },
     "execution_count": 28,
     "metadata": {},
     "output_type": "execute_result"
    }
   ],
   "source": [
    "df_use.shape"
   ]
  },
  {
   "cell_type": "code",
   "execution_count": 29,
   "metadata": {},
   "outputs": [],
   "source": [
    "df_use_X = df_use.select_dtypes(exclude=['object'])"
   ]
  },
  {
   "cell_type": "code",
   "execution_count": 30,
   "metadata": {},
   "outputs": [],
   "source": [
    "df_use_X = df_use_X.loc[:,~df_use_X.columns.duplicated()]"
   ]
  },
  {
   "cell_type": "code",
   "execution_count": 31,
   "metadata": {},
   "outputs": [],
   "source": [
    "df_feat['subreddit'] = np.where(df_feat['subreddit'] == 'AskALiberal', 0, 1)"
   ]
  },
  {
   "cell_type": "code",
   "execution_count": 84,
   "metadata": {},
   "outputs": [],
   "source": [
    "X = df_use_X.drop(columns = ['subreddit','created_utc', 'index', 'post_length'])\n",
    "y = df_feat['subreddit']"
   ]
  },
  {
   "cell_type": "code",
   "execution_count": 34,
   "metadata": {},
   "outputs": [],
   "source": [
    "X_train, X_test, y_train, y_test = train_test_split(X, y)"
   ]
  },
  {
   "cell_type": "code",
   "execution_count": 35,
   "metadata": {},
   "outputs": [
    {
     "name": "stdout",
     "output_type": "stream",
     "text": [
      "<class 'pandas.core.frame.DataFrame'>\n",
      "Int64Index: 5406 entries, 1633 to 5354\n",
      "Columns: 2504 entries, post_word_count to zero\n",
      "dtypes: float64(2), int64(2502)\n",
      "memory usage: 103.3 MB\n"
     ]
    }
   ],
   "source": [
    "X_train.info()"
   ]
  },
  {
   "cell_type": "code",
   "execution_count": 36,
   "metadata": {},
   "outputs": [
    {
     "name": "stdout",
     "output_type": "stream",
     "text": [
      "0.45\n",
      "0.55\n"
     ]
    }
   ],
   "source": [
    "print(round(y_train.mean(), 2))\n",
    "print(round(1 - y_train.mean(), 2))\n",
    "# well balanced"
   ]
  },
  {
   "cell_type": "code",
   "execution_count": 37,
   "metadata": {},
   "outputs": [],
   "source": [
    "#mcs = make_column_selector(dtype_include= 'object')"
   ]
  },
  {
   "cell_type": "code",
   "execution_count": 38,
   "metadata": {},
   "outputs": [],
   "source": [
    "#mct = make_column_transformer((CountVectorizer(), mcs))"
   ]
  },
  {
   "cell_type": "markdown",
   "metadata": {},
   "source": [
    "# Best Performing Model"
   ]
  },
  {
   "cell_type": "markdown",
   "metadata": {},
   "source": [
    "#### Random Forest\n",
    " - Best accuracy score = 74%\n",
    "  - n_grams = (1, 1)\n",
    "  - max_feat = 2500\n",
    "  - StandardScaler\n",
    "  - parameters as noted below\n",
    "  - includes all features, except post length and creation date\n",
    "      - nearly every combination of features was tested\n",
    "  - attempted many variations not represented below, including:\n",
    "       - tuning of n_grams and max features\n",
    "       - different vectorizing and tokenizing tools\n",
    "  - *insight to improving accuracy in summary*"
   ]
  },
  {
   "cell_type": "code",
   "execution_count": 39,
   "metadata": {},
   "outputs": [],
   "source": [
    "pipe = make_pipeline(StandardScaler(), RandomForestClassifier())"
   ]
  },
  {
   "cell_type": "code",
   "execution_count": 40,
   "metadata": {},
   "outputs": [],
   "source": [
    "params = {\n",
    "    'randomforestclassifier__n_estimators' : [100, 500, 1000],\n",
    "    'randomforestclassifier__ccp_alpha' : [0.0, 0.01, 1, 5],\n",
    "    'randomforestclassifier__min_samples_leaf' : [0, 1, 3, 5],\n",
    "    'randomforestclassifier__criterion' : ['gini', 'entropy']\n",
    "}"
   ]
  },
  {
   "cell_type": "code",
   "execution_count": 41,
   "metadata": {},
   "outputs": [],
   "source": [
    "grid = GridSearchCV(pipe, params, n_jobs = -1)"
   ]
  },
  {
   "cell_type": "code",
   "execution_count": 42,
   "metadata": {},
   "outputs": [
    {
     "data": {
      "text/html": [
       "<style>div.sk-top-container {color: black;background-color: white;}div.sk-toggleable {background-color: white;}label.sk-toggleable__label {cursor: pointer;display: block;width: 100%;margin-bottom: 0;padding: 0.2em 0.3em;box-sizing: border-box;text-align: center;}div.sk-toggleable__content {max-height: 0;max-width: 0;overflow: hidden;text-align: left;background-color: #f0f8ff;}div.sk-toggleable__content pre {margin: 0.2em;color: black;border-radius: 0.25em;background-color: #f0f8ff;}input.sk-toggleable__control:checked~div.sk-toggleable__content {max-height: 200px;max-width: 100%;overflow: auto;}div.sk-estimator input.sk-toggleable__control:checked~label.sk-toggleable__label {background-color: #d4ebff;}div.sk-label input.sk-toggleable__control:checked~label.sk-toggleable__label {background-color: #d4ebff;}input.sk-hidden--visually {border: 0;clip: rect(1px 1px 1px 1px);clip: rect(1px, 1px, 1px, 1px);height: 1px;margin: -1px;overflow: hidden;padding: 0;position: absolute;width: 1px;}div.sk-estimator {font-family: monospace;background-color: #f0f8ff;margin: 0.25em 0.25em;border: 1px dotted black;border-radius: 0.25em;box-sizing: border-box;}div.sk-estimator:hover {background-color: #d4ebff;}div.sk-parallel-item::after {content: \"\";width: 100%;border-bottom: 1px solid gray;flex-grow: 1;}div.sk-label:hover label.sk-toggleable__label {background-color: #d4ebff;}div.sk-serial::before {content: \"\";position: absolute;border-left: 1px solid gray;box-sizing: border-box;top: 2em;bottom: 0;left: 50%;}div.sk-serial {display: flex;flex-direction: column;align-items: center;background-color: white;}div.sk-item {z-index: 1;}div.sk-parallel {display: flex;align-items: stretch;justify-content: center;background-color: white;}div.sk-parallel-item {display: flex;flex-direction: column;position: relative;background-color: white;}div.sk-parallel-item:first-child::after {align-self: flex-end;width: 50%;}div.sk-parallel-item:last-child::after {align-self: flex-start;width: 50%;}div.sk-parallel-item:only-child::after {width: 0;}div.sk-dashed-wrapped {border: 1px dashed gray;margin: 0.2em;box-sizing: border-box;padding-bottom: 0.1em;background-color: white;position: relative;}div.sk-label label {font-family: monospace;font-weight: bold;background-color: white;display: inline-block;line-height: 1.2em;}div.sk-label-container {position: relative;z-index: 2;text-align: center;}div.sk-container {display: inline-block;position: relative;}</style><div class=\"sk-top-container\"><div class=\"sk-container\"><div class=\"sk-item sk-dashed-wrapped\"><div class=\"sk-label-container\"><div class=\"sk-label sk-toggleable\"><input class=\"sk-toggleable__control sk-hidden--visually\" id=\"42e2e109-47c5-4bbc-ad90-c4eb4fbfd9d4\" type=\"checkbox\" ><label class=\"sk-toggleable__label\" for=\"42e2e109-47c5-4bbc-ad90-c4eb4fbfd9d4\">GridSearchCV</label><div class=\"sk-toggleable__content\"><pre>GridSearchCV(estimator=Pipeline(steps=[('standardscaler', StandardScaler()),\n",
       "                                       ('randomforestclassifier',\n",
       "                                        RandomForestClassifier())]),\n",
       "             n_jobs=-1,\n",
       "             param_grid={'randomforestclassifier__ccp_alpha': [0.0, 0.01, 1, 5],\n",
       "                         'randomforestclassifier__criterion': ['gini',\n",
       "                                                               'entropy'],\n",
       "                         'randomforestclassifier__min_samples_leaf': [0, 1, 3,\n",
       "                                                                      5],\n",
       "                         'randomforestclassifier__n_estimators': [100, 500,\n",
       "                                                                  1000]})</pre></div></div></div><div class=\"sk-parallel\"><div class=\"sk-parallel-item\"><div class=\"sk-item\"><div class=\"sk-serial\"><div class=\"sk-item\"><div class=\"sk-serial\"><div class=\"sk-item\"><div class=\"sk-estimator sk-toggleable\"><input class=\"sk-toggleable__control sk-hidden--visually\" id=\"1f4603be-bea7-4cd3-ad8f-ac45710586d3\" type=\"checkbox\" ><label class=\"sk-toggleable__label\" for=\"1f4603be-bea7-4cd3-ad8f-ac45710586d3\">StandardScaler</label><div class=\"sk-toggleable__content\"><pre>StandardScaler()</pre></div></div></div><div class=\"sk-item\"><div class=\"sk-estimator sk-toggleable\"><input class=\"sk-toggleable__control sk-hidden--visually\" id=\"b5b54c20-696b-4cdf-8cc9-1c079516e128\" type=\"checkbox\" ><label class=\"sk-toggleable__label\" for=\"b5b54c20-696b-4cdf-8cc9-1c079516e128\">RandomForestClassifier</label><div class=\"sk-toggleable__content\"><pre>RandomForestClassifier()</pre></div></div></div></div></div></div></div></div></div></div></div></div>"
      ],
      "text/plain": [
       "GridSearchCV(estimator=Pipeline(steps=[('standardscaler', StandardScaler()),\n",
       "                                       ('randomforestclassifier',\n",
       "                                        RandomForestClassifier())]),\n",
       "             n_jobs=-1,\n",
       "             param_grid={'randomforestclassifier__ccp_alpha': [0.0, 0.01, 1, 5],\n",
       "                         'randomforestclassifier__criterion': ['gini',\n",
       "                                                               'entropy'],\n",
       "                         'randomforestclassifier__min_samples_leaf': [0, 1, 3,\n",
       "                                                                      5],\n",
       "                         'randomforestclassifier__n_estimators': [100, 500,\n",
       "                                                                  1000]})"
      ]
     },
     "execution_count": 42,
     "metadata": {},
     "output_type": "execute_result"
    }
   ],
   "source": [
    "grid.fit(X_train, y_train)"
   ]
  },
  {
   "cell_type": "markdown",
   "metadata": {},
   "source": [
    "# Model Evaluation\n",
    " - Why Random Forest?\n",
    "     - It has the benefit of using decision trees and bagging, and I felt like the randomness of the splitting was best suited for such a wide array of words. Also, the ability to create more trees should be a great benefit while using so many features\n",
    "\n",
    " - Achieved:\n",
    "     - 74% Accuracy\n",
    "     - 75% Precision\n",
    "     - 62% Recall\n",
    "     - 0.68 f1-Score"
   ]
  },
  {
   "cell_type": "code",
   "execution_count": 43,
   "metadata": {},
   "outputs": [],
   "source": [
    "def print_scores(model):\n",
    "    print(f'train score: {round(model.score(X_train, y_train),2)}')\n",
    "    print(f'test score: {round(model.score(X_test, y_test),2)}')"
   ]
  },
  {
   "cell_type": "code",
   "execution_count": 44,
   "metadata": {},
   "outputs": [
    {
     "name": "stdout",
     "output_type": "stream",
     "text": [
      "train score: 1.0\n",
      "test score: 0.74\n"
     ]
    }
   ],
   "source": [
    "print_scores(grid)"
   ]
  },
  {
   "cell_type": "code",
   "execution_count": 45,
   "metadata": {},
   "outputs": [],
   "source": [
    "preds = grid.predict(X_test)"
   ]
  },
  {
   "cell_type": "code",
   "execution_count": 46,
   "metadata": {},
   "outputs": [],
   "source": [
    "def classification_eval(y_test, y_pred):\n",
    "    print(f'accuracy  = {np.round(accuracy_score(y_test, y_pred), 3)}')\n",
    "    print(f'precision = {np.round(precision_score(y_test, y_pred), 3)}')\n",
    "    print(f'recall    = {np.round(recall_score(y_test, y_pred), 3)}')\n",
    "    print(f'f1-score  = {np.round(f1_score(y_test, y_pred), 3)}')"
   ]
  },
  {
   "cell_type": "code",
   "execution_count": 47,
   "metadata": {},
   "outputs": [
    {
     "name": "stdout",
     "output_type": "stream",
     "text": [
      "accuracy  = 0.736\n",
      "precision = 0.754\n",
      "recall    = 0.617\n",
      "f1-score  = 0.679\n"
     ]
    }
   ],
   "source": [
    "classification_eval(y_test, preds)"
   ]
  },
  {
   "cell_type": "code",
   "execution_count": 91,
   "metadata": {},
   "outputs": [
    {
     "name": "stdout",
     "output_type": "stream",
     "text": [
      "Null model accuracy: 0.55\n"
     ]
    }
   ],
   "source": [
    "print(f'Null model accuracy: {round(max(y_test.mean(), 1 - y_test.mean()), 2)}')"
   ]
  },
  {
   "cell_type": "markdown",
   "metadata": {},
   "source": [
    "#### Best Parameters"
   ]
  },
  {
   "cell_type": "code",
   "execution_count": 48,
   "metadata": {},
   "outputs": [
    {
     "data": {
      "text/plain": [
       "{'randomforestclassifier__ccp_alpha': 0.0,\n",
       " 'randomforestclassifier__criterion': 'entropy',\n",
       " 'randomforestclassifier__min_samples_leaf': 1,\n",
       " 'randomforestclassifier__n_estimators': 500}"
      ]
     },
     "execution_count": 48,
     "metadata": {},
     "output_type": "execute_result"
    }
   ],
   "source": [
    "grid.best_params_"
   ]
  },
  {
   "cell_type": "code",
   "execution_count": 92,
   "metadata": {},
   "outputs": [],
   "source": [
    "y_pred_prob = grid.predict_proba(X_test)"
   ]
  },
  {
   "cell_type": "code",
   "execution_count": 96,
   "metadata": {},
   "outputs": [
    {
     "data": {
      "image/png": "[encoded data removed]",
      "text/plain": [
       "<Figure size 432x288 with 1 Axes>"
      ]
     },
     "metadata": {},
     "output_type": "display_data"
    }
   ],
   "source": [
    "sns.distplot(y_pred_prob[:, 1]);\n",
    "plt.title('Histogram of predicted probabilities');"
   ]
  },
  {
   "cell_type": "code",
   "execution_count": 77,
   "metadata": {},
   "outputs": [
    {
     "data": {
      "text/plain": [
       "0.3699389905712701"
      ]
     },
     "execution_count": 77,
     "metadata": {},
     "output_type": "execute_result"
    }
   ],
   "source": [
    "preds.mean()\n",
    "# pulling toward askaliberal"
   ]
  },
  {
   "cell_type": "code",
   "execution_count": 79,
   "metadata": {},
   "outputs": [
    {
     "data": {
      "text/plain": [
       "0.45202440377149194"
      ]
     },
     "execution_count": 79,
     "metadata": {},
     "output_type": "execute_result"
    }
   ],
   "source": [
    "y_test.mean()"
   ]
  },
  {
   "cell_type": "code",
   "execution_count": 104,
   "metadata": {},
   "outputs": [
    {
     "data": {
      "image/png": "[encoded data removed]",
      "text/plain": [
       "<Figure size 432x288 with 2 Axes>"
      ]
     },
     "metadata": {},
     "output_type": "display_data"
    }
   ],
   "source": [
    "sns.set(style=\"whitegrid\", context=\"notebook\")\n",
    "plot_confusion_matrix(grid, X_test, y_test, display_labels = ['r/askaliberal', 'r/askaconservative']);\n",
    "plt.tight_layout();\n",
    "plt.title('Confusion matrix for subreddit classification');"
   ]
  },
  {
   "cell_type": "code",
   "execution_count": 107,
   "metadata": {},
   "outputs": [
    {
     "data": {
      "image/png": "[encoded data removed]",
      "text/plain": [
       "<Figure size 432x288 with 1 Axes>"
      ]
     },
     "metadata": {},
     "output_type": "display_data"
    }
   ],
   "source": [
    "plot_roc_curve(grid, X_test, y_test)\n",
    "plt.title('ROC AUC score and curve for subreddit classification');\n",
    "plt.plot([0,1], [0,1], 'k--')\n",
    "plt.show();"
   ]
  },
  {
   "cell_type": "code",
   "execution_count": 50,
   "metadata": {},
   "outputs": [],
   "source": [
    "feats = grid.best_estimator_.named_steps['randomforestclassifier']"
   ]
  },
  {
   "cell_type": "code",
   "execution_count": 52,
   "metadata": {},
   "outputs": [],
   "source": [
    "feat_names = [i for i in X_train]"
   ]
  },
  {
   "cell_type": "code",
   "execution_count": 53,
   "metadata": {},
   "outputs": [],
   "source": [
    "subreddit = [i for i in y_train]"
   ]
  },
  {
   "cell_type": "code",
   "execution_count": 54,
   "metadata": {},
   "outputs": [],
   "source": [
    "feat_import_df = pd.DataFrame({'importances': feats.feature_importances_, \n",
    " 'name': feat_names}).sort_values('importances')"
   ]
  },
  {
   "cell_type": "code",
   "execution_count": 73,
   "metadata": {},
   "outputs": [
    {
     "data": {
      "text/html": [
       "<div>\n",
       "<style scoped>\n",
       "    .dataframe tbody tr th:only-of-type {\n",
       "        vertical-align: middle;\n",
       "    }\n",
       "\n",
       "    .dataframe tbody tr th {\n",
       "        vertical-align: top;\n",
       "    }\n",
       "\n",
       "    .dataframe thead th {\n",
       "        text-align: right;\n",
       "    }\n",
       "</style>\n",
       "<table border=\"1\" class=\"dataframe\">\n",
       "  <thead>\n",
       "    <tr style=\"text-align: right;\">\n",
       "      <th></th>\n",
       "      <th>importances</th>\n",
       "      <th>name</th>\n",
       "    </tr>\n",
       "  </thead>\n",
       "  <tbody>\n",
       "    <tr>\n",
       "      <th>1</th>\n",
       "      <td>0.030774</td>\n",
       "      <td>title_length</td>\n",
       "    </tr>\n",
       "    <tr>\n",
       "      <th>494</th>\n",
       "      <td>0.024235</td>\n",
       "      <td>conservatives</td>\n",
       "    </tr>\n",
       "    <tr>\n",
       "      <th>2</th>\n",
       "      <td>0.022246</td>\n",
       "      <td>title_word_count</td>\n",
       "    </tr>\n",
       "    <tr>\n",
       "      <th>270</th>\n",
       "      <td>0.020107</td>\n",
       "      <td>biden</td>\n",
       "    </tr>\n",
       "    <tr>\n",
       "      <th>493</th>\n",
       "      <td>0.015754</td>\n",
       "      <td>conservative</td>\n",
       "    </tr>\n",
       "    <tr>\n",
       "      <th>0</th>\n",
       "      <td>0.014939</td>\n",
       "      <td>post_word_count</td>\n",
       "    </tr>\n",
       "    <tr>\n",
       "      <th>4</th>\n",
       "      <td>0.012218</td>\n",
       "      <td>selftext_polarity</td>\n",
       "    </tr>\n",
       "    <tr>\n",
       "      <th>5</th>\n",
       "      <td>0.012041</td>\n",
       "      <td>selftext_subjectivity</td>\n",
       "    </tr>\n",
       "    <tr>\n",
       "      <th>1291</th>\n",
       "      <td>0.006831</td>\n",
       "      <td>liberals</td>\n",
       "    </tr>\n",
       "    <tr>\n",
       "      <th>3</th>\n",
       "      <td>0.006634</td>\n",
       "      <td>num_of_grammar_errors</td>\n",
       "    </tr>\n",
       "    <tr>\n",
       "      <th>736</th>\n",
       "      <td>0.006037</td>\n",
       "      <td>election</td>\n",
       "    </tr>\n",
       "    <tr>\n",
       "      <th>2305</th>\n",
       "      <td>0.005780</td>\n",
       "      <td>trump</td>\n",
       "    </tr>\n",
       "    <tr>\n",
       "      <th>625</th>\n",
       "      <td>0.005218</td>\n",
       "      <td>democrats</td>\n",
       "    </tr>\n",
       "    <tr>\n",
       "      <th>2252</th>\n",
       "      <td>0.004894</td>\n",
       "      <td>think</td>\n",
       "    </tr>\n",
       "    <tr>\n",
       "      <th>2009</th>\n",
       "      <td>0.004349</td>\n",
       "      <td>senate</td>\n",
       "    </tr>\n",
       "  </tbody>\n",
       "</table>\n",
       "</div>"
      ],
      "text/plain": [
       "      importances                   name\n",
       "1        0.030774           title_length\n",
       "494      0.024235          conservatives\n",
       "2        0.022246       title_word_count\n",
       "270      0.020107                  biden\n",
       "493      0.015754           conservative\n",
       "0        0.014939        post_word_count\n",
       "4        0.012218      selftext_polarity\n",
       "5        0.012041  selftext_subjectivity\n",
       "1291     0.006831               liberals\n",
       "3        0.006634  num_of_grammar_errors\n",
       "736      0.006037               election\n",
       "2305     0.005780                  trump\n",
       "625      0.005218              democrats\n",
       "2252     0.004894                  think\n",
       "2009     0.004349                 senate"
      ]
     },
     "execution_count": 73,
     "metadata": {},
     "output_type": "execute_result"
    }
   ],
   "source": [
    "feat_import_df.sort_values('importances', ascending = False).head(15)"
   ]
  },
  {
   "cell_type": "code",
   "execution_count": 56,
   "metadata": {},
   "outputs": [],
   "source": [
    "words = [i for i in feat_import_df['name']]"
   ]
  },
  {
   "cell_type": "code",
   "execution_count": 72,
   "metadata": {},
   "outputs": [],
   "source": [
    "# plt.figure(figsize=(20, 20));\n",
    "# feat_import_df.sort_values('importances', ascending = False).head(20).plot(kind = 'barh');\n",
    "# plt.title('Feature importances');\n",
    "# plt.yticks(range(len(words)), words)"
   ]
  },
  {
   "cell_type": "code",
   "execution_count": 102,
   "metadata": {},
   "outputs": [
    {
     "data": {
      "image/png": "[encoded data removed]",
      "text/plain": [
       "<Figure size 1080x720 with 1 Axes>"
      ]
     },
     "metadata": {},
     "output_type": "display_data"
    }
   ],
   "source": [
    "sns.set(style=\"darkgrid\", context=\"notebook\")\n",
    "plt.figure(figsize=(15, 10))\n",
    "x = feat_import_df['importances'].tail(21)\n",
    "y = feat_import_df['name'].tail(21)\n",
    "sns.barplot(x = x, y = y).set_title('Top ranking features by importance');"
   ]
  },
  {
   "cell_type": "markdown",
   "metadata": {},
   "source": [
    "# Conclusions & Recommendations"
   ]
  },
  {
   "cell_type": "markdown",
   "metadata": {},
   "source": [
    " - Based on the findings, we can determine the subreddit of origin of r/askaliberal and r/askaconservative posts by ~20% greater than a null model. The key limitation in obtaining greater accuracy was the similarity of posts in the two subreddits. This is due to more than the political nature of the subreddits. Instead, both subreddits are used for antagonistic cross-posting, resulting in questions and posts that are very similar between the two. Furthermore, one subreddit has much more moderation than the other, leading both to resemble one subreddit when analyzed. Specifically, this leads to r/askaliberal and r/askaconservative to having predominately conservative posts. Of the 8000 posts obtained, ~800 were \"removed by moderator.\" All ~800 removed posts belonged to r/askaconservative, equating to ~20% removal rate. Outside research (r/banned) confirmed that the moderators of r/askaconservative will delete posts regularly, and ban the users asking those questions. This report does not condemn or support any level of moderation, but to increase accuracy, it will be necessary to obtain posts as they are posted, prior to being moderated. It is our recommendation that a function is created that will pull based on a constantly updating timestamp, and quickly add, in batches as small as 5 posts, to a dictionary for export. This will ensure an accurate representation of posts are collected, and allow for the highest degree of accuracy in classification. \n",
    "\n",
    "Corey J Sinnott\n",
    "Project 3, Reddit NLP"
   ]
  }
 ],
 "metadata": {
  "kernelspec": {
   "display_name": "Python 3",
   "language": "python",
   "name": "python3"
  },
  "language_info": {
   "codemirror_mode": {
    "name": "ipython",
    "version": 3
   },
   "file_extension": ".py",
   "mimetype": "text/x-python",
   "name": "python",
   "nbconvert_exporter": "python",
   "pygments_lexer": "ipython3",
   "version": "3.8.2"
  }
 },
 "nbformat": 4,
 "nbformat_minor": 4
}
