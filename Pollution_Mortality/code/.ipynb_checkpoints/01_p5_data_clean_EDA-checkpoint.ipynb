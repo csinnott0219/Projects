{
 "cells": [
  {
   "cell_type": "markdown",
   "metadata": {},
   "source": [
    "#### Project 5: Predicted Pollution Mortality\n",
    "#### Corey J Sinnott\n",
    "# Data Import and Cleaning, EDA\n",
    "\n",
    "## Executive Summary\n",
    "\n",
    "This report was commissioned to explore mortality influenced by pollution. Data was obtained from several sources listed below. The problem statement was defined as, can we predict pollution mortality? After in-depth analysis, conclusions and recommendations will be presented.\n",
    "\n",
    "\n",
    "## Contents:\n",
    "- [Data Import & Cleaning](#Data-Import-&-Cleaning)\n",
    "- [EDA](#EDA)"
   ]
  },
  {
   "cell_type": "markdown",
   "metadata": {},
   "source": [
    "# Data Import and Cleaning"
   ]
  },
  {
   "cell_type": "markdown",
   "metadata": {},
   "source": [
    "#### Importing Libraries"
   ]
  },
  {
   "cell_type": "code",
   "execution_count": 147,
   "metadata": {},
   "outputs": [],
   "source": [
    "import pandas as pd\n",
    "import numpy as np\n",
    "from sklearn.linear_model import LinearRegression\n",
    "from sklearn.impute import SimpleImputer\n",
    "from sklearn.preprocessing import PolynomialFeatures, StandardScaler\n",
    "from sklearn.model_selection import train_test_split\n",
    "from sklearn.metrics import mean_squared_error, mean_absolute_error, r2_score"
   ]
  },
  {
   "cell_type": "markdown",
   "metadata": {},
   "source": [
    "#### Reading in Initial Dataframe\n",
    " - Dataframe was created from over 20 individual datasets; work is available in extra code notebook."
   ]
  },
  {
   "cell_type": "code",
   "execution_count": 2,
   "metadata": {},
   "outputs": [],
   "source": [
    "df = pd.read_csv('./data/df_final.csv')"
   ]
  },
  {
   "cell_type": "code",
   "execution_count": 6,
   "metadata": {},
   "outputs": [
    {
     "data": {
      "text/html": [
       "<div>\n",
       "<style scoped>\n",
       "    .dataframe tbody tr th:only-of-type {\n",
       "        vertical-align: middle;\n",
       "    }\n",
       "\n",
       "    .dataframe tbody tr th {\n",
       "        vertical-align: top;\n",
       "    }\n",
       "\n",
       "    .dataframe thead th {\n",
       "        text-align: right;\n",
       "    }\n",
       "</style>\n",
       "<table border=\"1\" class=\"dataframe\">\n",
       "  <thead>\n",
       "    <tr style=\"text-align: right;\">\n",
       "      <th></th>\n",
       "      <th>Unnamed: 0</th>\n",
       "      <th>Entity</th>\n",
       "      <th>Year</th>\n",
       "      <th>Consumption of Ozone-Depleting Substances - Hydrochlorofluorocarbons (HCFCs)</th>\n",
       "      <th>Consumption of Ozone-Depleting Substances - Carbon Tetrachloride</th>\n",
       "      <th>Consumption of Ozone-Depleting Substances - Chlorofluorocarbons (CFCs)</th>\n",
       "      <th>Consumption of Ozone-Depleting Substances - Halons</th>\n",
       "      <th>Consumption of Ozone-Depleting Substances - Methyl Bromide</th>\n",
       "      <th>Consumption of Ozone-Depleting Substances - Methyl Chloroform</th>\n",
       "      <th>PM2.5 air pollution, population exposed to levels exceeding WHO guideline value (% of total)</th>\n",
       "      <th>...</th>\n",
       "      <th>Health expenditure per capita, PPP (constant 2011 international $)</th>\n",
       "      <th>Life expectancy at birth, total (years)</th>\n",
       "      <th>Consumption of Ozone-Depleting Substances - All</th>\n",
       "      <th>Annual CO2 emissions</th>\n",
       "      <th>Ozone depleting emissions (Index 1986 = 100)</th>\n",
       "      <th>Minimum daily concentration (NASA)</th>\n",
       "      <th>Mean daily concentration (NASA)</th>\n",
       "      <th>Deaths - Household air pollution from solid fuels - Sex: Both - Age: All Ages (Number)</th>\n",
       "      <th>Deaths - Air pollution - Sex: Both - Age: All Ages (Number)</th>\n",
       "      <th>Deaths – Outdoor air pollution (all ages) (IHME)</th>\n",
       "    </tr>\n",
       "  </thead>\n",
       "  <tbody>\n",
       "    <tr>\n",
       "      <th>47674</th>\n",
       "      <td>4106</td>\n",
       "      <td>Southern Latin America</td>\n",
       "      <td>2007</td>\n",
       "      <td>NaN</td>\n",
       "      <td>NaN</td>\n",
       "      <td>NaN</td>\n",
       "      <td>NaN</td>\n",
       "      <td>NaN</td>\n",
       "      <td>NaN</td>\n",
       "      <td>NaN</td>\n",
       "      <td>...</td>\n",
       "      <td>NaN</td>\n",
       "      <td>NaN</td>\n",
       "      <td>NaN</td>\n",
       "      <td>NaN</td>\n",
       "      <td>4.73</td>\n",
       "      <td>108.0</td>\n",
       "      <td>116.2</td>\n",
       "      <td>3383.416129</td>\n",
       "      <td>24506.160527</td>\n",
       "      <td>21289.71</td>\n",
       "    </tr>\n",
       "    <tr>\n",
       "      <th>11077</th>\n",
       "      <td>12006</td>\n",
       "      <td>Congo</td>\n",
       "      <td>1811</td>\n",
       "      <td>NaN</td>\n",
       "      <td>NaN</td>\n",
       "      <td>NaN</td>\n",
       "      <td>NaN</td>\n",
       "      <td>NaN</td>\n",
       "      <td>NaN</td>\n",
       "      <td>NaN</td>\n",
       "      <td>...</td>\n",
       "      <td>NaN</td>\n",
       "      <td>NaN</td>\n",
       "      <td>NaN</td>\n",
       "      <td>NaN</td>\n",
       "      <td>NaN</td>\n",
       "      <td>NaN</td>\n",
       "      <td>NaN</td>\n",
       "      <td>NaN</td>\n",
       "      <td>NaN</td>\n",
       "      <td>NaN</td>\n",
       "    </tr>\n",
       "  </tbody>\n",
       "</table>\n",
       "<p>2 rows × 23 columns</p>\n",
       "</div>"
      ],
      "text/plain": [
       "       Unnamed: 0                  Entity  Year  \\\n",
       "47674        4106  Southern Latin America  2007   \n",
       "11077       12006                   Congo  1811   \n",
       "\n",
       "       Consumption of Ozone-Depleting Substances - Hydrochlorofluorocarbons (HCFCs)  \\\n",
       "47674                                                NaN                              \n",
       "11077                                                NaN                              \n",
       "\n",
       "       Consumption of Ozone-Depleting Substances - Carbon Tetrachloride  \\\n",
       "47674                                                NaN                  \n",
       "11077                                                NaN                  \n",
       "\n",
       "       Consumption of Ozone-Depleting Substances - Chlorofluorocarbons (CFCs)  \\\n",
       "47674                                                NaN                        \n",
       "11077                                                NaN                        \n",
       "\n",
       "       Consumption of Ozone-Depleting Substances - Halons  \\\n",
       "47674                                                NaN    \n",
       "11077                                                NaN    \n",
       "\n",
       "       Consumption of Ozone-Depleting Substances - Methyl Bromide  \\\n",
       "47674                                                NaN            \n",
       "11077                                                NaN            \n",
       "\n",
       "       Consumption of Ozone-Depleting Substances - Methyl Chloroform  \\\n",
       "47674                                                NaN               \n",
       "11077                                                NaN               \n",
       "\n",
       "       PM2.5 air pollution, population exposed to levels exceeding WHO guideline value (% of total)  \\\n",
       "47674                                                NaN                                              \n",
       "11077                                                NaN                                              \n",
       "\n",
       "       ...  \\\n",
       "47674  ...   \n",
       "11077  ...   \n",
       "\n",
       "       Health expenditure per capita, PPP (constant 2011 international $)  \\\n",
       "47674                                                NaN                    \n",
       "11077                                                NaN                    \n",
       "\n",
       "       Life expectancy at birth, total (years)  \\\n",
       "47674                                      NaN   \n",
       "11077                                      NaN   \n",
       "\n",
       "      Consumption of Ozone-Depleting Substances - All  Annual CO2 emissions  \\\n",
       "47674                                             NaN                   NaN   \n",
       "11077                                             NaN                   NaN   \n",
       "\n",
       "       Ozone depleting emissions (Index 1986 = 100)  \\\n",
       "47674                                          4.73   \n",
       "11077                                           NaN   \n",
       "\n",
       "       Minimum daily concentration (NASA)  Mean daily concentration (NASA)  \\\n",
       "47674                               108.0                            116.2   \n",
       "11077                                 NaN                              NaN   \n",
       "\n",
       "       Deaths - Household air pollution from solid fuels - Sex: Both - Age: All Ages (Number)  \\\n",
       "47674                                        3383.416129                                        \n",
       "11077                                                NaN                                        \n",
       "\n",
       "       Deaths - Air pollution - Sex: Both - Age: All Ages (Number)  \\\n",
       "47674                                       24506.160527             \n",
       "11077                                                NaN             \n",
       "\n",
       "       Deaths – Outdoor air pollution (all ages) (IHME)  \n",
       "47674                                          21289.71  \n",
       "11077                                               NaN  \n",
       "\n",
       "[2 rows x 23 columns]"
      ]
     },
     "execution_count": 6,
     "metadata": {},
     "output_type": "execute_result"
    }
   ],
   "source": [
    "df.sample(2)"
   ]
  },
  {
   "cell_type": "markdown",
   "metadata": {},
   "source": [
    "#### Cleaning Data\n",
    " - Filtering for year\n",
    " - Filtering for population\n",
    " - Filtering for country\n",
    "     - Comparing values to an established country list to remove world and continent values"
   ]
  },
  {
   "cell_type": "code",
   "execution_count": 19,
   "metadata": {},
   "outputs": [],
   "source": [
    "df = df[df.Year > 1950]"
   ]
  },
  {
   "cell_type": "code",
   "execution_count": 21,
   "metadata": {},
   "outputs": [],
   "source": [
    "df_2 = df.set_index(keys = 'Year')"
   ]
  },
  {
   "cell_type": "code",
   "execution_count": 22,
   "metadata": {},
   "outputs": [],
   "source": [
    "df_2 = df_2.drop(columns = 'Unnamed: 0')"
   ]
  },
  {
   "cell_type": "code",
   "execution_count": 23,
   "metadata": {},
   "outputs": [
    {
     "data": {
      "text/html": [
       "<div>\n",
       "<style scoped>\n",
       "    .dataframe tbody tr th:only-of-type {\n",
       "        vertical-align: middle;\n",
       "    }\n",
       "\n",
       "    .dataframe tbody tr th {\n",
       "        vertical-align: top;\n",
       "    }\n",
       "\n",
       "    .dataframe thead th {\n",
       "        text-align: right;\n",
       "    }\n",
       "</style>\n",
       "<table border=\"1\" class=\"dataframe\">\n",
       "  <thead>\n",
       "    <tr style=\"text-align: right;\">\n",
       "      <th></th>\n",
       "      <th>Entity</th>\n",
       "      <th>Consumption of Ozone-Depleting Substances - Hydrochlorofluorocarbons (HCFCs)</th>\n",
       "      <th>Consumption of Ozone-Depleting Substances - Carbon Tetrachloride</th>\n",
       "      <th>Consumption of Ozone-Depleting Substances - Chlorofluorocarbons (CFCs)</th>\n",
       "      <th>Consumption of Ozone-Depleting Substances - Halons</th>\n",
       "      <th>Consumption of Ozone-Depleting Substances - Methyl Bromide</th>\n",
       "      <th>Consumption of Ozone-Depleting Substances - Methyl Chloroform</th>\n",
       "      <th>PM2.5 air pollution, population exposed to levels exceeding WHO guideline value (% of total)</th>\n",
       "      <th>PM2.5 air pollution, mean annual exposure (micrograms per cubic meter)</th>\n",
       "      <th>Total population (Gapminder, HYDE &amp; UN)</th>\n",
       "      <th>...</th>\n",
       "      <th>Health expenditure per capita, PPP (constant 2011 international $)</th>\n",
       "      <th>Life expectancy at birth, total (years)</th>\n",
       "      <th>Consumption of Ozone-Depleting Substances - All</th>\n",
       "      <th>Annual CO2 emissions</th>\n",
       "      <th>Ozone depleting emissions (Index 1986 = 100)</th>\n",
       "      <th>Minimum daily concentration (NASA)</th>\n",
       "      <th>Mean daily concentration (NASA)</th>\n",
       "      <th>Deaths - Household air pollution from solid fuels - Sex: Both - Age: All Ages (Number)</th>\n",
       "      <th>Deaths - Air pollution - Sex: Both - Age: All Ages (Number)</th>\n",
       "      <th>Deaths – Outdoor air pollution (all ages) (IHME)</th>\n",
       "    </tr>\n",
       "    <tr>\n",
       "      <th>Year</th>\n",
       "      <th></th>\n",
       "      <th></th>\n",
       "      <th></th>\n",
       "      <th></th>\n",
       "      <th></th>\n",
       "      <th></th>\n",
       "      <th></th>\n",
       "      <th></th>\n",
       "      <th></th>\n",
       "      <th></th>\n",
       "      <th></th>\n",
       "      <th></th>\n",
       "      <th></th>\n",
       "      <th></th>\n",
       "      <th></th>\n",
       "      <th></th>\n",
       "      <th></th>\n",
       "      <th></th>\n",
       "      <th></th>\n",
       "      <th></th>\n",
       "      <th></th>\n",
       "    </tr>\n",
       "  </thead>\n",
       "  <tbody>\n",
       "    <tr>\n",
       "      <th>1968</th>\n",
       "      <td>Samoa</td>\n",
       "      <td>NaN</td>\n",
       "      <td>NaN</td>\n",
       "      <td>NaN</td>\n",
       "      <td>NaN</td>\n",
       "      <td>NaN</td>\n",
       "      <td>NaN</td>\n",
       "      <td>NaN</td>\n",
       "      <td>NaN</td>\n",
       "      <td>1.370000e+05</td>\n",
       "      <td>...</td>\n",
       "      <td>NaN</td>\n",
       "      <td>53.774000</td>\n",
       "      <td>NaN</td>\n",
       "      <td>0.029312</td>\n",
       "      <td>NaN</td>\n",
       "      <td>NaN</td>\n",
       "      <td>NaN</td>\n",
       "      <td>NaN</td>\n",
       "      <td>NaN</td>\n",
       "      <td>NaN</td>\n",
       "    </tr>\n",
       "    <tr>\n",
       "      <th>1966</th>\n",
       "      <td>Nauru</td>\n",
       "      <td>NaN</td>\n",
       "      <td>NaN</td>\n",
       "      <td>NaN</td>\n",
       "      <td>NaN</td>\n",
       "      <td>NaN</td>\n",
       "      <td>NaN</td>\n",
       "      <td>NaN</td>\n",
       "      <td>NaN</td>\n",
       "      <td>6.000000e+03</td>\n",
       "      <td>...</td>\n",
       "      <td>NaN</td>\n",
       "      <td>NaN</td>\n",
       "      <td>NaN</td>\n",
       "      <td>0.032976</td>\n",
       "      <td>NaN</td>\n",
       "      <td>NaN</td>\n",
       "      <td>NaN</td>\n",
       "      <td>NaN</td>\n",
       "      <td>NaN</td>\n",
       "      <td>NaN</td>\n",
       "    </tr>\n",
       "    <tr>\n",
       "      <th>1961</th>\n",
       "      <td>Hungary</td>\n",
       "      <td>NaN</td>\n",
       "      <td>NaN</td>\n",
       "      <td>NaN</td>\n",
       "      <td>NaN</td>\n",
       "      <td>NaN</td>\n",
       "      <td>NaN</td>\n",
       "      <td>NaN</td>\n",
       "      <td>NaN</td>\n",
       "      <td>1.003000e+07</td>\n",
       "      <td>...</td>\n",
       "      <td>NaN</td>\n",
       "      <td>68.936098</td>\n",
       "      <td>NaN</td>\n",
       "      <td>48.929906</td>\n",
       "      <td>NaN</td>\n",
       "      <td>NaN</td>\n",
       "      <td>NaN</td>\n",
       "      <td>NaN</td>\n",
       "      <td>NaN</td>\n",
       "      <td>NaN</td>\n",
       "    </tr>\n",
       "    <tr>\n",
       "      <th>1998</th>\n",
       "      <td>Sub-Saharan Africa (excluding high income)</td>\n",
       "      <td>NaN</td>\n",
       "      <td>NaN</td>\n",
       "      <td>NaN</td>\n",
       "      <td>NaN</td>\n",
       "      <td>NaN</td>\n",
       "      <td>NaN</td>\n",
       "      <td>NaN</td>\n",
       "      <td>NaN</td>\n",
       "      <td>NaN</td>\n",
       "      <td>...</td>\n",
       "      <td>108.417024</td>\n",
       "      <td>50.140852</td>\n",
       "      <td>NaN</td>\n",
       "      <td>NaN</td>\n",
       "      <td>25.97</td>\n",
       "      <td>86.0</td>\n",
       "      <td>98.8</td>\n",
       "      <td>NaN</td>\n",
       "      <td>NaN</td>\n",
       "      <td>NaN</td>\n",
       "    </tr>\n",
       "    <tr>\n",
       "      <th>2001</th>\n",
       "      <td>Asia</td>\n",
       "      <td>NaN</td>\n",
       "      <td>NaN</td>\n",
       "      <td>NaN</td>\n",
       "      <td>NaN</td>\n",
       "      <td>NaN</td>\n",
       "      <td>NaN</td>\n",
       "      <td>NaN</td>\n",
       "      <td>NaN</td>\n",
       "      <td>3.789285e+09</td>\n",
       "      <td>...</td>\n",
       "      <td>NaN</td>\n",
       "      <td>NaN</td>\n",
       "      <td>NaN</td>\n",
       "      <td>9153.744620</td>\n",
       "      <td>15.97</td>\n",
       "      <td>91.0</td>\n",
       "      <td>100.9</td>\n",
       "      <td>NaN</td>\n",
       "      <td>NaN</td>\n",
       "      <td>NaN</td>\n",
       "    </tr>\n",
       "  </tbody>\n",
       "</table>\n",
       "<p>5 rows × 21 columns</p>\n",
       "</div>"
      ],
      "text/plain": [
       "                                          Entity  \\\n",
       "Year                                               \n",
       "1968                                       Samoa   \n",
       "1966                                       Nauru   \n",
       "1961                                     Hungary   \n",
       "1998  Sub-Saharan Africa (excluding high income)   \n",
       "2001                                        Asia   \n",
       "\n",
       "      Consumption of Ozone-Depleting Substances - Hydrochlorofluorocarbons (HCFCs)  \\\n",
       "Year                                                                                 \n",
       "1968                                                NaN                              \n",
       "1966                                                NaN                              \n",
       "1961                                                NaN                              \n",
       "1998                                                NaN                              \n",
       "2001                                                NaN                              \n",
       "\n",
       "      Consumption of Ozone-Depleting Substances - Carbon Tetrachloride  \\\n",
       "Year                                                                     \n",
       "1968                                                NaN                  \n",
       "1966                                                NaN                  \n",
       "1961                                                NaN                  \n",
       "1998                                                NaN                  \n",
       "2001                                                NaN                  \n",
       "\n",
       "      Consumption of Ozone-Depleting Substances - Chlorofluorocarbons (CFCs)  \\\n",
       "Year                                                                           \n",
       "1968                                                NaN                        \n",
       "1966                                                NaN                        \n",
       "1961                                                NaN                        \n",
       "1998                                                NaN                        \n",
       "2001                                                NaN                        \n",
       "\n",
       "      Consumption of Ozone-Depleting Substances - Halons  \\\n",
       "Year                                                       \n",
       "1968                                                NaN    \n",
       "1966                                                NaN    \n",
       "1961                                                NaN    \n",
       "1998                                                NaN    \n",
       "2001                                                NaN    \n",
       "\n",
       "      Consumption of Ozone-Depleting Substances - Methyl Bromide  \\\n",
       "Year                                                               \n",
       "1968                                                NaN            \n",
       "1966                                                NaN            \n",
       "1961                                                NaN            \n",
       "1998                                                NaN            \n",
       "2001                                                NaN            \n",
       "\n",
       "      Consumption of Ozone-Depleting Substances - Methyl Chloroform  \\\n",
       "Year                                                                  \n",
       "1968                                                NaN               \n",
       "1966                                                NaN               \n",
       "1961                                                NaN               \n",
       "1998                                                NaN               \n",
       "2001                                                NaN               \n",
       "\n",
       "      PM2.5 air pollution, population exposed to levels exceeding WHO guideline value (% of total)  \\\n",
       "Year                                                                                                 \n",
       "1968                                                NaN                                              \n",
       "1966                                                NaN                                              \n",
       "1961                                                NaN                                              \n",
       "1998                                                NaN                                              \n",
       "2001                                                NaN                                              \n",
       "\n",
       "      PM2.5 air pollution, mean annual exposure (micrograms per cubic meter)  \\\n",
       "Year                                                                           \n",
       "1968                                                NaN                        \n",
       "1966                                                NaN                        \n",
       "1961                                                NaN                        \n",
       "1998                                                NaN                        \n",
       "2001                                                NaN                        \n",
       "\n",
       "      Total population (Gapminder, HYDE & UN)  ...  \\\n",
       "Year                                           ...   \n",
       "1968                             1.370000e+05  ...   \n",
       "1966                             6.000000e+03  ...   \n",
       "1961                             1.003000e+07  ...   \n",
       "1998                                      NaN  ...   \n",
       "2001                             3.789285e+09  ...   \n",
       "\n",
       "     Health expenditure per capita, PPP (constant 2011 international $)  \\\n",
       "Year                                                                      \n",
       "1968                                                NaN                   \n",
       "1966                                                NaN                   \n",
       "1961                                                NaN                   \n",
       "1998                                         108.417024                   \n",
       "2001                                                NaN                   \n",
       "\n",
       "      Life expectancy at birth, total (years)  \\\n",
       "Year                                            \n",
       "1968                                53.774000   \n",
       "1966                                      NaN   \n",
       "1961                                68.936098   \n",
       "1998                                50.140852   \n",
       "2001                                      NaN   \n",
       "\n",
       "      Consumption of Ozone-Depleting Substances - All  Annual CO2 emissions  \\\n",
       "Year                                                                          \n",
       "1968                                              NaN              0.029312   \n",
       "1966                                              NaN              0.032976   \n",
       "1961                                              NaN             48.929906   \n",
       "1998                                              NaN                   NaN   \n",
       "2001                                              NaN           9153.744620   \n",
       "\n",
       "      Ozone depleting emissions (Index 1986 = 100)  \\\n",
       "Year                                                 \n",
       "1968                                           NaN   \n",
       "1966                                           NaN   \n",
       "1961                                           NaN   \n",
       "1998                                         25.97   \n",
       "2001                                         15.97   \n",
       "\n",
       "      Minimum daily concentration (NASA)  Mean daily concentration (NASA)  \\\n",
       "Year                                                                        \n",
       "1968                                 NaN                              NaN   \n",
       "1966                                 NaN                              NaN   \n",
       "1961                                 NaN                              NaN   \n",
       "1998                                86.0                             98.8   \n",
       "2001                                91.0                            100.9   \n",
       "\n",
       "      Deaths - Household air pollution from solid fuels - Sex: Both - Age: All Ages (Number)  \\\n",
       "Year                                                                                           \n",
       "1968                                                NaN                                        \n",
       "1966                                                NaN                                        \n",
       "1961                                                NaN                                        \n",
       "1998                                                NaN                                        \n",
       "2001                                                NaN                                        \n",
       "\n",
       "      Deaths - Air pollution - Sex: Both - Age: All Ages (Number)  \\\n",
       "Year                                                                \n",
       "1968                                                NaN             \n",
       "1966                                                NaN             \n",
       "1961                                                NaN             \n",
       "1998                                                NaN             \n",
       "2001                                                NaN             \n",
       "\n",
       "      Deaths – Outdoor air pollution (all ages) (IHME)  \n",
       "Year                                                    \n",
       "1968                                               NaN  \n",
       "1966                                               NaN  \n",
       "1961                                               NaN  \n",
       "1998                                               NaN  \n",
       "2001                                               NaN  \n",
       "\n",
       "[5 rows x 21 columns]"
      ]
     },
     "execution_count": 23,
     "metadata": {},
     "output_type": "execute_result"
    }
   ],
   "source": [
    "df_2.sample(5)"
   ]
  },
  {
   "cell_type": "code",
   "execution_count": 17,
   "metadata": {},
   "outputs": [
    {
     "data": {
      "text/plain": [
       "(56601, 21)"
      ]
     },
     "execution_count": 17,
     "metadata": {},
     "output_type": "execute_result"
    }
   ],
   "source": [
    "df_2.shape"
   ]
  },
  {
   "cell_type": "code",
   "execution_count": 24,
   "metadata": {},
   "outputs": [],
   "source": [
    "df_2['population'] = df_2['Total population (Gapminder, HYDE & UN)']"
   ]
  },
  {
   "cell_type": "code",
   "execution_count": 25,
   "metadata": {},
   "outputs": [
    {
     "data": {
      "text/plain": [
       "(21365, 22)"
      ]
     },
     "execution_count": 25,
     "metadata": {},
     "output_type": "execute_result"
    }
   ],
   "source": [
    "df_2.shape"
   ]
  },
  {
   "cell_type": "code",
   "execution_count": 26,
   "metadata": {},
   "outputs": [],
   "source": [
    "df_2 = df_2[df_2.population > 800_000]"
   ]
  },
  {
   "cell_type": "code",
   "execution_count": 27,
   "metadata": {},
   "outputs": [
    {
     "data": {
      "text/plain": [
       "(10958, 22)"
      ]
     },
     "execution_count": 27,
     "metadata": {},
     "output_type": "execute_result"
    }
   ],
   "source": [
    "df_2.shape"
   ]
  },
  {
   "cell_type": "markdown",
   "metadata": {},
   "source": [
    "#### Filtering against an established country-list"
   ]
  },
  {
   "cell_type": "code",
   "execution_count": 34,
   "metadata": {},
   "outputs": [],
   "source": [
    "country_list = ['Afghanistan', 'Albania', 'Algeria', 'Andorra', \n",
    "                'Angola', 'Argentina', 'Armenia', 'Australia', \n",
    "                'Austria', 'Azerbaijan', 'Bahamas', 'Bahrain', \n",
    "                'Bangladesh', 'Barbados', 'Belarus', 'Belgium', \n",
    "                'Belize', 'Benin', 'Bhutan', 'Bolivia', 'Bosnia Herzegovina', \n",
    "                'Botswana', 'Brazil', 'Brunei', 'Bulgaria', 'Burkina', \n",
    "                'Burundi', 'Cambodia', 'Cameroon', 'Canada', 'Cape Verde', \n",
    "                'Central African Rep', 'Chad', 'Chile', 'China', 'Colombia', \n",
    "                'Comoros', 'Congo', 'Costa Rica', 'Croatia', 'Cuba', 'Cyprus', \n",
    "                'Czech Republic', 'Denmark', 'Djibouti', 'Dominica', \n",
    "                'Dominican Republic', 'East Timor', 'Ecuador', 'Egypt', \n",
    "                'El Salvador', 'Equatorial Guinea', 'Eritrea', 'Estonia', \n",
    "                'Ethiopia', 'Fiji', 'Finland', 'France', 'Gabon', 'Gambia', \n",
    "                'Georgia', 'Germany', 'Ghana', 'Greece', 'Grenada', 'Guatemala', \n",
    "                'Guinea',  'Guyana', 'Haiti', 'Honduras', 'Hungary', 'Iceland', \n",
    "                'India', 'Indonesia', 'Iran', 'Iraq', 'Ireland', 'Israel', \n",
    "                'Italy', 'Ivory Coast', 'Jamaica', 'Japan', 'Jordan', \n",
    "                'Kazakhstan', 'Kenya', 'Kiribati', 'South Korea', 'Korea South', \n",
    "                'Kosovo', 'Kuwait', 'Kyrgyzstan', 'Laos', 'Latvia', 'Lebanon', \n",
    "                'Lesotho', 'Liberia', 'Libya', 'Liechtenstein', 'Lithuania', \n",
    "                'Luxembourg', 'Macedonia', 'Madagascar', 'Malawi', 'Malaysia', \n",
    "                'Maldives', 'Mali', 'Malta', 'Marshall Islands', 'Mauritania', \n",
    "                'Mauritius', 'Mexico', 'Micronesia', 'Moldova', 'Monaco', \n",
    "                'Mongolia', 'Montenegro', 'Morocco', 'Mozambique', 'Myanmar', \n",
    "                'Namibia', 'Nauru', 'Nepal', 'Netherlands', 'New Zealand', \n",
    "                'Nicaragua', 'Niger', 'Nigeria', 'Norway', 'Oman', 'Pakistan', \n",
    "                'Palau', 'Panama', 'Papua New Guinea', 'Paraguay', 'Peru', \n",
    "                'Philippines', 'Poland', 'Portugal', 'Qatar', 'Romania', 'Russia', \n",
    "                'Russian Federation', 'Rwanda', 'Samoa','San Marino', 'Saudi Arabia', \n",
    "                'Senegal', 'Serbia', 'Sierra Leone', 'Singapore', 'Slovakia', \n",
    "                'Slovenia', 'Solomon Islands', 'Somalia', 'South Africa', 'South Sudan', \n",
    "                'Spain', 'Sri Lanka', 'Sudan', 'Suriname', 'Swaziland', 'Sweden', \n",
    "                'Switzerland', 'Syria', 'Taiwan', 'Tajikistan', 'Tanzania', 'Thailand', \n",
    "                'Togo', 'Tonga', 'Trinidad & Tobago', 'Tunisia', 'Turkey', 'Turkmenistan', \n",
    "                'Tuvalu', 'Uganda', 'Ukraine', 'United Arab Emirates', 'United Kingdom', \n",
    "                'United States', 'Uruguay', 'Uzbekistan', 'Vanuatu', 'Vatican City', \n",
    "                'Venezuela', 'Vietnam', 'Yemen', 'Zambia', 'Zimbabwe']"
   ]
  },
  {
   "cell_type": "code",
   "execution_count": 43,
   "metadata": {},
   "outputs": [],
   "source": [
    "df_trim = df_2[df_2['Entity'].isin(country_list)]"
   ]
  },
  {
   "cell_type": "code",
   "execution_count": 55,
   "metadata": {},
   "outputs": [],
   "source": [
    "df_x = df_trim[['Annual CO2 emissions', 'Total population (Gapminder, HYDE & UN)', \n",
    "               'Health expenditure per capita, PPP (constant 2011 international $)',\n",
    "              'Life expectancy at birth, total (years)',\n",
    "              'Ozone depleting emissions (Index 1986 = 100)',\n",
    "              'Minimum daily concentration (NASA)',\n",
    "              'Mean daily concentration (NASA)',\n",
    "              'Deaths – Outdoor air pollution (all ages) (IHME)',\n",
    "              'population']]"
   ]
  },
  {
   "cell_type": "code",
   "execution_count": 68,
   "metadata": {},
   "outputs": [
    {
     "name": "stderr",
     "output_type": "stream",
     "text": [
      "<ipython-input-68-3f50c3811c0c>:1: SettingWithCopyWarning: \n",
      "A value is trying to be set on a copy of a slice from a DataFrame.\n",
      "Try using .loc[row_indexer,col_indexer] = value instead\n",
      "\n",
      "See the caveats in the documentation: https://pandas.pydata.org/pandas-docs/stable/user_guide/indexing.html#returning-a-view-versus-a-copy\n",
      "  df_x['pollution_deaths'] = df_x['Deaths – Outdoor air pollution (all ages) (IHME)']\n"
     ]
    }
   ],
   "source": [
    "df_x['pollution_deaths'] = df_x['Deaths – Outdoor air pollution (all ages) (IHME)']"
   ]
  },
  {
   "cell_type": "markdown",
   "metadata": {},
   "source": [
    " - Dropping null values for target variable"
   ]
  },
  {
   "cell_type": "code",
   "execution_count": 76,
   "metadata": {},
   "outputs": [],
   "source": [
    "df_x = df_x.dropna(subset = ['pollution_deaths'])"
   ]
  },
  {
   "cell_type": "code",
   "execution_count": 143,
   "metadata": {},
   "outputs": [],
   "source": [
    "df_x = df_x.drop(columns = ['Deaths – Outdoor air pollution (all ages) (IHME)', 'Total population (Gapminder, HYDE & UN)'])"
   ]
  },
  {
   "cell_type": "markdown",
   "metadata": {},
   "source": [
    "#### Defining Features\n",
    "  - columns below will most likely constitute variables"
   ]
  },
  {
   "cell_type": "code",
   "execution_count": 145,
   "metadata": {},
   "outputs": [],
   "source": [
    "df_x = df_x.rename(columns = {\n",
    "    'Annual CO2 emissions' : 'annual_co2_emmissions',\n",
    "    'Health expenditure per capita, PPP (constant 2011 international $)' : 'health_spend_per_capita',\n",
    "    'Life expectancy at birth, total (years)' : 'life_expectancy',\n",
    "    'Ozone depleting emissions (Index 1986 = 100)' : 'ozone_depleting_emissions',\n",
    "    'Minimum daily concentration (NASA)' : 'min_daily_ozone',\n",
    "    'Mean daily concentration (NASA)' : 'mean_daily_ozone'\n",
    "})"
   ]
  },
  {
   "cell_type": "code",
   "execution_count": 182,
   "metadata": {},
   "outputs": [],
   "source": [
    "#source: https://www.open.edu/openlearn/health-sports-psychology/health/epidemiology-introduction/content-section-2.1.1\n",
    "df_x['crude_death_per_1000'] = (df_x['pollution_deaths'] / df_x['population'] * 1000)"
   ]
  },
  {
   "cell_type": "markdown",
   "metadata": {},
   "source": [
    "# EDA"
   ]
  },
  {
   "cell_type": "markdown",
   "metadata": {},
   "source": [
    "#### Test Model\n",
    " - Performing initial test model to determine linearity before proceeding. "
   ]
  },
  {
   "cell_type": "code",
   "execution_count": 257,
   "metadata": {},
   "outputs": [],
   "source": [
    "X = df_x.drop(['health_spend_per_capita','crude_death_per_1000', 'pollution_deaths'], axis = 1)\n",
    "y = df_x['pollution_deaths']"
   ]
  },
  {
   "cell_type": "code",
   "execution_count": 258,
   "metadata": {},
   "outputs": [],
   "source": [
    "X_train, X_test, y_train, y_test = train_test_split(X, y)"
   ]
  },
  {
   "cell_type": "code",
   "execution_count": 259,
   "metadata": {},
   "outputs": [],
   "source": [
    "impute = SimpleImputer(missing_values = np.nan)"
   ]
  },
  {
   "cell_type": "code",
   "execution_count": 260,
   "metadata": {},
   "outputs": [],
   "source": [
    "X_train_fill = impute.fit_transform(X_train)\n",
    "X_test_fill = impute.transform(X_test)"
   ]
  },
  {
   "cell_type": "code",
   "execution_count": 261,
   "metadata": {},
   "outputs": [],
   "source": [
    "ss = StandardScaler()"
   ]
  },
  {
   "cell_type": "code",
   "execution_count": 262,
   "metadata": {},
   "outputs": [],
   "source": [
    "X_train_fill_scaled = ss.fit_transform(X_train_fill)\n",
    "X_test_fill_scaled = ss.transform(X_test_fill)"
   ]
  },
  {
   "cell_type": "code",
   "execution_count": 263,
   "metadata": {},
   "outputs": [],
   "source": [
    "lr = LinearRegression()"
   ]
  },
  {
   "cell_type": "code",
   "execution_count": 264,
   "metadata": {},
   "outputs": [
    {
     "data": {
      "text/plain": [
       "LinearRegression()"
      ]
     },
     "execution_count": 264,
     "metadata": {},
     "output_type": "execute_result"
    }
   ],
   "source": [
    "lr.fit(X_train_fill_scaled, y_train)"
   ]
  },
  {
   "cell_type": "code",
   "execution_count": 265,
   "metadata": {},
   "outputs": [],
   "source": [
    "y_pred = lr.predict(X_test_fill_scaled)"
   ]
  },
  {
   "cell_type": "markdown",
   "metadata": {},
   "source": [
    "#### Test Model Results\n",
    " - Including population introduces too much colinearity\n",
    " - Will explore this and more in model testing"
   ]
  },
  {
   "cell_type": "code",
   "execution_count": 266,
   "metadata": {},
   "outputs": [
    {
     "name": "stdout",
     "output_type": "stream",
     "text": [
      "MSE = 287728366.896\n",
      "RMSE = 16962.558\n",
      "MAE = 8744.158\n",
      "r^2  = 0.927\n"
     ]
    }
   ],
   "source": [
    "def regression_eval(y_test, y_pred):\n",
    "    print(f'MSE = {np.round(mean_squared_error(y_test, y_pred), 3)}')\n",
    "    print(f'RMSE = {np.round(mean_squared_error(y_test, y_pred, squared = False), 3)}')\n",
    "    print(f'MAE = {np.round(mean_absolute_error(y_test, y_pred), 3)}')\n",
    "    print(f'r^2  = {np.round(r2_score(y_test, y_pred), 3)}')\n",
    "\n",
    "regression_eval(y_test, y_pred)"
   ]
  },
  {
   "cell_type": "markdown",
   "metadata": {},
   "source": [
    " - Exporting the final dataframe for analysis"
   ]
  },
  {
   "cell_type": "code",
   "execution_count": 160,
   "metadata": {},
   "outputs": [],
   "source": [
    "df_x.to_csv('model_df.csv')"
   ]
  }
 ],
 "metadata": {
  "kernelspec": {
   "display_name": "Python 3",
   "language": "python",
   "name": "python3"
  },
  "language_info": {
   "codemirror_mode": {
    "name": "ipython",
    "version": 3
   },
   "file_extension": ".py",
   "mimetype": "text/x-python",
   "name": "python",
   "nbconvert_exporter": "python",
   "pygments_lexer": "ipython3",
   "version": "3.8.2"
  }
 },
 "nbformat": 4,
 "nbformat_minor": 4
}
