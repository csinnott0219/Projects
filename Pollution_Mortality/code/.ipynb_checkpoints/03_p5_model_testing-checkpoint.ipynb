{
 "cells": [
  {
   "cell_type": "markdown",
   "metadata": {},
   "source": [
    "#### Project 5: Predicted Pollution Mortality\n",
    "#### Corey J Sinnott\n",
    "# Model Testing\n",
    "\n",
    "## Executive Summary\n",
    "\n",
    "This report was commissioned to explore mortality influenced by pollution. Data was obtained from several sources listed below. The problem statement was defined as, can we predict pollution mortality? After in-depth analysis, conclusions and recommendations will be presented.\n",
    "\n",
    "\n",
    "## Contents:\n",
    "- [Model Testing](#Model-Testing)\n",
    "\n"
   ]
  },
  {
   "cell_type": "markdown",
   "metadata": {},
   "source": [
    "#### Importing Libraries"
   ]
  },
  {
   "cell_type": "code",
   "execution_count": 2,
   "metadata": {},
   "outputs": [],
   "source": [
    "import matplotlib.pyplot as plt\n",
    "import seaborn as sns\n",
    "import pandas as pd\n",
    "import numpy as np\n",
    "from scipy import stats\n",
    "import statsmodels.api as sm\n",
    "from sklearn.metrics import mean_squared_error, mean_absolute_error, r2_score, plot_confusion_matrix, classification_report, plot_roc_curve\n",
    "import statsmodels.api as sm\n",
    "from category_encoders import OneHotEncoder\n",
    "from sklearn.model_selection import train_test_split, GridSearchCV\n",
    "from sklearn.preprocessing import StandardScaler, PolynomialFeatures\n",
    "from sklearn.linear_model import LinearRegression, Ridge, Lasso, SGDClassifier, SGDRegressor, ElasticNet, LassoLars\n",
    "from sklearn.neighbors import KNeighborsRegressor\n",
    "from sklearn.compose import make_column_transformer, make_column_selector, TransformedTargetRegressor\n",
    "from sklearn.preprocessing import OneHotEncoder as OHE\n",
    "from sklearn.pipeline import make_pipeline\n",
    "from sklearn.neighbors import KNeighborsRegressor\n",
    "from sklearn import set_config\n",
    "from sklearn.impute import SimpleImputer\n",
    "from sklearn.feature_selection import RFE, RFECV, VarianceThreshold\n",
    "from sklearn.inspection import permutation_importance\n",
    "from sklearn.metrics import confusion_matrix \n",
    "import scipy as sp\n",
    "from sklearn.svm import SVC\n",
    "from sklearn.tree import DecisionTreeClassifier\n",
    "from sklearn.ensemble import GradientBoostingRegressor, RandomForestRegressor"
   ]
  },
  {
   "cell_type": "markdown",
   "metadata": {},
   "source": [
    "#### Reading in Data"
   ]
  },
  {
   "cell_type": "code",
   "execution_count": 3,
   "metadata": {},
   "outputs": [],
   "source": [
    "df = pd.read_csv('./data/model_df.csv')"
   ]
  },
  {
   "cell_type": "code",
   "execution_count": 4,
   "metadata": {},
   "outputs": [
    {
     "data": {
      "text/html": [
       "<div>\n",
       "<style scoped>\n",
       "    .dataframe tbody tr th:only-of-type {\n",
       "        vertical-align: middle;\n",
       "    }\n",
       "\n",
       "    .dataframe tbody tr th {\n",
       "        vertical-align: top;\n",
       "    }\n",
       "\n",
       "    .dataframe thead th {\n",
       "        text-align: right;\n",
       "    }\n",
       "</style>\n",
       "<table border=\"1\" class=\"dataframe\">\n",
       "  <thead>\n",
       "    <tr style=\"text-align: right;\">\n",
       "      <th></th>\n",
       "      <th>Year</th>\n",
       "      <th>annual_co2_emmissions</th>\n",
       "      <th>health_spend_per_capita</th>\n",
       "      <th>life_expectancy</th>\n",
       "      <th>ozone_depleting_emissions</th>\n",
       "      <th>min_daily_ozone</th>\n",
       "      <th>mean_daily_ozone</th>\n",
       "      <th>population</th>\n",
       "      <th>pollution_deaths</th>\n",
       "    </tr>\n",
       "  </thead>\n",
       "  <tbody>\n",
       "    <tr>\n",
       "      <th>1338</th>\n",
       "      <td>2014</td>\n",
       "      <td>78.659796</td>\n",
       "      <td>2098.052256</td>\n",
       "      <td>81.385366</td>\n",
       "      <td>2.37</td>\n",
       "      <td>114.0</td>\n",
       "      <td>128.6</td>\n",
       "      <td>10701000.0</td>\n",
       "      <td>6721.26</td>\n",
       "    </tr>\n",
       "    <tr>\n",
       "      <th>833</th>\n",
       "      <td>1998</td>\n",
       "      <td>6.614649</td>\n",
       "      <td>955.466362</td>\n",
       "      <td>77.738000</td>\n",
       "      <td>25.97</td>\n",
       "      <td>86.0</td>\n",
       "      <td>98.8</td>\n",
       "      <td>909000.0</td>\n",
       "      <td>484.27</td>\n",
       "    </tr>\n",
       "    <tr>\n",
       "      <th>2122</th>\n",
       "      <td>2014</td>\n",
       "      <td>1.021415</td>\n",
       "      <td>93.482087</td>\n",
       "      <td>61.932000</td>\n",
       "      <td>2.37</td>\n",
       "      <td>114.0</td>\n",
       "      <td>128.6</td>\n",
       "      <td>16290000.0</td>\n",
       "      <td>1190.87</td>\n",
       "    </tr>\n",
       "  </tbody>\n",
       "</table>\n",
       "</div>"
      ],
      "text/plain": [
       "      Year  annual_co2_emmissions  health_spend_per_capita  life_expectancy  \\\n",
       "1338  2014              78.659796              2098.052256        81.385366   \n",
       "833   1998               6.614649               955.466362        77.738000   \n",
       "2122  2014               1.021415                93.482087        61.932000   \n",
       "\n",
       "      ozone_depleting_emissions  min_daily_ozone  mean_daily_ozone  \\\n",
       "1338                       2.37            114.0             128.6   \n",
       "833                       25.97             86.0              98.8   \n",
       "2122                       2.37            114.0             128.6   \n",
       "\n",
       "      population  pollution_deaths  \n",
       "1338  10701000.0           6721.26  \n",
       "833     909000.0            484.27  \n",
       "2122  16290000.0           1190.87  "
      ]
     },
     "execution_count": 4,
     "metadata": {},
     "output_type": "execute_result"
    }
   ],
   "source": [
    "df.sample(3)"
   ]
  },
  {
   "cell_type": "code",
   "execution_count": 5,
   "metadata": {},
   "outputs": [
    {
     "name": "stdout",
     "output_type": "stream",
     "text": [
      "<class 'pandas.core.frame.DataFrame'>\n",
      "RangeIndex: 4015 entries, 0 to 4014\n",
      "Data columns (total 9 columns):\n",
      " #   Column                     Non-Null Count  Dtype  \n",
      "---  ------                     --------------  -----  \n",
      " 0   Year                       4015 non-null   int64  \n",
      " 1   annual_co2_emmissions      4010 non-null   float64\n",
      " 2   health_spend_per_capita    2793 non-null   float64\n",
      " 3   life_expectancy            3806 non-null   float64\n",
      " 4   ozone_depleting_emissions  3868 non-null   float64\n",
      " 5   min_daily_ozone            3874 non-null   float64\n",
      " 6   mean_daily_ozone           3874 non-null   float64\n",
      " 7   population                 4015 non-null   float64\n",
      " 8   pollution_deaths           4015 non-null   float64\n",
      "dtypes: float64(8), int64(1)\n",
      "memory usage: 282.4 KB\n"
     ]
    }
   ],
   "source": [
    "df.info()"
   ]
  },
  {
   "cell_type": "code",
   "execution_count": 90,
   "metadata": {},
   "outputs": [],
   "source": [
    "df['crude_death_per_1_000_000'] = (df['pollution_deaths'] / df['population'] * 1_000_000)"
   ]
  },
  {
   "cell_type": "markdown",
   "metadata": {},
   "source": [
    "# Model Testing"
   ]
  },
  {
   "cell_type": "markdown",
   "metadata": {},
   "source": [
    "#### Modeling with population and crude death rate\n",
    " - Unsuccessful; would have to standardize all of the variables to the same scale, which may introduce too much error."
   ]
  },
  {
   "cell_type": "code",
   "execution_count": 224,
   "metadata": {},
   "outputs": [],
   "source": [
    "X = df.drop(['health_spend_per_capita', 'pollution_deaths', 'crude_death_per_1000', \n",
    "             'crude_death_per_1_000_000', 'life_expectancy'], axis = 1)\n",
    "y = df['crude_death_per_1_000_000']"
   ]
  },
  {
   "cell_type": "code",
   "execution_count": 225,
   "metadata": {},
   "outputs": [],
   "source": [
    "X_train, X_test, y_train, y_test = train_test_split(X, y)"
   ]
  },
  {
   "cell_type": "code",
   "execution_count": 226,
   "metadata": {},
   "outputs": [],
   "source": [
    "impute = SimpleImputer(missing_values = np.nan)"
   ]
  },
  {
   "cell_type": "code",
   "execution_count": 227,
   "metadata": {},
   "outputs": [],
   "source": [
    "X_train_fill = impute.fit_transform(X_train)\n",
    "X_test_fill = impute.transform(X_test)"
   ]
  },
  {
   "cell_type": "code",
   "execution_count": 228,
   "metadata": {},
   "outputs": [],
   "source": [
    "ss = StandardScaler()"
   ]
  },
  {
   "cell_type": "code",
   "execution_count": 229,
   "metadata": {},
   "outputs": [],
   "source": [
    "X_train_fill_scaled = ss.fit_transform(X_train_fill)\n",
    "X_test_fill_scaled = ss.transform(X_test_fill)"
   ]
  },
  {
   "cell_type": "code",
   "execution_count": 230,
   "metadata": {},
   "outputs": [],
   "source": [
    "pf = PolynomialFeatures()"
   ]
  },
  {
   "cell_type": "code",
   "execution_count": 231,
   "metadata": {},
   "outputs": [],
   "source": [
    "X_train_use = pf.fit_transform(X_train_fill)\n",
    "X_test_use = pf.transform(X_test_fill)"
   ]
  },
  {
   "cell_type": "code",
   "execution_count": 218,
   "metadata": {},
   "outputs": [],
   "source": [
    "LL = LassoLars()"
   ]
  },
  {
   "cell_type": "code",
   "execution_count": 219,
   "metadata": {},
   "outputs": [
    {
     "data": {
      "text/plain": [
       "LassoLars()"
      ]
     },
     "execution_count": 219,
     "metadata": {},
     "output_type": "execute_result"
    }
   ],
   "source": [
    "LL.fit(X_train_use, y_train)"
   ]
  },
  {
   "cell_type": "code",
   "execution_count": 234,
   "metadata": {},
   "outputs": [],
   "source": [
    "y_pred = LL.predict(X_test_use)"
   ]
  },
  {
   "cell_type": "code",
   "execution_count": 235,
   "metadata": {},
   "outputs": [
    {
     "name": "stdout",
     "output_type": "stream",
     "text": [
      "MSE = 46537.689\n",
      "RMSE = 215.726\n",
      "MAE = 156.192\n",
      "r^2  = -0.046\n"
     ]
    }
   ],
   "source": [
    "def regression_eval(y_test, y_pred):\n",
    "    print(f'MSE = {np.round(mean_squared_error(y_test, y_pred), 3)}')\n",
    "    print(f'RMSE = {np.round(mean_squared_error(y_test, y_pred, squared = False), 3)}')\n",
    "    print(f'MAE = {np.round(mean_absolute_error(y_test, y_pred), 3)}')\n",
    "    print(f'r^2  = {np.round(r2_score(y_test, y_pred), 3)}')\n",
    "\n",
    "regression_eval(y_test, y_pred)"
   ]
  },
  {
   "cell_type": "markdown",
   "metadata": {},
   "source": [
    "#### Modeling with population and total deaths\n",
    " - Population introducing a lot of colinearity"
   ]
  },
  {
   "cell_type": "code",
   "execution_count": 164,
   "metadata": {},
   "outputs": [],
   "source": [
    "X = df.drop(['health_spend_per_capita', 'pollution_deaths', 'crude_death_per_1000', 'crude_death_per_1_000_000'], axis = 1)\n",
    "y = df['pollution_deaths']"
   ]
  },
  {
   "cell_type": "code",
   "execution_count": 165,
   "metadata": {},
   "outputs": [],
   "source": [
    "X_train, X_test, y_train, y_test = train_test_split(X, y)"
   ]
  },
  {
   "cell_type": "code",
   "execution_count": 166,
   "metadata": {},
   "outputs": [],
   "source": [
    "impute = SimpleImputer(missing_values = np.nan)"
   ]
  },
  {
   "cell_type": "code",
   "execution_count": 167,
   "metadata": {},
   "outputs": [],
   "source": [
    "X_train_fill = impute.fit_transform(X_train)\n",
    "X_test_fill = impute.transform(X_test)"
   ]
  },
  {
   "cell_type": "code",
   "execution_count": 168,
   "metadata": {},
   "outputs": [],
   "source": [
    "ss = StandardScaler()"
   ]
  },
  {
   "cell_type": "code",
   "execution_count": 169,
   "metadata": {},
   "outputs": [],
   "source": [
    "X_train_fill_scaled = ss.fit_transform(X_train_fill)\n",
    "X_test_fill_scaled = ss.transform(X_test_fill)"
   ]
  },
  {
   "cell_type": "code",
   "execution_count": 170,
   "metadata": {},
   "outputs": [],
   "source": [
    "pf = PolynomialFeatures()"
   ]
  },
  {
   "cell_type": "code",
   "execution_count": 171,
   "metadata": {},
   "outputs": [],
   "source": [
    "X_train_use = pf.fit_transform(X_train_fill)\n",
    "X_test_use = pf.transform(X_test_fill)"
   ]
  },
  {
   "cell_type": "code",
   "execution_count": 172,
   "metadata": {},
   "outputs": [],
   "source": [
    "LL = LassoLars()"
   ]
  },
  {
   "cell_type": "code",
   "execution_count": 173,
   "metadata": {},
   "outputs": [
    {
     "data": {
      "text/plain": [
       "LassoLars()"
      ]
     },
     "execution_count": 173,
     "metadata": {},
     "output_type": "execute_result"
    }
   ],
   "source": [
    "LL.fit(X_train_use, y_train)"
   ]
  },
  {
   "cell_type": "code",
   "execution_count": 174,
   "metadata": {},
   "outputs": [],
   "source": [
    "y_pred = LL.predict(X_test_use)"
   ]
  },
  {
   "cell_type": "code",
   "execution_count": 175,
   "metadata": {},
   "outputs": [
    {
     "name": "stdout",
     "output_type": "stream",
     "text": [
      "MSE = 61950968.585\n",
      "RMSE = 7870.894\n",
      "MAE = 3473.279\n",
      "r^2  = 0.991\n"
     ]
    }
   ],
   "source": [
    "def regression_eval(y_test, y_pred):\n",
    "    print(f'MSE = {np.round(mean_squared_error(y_test, y_pred), 3)}')\n",
    "    print(f'RMSE = {np.round(mean_squared_error(y_test, y_pred, squared = False), 3)}')\n",
    "    print(f'MAE = {np.round(mean_absolute_error(y_test, y_pred), 3)}')\n",
    "    print(f'r^2  = {np.round(r2_score(y_test, y_pred), 3)}')\n",
    "\n",
    "regression_eval(y_test, y_pred)"
   ]
  },
  {
   "cell_type": "markdown",
   "metadata": {},
   "source": [
    "#### Modeling without population and total deaths"
   ]
  },
  {
   "cell_type": "code",
   "execution_count": 3,
   "metadata": {},
   "outputs": [
    {
     "ename": "NameError",
     "evalue": "name 'df' is not defined",
     "output_type": "error",
     "traceback": [
      "\u001b[0;31m---------------------------------------------------------------------------\u001b[0m",
      "\u001b[0;31mNameError\u001b[0m                                 Traceback (most recent call last)",
      "\u001b[0;32m<ipython-input-3-c872d3389d71>\u001b[0m in \u001b[0;36m<module>\u001b[0;34m\u001b[0m\n\u001b[0;32m----> 1\u001b[0;31m X = df.drop(['health_spend_per_capita', 'pollution_deaths', \n\u001b[0m\u001b[1;32m      2\u001b[0m              'crude_death_per_1000', 'crude_death_per_1_000_000', 'population'], axis = 1)\n\u001b[1;32m      3\u001b[0m \u001b[0my\u001b[0m \u001b[0;34m=\u001b[0m \u001b[0mdf\u001b[0m\u001b[0;34m[\u001b[0m\u001b[0;34m'pollution_deaths'\u001b[0m\u001b[0;34m]\u001b[0m\u001b[0;34m\u001b[0m\u001b[0;34m\u001b[0m\u001b[0m\n",
      "\u001b[0;31mNameError\u001b[0m: name 'df' is not defined"
     ]
    }
   ],
   "source": [
    "X = df.drop(['health_spend_per_capita', 'pollution_deaths', \n",
    "             'crude_death_per_1000', 'crude_death_per_1_000_000', 'population'], axis = 1)\n",
    "y = df['pollution_deaths']"
   ]
  },
  {
   "cell_type": "code",
   "execution_count": 261,
   "metadata": {},
   "outputs": [],
   "source": [
    "X_train, X_test, y_train, y_test = train_test_split(X, y)"
   ]
  },
  {
   "cell_type": "code",
   "execution_count": 262,
   "metadata": {},
   "outputs": [],
   "source": [
    "impute = SimpleImputer(missing_values = np.nan)"
   ]
  },
  {
   "cell_type": "code",
   "execution_count": 263,
   "metadata": {},
   "outputs": [],
   "source": [
    "X_train_fill = impute.fit_transform(X_train)\n",
    "X_test_fill = impute.transform(X_test)"
   ]
  },
  {
   "cell_type": "code",
   "execution_count": 264,
   "metadata": {},
   "outputs": [],
   "source": [
    "ss = StandardScaler()"
   ]
  },
  {
   "cell_type": "code",
   "execution_count": 265,
   "metadata": {},
   "outputs": [],
   "source": [
    "X_train_fill_scaled = ss.fit_transform(X_train_fill)\n",
    "X_test_fill_scaled = ss.transform(X_test_fill)"
   ]
  },
  {
   "cell_type": "code",
   "execution_count": 266,
   "metadata": {},
   "outputs": [],
   "source": [
    "pf = PolynomialFeatures()"
   ]
  },
  {
   "cell_type": "code",
   "execution_count": 267,
   "metadata": {},
   "outputs": [],
   "source": [
    "X_train_use = pf.fit_transform(X_train_fill)\n",
    "X_test_use = pf.transform(X_test_fill)"
   ]
  },
  {
   "cell_type": "code",
   "execution_count": 268,
   "metadata": {},
   "outputs": [],
   "source": [
    "LL = LassoLars()"
   ]
  },
  {
   "cell_type": "code",
   "execution_count": 269,
   "metadata": {},
   "outputs": [
    {
     "data": {
      "text/plain": [
       "LassoLars()"
      ]
     },
     "execution_count": 269,
     "metadata": {},
     "output_type": "execute_result"
    }
   ],
   "source": [
    "LL.fit(X_train_use, y_train)"
   ]
  },
  {
   "cell_type": "code",
   "execution_count": 270,
   "metadata": {},
   "outputs": [],
   "source": [
    "y_pred = LL.predict(X_test_use)"
   ]
  },
  {
   "cell_type": "code",
   "execution_count": 271,
   "metadata": {},
   "outputs": [
    {
     "name": "stdout",
     "output_type": "stream",
     "text": [
      "MSE = 2174983028.574\n",
      "RMSE = 46636.713\n",
      "MAE = 14265.438\n",
      "r^2  = 0.747\n"
     ]
    }
   ],
   "source": [
    "def regression_eval(y_test, y_pred):\n",
    "    print(f'MSE = {np.round(mean_squared_error(y_test, y_pred), 3)}')\n",
    "    print(f'RMSE = {np.round(mean_squared_error(y_test, y_pred, squared = False), 3)}')\n",
    "    print(f'MAE = {np.round(mean_absolute_error(y_test, y_pred), 3)}')\n",
    "    print(f'r^2  = {np.round(r2_score(y_test, y_pred), 3)}')\n",
    "\n",
    "regression_eval(y_test, y_pred)"
   ]
  },
  {
   "cell_type": "code",
   "execution_count": null,
   "metadata": {},
   "outputs": [],
   "source": [
    "#XGBoost"
   ]
  },
  {
   "cell_type": "code",
   "execution_count": null,
   "metadata": {},
   "outputs": [],
   "source": []
  },
  {
   "cell_type": "code",
   "execution_count": null,
   "metadata": {},
   "outputs": [],
   "source": [
    "#RandomForest"
   ]
  },
  {
   "cell_type": "code",
   "execution_count": null,
   "metadata": {},
   "outputs": [],
   "source": []
  },
  {
   "cell_type": "code",
   "execution_count": null,
   "metadata": {},
   "outputs": [],
   "source": []
  },
  {
   "cell_type": "markdown",
   "metadata": {},
   "source": [
    "Lasso with least angle regression shows best potential to predict mortality given the covariate nature of the variables. Will proceed with a GridSearch to tune, and further exploration of features."
   ]
  }
 ],
 "metadata": {
  "kernelspec": {
   "display_name": "Python 3",
   "language": "python",
   "name": "python3"
  },
  "language_info": {
   "codemirror_mode": {
    "name": "ipython",
    "version": 3
   },
   "file_extension": ".py",
   "mimetype": "text/x-python",
   "name": "python",
   "nbconvert_exporter": "python",
   "pygments_lexer": "ipython3",
   "version": "3.8.2"
  }
 },
 "nbformat": 4,
 "nbformat_minor": 4
}
