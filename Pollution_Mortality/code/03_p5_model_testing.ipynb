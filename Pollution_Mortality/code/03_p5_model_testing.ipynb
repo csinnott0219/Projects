{
 "cells": [
  {
   "cell_type": "markdown",
   "metadata": {},
   "source": [
    "#### Project 5: Predicted Pollution Mortality\n",
    "#### Corey J Sinnott\n",
    "# Model Testing\n",
    "\n",
    "## Executive Summary\n",
    "\n",
    "This report was commissioned to explore mortality influenced by pollution. Data was obtained from several sources listed below. The problem statement was defined as, can we predict pollution mortality? After in-depth analysis, conclusions and recommendations will be presented.\n",
    "\n",
    "\n",
    "## Contents:\n",
    "- [Model Testing](#Model-Testing)\n",
    "\n"
   ]
  },
  {
   "cell_type": "markdown",
   "metadata": {},
   "source": [
    "#### Importing Libraries"
   ]
  },
  {
   "cell_type": "code",
   "execution_count": 6,
   "metadata": {},
   "outputs": [],
   "source": [
    "import matplotlib.pyplot as plt\n",
    "import seaborn as sns\n",
    "import pandas as pd\n",
    "import numpy as np\n",
    "from scipy import stats\n",
    "import statsmodels.api as sm\n",
    "from sklearn.metrics import mean_squared_error, mean_absolute_error, r2_score, plot_confusion_matrix, classification_report, plot_roc_curve\n",
    "import statsmodels.api as sm\n",
    "from category_encoders import OneHotEncoder\n",
    "from sklearn.model_selection import train_test_split, GridSearchCV\n",
    "from sklearn.preprocessing import StandardScaler, PolynomialFeatures\n",
    "from sklearn.linear_model import LinearRegression, Ridge, Lasso, SGDClassifier, SGDRegressor, ElasticNet, LassoLars\n",
    "from sklearn.neighbors import KNeighborsRegressor\n",
    "from sklearn.compose import make_column_transformer, make_column_selector, TransformedTargetRegressor\n",
    "from sklearn.preprocessing import OneHotEncoder as OHE\n",
    "from sklearn.pipeline import make_pipeline\n",
    "from sklearn.neighbors import KNeighborsRegressor\n",
    "from sklearn import set_config\n",
    "from sklearn.impute import SimpleImputer\n",
    "from sklearn.feature_selection import RFE, RFECV, VarianceThreshold\n",
    "from sklearn.inspection import permutation_importance\n",
    "from sklearn.metrics import confusion_matrix \n",
    "import scipy as sp\n",
    "from sklearn.svm import SVC\n",
    "from sklearn.tree import DecisionTreeClassifier\n",
    "from sklearn.ensemble import GradientBoostingRegressor, RandomForestRegressor"
   ]
  },
  {
   "cell_type": "markdown",
   "metadata": {},
   "source": [
    "#### Reading in Data"
   ]
  },
  {
   "cell_type": "code",
   "execution_count": 7,
   "metadata": {},
   "outputs": [],
   "source": [
    "df = pd.read_csv('./data/model_df.csv')"
   ]
  },
  {
   "cell_type": "code",
   "execution_count": 8,
   "metadata": {},
   "outputs": [
    {
     "data": {
      "text/html": [
       "<div>\n",
       "<style scoped>\n",
       "    .dataframe tbody tr th:only-of-type {\n",
       "        vertical-align: middle;\n",
       "    }\n",
       "\n",
       "    .dataframe tbody tr th {\n",
       "        vertical-align: top;\n",
       "    }\n",
       "\n",
       "    .dataframe thead th {\n",
       "        text-align: right;\n",
       "    }\n",
       "</style>\n",
       "<table border=\"1\" class=\"dataframe\">\n",
       "  <thead>\n",
       "    <tr style=\"text-align: right;\">\n",
       "      <th></th>\n",
       "      <th>Year</th>\n",
       "      <th>annual_co2_emmissions</th>\n",
       "      <th>health_spend_per_capita</th>\n",
       "      <th>life_expectancy</th>\n",
       "      <th>ozone_depleting_emissions</th>\n",
       "      <th>min_daily_ozone</th>\n",
       "      <th>mean_daily_ozone</th>\n",
       "      <th>population</th>\n",
       "      <th>pollution_deaths</th>\n",
       "    </tr>\n",
       "  </thead>\n",
       "  <tbody>\n",
       "    <tr>\n",
       "      <th>2827</th>\n",
       "      <td>1991</td>\n",
       "      <td>373.793321</td>\n",
       "      <td>NaN</td>\n",
       "      <td>70.587805</td>\n",
       "      <td>68.67</td>\n",
       "      <td>94.0</td>\n",
       "      <td>119.0</td>\n",
       "      <td>38083000.0</td>\n",
       "      <td>26374.98</td>\n",
       "    </tr>\n",
       "    <tr>\n",
       "      <th>3270</th>\n",
       "      <td>2001</td>\n",
       "      <td>0.529084</td>\n",
       "      <td>NaN</td>\n",
       "      <td>49.631000</td>\n",
       "      <td>15.97</td>\n",
       "      <td>91.0</td>\n",
       "      <td>100.9</td>\n",
       "      <td>6448000.0</td>\n",
       "      <td>1009.41</td>\n",
       "    </tr>\n",
       "    <tr>\n",
       "      <th>161</th>\n",
       "      <td>2011</td>\n",
       "      <td>4.968878</td>\n",
       "      <td>252.650423</td>\n",
       "      <td>73.571000</td>\n",
       "      <td>3.08</td>\n",
       "      <td>95.0</td>\n",
       "      <td>106.5</td>\n",
       "      <td>2877000.0</td>\n",
       "      <td>2241.88</td>\n",
       "    </tr>\n",
       "  </tbody>\n",
       "</table>\n",
       "</div>"
      ],
      "text/plain": [
       "      Year  annual_co2_emmissions  health_spend_per_capita  life_expectancy  \\\n",
       "2827  1991             373.793321                      NaN        70.587805   \n",
       "3270  2001               0.529084                      NaN        49.631000   \n",
       "161   2011               4.968878               252.650423        73.571000   \n",
       "\n",
       "      ozone_depleting_emissions  min_daily_ozone  mean_daily_ozone  \\\n",
       "2827                      68.67             94.0             119.0   \n",
       "3270                      15.97             91.0             100.9   \n",
       "161                        3.08             95.0             106.5   \n",
       "\n",
       "      population  pollution_deaths  \n",
       "2827  38083000.0          26374.98  \n",
       "3270   6448000.0           1009.41  \n",
       "161    2877000.0           2241.88  "
      ]
     },
     "execution_count": 8,
     "metadata": {},
     "output_type": "execute_result"
    }
   ],
   "source": [
    "df.sample(3)"
   ]
  },
  {
   "cell_type": "code",
   "execution_count": 9,
   "metadata": {},
   "outputs": [
    {
     "name": "stdout",
     "output_type": "stream",
     "text": [
      "<class 'pandas.core.frame.DataFrame'>\n",
      "RangeIndex: 4015 entries, 0 to 4014\n",
      "Data columns (total 9 columns):\n",
      " #   Column                     Non-Null Count  Dtype  \n",
      "---  ------                     --------------  -----  \n",
      " 0   Year                       4015 non-null   int64  \n",
      " 1   annual_co2_emmissions      4010 non-null   float64\n",
      " 2   health_spend_per_capita    2793 non-null   float64\n",
      " 3   life_expectancy            3806 non-null   float64\n",
      " 4   ozone_depleting_emissions  3868 non-null   float64\n",
      " 5   min_daily_ozone            3874 non-null   float64\n",
      " 6   mean_daily_ozone           3874 non-null   float64\n",
      " 7   population                 4015 non-null   float64\n",
      " 8   pollution_deaths           4015 non-null   float64\n",
      "dtypes: float64(8), int64(1)\n",
      "memory usage: 282.4 KB\n"
     ]
    }
   ],
   "source": [
    "df.info()"
   ]
  },
  {
   "cell_type": "code",
   "execution_count": 10,
   "metadata": {},
   "outputs": [],
   "source": [
    "df['crude_death_per_1_000_000'] = (df['pollution_deaths'] / df['population'] * 1_000_000)"
   ]
  },
  {
   "cell_type": "markdown",
   "metadata": {},
   "source": [
    "# Model Testing"
   ]
  },
  {
   "cell_type": "markdown",
   "metadata": {},
   "source": [
    "#### Modeling with population and crude death rate\n",
    " - Unsuccessful; would have to standardize all of the variables to the same scale, which may introduce too much error."
   ]
  },
  {
   "cell_type": "code",
   "execution_count": 12,
   "metadata": {},
   "outputs": [],
   "source": [
    "X = df.drop(['health_spend_per_capita', 'pollution_deaths', \n",
    "             'crude_death_per_1_000_000', 'life_expectancy'], axis = 1)\n",
    "y = df['crude_death_per_1_000_000']"
   ]
  },
  {
   "cell_type": "code",
   "execution_count": 13,
   "metadata": {},
   "outputs": [],
   "source": [
    "X_train, X_test, y_train, y_test = train_test_split(X, y)"
   ]
  },
  {
   "cell_type": "code",
   "execution_count": 14,
   "metadata": {},
   "outputs": [],
   "source": [
    "impute = SimpleImputer(missing_values = np.nan)"
   ]
  },
  {
   "cell_type": "code",
   "execution_count": 15,
   "metadata": {},
   "outputs": [],
   "source": [
    "X_train_fill = impute.fit_transform(X_train)\n",
    "X_test_fill = impute.transform(X_test)"
   ]
  },
  {
   "cell_type": "code",
   "execution_count": 16,
   "metadata": {},
   "outputs": [],
   "source": [
    "ss = StandardScaler()"
   ]
  },
  {
   "cell_type": "code",
   "execution_count": 17,
   "metadata": {},
   "outputs": [],
   "source": [
    "X_train_fill_scaled = ss.fit_transform(X_train_fill)\n",
    "X_test_fill_scaled = ss.transform(X_test_fill)"
   ]
  },
  {
   "cell_type": "code",
   "execution_count": 18,
   "metadata": {},
   "outputs": [],
   "source": [
    "pf = PolynomialFeatures()"
   ]
  },
  {
   "cell_type": "code",
   "execution_count": 19,
   "metadata": {},
   "outputs": [],
   "source": [
    "X_train_use = pf.fit_transform(X_train_fill)\n",
    "X_test_use = pf.transform(X_test_fill)"
   ]
  },
  {
   "cell_type": "code",
   "execution_count": 20,
   "metadata": {},
   "outputs": [],
   "source": [
    "LL = LassoLars()"
   ]
  },
  {
   "cell_type": "code",
   "execution_count": 21,
   "metadata": {},
   "outputs": [
    {
     "data": {
      "text/plain": [
       "LassoLars()"
      ]
     },
     "execution_count": 21,
     "metadata": {},
     "output_type": "execute_result"
    }
   ],
   "source": [
    "LL.fit(X_train_use, y_train)"
   ]
  },
  {
   "cell_type": "code",
   "execution_count": 22,
   "metadata": {},
   "outputs": [],
   "source": [
    "y_pred = LL.predict(X_test_use)"
   ]
  },
  {
   "cell_type": "code",
   "execution_count": 23,
   "metadata": {},
   "outputs": [
    {
     "name": "stdout",
     "output_type": "stream",
     "text": [
      "MSE = 43403.047\n",
      "RMSE = 208.334\n",
      "MAE = 161.007\n",
      "r^2  = -0.001\n"
     ]
    }
   ],
   "source": [
    "def regression_eval(y_test, y_pred):\n",
    "    print(f'MSE = {np.round(mean_squared_error(y_test, y_pred), 3)}')\n",
    "    print(f'RMSE = {np.round(mean_squared_error(y_test, y_pred, squared = False), 3)}')\n",
    "    print(f'MAE = {np.round(mean_absolute_error(y_test, y_pred), 3)}')\n",
    "    print(f'r^2  = {np.round(r2_score(y_test, y_pred), 3)}')\n",
    "\n",
    "regression_eval(y_test, y_pred)"
   ]
  },
  {
   "cell_type": "markdown",
   "metadata": {},
   "source": [
    "#### Modeling with population and total deaths\n",
    " - Population introducing a lot of colinearity"
   ]
  },
  {
   "cell_type": "code",
   "execution_count": 25,
   "metadata": {},
   "outputs": [],
   "source": [
    "X = df.drop(['health_spend_per_capita', 'pollution_deaths', 'crude_death_per_1_000_000'], axis = 1)\n",
    "y = df['pollution_deaths']"
   ]
  },
  {
   "cell_type": "code",
   "execution_count": 26,
   "metadata": {},
   "outputs": [],
   "source": [
    "X_train, X_test, y_train, y_test = train_test_split(X, y)"
   ]
  },
  {
   "cell_type": "code",
   "execution_count": 27,
   "metadata": {},
   "outputs": [],
   "source": [
    "impute = SimpleImputer(missing_values = np.nan)"
   ]
  },
  {
   "cell_type": "code",
   "execution_count": 28,
   "metadata": {},
   "outputs": [],
   "source": [
    "X_train_fill = impute.fit_transform(X_train)\n",
    "X_test_fill = impute.transform(X_test)"
   ]
  },
  {
   "cell_type": "code",
   "execution_count": 29,
   "metadata": {},
   "outputs": [],
   "source": [
    "ss = StandardScaler()"
   ]
  },
  {
   "cell_type": "code",
   "execution_count": 30,
   "metadata": {},
   "outputs": [],
   "source": [
    "X_train_fill_scaled = ss.fit_transform(X_train_fill)\n",
    "X_test_fill_scaled = ss.transform(X_test_fill)"
   ]
  },
  {
   "cell_type": "code",
   "execution_count": 31,
   "metadata": {},
   "outputs": [],
   "source": [
    "pf = PolynomialFeatures()"
   ]
  },
  {
   "cell_type": "code",
   "execution_count": 32,
   "metadata": {},
   "outputs": [],
   "source": [
    "X_train_use = pf.fit_transform(X_train_fill)\n",
    "X_test_use = pf.transform(X_test_fill)"
   ]
  },
  {
   "cell_type": "code",
   "execution_count": 33,
   "metadata": {},
   "outputs": [],
   "source": [
    "LL = LassoLars()"
   ]
  },
  {
   "cell_type": "code",
   "execution_count": 34,
   "metadata": {},
   "outputs": [
    {
     "data": {
      "text/plain": [
       "LassoLars()"
      ]
     },
     "execution_count": 34,
     "metadata": {},
     "output_type": "execute_result"
    }
   ],
   "source": [
    "LL.fit(X_train_use, y_train)"
   ]
  },
  {
   "cell_type": "code",
   "execution_count": 35,
   "metadata": {},
   "outputs": [],
   "source": [
    "y_pred = LL.predict(X_test_use)"
   ]
  },
  {
   "cell_type": "code",
   "execution_count": 36,
   "metadata": {},
   "outputs": [
    {
     "name": "stdout",
     "output_type": "stream",
     "text": [
      "MSE = 86204777.656\n",
      "RMSE = 9284.653\n",
      "MAE = 3964.363\n",
      "r^2  = 0.991\n"
     ]
    }
   ],
   "source": [
    "def regression_eval(y_test, y_pred):\n",
    "    print(f'MSE = {np.round(mean_squared_error(y_test, y_pred), 3)}')\n",
    "    print(f'RMSE = {np.round(mean_squared_error(y_test, y_pred, squared = False), 3)}')\n",
    "    print(f'MAE = {np.round(mean_absolute_error(y_test, y_pred), 3)}')\n",
    "    print(f'r^2  = {np.round(r2_score(y_test, y_pred), 3)}')\n",
    "\n",
    "regression_eval(y_test, y_pred)"
   ]
  },
  {
   "cell_type": "markdown",
   "metadata": {},
   "source": [
    "#### Modeling without population and total deaths"
   ]
  },
  {
   "cell_type": "code",
   "execution_count": 38,
   "metadata": {},
   "outputs": [],
   "source": [
    "X = df.drop(['health_spend_per_capita', 'pollution_deaths',\n",
    "             'crude_death_per_1_000_000', 'population'], axis = 1)\n",
    "y = df['pollution_deaths']"
   ]
  },
  {
   "cell_type": "code",
   "execution_count": 39,
   "metadata": {},
   "outputs": [],
   "source": [
    "X_train, X_test, y_train, y_test = train_test_split(X, y)"
   ]
  },
  {
   "cell_type": "code",
   "execution_count": 40,
   "metadata": {},
   "outputs": [],
   "source": [
    "impute = SimpleImputer(missing_values = np.nan)"
   ]
  },
  {
   "cell_type": "code",
   "execution_count": 41,
   "metadata": {},
   "outputs": [],
   "source": [
    "X_train_fill = impute.fit_transform(X_train)\n",
    "X_test_fill = impute.transform(X_test)"
   ]
  },
  {
   "cell_type": "code",
   "execution_count": 42,
   "metadata": {},
   "outputs": [],
   "source": [
    "ss = StandardScaler()"
   ]
  },
  {
   "cell_type": "code",
   "execution_count": 43,
   "metadata": {},
   "outputs": [],
   "source": [
    "X_train_fill_scaled = ss.fit_transform(X_train_fill)\n",
    "X_test_fill_scaled = ss.transform(X_test_fill)"
   ]
  },
  {
   "cell_type": "code",
   "execution_count": 44,
   "metadata": {},
   "outputs": [],
   "source": [
    "pf = PolynomialFeatures()"
   ]
  },
  {
   "cell_type": "code",
   "execution_count": 45,
   "metadata": {},
   "outputs": [],
   "source": [
    "X_train_use = pf.fit_transform(X_train_fill)\n",
    "X_test_use = pf.transform(X_test_fill)"
   ]
  },
  {
   "cell_type": "code",
   "execution_count": 46,
   "metadata": {},
   "outputs": [],
   "source": [
    "LL = LassoLars()"
   ]
  },
  {
   "cell_type": "code",
   "execution_count": 47,
   "metadata": {},
   "outputs": [
    {
     "data": {
      "text/plain": [
       "LassoLars()"
      ]
     },
     "execution_count": 47,
     "metadata": {},
     "output_type": "execute_result"
    }
   ],
   "source": [
    "LL.fit(X_train_use, y_train)"
   ]
  },
  {
   "cell_type": "code",
   "execution_count": 48,
   "metadata": {},
   "outputs": [],
   "source": [
    "y_pred = LL.predict(X_test_use)"
   ]
  },
  {
   "cell_type": "code",
   "execution_count": 49,
   "metadata": {},
   "outputs": [
    {
     "name": "stdout",
     "output_type": "stream",
     "text": [
      "MSE = 2044458913.337\n",
      "RMSE = 45215.693\n",
      "MAE = 13576.792\n",
      "r^2  = 0.765\n"
     ]
    }
   ],
   "source": [
    "def regression_eval(y_test, y_pred):\n",
    "    print(f'MSE = {np.round(mean_squared_error(y_test, y_pred), 3)}')\n",
    "    print(f'RMSE = {np.round(mean_squared_error(y_test, y_pred, squared = False), 3)}')\n",
    "    print(f'MAE = {np.round(mean_absolute_error(y_test, y_pred), 3)}')\n",
    "    print(f'r^2  = {np.round(r2_score(y_test, y_pred), 3)}')\n",
    "\n",
    "regression_eval(y_test, y_pred)"
   ]
  },
  {
   "cell_type": "code",
   "execution_count": 50,
   "metadata": {},
   "outputs": [],
   "source": [
    "#XGBoost"
   ]
  },
  {
   "cell_type": "code",
   "execution_count": 53,
   "metadata": {},
   "outputs": [],
   "source": [
    "GB = GradientBoostingRegressor()"
   ]
  },
  {
   "cell_type": "code",
   "execution_count": 54,
   "metadata": {},
   "outputs": [
    {
     "data": {
      "text/plain": [
       "GradientBoostingRegressor()"
      ]
     },
     "execution_count": 54,
     "metadata": {},
     "output_type": "execute_result"
    }
   ],
   "source": [
    "GB.fit(X_train_use, y_train)"
   ]
  },
  {
   "cell_type": "code",
   "execution_count": 55,
   "metadata": {},
   "outputs": [],
   "source": [
    "gb_preds = GB.predict(X_test_use)"
   ]
  },
  {
   "cell_type": "code",
   "execution_count": 57,
   "metadata": {},
   "outputs": [
    {
     "name": "stdout",
     "output_type": "stream",
     "text": [
      "MSE = 702159637.87\n",
      "RMSE = 26498.295\n",
      "MAE = 6881.397\n",
      "r^2  = 0.919\n"
     ]
    }
   ],
   "source": [
    "def regression_eval(y_test, y_pred):\n",
    "    print(f'MSE = {np.round(mean_squared_error(y_test, y_pred), 3)}')\n",
    "    print(f'RMSE = {np.round(mean_squared_error(y_test, y_pred, squared = False), 3)}')\n",
    "    print(f'MAE = {np.round(mean_absolute_error(y_test, y_pred), 3)}')\n",
    "    print(f'r^2  = {np.round(r2_score(y_test, y_pred), 3)}')\n",
    "\n",
    "regression_eval(y_test, gb_preds)"
   ]
  },
  {
   "cell_type": "code",
   "execution_count": null,
   "metadata": {},
   "outputs": [],
   "source": [
    "#RandomForest"
   ]
  },
  {
   "cell_type": "code",
   "execution_count": 58,
   "metadata": {},
   "outputs": [],
   "source": [
    "RF = RandomForestRegressor()"
   ]
  },
  {
   "cell_type": "code",
   "execution_count": 59,
   "metadata": {},
   "outputs": [
    {
     "data": {
      "text/plain": [
       "RandomForestRegressor()"
      ]
     },
     "execution_count": 59,
     "metadata": {},
     "output_type": "execute_result"
    }
   ],
   "source": [
    "RF.fit(X_train_use, y_train)"
   ]
  },
  {
   "cell_type": "code",
   "execution_count": 60,
   "metadata": {},
   "outputs": [],
   "source": [
    "rf_preds = RF.predict(X_test_use)"
   ]
  },
  {
   "cell_type": "code",
   "execution_count": 61,
   "metadata": {},
   "outputs": [
    {
     "name": "stdout",
     "output_type": "stream",
     "text": [
      "MSE = 418577947.842\n",
      "RMSE = 20459.178\n",
      "MAE = 5699.199\n",
      "r^2  = 0.952\n"
     ]
    }
   ],
   "source": [
    "def regression_eval(y_test, y_pred):\n",
    "    print(f'MSE = {np.round(mean_squared_error(y_test, y_pred), 3)}')\n",
    "    print(f'RMSE = {np.round(mean_squared_error(y_test, y_pred, squared = False), 3)}')\n",
    "    print(f'MAE = {np.round(mean_absolute_error(y_test, y_pred), 3)}')\n",
    "    print(f'r^2  = {np.round(r2_score(y_test, y_pred), 3)}')\n",
    "\n",
    "regression_eval(y_test, rf_preds)"
   ]
  },
  {
   "cell_type": "markdown",
   "metadata": {},
   "source": [
    "Lasso with least angle regression shows best potential to predict mortality given the covariate nature of the variables. Will proceed with a GridSearch to tune, and further exploration of features."
   ]
  }
 ],
 "metadata": {
  "kernelspec": {
   "display_name": "Python 3",
   "language": "python",
   "name": "python3"
  },
  "language_info": {
   "codemirror_mode": {
    "name": "ipython",
    "version": 3
   },
   "file_extension": ".py",
   "mimetype": "text/x-python",
   "name": "python",
   "nbconvert_exporter": "python",
   "pygments_lexer": "ipython3",
   "version": "3.8.2"
  }
 },
 "nbformat": 4,
 "nbformat_minor": 4
}
